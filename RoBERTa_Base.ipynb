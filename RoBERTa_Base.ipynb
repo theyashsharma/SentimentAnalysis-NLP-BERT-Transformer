{
  "nbformat": 4,
  "nbformat_minor": 0,
  "metadata": {
    "colab": {
      "name": "RoBERTa-Base.ipynb",
      "provenance": [],
      "collapsed_sections": []
    },
    "kernelspec": {
      "name": "python3",
      "display_name": "Python 3"
    },
    "language_info": {
      "name": "python"
    },
    "accelerator": "GPU"
  },
  "cells": [
    {
      "cell_type": "markdown",
      "source": [
        "# Sentiment classification with English Twitter Datasets"
      ],
      "metadata": {
        "id": "05KYS_pnO3Dq"
      }
    },
    {
      "cell_type": "markdown",
      "source": [
        "## Importing Libraries"
      ],
      "metadata": {
        "id": "8_6lr4dbPZNZ"
      }
    },
    {
      "cell_type": "code",
      "execution_count": 1,
      "metadata": {
        "id": "O2ganP7WOcv-"
      },
      "outputs": [],
      "source": [
        "import os\n",
        "import re\n",
        "from tqdm import tqdm\n",
        "import numpy as np\n",
        "import pandas as pd\n",
        "import matplotlib.pyplot as plt\n",
        "import csv\n",
        "%matplotlib inline"
      ]
    },
    {
      "cell_type": "markdown",
      "source": [
        "## 1 ) Loading Datasets"
      ],
      "metadata": {
        "id": "IpJdkXmSPKfj"
      }
    },
    {
      "cell_type": "code",
      "source": [
        "df1 = pd.read_csv('tweets_sqgames.csv')\n",
        "df1 = df1.loc[:, ['text', 'sentiment']]\n",
        "label_mapping = {\"Positive\": 1, \"Negative\":0}\n",
        "df1 = df1[df1.sentiment != \"Neutral\"]\n",
        "df1[\"sentiment\"] = df1[\"sentiment\"].map(label_mapping)"
      ],
      "metadata": {
        "id": "E200bW4uv0hW"
      },
      "execution_count": 2,
      "outputs": []
    },
    {
      "cell_type": "code",
      "source": [
        "df2 = pd.read_csv('Tweets.csv')\n",
        "df2 = df2.loc[:, ['text', 'airline_sentiment']]\n",
        "df2 = df2.rename(columns = {\"airline_sentiment\":\"sentiment\"})\n",
        "label_mapping = {\"positive\": 1, \"negative\":0}\n",
        "df2 = df2[df2.sentiment != \"neutral\"]\n",
        "df2[\"sentiment\"] = df2[\"sentiment\"].map(label_mapping)"
      ],
      "metadata": {
        "id": "9zdyPvyDv0kq"
      },
      "execution_count": 3,
      "outputs": []
    },
    {
      "cell_type": "code",
      "source": [
        "df3 = pd.read_csv('apple-twitter-sentiment-texts.csv')\n",
        "label_mapping = {1: 1, -1:0}\n",
        "df3 = df3[df3.sentiment != 0]\n",
        "df3[\"sentiment\"] = df3[\"sentiment\"].map(label_mapping)"
      ],
      "metadata": {
        "id": "wKAkAPNlv0r6"
      },
      "execution_count": 4,
      "outputs": []
    },
    {
      "cell_type": "code",
      "source": [
        "df4 = pd.read_csv('Apple-Twitter-Sentiment-DFE.csv', encoding=\"Latin-1\")\n",
        "label_mapping = {\"5\": 1, \"1\":0}\n",
        "df4 = df4[df4.sentiment != \"3\"]\n",
        "df4 = df4[df4.sentiment != \"not_relevant\"]\n",
        "df4[\"sentiment\"] = df4[\"sentiment\"].map(label_mapping)"
      ],
      "metadata": {
        "id": "f-d6W4F4v0vR"
      },
      "execution_count": 5,
      "outputs": []
    },
    {
      "cell_type": "code",
      "source": [
        "df5 = pd.read_csv('Reddit_Data.csv')\n",
        "df5 = df5.rename(columns = {\"clean_comment\":\"text\", \"category\":\"sentiment\"})\n",
        "label_mapping = {1: 1, -1:0}\n",
        "df5 = df5[df5.sentiment != 0]\n",
        "df5[\"sentiment\"] = df5[\"sentiment\"].map(label_mapping)"
      ],
      "metadata": {
        "id": "77x4gFaC6Dry"
      },
      "execution_count": 6,
      "outputs": []
    },
    {
      "cell_type": "code",
      "source": [
        "frames = [df1, df2, df3, df4, df5]\n",
        "merged_df = pd.concat(frames)"
      ],
      "metadata": {
        "id": "K4ADJIznV0Bb"
      },
      "execution_count": 7,
      "outputs": []
    },
    {
      "cell_type": "code",
      "source": [
        "from sklearn.model_selection import train_test_split\n",
        "X = merged_df.text.values\n",
        "y = merged_df.sentiment.values"
      ],
      "metadata": {
        "id": "M0LtDH9_O1pm"
      },
      "execution_count": 8,
      "outputs": []
    },
    {
      "cell_type": "code",
      "source": [
        "X_, X_test, y_, y_test = train_test_split(X, y, test_size=0.2, random_state = 42)\n",
        "X_train, X_val, y_train, y_val = train_test_split(X_, y_, test_size=0.1, random_state = 42)"
      ],
      "metadata": {
        "id": "5H2DVOPHO1sE"
      },
      "execution_count": 9,
      "outputs": []
    },
    {
      "cell_type": "markdown",
      "source": [
        "## 3 ) Deep Learning Approach"
      ],
      "metadata": {
        "id": "HakjkIbYY-EZ"
      }
    },
    {
      "cell_type": "code",
      "source": [
        "import torch\n",
        "\n",
        "if torch.cuda.is_available():       \n",
        "    device = torch.device(\"cuda\")\n",
        "    print(f'There are {torch.cuda.device_count()} GPU(s) available.')\n",
        "    print('Device name:', torch.cuda.get_device_name(0))\n",
        "\n",
        "else:\n",
        "    print('No GPU available, using the CPU instead.')\n",
        "    device = torch.device(\"cpu\")"
      ],
      "metadata": {
        "colab": {
          "base_uri": "https://localhost:8080/"
        },
        "id": "-oBZeFVSO2AH",
        "outputId": "fbbbea48-0f69-4ca0-c4a8-d0f038e0da90"
      },
      "execution_count": 10,
      "outputs": [
        {
          "output_type": "stream",
          "name": "stdout",
          "text": [
            "There are 1 GPU(s) available.\n",
            "Device name: Tesla K80\n"
          ]
        }
      ]
    },
    {
      "cell_type": "code",
      "source": [
        "!pip install transformers"
      ],
      "metadata": {
        "colab": {
          "base_uri": "https://localhost:8080/"
        },
        "id": "AI790cijO2GE",
        "outputId": "3ccab3e7-8397-486a-dbce-26a53d711923"
      },
      "execution_count": 11,
      "outputs": [
        {
          "output_type": "stream",
          "name": "stdout",
          "text": [
            "Requirement already satisfied: transformers in /usr/local/lib/python3.7/dist-packages (4.16.2)\n",
            "Requirement already satisfied: regex!=2019.12.17 in /usr/local/lib/python3.7/dist-packages (from transformers) (2019.12.20)\n",
            "Requirement already satisfied: tokenizers!=0.11.3,>=0.10.1 in /usr/local/lib/python3.7/dist-packages (from transformers) (0.11.4)\n",
            "Requirement already satisfied: requests in /usr/local/lib/python3.7/dist-packages (from transformers) (2.23.0)\n",
            "Requirement already satisfied: huggingface-hub<1.0,>=0.1.0 in /usr/local/lib/python3.7/dist-packages (from transformers) (0.4.0)\n",
            "Requirement already satisfied: numpy>=1.17 in /usr/local/lib/python3.7/dist-packages (from transformers) (1.19.5)\n",
            "Requirement already satisfied: tqdm>=4.27 in /usr/local/lib/python3.7/dist-packages (from transformers) (4.62.3)\n",
            "Requirement already satisfied: sacremoses in /usr/local/lib/python3.7/dist-packages (from transformers) (0.0.47)\n",
            "Requirement already satisfied: filelock in /usr/local/lib/python3.7/dist-packages (from transformers) (3.4.2)\n",
            "Requirement already satisfied: importlib-metadata in /usr/local/lib/python3.7/dist-packages (from transformers) (4.10.1)\n",
            "Requirement already satisfied: packaging>=20.0 in /usr/local/lib/python3.7/dist-packages (from transformers) (21.3)\n",
            "Requirement already satisfied: pyyaml>=5.1 in /usr/local/lib/python3.7/dist-packages (from transformers) (6.0)\n",
            "Requirement already satisfied: typing-extensions>=3.7.4.3 in /usr/local/lib/python3.7/dist-packages (from huggingface-hub<1.0,>=0.1.0->transformers) (3.10.0.2)\n",
            "Requirement already satisfied: pyparsing!=3.0.5,>=2.0.2 in /usr/local/lib/python3.7/dist-packages (from packaging>=20.0->transformers) (3.0.7)\n",
            "Requirement already satisfied: zipp>=0.5 in /usr/local/lib/python3.7/dist-packages (from importlib-metadata->transformers) (3.7.0)\n",
            "Requirement already satisfied: idna<3,>=2.5 in /usr/local/lib/python3.7/dist-packages (from requests->transformers) (2.10)\n",
            "Requirement already satisfied: chardet<4,>=3.0.2 in /usr/local/lib/python3.7/dist-packages (from requests->transformers) (3.0.4)\n",
            "Requirement already satisfied: certifi>=2017.4.17 in /usr/local/lib/python3.7/dist-packages (from requests->transformers) (2021.10.8)\n",
            "Requirement already satisfied: urllib3!=1.25.0,!=1.25.1,<1.26,>=1.21.1 in /usr/local/lib/python3.7/dist-packages (from requests->transformers) (1.24.3)\n",
            "Requirement already satisfied: six in /usr/local/lib/python3.7/dist-packages (from sacremoses->transformers) (1.15.0)\n",
            "Requirement already satisfied: joblib in /usr/local/lib/python3.7/dist-packages (from sacremoses->transformers) (1.1.0)\n",
            "Requirement already satisfied: click in /usr/local/lib/python3.7/dist-packages (from sacremoses->transformers) (7.1.2)\n"
          ]
        }
      ]
    },
    {
      "cell_type": "code",
      "source": [
        "from transformers import RobertaTokenizer, RobertaModel"
      ],
      "metadata": {
        "id": "SLMSbnC5O2DJ"
      },
      "execution_count": 12,
      "outputs": []
    },
    {
      "cell_type": "code",
      "source": [
        "tokenizer = RobertaTokenizer.from_pretrained(\"cardiffnlp/twitter-roberta-base-sentiment\")"
      ],
      "metadata": {
        "id": "xMmgFGdOO2Jh"
      },
      "execution_count": 13,
      "outputs": []
    },
    {
      "cell_type": "code",
      "source": [
        "def text_preprocessing(text):\n",
        "    \"\"\"\n",
        "    - Remove entity mentions (eg. '@united')\n",
        "    - Correct errors (eg. '&amp;' to '&')\n",
        "    @param    text (str): a string to be processed.\n",
        "    @return   text (Str): the processed string.\n",
        "    \"\"\"\n",
        "\n",
        "    # Normalize unicode encoding\n",
        "    text = unicodedata.normalize('NFC', text)\n",
        "    # Remove '@name'\n",
        "    text = re.sub(r'(@.*?)[\\s]', ' ', text)\n",
        "\n",
        "    # Replace '&amp;' with '&'\n",
        "    text = re.sub(r'&amp;', '&', text)\n",
        "\n",
        "    # Remove trailing whitespace\n",
        "    text = re.sub(r'\\s+', ' ', text).strip()\n",
        "\n",
        "    #Remove URLs\n",
        "    text = re.sub(r'^https?:\\/\\/.*[\\r\\n]*', '<URL>', text)\n",
        "\n",
        "\n",
        "    return text"
      ],
      "metadata": {
        "id": "o2TenWCGZw7I"
      },
      "execution_count": 14,
      "outputs": []
    },
    {
      "cell_type": "code",
      "source": [
        "def remove_emojis(sent):\n",
        "    text =  emoji.demojize(sent)\n",
        "    text= re.sub(r'(:[!_\\-\\w]+:)', '', text)\n",
        "    return text\n",
        "    \n",
        "def text_preprocessing_no_emojis(text):\n",
        "    \"\"\"\n",
        "    - Remove entity mentions (eg. '@united')\n",
        "    - Correct errors (eg. '&amp;' to '&')\n",
        "    @param    text (str): a string to be processed.\n",
        "    @return   text (Str): the processed string.\n",
        "    \"\"\"\n",
        "  \n",
        "    # Remove emojis\n",
        "    text = remove_emojis(text)\n",
        "\n",
        "    return text_preprocessing(text)"
      ],
      "metadata": {
        "id": "Lp6sDjV9L2hQ"
      },
      "execution_count": 15,
      "outputs": []
    },
    {
      "cell_type": "code",
      "source": [
        "!pip install emoji"
      ],
      "metadata": {
        "colab": {
          "base_uri": "https://localhost:8080/"
        },
        "id": "gklJcuwha7hu",
        "outputId": "49bcc7b7-d70f-4b98-b091-792ca0106008"
      },
      "execution_count": 16,
      "outputs": [
        {
          "output_type": "stream",
          "name": "stdout",
          "text": [
            "Requirement already satisfied: emoji in /usr/local/lib/python3.7/dist-packages (1.6.3)\n"
          ]
        }
      ]
    },
    {
      "cell_type": "code",
      "source": [
        "import emoji\n",
        "import unicodedata\n",
        "def preprocessing_for_bert(data, version=\"mini\", text_preprocessing_fn = text_preprocessing):\n",
        "    \"\"\"Perform required preprocessing steps for pretrained BERT.\n",
        "    @param    data (np.array): Array of texts to be processed.\n",
        "    @return   input_ids (torch.Tensor): Tensor of token ids to be fed to a model.\n",
        "    @return   attention_masks (torch.Tensor): Tensor of indices specifying which\n",
        "                  tokens should be attended to by the model.\n",
        "    \"\"\"\n",
        "    # Create empty lists to store outputs\n",
        "    input_ids = []\n",
        "    attention_masks = []\n",
        "    tokenizer = RobertaTokenizer.from_pretrained(\"cardiffnlp/twitter-roberta-base-sentiment\")# if version == \"mini\" else RobertaTokenizer.from_pretrained(\"asafaya/bert-base-arabic\")\n",
        "\n",
        "    # For every sentence...\n",
        "    for i,sent in enumerate(data):\n",
        "        # `encode_plus` will:\n",
        "        #    (1) Tokenize the sentence\n",
        "        #    (2) Add the `[CLS]` and `[SEP]` token to the start and end\n",
        "        #    (3) Truncate/Pad sentence to max length\n",
        "        #    (4) Map tokens to their IDs\n",
        "        #    (5) Create attention mask\n",
        "        #    (6) Return a dictionary of outputs\n",
        "        encoded_sent = tokenizer.encode_plus(\n",
        "            text=text_preprocessing_fn(sent),  # Preprocess sentence\n",
        "            add_special_tokens=True,        # Add `[CLS]` and `[SEP]`\n",
        "            max_length=MAX_LEN,                  # Max length to truncate/pad\n",
        "            padding='max_length',        # Pad sentence to max length\n",
        "            #return_tensors='pt',           # Return PyTorch tensor\n",
        "            return_attention_mask=True,     # Return attention mask\n",
        "            truncation = True \n",
        "            )\n",
        "        \n",
        "        # Add the outputs to the lists\n",
        "        input_ids.append(encoded_sent.get('input_ids'))\n",
        "        attention_masks.append(encoded_sent.get('attention_mask'))\n",
        "    # Convert lists to tensors\n",
        "    input_ids = torch.tensor(input_ids)\n",
        "    attention_masks = torch.tensor(attention_masks)\n",
        "\n",
        "    return input_ids, attention_masks"
      ],
      "metadata": {
        "id": "8fjl5AftaQU7"
      },
      "execution_count": 17,
      "outputs": []
    },
    {
      "cell_type": "code",
      "source": [
        "# Specify `MAX_LEN`\n",
        "MAX_LEN =  280\n",
        "\n",
        "# Print sentence 0 and its encoded token ids\n",
        "token_ids = list(preprocessing_for_bert([X[0]], version=\"base\", text_preprocessing_fn=text_preprocessing)[0].squeeze().numpy())\n",
        "print('Original: ', X[0])\n",
        "print('Token IDs: ', token_ids)\n",
        "\n",
        "# Run function `preprocessing_for_bert` on the train set and the validation set\n",
        "print('Tokenizing data...')\n",
        "train_inputs, train_masks = preprocessing_for_bert(X_train, version=\"base\", text_preprocessing_fn=text_preprocessing)\n",
        "val_inputs, val_masks = preprocessing_for_bert(X_val, version=\"base\", text_preprocessing_fn=text_preprocessing)"
      ],
      "metadata": {
        "colab": {
          "base_uri": "https://localhost:8080/"
        },
        "id": "PCm99bITa5hL",
        "outputId": "8306e165-3889-41e5-f636-dc47e1c9854a"
      },
      "execution_count": 18,
      "outputs": [
        {
          "output_type": "stream",
          "name": "stdout",
          "text": [
            "Original:  When life hits and the same time poverty strikes you\n",
            "Gong Yoo : Lets play a game \n",
            "#SquidGame #Netflix https://t.co/Cx7ifmZ8cN\n",
            "Token IDs:  [0, 1779, 301, 2323, 8, 5, 276, 86, 5263, 5315, 47, 36135, 854, 3036, 4832, 40702, 310, 10, 177, 849, 38378, 808, 20178, 849, 29675, 1205, 640, 90, 4, 876, 73, 347, 1178, 406, 1594, 119, 1301, 398, 438, 487, 2, 1, 1, 1, 1, 1, 1, 1, 1, 1, 1, 1, 1, 1, 1, 1, 1, 1, 1, 1, 1, 1, 1, 1, 1, 1, 1, 1, 1, 1, 1, 1, 1, 1, 1, 1, 1, 1, 1, 1, 1, 1, 1, 1, 1, 1, 1, 1, 1, 1, 1, 1, 1, 1, 1, 1, 1, 1, 1, 1, 1, 1, 1, 1, 1, 1, 1, 1, 1, 1, 1, 1, 1, 1, 1, 1, 1, 1, 1, 1, 1, 1, 1, 1, 1, 1, 1, 1, 1, 1, 1, 1, 1, 1, 1, 1, 1, 1, 1, 1, 1, 1, 1, 1, 1, 1, 1, 1, 1, 1, 1, 1, 1, 1, 1, 1, 1, 1, 1, 1, 1, 1, 1, 1, 1, 1, 1, 1, 1, 1, 1, 1, 1, 1, 1, 1, 1, 1, 1, 1, 1, 1, 1, 1, 1, 1, 1, 1, 1, 1, 1, 1, 1, 1, 1, 1, 1, 1, 1, 1, 1, 1, 1, 1, 1, 1, 1, 1, 1, 1, 1, 1, 1, 1, 1, 1, 1, 1, 1, 1, 1, 1, 1, 1, 1, 1, 1, 1, 1, 1, 1, 1, 1, 1, 1, 1, 1, 1, 1, 1, 1, 1, 1, 1, 1, 1, 1, 1, 1, 1, 1, 1, 1, 1, 1, 1, 1, 1, 1, 1, 1, 1, 1, 1, 1, 1, 1, 1, 1, 1, 1, 1, 1, 1, 1, 1, 1, 1, 1, 1]\n",
            "Tokenizing data...\n"
          ]
        }
      ]
    },
    {
      "cell_type": "code",
      "source": [
        "from torch.utils.data import TensorDataset, DataLoader, RandomSampler, SequentialSampler\n",
        "\n",
        "# Convert other data types to torch.Tensor\n",
        "train_labels = torch.tensor(y_train)\n",
        "val_labels = torch.tensor(y_val)\n",
        "\n",
        "# For fine-tuning BERT, the authors recommend a batch size of 16 or 32.\n",
        "batch_size = 16\n",
        "\n",
        "# Create the DataLoader for our training set\n",
        "train_data = TensorDataset(train_inputs, train_masks, train_labels)\n",
        "train_sampler = RandomSampler(train_data)\n",
        "train_dataloader = DataLoader(train_data, sampler=train_sampler, batch_size=batch_size)\n",
        "\n",
        "# Create the DataLoader for our validation set\n",
        "val_data = TensorDataset(val_inputs, val_masks, val_labels)\n",
        "val_sampler = SequentialSampler(val_data)\n",
        "val_dataloader = DataLoader(val_data, sampler=val_sampler, batch_size=batch_size)"
      ],
      "metadata": {
        "id": "U7iTT16LbLni"
      },
      "execution_count": 19,
      "outputs": []
    },
    {
      "cell_type": "code",
      "source": [
        "%%time\n",
        "import torch\n",
        "import torch.nn as nn\n",
        "from transformers import BertModel\n",
        "\n",
        "# Create the BertClassfier class\n",
        "class BertClassifier(nn.Module):\n",
        "    \"\"\"Bert Model for Classification Tasks.\n",
        "    \"\"\"\n",
        "    def __init__(self, freeze_bert=False, version=\"mini\"):\n",
        "        \"\"\"\n",
        "        @param    bert: a BertModel object\n",
        "        @param    classifier: a torch.nn.Module classifier\n",
        "        @param    freeze_bert (bool): Set `False` to fine-tune the BERT model\n",
        "        \"\"\"\n",
        "        super(BertClassifier, self).__init__()\n",
        "        # Specify hidden size of BERT, hidden size of our classifier, and number of labels\n",
        "        D_in = 768\n",
        "        H, D_out = 50, 2\n",
        "\n",
        "        # Instantiate BERT model\n",
        "        self.roberta = RobertaModel.from_pretrained(\"cardiffnlp/twitter-roberta-base-sentiment\")\n",
        "        # Instantiate an one-layer feed-forward classifier\n",
        "        self.classifier = nn.Sequential(\n",
        "            #nn.Dropout(p=0.1),\n",
        "            #nn.Linear(768, D_in),\n",
        "            #nn.Tanh(),\n",
        "            nn.Linear(D_in, H),\n",
        "            nn.ReLU(),\n",
        "            nn.Dropout(0.5),\n",
        "            nn.Linear(H, D_out)\n",
        "        )\n",
        "\n",
        "        # Freeze the BERT model\n",
        "        if freeze_bert:\n",
        "            for param in self.bert.parameters():\n",
        "                param.requires_grad = False\n",
        "        \n",
        "    def forward(self, input_ids, attention_mask):\n",
        "        \"\"\"\n",
        "        Feed input to BERT and the classifier to compute logits.\n",
        "        @param    input_ids (torch.Tensor): an input tensor with shape (batch_size,\n",
        "                      max_length)\n",
        "        @param    attention_mask (torch.Tensor): a tensor that hold attention mask\n",
        "                      information with shape (batch_size, max_length)\n",
        "        @return   logits (torch.Tensor): an output tensor with shape (batch_size,\n",
        "                      num_labels)\n",
        "        \"\"\"\n",
        "        # Feed input to BERT\n",
        "        outputs = self.roberta(input_ids=input_ids,\n",
        "                            attention_mask=attention_mask)\n",
        "        \n",
        "        # Extract the last hidden state of the token `[CLS]` for classification task\n",
        "        last_hidden_state_cls = outputs[0][:, 0, :]\n",
        "\n",
        "        # Feed input to classifier to compute logits\n",
        "        logits = self.classifier(last_hidden_state_cls)\n",
        "\n",
        "        return logits"
      ],
      "metadata": {
        "colab": {
          "base_uri": "https://localhost:8080/"
        },
        "id": "32gvSQ9pb9Fr",
        "outputId": "76c118eb-6687-44cd-c38c-3ed0ccc611c0"
      },
      "execution_count": 20,
      "outputs": [
        {
          "output_type": "stream",
          "name": "stdout",
          "text": [
            "CPU times: user 7.82 ms, sys: 14 µs, total: 7.84 ms\n",
            "Wall time: 7.51 ms\n"
          ]
        }
      ]
    },
    {
      "cell_type": "code",
      "source": [
        "from transformers import AdamW, get_linear_schedule_with_warmup\n",
        "\n",
        "from torch.optim import SparseAdam, Adam\n",
        "def initialize_model(epochs=4, version=\"base\"):\n",
        "    \"\"\"Initialize the Bert Classifier, the optimizer and the learning rate scheduler.\n",
        "    \"\"\"\n",
        "    # Instantiate Bert Classifier\n",
        "    bert_classifier = BertClassifier(freeze_bert=False, version=version)\n",
        "    # Tell PyTorch to run the model on GPU\n",
        "    bert_classifier.to(device)\n",
        "\n",
        "    # Create the optimizer\n",
        "    optimizer = torch.optim.AdamW(params=list(bert_classifier.parameters()),\n",
        "                      lr=5e-5,    # Default learning rate\n",
        "                      eps=1e-8    # Default epsilon value\n",
        "                      )\n",
        "\n",
        "    # Total number of training steps\n",
        "    total_steps = len(train_dataloader) * epochs\n",
        "\n",
        "    # Set up the learning rate scheduler\n",
        "    scheduler = get_linear_schedule_with_warmup(optimizer,\n",
        "                                                num_warmup_steps=0, # Default value\n",
        "                                                num_training_steps=total_steps)\n",
        "    return bert_classifier, optimizer, scheduler"
      ],
      "metadata": {
        "id": "z7RwU_UBPHUh"
      },
      "execution_count": 21,
      "outputs": []
    },
    {
      "cell_type": "code",
      "source": [
        "import random\n",
        "import time\n",
        "import torch\n",
        "import torch.nn as nn\n",
        "\n",
        "# Specify loss function\n",
        "loss_fn = nn.CrossEntropyLoss()\n",
        "\n",
        "def set_seed(seed_value=42):\n",
        "    \"\"\"Set seed for reproducibility.\n",
        "    \"\"\"\n",
        "    random.seed(seed_value)\n",
        "    np.random.seed(seed_value)\n",
        "    torch.manual_seed(seed_value)\n",
        "    torch.cuda.manual_seed_all(seed_value)\n",
        "\n",
        "def train(model, train_dataloader, val_dataloader=None, epochs=4, evaluation=False):\n",
        "    \"\"\"Train the BertClassifier model.\n",
        "    \"\"\"\n",
        "    # Start training loop\n",
        "    print(\"Start training...\\n\")\n",
        "    for epoch_i in range(epochs):\n",
        "        # =======================================\n",
        "        #               Training\n",
        "        # =======================================\n",
        "        # Print the header of the result table\n",
        "        print(f\"{'Epoch':^7} | {'Batch':^7} | {'Train Loss':^12} | {'Val Loss':^10} | {'Val Acc':^9} | {'Elapsed':^9}\")\n",
        "        print(\"-\"*70)\n",
        "\n",
        "        # Measure the elapsed time of each epoch\n",
        "        t0_epoch, t0_batch = time.time(), time.time()\n",
        "\n",
        "        # Reset tracking variables at the beginning of each epoch\n",
        "        total_loss, batch_loss, batch_counts = 0, 0, 0\n",
        "\n",
        "        # Put the model into the training mode\n",
        "        model.train()\n",
        "\n",
        "        # For each batch of training data...\n",
        "        for step, batch in enumerate(train_dataloader):\n",
        "            batch_counts +=1\n",
        "            # Load batch to GPU\n",
        "            b_input_ids, b_attn_mask, b_labels = tuple(t.to(device) for t in batch)\n",
        "\n",
        "            # Zero out any previously calculated gradients\n",
        "            model.zero_grad()\n",
        "\n",
        "            # Perform a forward pass. This will return logits.\n",
        "            logits = model(b_input_ids, b_attn_mask)\n",
        "\n",
        "            # Compute loss and accumulate the loss values\n",
        "            loss = loss_fn(logits, b_labels)\n",
        "            batch_loss += loss.item()\n",
        "            total_loss += loss.item()\n",
        "\n",
        "            # Perform a backward pass to calculate gradients\n",
        "            loss.backward()\n",
        "\n",
        "            # Clip the norm of the gradients to 1.0 to prevent \"exploding gradients\"\n",
        "            torch.nn.utils.clip_grad_norm_(model.parameters(), 1.0)\n",
        "\n",
        "            # Update parameters and the learning rate\n",
        "            optimizer.step()\n",
        "            scheduler.step()\n",
        "\n",
        "            # Print the loss values and time elapsed for every 20 batches\n",
        "            if (step % 20 == 0 and step != 0) or (step == len(train_dataloader) - 1):\n",
        "                # Calculate time elapsed for 20 batches\n",
        "                time_elapsed = time.time() - t0_batch\n",
        "\n",
        "                # Print training results\n",
        "                print(f\"{epoch_i + 1:^7} | {step:^7} | {batch_loss / batch_counts:^12.6f} | {'-':^10} | {'-':^9} | {time_elapsed:^9.2f}\")\n",
        "\n",
        "                # Reset batch tracking variables\n",
        "                batch_loss, batch_counts = 0, 0\n",
        "                t0_batch = time.time()\n",
        "\n",
        "        # Calculate the average loss over the entire training data\n",
        "        avg_train_loss = total_loss / len(train_dataloader)\n",
        "\n",
        "        print(\"-\"*70)\n",
        "        # =======================================\n",
        "        #               Evaluation\n",
        "        # =======================================\n",
        "        if evaluation == True:\n",
        "            # After the completion of each training epoch, measure the model's performance\n",
        "            # on our validation set.\n",
        "            val_loss, val_accuracy = evaluate(model, val_dataloader)\n",
        "\n",
        "            # Print performance over the entire training data\n",
        "            time_elapsed = time.time() - t0_epoch\n",
        "            \n",
        "            print(f\"{epoch_i + 1:^7} | {'-':^7} | {avg_train_loss:^12.6f} | {val_loss:^10.6f} | {val_accuracy:^9.2f} | {time_elapsed:^9.2f}\")\n",
        "            print(\"-\"*70)\n",
        "        print(\"\\n\")\n",
        "    \n",
        "    print(\"Training complete!\")\n",
        "\n",
        "def evaluate(model, val_dataloader):\n",
        "    \"\"\"After the completion of each training epoch, measure the model's performance\n",
        "    on our validation set.\n",
        "    \"\"\"\n",
        "    # Put the model into the evaluation mode. The dropout layers are disabled during\n",
        "    # the test time.\n",
        "    model.eval()\n",
        "\n",
        "    # Tracking variables\n",
        "    val_accuracy = []\n",
        "    val_loss = []\n",
        "\n",
        "    # For each batch in our validation set...\n",
        "    for batch in val_dataloader:\n",
        "        # Load batch to GPU\n",
        "        b_input_ids, b_attn_mask, b_labels = tuple(t.to(device) for t in batch)\n",
        "\n",
        "        # Compute logits\n",
        "        with torch.no_grad():\n",
        "            logits = model(b_input_ids, b_attn_mask)\n",
        "\n",
        "        # Compute loss\n",
        "        loss = loss_fn(logits, b_labels)\n",
        "        val_loss.append(loss.item())\n",
        "\n",
        "        # Get the predictions\n",
        "        preds = torch.argmax(logits, dim=1).flatten()\n",
        "\n",
        "        # Calculate the accuracy rate\n",
        "        accuracy = (preds == b_labels).cpu().numpy().mean() * 100\n",
        "        val_accuracy.append(accuracy)\n",
        "\n",
        "       \n",
        "\n",
        "    # Compute the average accuracy and loss over the validation set.\n",
        "    val_loss = np.mean(val_loss)\n",
        "    val_accuracy = np.mean(val_accuracy)\n",
        "\n",
        "    return val_loss, val_accuracy"
      ],
      "metadata": {
        "id": "DwlxCFVUPHXN"
      },
      "execution_count": 22,
      "outputs": []
    },
    {
      "cell_type": "code",
      "source": [
        "set_seed(42) \n",
        "bert_classifier, optimizer, scheduler = initialize_model(epochs=2, version=\"base\")\n",
        "train(bert_classifier, train_dataloader, val_dataloader, epochs=2, evaluation=True)"
      ],
      "metadata": {
        "id": "I0K_YbfyO1TR",
        "colab": {
          "base_uri": "https://localhost:8080/"
        },
        "outputId": "560ccf76-871b-4f33-923b-76573a97cbdd"
      },
      "execution_count": 23,
      "outputs": [
        {
          "metadata": {
            "tags": null
          },
          "name": "stderr",
          "output_type": "stream",
          "text": [
            "Some weights of the model checkpoint at cardiffnlp/twitter-roberta-base-sentiment were not used when initializing RobertaModel: ['classifier.out_proj.bias', 'classifier.dense.bias', 'classifier.dense.weight', 'classifier.out_proj.weight']\n",
            "- This IS expected if you are initializing RobertaModel from the checkpoint of a model trained on another task or with another architecture (e.g. initializing a BertForSequenceClassification model from a BertForPreTraining model).\n",
            "- This IS NOT expected if you are initializing RobertaModel from the checkpoint of a model that you expect to be exactly identical (initializing a BertForSequenceClassification model from a BertForSequenceClassification model).\n",
            "Some weights of RobertaModel were not initialized from the model checkpoint at cardiffnlp/twitter-roberta-base-sentiment and are newly initialized: ['roberta.pooler.dense.weight', 'roberta.pooler.dense.bias']\n",
            "You should probably TRAIN this model on a down-stream task to be able to use it for predictions and inference.\n"
          ]
        },
        {
          "output_type": "stream",
          "name": "stdout",
          "text": [
            "Start training...\n",
            "\n",
            " Epoch  |  Batch  |  Train Loss  |  Val Loss  |  Val Acc  |  Elapsed \n",
            "----------------------------------------------------------------------\n",
            "   1    |   20    |   0.578079   |     -      |     -     |   29.87  \n",
            "   1    |   40    |   0.585208   |     -      |     -     |   28.50  \n",
            "   1    |   60    |   0.552128   |     -      |     -     |   28.50  \n",
            "   1    |   80    |   0.519892   |     -      |     -     |   28.75  \n",
            "   1    |   100   |   0.464720   |     -      |     -     |   28.73  \n",
            "   1    |   120   |   0.485911   |     -      |     -     |   28.76  \n",
            "   1    |   140   |   0.456612   |     -      |     -     |   28.73  \n",
            "   1    |   160   |   0.436678   |     -      |     -     |   28.77  \n",
            "   1    |   180   |   0.490235   |     -      |     -     |   28.79  \n",
            "   1    |   200   |   0.405700   |     -      |     -     |   28.63  \n",
            "   1    |   220   |   0.372858   |     -      |     -     |   28.64  \n",
            "   1    |   240   |   0.347105   |     -      |     -     |   28.74  \n",
            "   1    |   260   |   0.363220   |     -      |     -     |   28.83  \n",
            "   1    |   280   |   0.484628   |     -      |     -     |   28.75  \n",
            "   1    |   300   |   0.385059   |     -      |     -     |   28.61  \n",
            "   1    |   320   |   0.356557   |     -      |     -     |   28.70  \n",
            "   1    |   340   |   0.253473   |     -      |     -     |   28.56  \n",
            "   1    |   360   |   0.388436   |     -      |     -     |   28.71  \n",
            "   1    |   380   |   0.276495   |     -      |     -     |   28.65  \n",
            "   1    |   400   |   0.422582   |     -      |     -     |   28.73  \n",
            "   1    |   420   |   0.379061   |     -      |     -     |   28.61  \n",
            "   1    |   440   |   0.440459   |     -      |     -     |   28.64  \n",
            "   1    |   460   |   0.323736   |     -      |     -     |   28.69  \n",
            "   1    |   480   |   0.388988   |     -      |     -     |   28.80  \n",
            "   1    |   500   |   0.410311   |     -      |     -     |   28.79  \n",
            "   1    |   520   |   0.355253   |     -      |     -     |   28.76  \n",
            "   1    |   540   |   0.404672   |     -      |     -     |   28.73  \n",
            "   1    |   560   |   0.294795   |     -      |     -     |   28.70  \n",
            "   1    |   580   |   0.317251   |     -      |     -     |   28.69  \n",
            "   1    |   600   |   0.343021   |     -      |     -     |   28.72  \n",
            "   1    |   620   |   0.262225   |     -      |     -     |   28.67  \n",
            "   1    |   640   |   0.285558   |     -      |     -     |   28.76  \n",
            "   1    |   660   |   0.368486   |     -      |     -     |   28.80  \n",
            "   1    |   680   |   0.290944   |     -      |     -     |   28.61  \n",
            "   1    |   700   |   0.263616   |     -      |     -     |   28.74  \n",
            "   1    |   720   |   0.413140   |     -      |     -     |   28.76  \n",
            "   1    |   740   |   0.266559   |     -      |     -     |   28.73  \n",
            "   1    |   760   |   0.411975   |     -      |     -     |   28.66  \n",
            "   1    |   780   |   0.349216   |     -      |     -     |   28.76  \n",
            "   1    |   800   |   0.279153   |     -      |     -     |   28.59  \n",
            "   1    |   820   |   0.278632   |     -      |     -     |   28.69  \n",
            "   1    |   840   |   0.291857   |     -      |     -     |   28.60  \n",
            "   1    |   860   |   0.289447   |     -      |     -     |   28.84  \n",
            "   1    |   880   |   0.268499   |     -      |     -     |   28.60  \n",
            "   1    |   900   |   0.323950   |     -      |     -     |   28.73  \n",
            "   1    |   920   |   0.335011   |     -      |     -     |   28.60  \n",
            "   1    |   940   |   0.315998   |     -      |     -     |   28.80  \n",
            "   1    |   960   |   0.299002   |     -      |     -     |   28.79  \n",
            "   1    |   980   |   0.289716   |     -      |     -     |   28.67  \n",
            "   1    |  1000   |   0.288887   |     -      |     -     |   28.58  \n",
            "   1    |  1020   |   0.254584   |     -      |     -     |   28.69  \n",
            "   1    |  1040   |   0.238976   |     -      |     -     |   28.63  \n",
            "   1    |  1060   |   0.225833   |     -      |     -     |   28.73  \n",
            "   1    |  1080   |   0.265552   |     -      |     -     |   28.70  \n",
            "   1    |  1100   |   0.254897   |     -      |     -     |   28.77  \n",
            "   1    |  1120   |   0.364790   |     -      |     -     |   28.69  \n",
            "   1    |  1140   |   0.228331   |     -      |     -     |   28.62  \n",
            "   1    |  1160   |   0.236819   |     -      |     -     |   28.66  \n",
            "   1    |  1180   |   0.280971   |     -      |     -     |   28.69  \n",
            "   1    |  1200   |   0.233490   |     -      |     -     |   28.61  \n",
            "   1    |  1220   |   0.397392   |     -      |     -     |   28.73  \n",
            "   1    |  1240   |   0.292377   |     -      |     -     |   28.71  \n",
            "   1    |  1260   |   0.296181   |     -      |     -     |   28.74  \n",
            "   1    |  1280   |   0.192598   |     -      |     -     |   28.71  \n",
            "   1    |  1300   |   0.268413   |     -      |     -     |   28.64  \n",
            "   1    |  1320   |   0.270575   |     -      |     -     |   28.54  \n",
            "   1    |  1340   |   0.246252   |     -      |     -     |   28.69  \n",
            "   1    |  1360   |   0.199251   |     -      |     -     |   28.72  \n",
            "   1    |  1380   |   0.316931   |     -      |     -     |   28.70  \n",
            "   1    |  1400   |   0.253226   |     -      |     -     |   28.69  \n",
            "   1    |  1420   |   0.291294   |     -      |     -     |   28.58  \n",
            "   1    |  1440   |   0.292476   |     -      |     -     |   28.72  \n",
            "   1    |  1460   |   0.217605   |     -      |     -     |   28.92  \n",
            "   1    |  1480   |   0.316209   |     -      |     -     |   28.69  \n",
            "   1    |  1500   |   0.225445   |     -      |     -     |   28.65  \n",
            "   1    |  1520   |   0.222095   |     -      |     -     |   28.71  \n",
            "   1    |  1540   |   0.205375   |     -      |     -     |   28.66  \n",
            "   1    |  1560   |   0.262915   |     -      |     -     |   28.71  \n",
            "   1    |  1580   |   0.328152   |     -      |     -     |   28.73  \n",
            "   1    |  1600   |   0.238334   |     -      |     -     |   28.67  \n",
            "   1    |  1620   |   0.248419   |     -      |     -     |   28.75  \n",
            "   1    |  1640   |   0.259653   |     -      |     -     |   28.62  \n",
            "   1    |  1660   |   0.275120   |     -      |     -     |   28.70  \n",
            "   1    |  1680   |   0.180972   |     -      |     -     |   28.74  \n",
            "   1    |  1700   |   0.228925   |     -      |     -     |   28.67  \n",
            "   1    |  1720   |   0.262049   |     -      |     -     |   28.65  \n",
            "   1    |  1740   |   0.238803   |     -      |     -     |   28.72  \n",
            "   1    |  1760   |   0.261286   |     -      |     -     |   28.67  \n",
            "   1    |  1780   |   0.293699   |     -      |     -     |   28.79  \n",
            "   1    |  1800   |   0.289914   |     -      |     -     |   28.71  \n",
            "   1    |  1820   |   0.231897   |     -      |     -     |   28.68  \n",
            "   1    |  1840   |   0.359211   |     -      |     -     |   28.68  \n",
            "   1    |  1860   |   0.251099   |     -      |     -     |   28.54  \n",
            "   1    |  1880   |   0.256382   |     -      |     -     |   28.56  \n",
            "   1    |  1900   |   0.209365   |     -      |     -     |   28.72  \n",
            "   1    |  1920   |   0.181754   |     -      |     -     |   28.61  \n",
            "   1    |  1940   |   0.263917   |     -      |     -     |   28.77  \n",
            "   1    |  1960   |   0.202182   |     -      |     -     |   28.72  \n",
            "   1    |  1980   |   0.303883   |     -      |     -     |   28.73  \n",
            "   1    |  2000   |   0.225094   |     -      |     -     |   28.76  \n",
            "   1    |  2020   |   0.268150   |     -      |     -     |   28.75  \n",
            "   1    |  2040   |   0.184664   |     -      |     -     |   28.66  \n",
            "   1    |  2060   |   0.228577   |     -      |     -     |   28.71  \n",
            "   1    |  2080   |   0.263855   |     -      |     -     |   28.77  \n",
            "   1    |  2100   |   0.215423   |     -      |     -     |   28.70  \n",
            "   1    |  2120   |   0.243752   |     -      |     -     |   28.64  \n",
            "   1    |  2140   |   0.180663   |     -      |     -     |   28.66  \n",
            "   1    |  2160   |   0.205695   |     -      |     -     |   28.80  \n",
            "   1    |  2180   |   0.244107   |     -      |     -     |   28.63  \n",
            "   1    |  2200   |   0.236981   |     -      |     -     |   28.58  \n",
            "   1    |  2220   |   0.198098   |     -      |     -     |   28.66  \n",
            "   1    |  2240   |   0.250473   |     -      |     -     |   28.74  \n",
            "   1    |  2260   |   0.207476   |     -      |     -     |   28.77  \n",
            "   1    |  2280   |   0.287370   |     -      |     -     |   28.56  \n",
            "   1    |  2300   |   0.269514   |     -      |     -     |   28.84  \n",
            "   1    |  2320   |   0.275518   |     -      |     -     |   28.68  \n",
            "   1    |  2340   |   0.182419   |     -      |     -     |   28.62  \n",
            "   1    |  2360   |   0.214052   |     -      |     -     |   28.66  \n",
            "   1    |  2380   |   0.240541   |     -      |     -     |   28.74  \n",
            "   1    |  2400   |   0.306330   |     -      |     -     |   28.77  \n",
            "   1    |  2420   |   0.251730   |     -      |     -     |   28.69  \n",
            "   1    |  2440   |   0.171947   |     -      |     -     |   28.58  \n",
            "   1    |  2460   |   0.205467   |     -      |     -     |   28.95  \n",
            "   1    |  2480   |   0.280398   |     -      |     -     |   28.82  \n",
            "   1    |  2500   |   0.184974   |     -      |     -     |   28.67  \n",
            "   1    |  2520   |   0.266159   |     -      |     -     |   28.69  \n",
            "   1    |  2540   |   0.271910   |     -      |     -     |   28.74  \n",
            "   1    |  2560   |   0.274773   |     -      |     -     |   28.67  \n",
            "   1    |  2580   |   0.239935   |     -      |     -     |   28.62  \n",
            "   1    |  2600   |   0.256437   |     -      |     -     |   28.58  \n",
            "   1    |  2620   |   0.176246   |     -      |     -     |   28.71  \n",
            "   1    |  2640   |   0.185939   |     -      |     -     |   28.57  \n",
            "   1    |  2660   |   0.238943   |     -      |     -     |   28.65  \n",
            "   1    |  2680   |   0.198275   |     -      |     -     |   28.78  \n",
            "   1    |  2700   |   0.212183   |     -      |     -     |   28.75  \n",
            "   1    |  2720   |   0.186538   |     -      |     -     |   28.85  \n",
            "   1    |  2740   |   0.245807   |     -      |     -     |   28.66  \n",
            "   1    |  2760   |   0.274421   |     -      |     -     |   28.76  \n",
            "   1    |  2780   |   0.218473   |     -      |     -     |   28.37  \n",
            "   1    |  2800   |   0.256800   |     -      |     -     |   28.77  \n",
            "   1    |  2820   |   0.249705   |     -      |     -     |   28.83  \n",
            "   1    |  2840   |   0.332890   |     -      |     -     |   28.83  \n",
            "   1    |  2860   |   0.321327   |     -      |     -     |   28.81  \n",
            "   1    |  2880   |   0.180101   |     -      |     -     |   28.82  \n",
            "   1    |  2900   |   0.201516   |     -      |     -     |   28.83  \n",
            "   1    |  2920   |   0.181576   |     -      |     -     |   28.80  \n",
            "   1    |  2940   |   0.242570   |     -      |     -     |   28.82  \n",
            "   1    |  2960   |   0.238443   |     -      |     -     |   28.84  \n",
            "   1    |  2980   |   0.163142   |     -      |     -     |   28.80  \n",
            "   1    |  3000   |   0.245028   |     -      |     -     |   28.73  \n",
            "   1    |  3020   |   0.272153   |     -      |     -     |   28.75  \n",
            "   1    |  3040   |   0.242896   |     -      |     -     |   28.76  \n",
            "   1    |  3060   |   0.249812   |     -      |     -     |   28.80  \n",
            "   1    |  3080   |   0.193267   |     -      |     -     |   28.75  \n",
            "   1    |  3100   |   0.169215   |     -      |     -     |   28.76  \n",
            "   1    |  3120   |   0.318760   |     -      |     -     |   28.75  \n",
            "   1    |  3140   |   0.160264   |     -      |     -     |   28.72  \n",
            "   1    |  3160   |   0.203216   |     -      |     -     |   28.73  \n",
            "   1    |  3180   |   0.219714   |     -      |     -     |   28.74  \n",
            "   1    |  3200   |   0.192105   |     -      |     -     |   28.71  \n",
            "   1    |  3220   |   0.172371   |     -      |     -     |   28.78  \n",
            "   1    |  3240   |   0.229584   |     -      |     -     |   28.74  \n",
            "   1    |  3260   |   0.167216   |     -      |     -     |   28.73  \n",
            "   1    |  3280   |   0.240539   |     -      |     -     |   28.76  \n",
            "   1    |  3300   |   0.191850   |     -      |     -     |   28.79  \n",
            "   1    |  3320   |   0.193369   |     -      |     -     |   28.80  \n",
            "   1    |  3340   |   0.141339   |     -      |     -     |   28.80  \n",
            "   1    |  3360   |   0.299984   |     -      |     -     |   28.75  \n",
            "   1    |  3380   |   0.222426   |     -      |     -     |   28.74  \n",
            "   1    |  3400   |   0.244244   |     -      |     -     |   28.76  \n",
            "   1    |  3420   |   0.260776   |     -      |     -     |   28.78  \n",
            "   1    |  3440   |   0.216611   |     -      |     -     |   28.77  \n",
            "   1    |  3460   |   0.234082   |     -      |     -     |   28.76  \n",
            "   1    |  3480   |   0.195096   |     -      |     -     |   28.81  \n",
            "   1    |  3500   |   0.192447   |     -      |     -     |   28.78  \n",
            "   1    |  3520   |   0.266033   |     -      |     -     |   28.80  \n",
            "   1    |  3540   |   0.162713   |     -      |     -     |   28.81  \n",
            "   1    |  3560   |   0.204966   |     -      |     -     |   28.80  \n",
            "   1    |  3580   |   0.188294   |     -      |     -     |   28.79  \n",
            "   1    |  3600   |   0.204605   |     -      |     -     |   28.80  \n",
            "   1    |  3620   |   0.180369   |     -      |     -     |   28.79  \n",
            "   1    |  3640   |   0.114081   |     -      |     -     |   28.81  \n",
            "   1    |  3660   |   0.248456   |     -      |     -     |   28.79  \n",
            "   1    |  3680   |   0.217131   |     -      |     -     |   28.78  \n",
            "   1    |  3700   |   0.278573   |     -      |     -     |   28.78  \n",
            "   1    |  3720   |   0.243524   |     -      |     -     |   28.78  \n",
            "   1    |  3740   |   0.182958   |     -      |     -     |   28.78  \n",
            "   1    |  3760   |   0.252313   |     -      |     -     |   28.79  \n",
            "   1    |  3780   |   0.283457   |     -      |     -     |   28.81  \n",
            "   1    |  3800   |   0.222865   |     -      |     -     |   28.81  \n",
            "   1    |  3820   |   0.192486   |     -      |     -     |   28.79  \n",
            "   1    |  3840   |   0.187800   |     -      |     -     |   28.82  \n",
            "   1    |  3860   |   0.199835   |     -      |     -     |   28.83  \n",
            "   1    |  3880   |   0.198851   |     -      |     -     |   28.81  \n",
            "   1    |  3900   |   0.179051   |     -      |     -     |   28.85  \n",
            "   1    |  3920   |   0.203347   |     -      |     -     |   28.83  \n",
            "   1    |  3940   |   0.129351   |     -      |     -     |   28.79  \n",
            "   1    |  3950   |   0.200438   |     -      |     -     |   14.41  \n",
            "----------------------------------------------------------------------\n",
            "   1    |    -    |   0.269030   |  0.182961  |   93.79   |  5904.99 \n",
            "----------------------------------------------------------------------\n",
            "\n",
            "\n",
            " Epoch  |  Batch  |  Train Loss  |  Val Loss  |  Val Acc  |  Elapsed \n",
            "----------------------------------------------------------------------\n",
            "   2    |   20    |   0.078973   |     -      |     -     |   30.26  \n",
            "   2    |   40    |   0.121352   |     -      |     -     |   28.82  \n",
            "   2    |   60    |   0.149858   |     -      |     -     |   28.86  \n",
            "   2    |   80    |   0.200030   |     -      |     -     |   28.80  \n",
            "   2    |   100   |   0.206917   |     -      |     -     |   28.84  \n",
            "   2    |   120   |   0.127136   |     -      |     -     |   28.84  \n",
            "   2    |   140   |   0.183079   |     -      |     -     |   28.79  \n",
            "   2    |   160   |   0.183069   |     -      |     -     |   28.85  \n",
            "   2    |   180   |   0.163096   |     -      |     -     |   28.84  \n",
            "   2    |   200   |   0.140122   |     -      |     -     |   28.83  \n",
            "   2    |   220   |   0.218689   |     -      |     -     |   28.82  \n",
            "   2    |   240   |   0.105264   |     -      |     -     |   28.82  \n",
            "   2    |   260   |   0.209564   |     -      |     -     |   28.78  \n",
            "   2    |   280   |   0.125306   |     -      |     -     |   28.81  \n",
            "   2    |   300   |   0.190713   |     -      |     -     |   28.80  \n",
            "   2    |   320   |   0.133238   |     -      |     -     |   28.83  \n",
            "   2    |   340   |   0.082618   |     -      |     -     |   28.78  \n",
            "   2    |   360   |   0.170009   |     -      |     -     |   28.82  \n",
            "   2    |   380   |   0.144370   |     -      |     -     |   28.81  \n",
            "   2    |   400   |   0.178923   |     -      |     -     |   28.79  \n",
            "   2    |   420   |   0.183473   |     -      |     -     |   28.81  \n",
            "   2    |   440   |   0.160783   |     -      |     -     |   28.81  \n",
            "   2    |   460   |   0.121280   |     -      |     -     |   28.78  \n",
            "   2    |   480   |   0.119164   |     -      |     -     |   28.75  \n",
            "   2    |   500   |   0.149096   |     -      |     -     |   28.71  \n",
            "   2    |   520   |   0.163039   |     -      |     -     |   28.78  \n",
            "   2    |   540   |   0.202916   |     -      |     -     |   28.77  \n",
            "   2    |   560   |   0.092630   |     -      |     -     |   29.07  \n",
            "   2    |   580   |   0.168710   |     -      |     -     |   28.49  \n",
            "   2    |   600   |   0.121994   |     -      |     -     |   28.69  \n",
            "   2    |   620   |   0.121446   |     -      |     -     |   28.80  \n",
            "   2    |   640   |   0.175213   |     -      |     -     |   28.70  \n",
            "   2    |   660   |   0.115692   |     -      |     -     |   28.78  \n",
            "   2    |   680   |   0.169836   |     -      |     -     |   28.72  \n",
            "   2    |   700   |   0.132605   |     -      |     -     |   28.75  \n",
            "   2    |   720   |   0.091224   |     -      |     -     |   28.77  \n",
            "   2    |   740   |   0.145836   |     -      |     -     |   28.76  \n",
            "   2    |   760   |   0.203818   |     -      |     -     |   28.81  \n",
            "   2    |   780   |   0.266808   |     -      |     -     |   28.75  \n",
            "   2    |   800   |   0.125986   |     -      |     -     |   28.74  \n",
            "   2    |   820   |   0.081257   |     -      |     -     |   28.77  \n",
            "   2    |   840   |   0.286831   |     -      |     -     |   28.81  \n",
            "   2    |   860   |   0.093389   |     -      |     -     |   28.76  \n",
            "   2    |   880   |   0.184034   |     -      |     -     |   28.78  \n",
            "   2    |   900   |   0.152249   |     -      |     -     |   28.78  \n",
            "   2    |   920   |   0.157104   |     -      |     -     |   28.75  \n",
            "   2    |   940   |   0.198253   |     -      |     -     |   28.73  \n",
            "   2    |   960   |   0.184808   |     -      |     -     |   28.75  \n",
            "   2    |   980   |   0.246146   |     -      |     -     |   28.76  \n",
            "   2    |  1000   |   0.143046   |     -      |     -     |   28.74  \n",
            "   2    |  1020   |   0.094839   |     -      |     -     |   28.79  \n",
            "   2    |  1040   |   0.112368   |     -      |     -     |   28.75  \n",
            "   2    |  1060   |   0.161314   |     -      |     -     |   28.72  \n",
            "   2    |  1080   |   0.201690   |     -      |     -     |   28.74  \n",
            "   2    |  1100   |   0.108194   |     -      |     -     |   28.71  \n",
            "   2    |  1120   |   0.112706   |     -      |     -     |   28.74  \n",
            "   2    |  1140   |   0.079791   |     -      |     -     |   28.73  \n",
            "   2    |  1160   |   0.200113   |     -      |     -     |   28.72  \n",
            "   2    |  1180   |   0.100551   |     -      |     -     |   28.73  \n",
            "   2    |  1200   |   0.102418   |     -      |     -     |   28.73  \n",
            "   2    |  1220   |   0.078046   |     -      |     -     |   28.81  \n",
            "   2    |  1240   |   0.234169   |     -      |     -     |   28.75  \n",
            "   2    |  1260   |   0.102752   |     -      |     -     |   28.73  \n",
            "   2    |  1280   |   0.102649   |     -      |     -     |   28.72  \n",
            "   2    |  1300   |   0.077892   |     -      |     -     |   28.70  \n",
            "   2    |  1320   |   0.232069   |     -      |     -     |   28.75  \n",
            "   2    |  1340   |   0.141552   |     -      |     -     |   28.77  \n",
            "   2    |  1360   |   0.193875   |     -      |     -     |   28.76  \n",
            "   2    |  1380   |   0.090237   |     -      |     -     |   28.74  \n",
            "   2    |  1400   |   0.138305   |     -      |     -     |   28.77  \n",
            "   2    |  1420   |   0.078895   |     -      |     -     |   28.72  \n",
            "   2    |  1440   |   0.124587   |     -      |     -     |   28.75  \n",
            "   2    |  1460   |   0.199866   |     -      |     -     |   28.73  \n",
            "   2    |  1480   |   0.127663   |     -      |     -     |   28.70  \n",
            "   2    |  1500   |   0.098646   |     -      |     -     |   28.76  \n",
            "   2    |  1520   |   0.100249   |     -      |     -     |   28.74  \n",
            "   2    |  1540   |   0.187915   |     -      |     -     |   28.71  \n",
            "   2    |  1560   |   0.055696   |     -      |     -     |   28.72  \n",
            "   2    |  1580   |   0.107737   |     -      |     -     |   28.77  \n",
            "   2    |  1600   |   0.200246   |     -      |     -     |   28.75  \n",
            "   2    |  1620   |   0.121189   |     -      |     -     |   28.73  \n",
            "   2    |  1640   |   0.114397   |     -      |     -     |   28.75  \n",
            "   2    |  1660   |   0.081074   |     -      |     -     |   28.77  \n",
            "   2    |  1680   |   0.108942   |     -      |     -     |   28.78  \n",
            "   2    |  1700   |   0.150651   |     -      |     -     |   28.77  \n",
            "   2    |  1720   |   0.190302   |     -      |     -     |   28.78  \n",
            "   2    |  1740   |   0.101917   |     -      |     -     |   28.77  \n",
            "   2    |  1760   |   0.113528   |     -      |     -     |   28.73  \n",
            "   2    |  1780   |   0.175817   |     -      |     -     |   28.72  \n",
            "   2    |  1800   |   0.163621   |     -      |     -     |   28.75  \n",
            "   2    |  1820   |   0.205459   |     -      |     -     |   28.70  \n",
            "   2    |  1840   |   0.114213   |     -      |     -     |   28.71  \n",
            "   2    |  1860   |   0.186992   |     -      |     -     |   28.72  \n",
            "   2    |  1880   |   0.201417   |     -      |     -     |   28.78  \n",
            "   2    |  1900   |   0.155171   |     -      |     -     |   28.72  \n",
            "   2    |  1920   |   0.136974   |     -      |     -     |   28.74  \n",
            "   2    |  1940   |   0.178003   |     -      |     -     |   28.77  \n",
            "   2    |  1960   |   0.095338   |     -      |     -     |   28.75  \n",
            "   2    |  1980   |   0.134324   |     -      |     -     |   28.72  \n",
            "   2    |  2000   |   0.103166   |     -      |     -     |   28.70  \n",
            "   2    |  2020   |   0.193454   |     -      |     -     |   28.72  \n",
            "   2    |  2040   |   0.126212   |     -      |     -     |   28.72  \n",
            "   2    |  2060   |   0.107755   |     -      |     -     |   28.72  \n",
            "   2    |  2080   |   0.125734   |     -      |     -     |   28.75  \n",
            "   2    |  2100   |   0.200906   |     -      |     -     |   28.75  \n",
            "   2    |  2120   |   0.114012   |     -      |     -     |   28.72  \n",
            "   2    |  2140   |   0.182137   |     -      |     -     |   28.75  \n",
            "   2    |  2160   |   0.095750   |     -      |     -     |   28.75  \n",
            "   2    |  2180   |   0.133116   |     -      |     -     |   28.74  \n",
            "   2    |  2200   |   0.096046   |     -      |     -     |   28.74  \n",
            "   2    |  2220   |   0.126899   |     -      |     -     |   28.77  \n",
            "   2    |  2240   |   0.070849   |     -      |     -     |   28.74  \n",
            "   2    |  2260   |   0.116870   |     -      |     -     |   28.74  \n",
            "   2    |  2280   |   0.102379   |     -      |     -     |   28.74  \n",
            "   2    |  2300   |   0.135641   |     -      |     -     |   28.74  \n",
            "   2    |  2320   |   0.118355   |     -      |     -     |   28.73  \n",
            "   2    |  2340   |   0.150554   |     -      |     -     |   28.72  \n",
            "   2    |  2360   |   0.102007   |     -      |     -     |   28.73  \n",
            "   2    |  2380   |   0.150214   |     -      |     -     |   28.78  \n",
            "   2    |  2400   |   0.122708   |     -      |     -     |   28.79  \n",
            "   2    |  2420   |   0.116182   |     -      |     -     |   28.82  \n",
            "   2    |  2440   |   0.122876   |     -      |     -     |   28.79  \n",
            "   2    |  2460   |   0.249449   |     -      |     -     |   28.79  \n",
            "   2    |  2480   |   0.104778   |     -      |     -     |   28.80  \n",
            "   2    |  2500   |   0.079720   |     -      |     -     |   28.78  \n",
            "   2    |  2520   |   0.109714   |     -      |     -     |   28.77  \n",
            "   2    |  2540   |   0.150383   |     -      |     -     |   28.78  \n",
            "   2    |  2560   |   0.080555   |     -      |     -     |   28.75  \n",
            "   2    |  2580   |   0.166424   |     -      |     -     |   28.73  \n",
            "   2    |  2600   |   0.089598   |     -      |     -     |   28.78  \n",
            "   2    |  2620   |   0.090835   |     -      |     -     |   28.77  \n",
            "   2    |  2640   |   0.098190   |     -      |     -     |   28.81  \n",
            "   2    |  2660   |   0.157374   |     -      |     -     |   28.79  \n",
            "   2    |  2680   |   0.094528   |     -      |     -     |   28.80  \n",
            "   2    |  2700   |   0.086850   |     -      |     -     |   28.80  \n",
            "   2    |  2720   |   0.144820   |     -      |     -     |   28.83  \n",
            "   2    |  2740   |   0.135014   |     -      |     -     |   28.79  \n",
            "   2    |  2760   |   0.158651   |     -      |     -     |   28.81  \n",
            "   2    |  2780   |   0.118230   |     -      |     -     |   28.72  \n",
            "   2    |  2800   |   0.127019   |     -      |     -     |   28.75  \n",
            "   2    |  2820   |   0.146404   |     -      |     -     |   28.76  \n",
            "   2    |  2840   |   0.113959   |     -      |     -     |   28.75  \n",
            "   2    |  2860   |   0.156514   |     -      |     -     |   28.78  \n",
            "   2    |  2880   |   0.106336   |     -      |     -     |   28.73  \n",
            "   2    |  2900   |   0.138405   |     -      |     -     |   28.75  \n",
            "   2    |  2920   |   0.078246   |     -      |     -     |   28.74  \n",
            "   2    |  2940   |   0.083851   |     -      |     -     |   28.73  \n",
            "   2    |  2960   |   0.164808   |     -      |     -     |   28.74  \n",
            "   2    |  2980   |   0.123939   |     -      |     -     |   28.73  \n",
            "   2    |  3000   |   0.049389   |     -      |     -     |   28.71  \n",
            "   2    |  3020   |   0.193472   |     -      |     -     |   28.71  \n",
            "   2    |  3040   |   0.178186   |     -      |     -     |   28.72  \n",
            "   2    |  3060   |   0.166261   |     -      |     -     |   28.73  \n",
            "   2    |  3080   |   0.161797   |     -      |     -     |   28.77  \n",
            "   2    |  3100   |   0.133151   |     -      |     -     |   28.78  \n",
            "   2    |  3120   |   0.157337   |     -      |     -     |   28.74  \n",
            "   2    |  3140   |   0.116723   |     -      |     -     |   28.76  \n",
            "   2    |  3160   |   0.051245   |     -      |     -     |   28.77  \n",
            "   2    |  3180   |   0.117717   |     -      |     -     |   28.75  \n",
            "   2    |  3200   |   0.056017   |     -      |     -     |   28.75  \n",
            "   2    |  3220   |   0.122606   |     -      |     -     |   28.75  \n",
            "   2    |  3240   |   0.169680   |     -      |     -     |   28.75  \n",
            "   2    |  3260   |   0.167344   |     -      |     -     |   28.77  \n",
            "   2    |  3280   |   0.175366   |     -      |     -     |   28.71  \n",
            "   2    |  3300   |   0.202119   |     -      |     -     |   28.73  \n",
            "   2    |  3320   |   0.071285   |     -      |     -     |   28.77  \n",
            "   2    |  3340   |   0.137976   |     -      |     -     |   28.72  \n",
            "   2    |  3360   |   0.180926   |     -      |     -     |   28.78  \n",
            "   2    |  3380   |   0.103546   |     -      |     -     |   28.76  \n",
            "   2    |  3400   |   0.150799   |     -      |     -     |   28.76  \n",
            "   2    |  3420   |   0.098790   |     -      |     -     |   28.73  \n",
            "   2    |  3440   |   0.074340   |     -      |     -     |   28.74  \n",
            "   2    |  3460   |   0.163960   |     -      |     -     |   28.76  \n",
            "   2    |  3480   |   0.096760   |     -      |     -     |   28.76  \n",
            "   2    |  3500   |   0.124696   |     -      |     -     |   28.79  \n",
            "   2    |  3520   |   0.135788   |     -      |     -     |   28.76  \n",
            "   2    |  3540   |   0.125937   |     -      |     -     |   28.61  \n",
            "   2    |  3560   |   0.124970   |     -      |     -     |   28.54  \n",
            "   2    |  3580   |   0.039234   |     -      |     -     |   28.53  \n",
            "   2    |  3600   |   0.098092   |     -      |     -     |   28.63  \n",
            "   2    |  3620   |   0.063199   |     -      |     -     |   28.74  \n",
            "   2    |  3640   |   0.166569   |     -      |     -     |   28.29  \n",
            "   2    |  3660   |   0.163791   |     -      |     -     |   28.45  \n",
            "   2    |  3680   |   0.111224   |     -      |     -     |   28.42  \n",
            "   2    |  3700   |   0.056364   |     -      |     -     |   28.53  \n",
            "   2    |  3720   |   0.070689   |     -      |     -     |   28.52  \n",
            "   2    |  3740   |   0.122532   |     -      |     -     |   28.53  \n",
            "   2    |  3760   |   0.102348   |     -      |     -     |   28.54  \n",
            "   2    |  3780   |   0.094043   |     -      |     -     |   28.50  \n",
            "   2    |  3800   |   0.129052   |     -      |     -     |   28.52  \n",
            "   2    |  3820   |   0.094649   |     -      |     -     |   28.51  \n",
            "   2    |  3840   |   0.122416   |     -      |     -     |   28.53  \n",
            "   2    |  3860   |   0.063594   |     -      |     -     |   28.51  \n",
            "   2    |  3880   |   0.116206   |     -      |     -     |   28.53  \n",
            "   2    |  3900   |   0.111202   |     -      |     -     |   28.52  \n",
            "   2    |  3920   |   0.107746   |     -      |     -     |   28.60  \n",
            "   2    |  3940   |   0.122119   |     -      |     -     |   28.74  \n",
            "   2    |  3950   |   0.143621   |     -      |     -     |   14.37  \n",
            "----------------------------------------------------------------------\n",
            "   2    |    -    |   0.134927   |  0.211098  |   94.99   |  5907.57 \n",
            "----------------------------------------------------------------------\n",
            "\n",
            "\n",
            "Training complete!\n"
          ]
        }
      ]
    },
    {
      "cell_type": "code",
      "source": [
        "import pickle\n",
        "filename = 'trained-twitter-roberta-base-sentiment.sav'\n",
        "pickle.dump(bert_classifier, open(filename, 'wb'))"
      ],
      "metadata": {
        "id": "Pi0d0Im5QxvH"
      },
      "execution_count": 24,
      "outputs": []
    },
    {
      "cell_type": "code",
      "source": [
        "import torch.nn.functional as F\n",
        "\n",
        "def bert_predict(model, test_dataloader):\n",
        "    \"\"\"Perform a forward pass on the trained BERT model to predict probabilities\n",
        "    on the test set.\n",
        "    \"\"\"\n",
        "    # Put the model into the evaluation mode. The dropout layers are disabled during\n",
        "    # the test time.\n",
        "    model.eval()\n",
        "\n",
        "    all_logits = []\n",
        "\n",
        "    # For each batch in our test set...\n",
        "    for batch in test_dataloader:\n",
        "        # Load batch to GPU\n",
        "        b_input_ids, b_attn_mask = tuple(t.to(device) for t in batch)[:2]\n",
        "\n",
        "        # Compute logits\n",
        "        with torch.no_grad():\n",
        "            logits = model(b_input_ids, b_attn_mask)\n",
        "        all_logits.append(logits)\n",
        "    \n",
        "    # Concatenate logits from each batch\n",
        "    all_logits = torch.cat(all_logits, dim=0)\n",
        "\n",
        "    # Apply softmax to calculate probabilities\n",
        "    probs = F.softmax(all_logits, dim=1).cpu().numpy()\n",
        "\n",
        "    return probs"
      ],
      "metadata": {
        "id": "Y84FNM8rlMuq"
      },
      "execution_count": 25,
      "outputs": []
    },
    {
      "cell_type": "code",
      "source": [
        "from sklearn.metrics import accuracy_score, roc_curve, auc, precision_score, recall_score\n",
        "from sklearn.metrics import precision_recall_curve, f1_score\n",
        "\n",
        "def evaluate_roc(probs, y_true):\n",
        "    \"\"\"\n",
        "    - Print AUC and accuracy on the test set\n",
        "    - Plot ROC\n",
        "    @params    probs (np.array): an array of predicted probabilities with shape (len(y_true), 2)\n",
        "    @params    y_true (np.array): an array of the true values with shape (len(y_true),)\n",
        "    \"\"\"\n",
        "    preds = probs[:, 1]\n",
        "    fpr, tpr, threshold = roc_curve(y_true, preds)\n",
        "    roc_auc = auc(fpr, tpr)\n",
        "    print(f'AUC: {roc_auc:.4f}')\n",
        "       \n",
        "    # Get accuracy over the test set\n",
        "    y_pred = np.where(preds >= 0.5, 1, 0)\n",
        "    accuracy = accuracy_score(y_true, y_pred)\n",
        "    print(f'Accuracy: {accuracy*100:.2f}%')\n",
        "\n",
        "    #Get Precision and Recall over the test set\n",
        "    precision  = precision_score(y_true, y_pred, average='binary')\n",
        "    print(f'Precision: {precision*100:.2f}%')\n",
        "    recall = recall_score(y_true, y_pred, average='binary')\n",
        "    print(f'Recall: {recall*100:.2f}%')\n",
        "\n",
        "    f1 = f1_score(y_true, y_pred)\n",
        "\n",
        "    \n",
        "    # Plot ROC AUC\n",
        "    plt.plot(fpr, tpr, 'b', label = 'AUC = %0.2f' % roc_auc)\n",
        "    plt.legend(loc = 'lower right')\n",
        "    plt.plot([0, 1], [0, 1],'r--')\n",
        "    plt.xlim([0, 1])\n",
        "    plt.ylim([0, 1])\n",
        "    plt.ylabel('True Positive Rate')\n",
        "    plt.xlabel('False Positive Rate')\n",
        "    plt.show()\n",
        "\n",
        "    print('Distilbert-base-GRU: f1=%.3f ' % (f1))\n",
        "    # plot the precision-recall curves\n",
        "    baseline = len(y_test[y_test==1]) / len(y_test)\n",
        "    plt.plot([0, 1], [baseline, baseline], linestyle='--', label='Baseline')\n",
        "    plt.plot(recall, precision, marker='.', label='Distilbert-base-GRU')\n",
        "    # axis labels\n",
        "    plt.xlabel('Recall')\n",
        "    plt.ylabel('Precision')\n",
        "    # show the legend\n",
        "    plt.legend()\n",
        "    # show the plot\n",
        "    plt.show()\n"
      ],
      "metadata": {
        "id": "BaP0b0jclMxY"
      },
      "execution_count": 26,
      "outputs": []
    },
    {
      "cell_type": "code",
      "source": [
        "# Compute predicted probabilities on the validation set\n",
        "probs = bert_predict(bert_classifier, val_dataloader)\n",
        "\n",
        "# Evaluate the Bert classifier\n",
        "evaluate_roc(probs, y_val)"
      ],
      "metadata": {
        "colab": {
          "base_uri": "https://localhost:8080/",
          "height": 353
        },
        "id": "MUH-ejXRlMz9",
        "outputId": "695089ac-b346-405c-d9da-d330fbd9393e"
      },
      "execution_count": 27,
      "outputs": [
        {
          "output_type": "stream",
          "name": "stdout",
          "text": [
            "AUC: 0.9898\n",
            "Accuracy: 94.98%\n",
            "Precision: 95.16%\n",
            "Recall: 95.64%\n"
          ]
        },
        {
          "output_type": "display_data",
          "data": {
            "image/png": "[encoded data removed]",
            "text/plain": [
              "<Figure size 432x288 with 1 Axes>"
            ]
          },
          "metadata": {
            "needs_background": "light"
          }
        }
      ]
    },
    {
      "cell_type": "code",
      "source": [
        "# Run `preprocessing_for_bert` on the test set\n",
        "print('Tokenizing data...')\n",
        "test_inputs, test_masks = preprocessing_for_bert(X_test)\n",
        "\n",
        "# Create the DataLoader for our test set\n",
        "test_dataset = TensorDataset(test_inputs, test_masks)\n",
        "test_sampler = SequentialSampler(test_dataset)\n",
        "test_dataloader = DataLoader(test_dataset, sampler=test_sampler, batch_size=32)"
      ],
      "metadata": {
        "id": "Yvvheq0qlM3d",
        "colab": {
          "base_uri": "https://localhost:8080/"
        },
        "outputId": "df4bbb79-c7d3-4e8b-dde3-8a249b316d7e"
      },
      "execution_count": 28,
      "outputs": [
        {
          "output_type": "stream",
          "name": "stdout",
          "text": [
            "Tokenizing data...\n"
          ]
        }
      ]
    },
    {
      "cell_type": "code",
      "source": [
        "# Compute predicted probabilities on the test set\n",
        "probs = bert_predict(bert_classifier, test_dataloader)\n",
        "\n",
        "# Get predictions from the probabilities\n",
        "threshold = 0.5\n",
        "preds = np.where(probs[:, 1] > threshold, 1, 0)\n",
        "\n",
        "# Number of tweets predicted non-negative\n",
        "print(\"no-negative tweets ratio \", preds.sum()/len(preds))"
      ],
      "metadata": {
        "id": "ENShAjsVlh0P",
        "colab": {
          "base_uri": "https://localhost:8080/"
        },
        "outputId": "8bd9d26a-a83a-4c50-8684-4326ebb7e579"
      },
      "execution_count": 29,
      "outputs": [
        {
          "output_type": "stream",
          "name": "stdout",
          "text": [
            "no-negative tweets ratio  0.557485336825921\n"
          ]
        }
      ]
    },
    {
      "cell_type": "code",
      "source": [
        "# Evaluate the Bert classifier for unseen test data\n",
        "evaluate_roc(probs, y_test)"
      ],
      "metadata": {
        "colab": {
          "base_uri": "https://localhost:8080/",
          "height": 353
        },
        "id": "4nMBgpwvlh3D",
        "outputId": "43289cfc-dbf9-4e20-aac5-c32170628918"
      },
      "execution_count": 30,
      "outputs": [
        {
          "output_type": "stream",
          "name": "stdout",
          "text": [
            "AUC: 0.9917\n",
            "Accuracy: 95.55%\n",
            "Precision: 95.83%\n",
            "Recall: 96.18%\n"
          ]
        },
        {
          "output_type": "display_data",
          "data": {
            "image/png": "[encoded data removed]",
            "text/plain": [
              "<Figure size 432x288 with 1 Axes>"
            ]
          },
          "metadata": {
            "needs_background": "light"
          }
        }
      ]
    },
    {
      "cell_type": "markdown",
      "source": [
        "Dataset 1"
      ],
      "metadata": {
        "id": "UbxnxHjbrN7w"
      }
    },
    {
      "cell_type": "code",
      "source": [
        "X = df1.text.values\n",
        "y = df1.sentiment.values\n",
        "X_, X_test, y_, y_test = train_test_split(X, y, test_size=0.2, random_state = 42)\n",
        "X_train, X_val, y_train, y_val = train_test_split(X_, y_, test_size=0.1, random_state = 42)"
      ],
      "metadata": {
        "id": "blHSYaz9rWGZ"
      },
      "execution_count": null,
      "outputs": []
    },
    {
      "cell_type": "code",
      "source": [
        "# Specify `MAX_LEN`\n",
        "MAX_LEN =  280\n",
        "\n",
        "# Print sentence 0 and its encoded token ids\n",
        "token_ids = list(preprocessing_for_bert([X[0]], version=\"base\", text_preprocessing_fn=text_preprocessing)[0].squeeze().numpy())\n",
        "print('Original: ', X[0])\n",
        "print('Token IDs: ', token_ids)\n",
        "\n",
        "# Run function `preprocessing_for_bert` on the train set and the validation set\n",
        "print('Tokenizing data...')\n",
        "train_inputs, train_masks = preprocessing_for_bert(X_train, version=\"base\", text_preprocessing_fn=text_preprocessing)\n",
        "val_inputs, val_masks = preprocessing_for_bert(X_val, version=\"base\", text_preprocessing_fn=text_preprocessing)"
      ],
      "metadata": {
        "id": "LHkD3v3DrWJc"
      },
      "execution_count": null,
      "outputs": []
    },
    {
      "cell_type": "code",
      "source": [
        "from torch.utils.data import TensorDataset, DataLoader, RandomSampler, SequentialSampler\n",
        "\n",
        "# Convert other data types to torch.Tensor\n",
        "train_labels = torch.tensor(y_train)\n",
        "val_labels = torch.tensor(y_val)\n",
        "\n",
        "# For fine-tuning BERT, the authors recommend a batch size of 16 or 32.\n",
        "batch_size = 16\n",
        "\n",
        "# Create the DataLoader for our training set\n",
        "train_data = TensorDataset(train_inputs, train_masks, train_labels)\n",
        "train_sampler = RandomSampler(train_data)\n",
        "train_dataloader = DataLoader(train_data, sampler=train_sampler, batch_size=batch_size)\n",
        "\n",
        "# Create the DataLoader for our validation set\n",
        "val_data = TensorDataset(val_inputs, val_masks, val_labels)\n",
        "val_sampler = SequentialSampler(val_data)\n",
        "val_dataloader = DataLoader(val_data, sampler=val_sampler, batch_size=batch_size)"
      ],
      "metadata": {
        "id": "PFgGW0g7rWMk"
      },
      "execution_count": null,
      "outputs": []
    },
    {
      "cell_type": "code",
      "source": [
        "set_seed(42) \n",
        "bert_classifier, optimizer, scheduler = initialize_model(epochs=2, version=\"base\")\n",
        "train(bert_classifier, train_dataloader, val_dataloader, epochs=2, evaluation=True)"
      ],
      "metadata": {
        "id": "C15aScZ7rWQI"
      },
      "execution_count": null,
      "outputs": []
    },
    {
      "cell_type": "code",
      "source": [
        "probs = bert_predict(bert_classifier, val_dataloader)\n",
        "\n",
        "# Evaluate the Bert classifier\n",
        "evaluate_roc(probs, y_val)"
      ],
      "metadata": {
        "id": "BV8qdxdorWW3"
      },
      "execution_count": null,
      "outputs": []
    },
    {
      "cell_type": "code",
      "source": [
        "print('Tokenizing data...')\n",
        "test_inputs, test_masks = preprocessing_for_bert(X_test)\n",
        "\n",
        "# Create the DataLoader for our test set\n",
        "test_dataset = TensorDataset(test_inputs, test_masks)\n",
        "test_sampler = SequentialSampler(test_dataset)\n",
        "test_dataloader = DataLoader(test_dataset, sampler=test_sampler, batch_size=32)"
      ],
      "metadata": {
        "id": "IWA5L_vXrWZR"
      },
      "execution_count": null,
      "outputs": []
    },
    {
      "cell_type": "code",
      "source": [
        "probs = bert_predict(bert_classifier, test_dataloader)\n",
        "\n",
        "# Get predictions from the probabilities\n",
        "threshold = 0.5\n",
        "preds = np.where(probs[:, 1] > threshold, 1, 0)\n",
        "\n",
        "# Number of tweets predicted non-negative\n",
        "print(\"no-negative tweets ratio \", preds.sum()/len(preds))"
      ],
      "metadata": {
        "id": "vmU48X_wrWcA"
      },
      "execution_count": null,
      "outputs": []
    },
    {
      "cell_type": "code",
      "source": [
        "# Evaluate the Bert classifier for unseen test data\n",
        "evaluate_roc(probs, y_test)"
      ],
      "metadata": {
        "id": "q2J_5WbYrWe3"
      },
      "execution_count": null,
      "outputs": []
    },
    {
      "cell_type": "markdown",
      "source": [
        "Dataset 2"
      ],
      "metadata": {
        "id": "__XHLDr7sXzY"
      }
    },
    {
      "cell_type": "code",
      "source": [
        "X = df2.text.values\n",
        "y = df2.sentiment.values\n",
        "X_, X_test, y_, y_test = train_test_split(X, y, test_size=0.2, random_state = 42)\n",
        "X_train, X_val, y_train, y_val = train_test_split(X_, y_, test_size=0.1, random_state = 42)"
      ],
      "metadata": {
        "id": "KL4fvGwtsfMG"
      },
      "execution_count": null,
      "outputs": []
    },
    {
      "cell_type": "code",
      "source": [
        "# Specify `MAX_LEN`\n",
        "MAX_LEN =  280\n",
        "\n",
        "# Print sentence 0 and its encoded token ids\n",
        "token_ids = list(preprocessing_for_bert([X[0]], version=\"base\", text_preprocessing_fn=text_preprocessing)[0].squeeze().numpy())\n",
        "print('Original: ', X[0])\n",
        "print('Token IDs: ', token_ids)\n",
        "\n",
        "# Run function `preprocessing_for_bert` on the train set and the validation set\n",
        "print('Tokenizing data...')\n",
        "train_inputs, train_masks = preprocessing_for_bert(X_train, version=\"base\", text_preprocessing_fn=text_preprocessing)\n",
        "val_inputs, val_masks = preprocessing_for_bert(X_val, version=\"base\", text_preprocessing_fn=text_preprocessing)"
      ],
      "metadata": {
        "id": "UWZaHaRHsfMH"
      },
      "execution_count": null,
      "outputs": []
    },
    {
      "cell_type": "code",
      "source": [
        "from torch.utils.data import TensorDataset, DataLoader, RandomSampler, SequentialSampler\n",
        "\n",
        "# Convert other data types to torch.Tensor\n",
        "train_labels = torch.tensor(y_train)\n",
        "val_labels = torch.tensor(y_val)\n",
        "\n",
        "# For fine-tuning BERT, the authors recommend a batch size of 16 or 32.\n",
        "batch_size = 16\n",
        "\n",
        "# Create the DataLoader for our training set\n",
        "train_data = TensorDataset(train_inputs, train_masks, train_labels)\n",
        "train_sampler = RandomSampler(train_data)\n",
        "train_dataloader = DataLoader(train_data, sampler=train_sampler, batch_size=batch_size)\n",
        "\n",
        "# Create the DataLoader for our validation set\n",
        "val_data = TensorDataset(val_inputs, val_masks, val_labels)\n",
        "val_sampler = SequentialSampler(val_data)\n",
        "val_dataloader = DataLoader(val_data, sampler=val_sampler, batch_size=batch_size)"
      ],
      "metadata": {
        "id": "E9HVAST2sfMH"
      },
      "execution_count": null,
      "outputs": []
    },
    {
      "cell_type": "code",
      "source": [
        "set_seed(42) \n",
        "bert_classifier, optimizer, scheduler = initialize_model(epochs=2, version=\"base\")\n",
        "train(bert_classifier, train_dataloader, val_dataloader, epochs=2, evaluation=True)"
      ],
      "metadata": {
        "id": "0DgNVgLYstSd"
      },
      "execution_count": null,
      "outputs": []
    },
    {
      "cell_type": "code",
      "source": [
        "probs = bert_predict(bert_classifier, val_dataloader)\n",
        "\n",
        "# Evaluate the Bert classifier\n",
        "evaluate_roc(probs, y_val)"
      ],
      "metadata": {
        "id": "wsQvAkT3stSe"
      },
      "execution_count": null,
      "outputs": []
    },
    {
      "cell_type": "code",
      "source": [
        "print('Tokenizing data...')\n",
        "test_inputs, test_masks = preprocessing_for_bert(X_test)\n",
        "\n",
        "# Create the DataLoader for our test set\n",
        "test_dataset = TensorDataset(test_inputs, test_masks)\n",
        "test_sampler = SequentialSampler(test_dataset)\n",
        "test_dataloader = DataLoader(test_dataset, sampler=test_sampler, batch_size=32)"
      ],
      "metadata": {
        "id": "Rfb1hZkNstSf"
      },
      "execution_count": null,
      "outputs": []
    },
    {
      "cell_type": "code",
      "source": [
        "probs = bert_predict(bert_classifier, test_dataloader)\n",
        "\n",
        "# Get predictions from the probabilities\n",
        "threshold = 0.5\n",
        "preds = np.where(probs[:, 1] > threshold, 1, 0)\n",
        "\n",
        "# Number of tweets predicted non-negative\n",
        "print(\"no-negative tweets ratio \", preds.sum()/len(preds))"
      ],
      "metadata": {
        "id": "k9kl_X-NstSf"
      },
      "execution_count": null,
      "outputs": []
    },
    {
      "cell_type": "code",
      "source": [
        "# Evaluate the Bert classifier for unseen test data\n",
        "evaluate_roc(probs, y_test)"
      ],
      "metadata": {
        "id": "CIYUYUDxstSg"
      },
      "execution_count": null,
      "outputs": []
    },
    {
      "cell_type": "code",
      "source": [
        ""
      ],
      "metadata": {
        "id": "uCx1zoZpsihF"
      },
      "execution_count": null,
      "outputs": []
    },
    {
      "cell_type": "markdown",
      "source": [
        "Dataset 3"
      ],
      "metadata": {
        "id": "9P3Sl4TyskJ_"
      }
    },
    {
      "cell_type": "code",
      "source": [
        "X = df3.text.values\n",
        "y = df3.sentiment.values\n",
        "X_, X_test, y_, y_test = train_test_split(X, y, test_size=0.2, random_state = 42)\n",
        "X_train, X_val, y_train, y_val = train_test_split(X_, y_, test_size=0.1, random_state = 42)"
      ],
      "metadata": {
        "id": "NJaYb6qVsmgo"
      },
      "execution_count": null,
      "outputs": []
    },
    {
      "cell_type": "code",
      "source": [
        "# Specify `MAX_LEN`\n",
        "MAX_LEN =  280\n",
        "\n",
        "# Print sentence 0 and its encoded token ids\n",
        "token_ids = list(preprocessing_for_bert([X[0]], version=\"base\", text_preprocessing_fn=text_preprocessing)[0].squeeze().numpy())\n",
        "print('Original: ', X[0])\n",
        "print('Token IDs: ', token_ids)\n",
        "\n",
        "# Run function `preprocessing_for_bert` on the train set and the validation set\n",
        "print('Tokenizing data...')\n",
        "train_inputs, train_masks = preprocessing_for_bert(X_train, version=\"base\", text_preprocessing_fn=text_preprocessing)\n",
        "val_inputs, val_masks = preprocessing_for_bert(X_val, version=\"base\", text_preprocessing_fn=text_preprocessing)"
      ],
      "metadata": {
        "id": "cDP6Aq1lsmgp"
      },
      "execution_count": null,
      "outputs": []
    },
    {
      "cell_type": "code",
      "source": [
        "from torch.utils.data import TensorDataset, DataLoader, RandomSampler, SequentialSampler\n",
        "\n",
        "# Convert other data types to torch.Tensor\n",
        "train_labels = torch.tensor(y_train)\n",
        "val_labels = torch.tensor(y_val)\n",
        "\n",
        "# For fine-tuning BERT, the authors recommend a batch size of 16 or 32.\n",
        "batch_size = 16\n",
        "\n",
        "# Create the DataLoader for our training set\n",
        "train_data = TensorDataset(train_inputs, train_masks, train_labels)\n",
        "train_sampler = RandomSampler(train_data)\n",
        "train_dataloader = DataLoader(train_data, sampler=train_sampler, batch_size=batch_size)\n",
        "\n",
        "# Create the DataLoader for our validation set\n",
        "val_data = TensorDataset(val_inputs, val_masks, val_labels)\n",
        "val_sampler = SequentialSampler(val_data)\n",
        "val_dataloader = DataLoader(val_data, sampler=val_sampler, batch_size=batch_size)"
      ],
      "metadata": {
        "id": "mGH5uKTBsmgq"
      },
      "execution_count": null,
      "outputs": []
    },
    {
      "cell_type": "code",
      "source": [
        "set_seed(42) \n",
        "bert_classifier, optimizer, scheduler = initialize_model(epochs=2, version=\"base\")\n",
        "train(bert_classifier, train_dataloader, val_dataloader, epochs=2, evaluation=True)"
      ],
      "metadata": {
        "id": "Ohu1X0l4sv_y"
      },
      "execution_count": null,
      "outputs": []
    },
    {
      "cell_type": "code",
      "source": [
        "probs = bert_predict(bert_classifier, val_dataloader)\n",
        "\n",
        "# Evaluate the Bert classifier\n",
        "evaluate_roc(probs, y_val)"
      ],
      "metadata": {
        "id": "ehKs_Hoasv_z"
      },
      "execution_count": null,
      "outputs": []
    },
    {
      "cell_type": "code",
      "source": [
        "print('Tokenizing data...')\n",
        "test_inputs, test_masks = preprocessing_for_bert(X_test)\n",
        "\n",
        "# Create the DataLoader for our test set\n",
        "test_dataset = TensorDataset(test_inputs, test_masks)\n",
        "test_sampler = SequentialSampler(test_dataset)\n",
        "test_dataloader = DataLoader(test_dataset, sampler=test_sampler, batch_size=32)"
      ],
      "metadata": {
        "id": "zWWGeZrEsv_z"
      },
      "execution_count": null,
      "outputs": []
    },
    {
      "cell_type": "code",
      "source": [
        "probs = bert_predict(bert_classifier, test_dataloader)\n",
        "\n",
        "# Get predictions from the probabilities\n",
        "threshold = 0.5\n",
        "preds = np.where(probs[:, 1] > threshold, 1, 0)\n",
        "\n",
        "# Number of tweets predicted non-negative\n",
        "print(\"no-negative tweets ratio \", preds.sum()/len(preds))"
      ],
      "metadata": {
        "id": "NnilNQbIsv_z"
      },
      "execution_count": null,
      "outputs": []
    },
    {
      "cell_type": "code",
      "source": [
        "# Evaluate the Bert classifier for unseen test data\n",
        "evaluate_roc(probs, y_test)"
      ],
      "metadata": {
        "id": "MkPnUPx3sv_0"
      },
      "execution_count": null,
      "outputs": []
    },
    {
      "cell_type": "code",
      "source": [
        ""
      ],
      "metadata": {
        "id": "mLr3anZ4siof"
      },
      "execution_count": null,
      "outputs": []
    },
    {
      "cell_type": "markdown",
      "source": [
        "Dataset 4"
      ],
      "metadata": {
        "id": "EaM6piRas1XO"
      }
    },
    {
      "cell_type": "code",
      "source": [
        "X = df4.text.values\n",
        "y = df4.sentiment.values\n",
        "X_, X_test, y_, y_test = train_test_split(X, y, test_size=0.2, random_state = 42)\n",
        "X_train, X_val, y_train, y_val = train_test_split(X_, y_, test_size=0.1, random_state = 42)"
      ],
      "metadata": {
        "id": "RbrKWSI3s91p"
      },
      "execution_count": null,
      "outputs": []
    },
    {
      "cell_type": "code",
      "source": [
        "# Specify `MAX_LEN`\n",
        "MAX_LEN =  280\n",
        "\n",
        "# Print sentence 0 and its encoded token ids\n",
        "token_ids = list(preprocessing_for_bert([X[0]], version=\"base\", text_preprocessing_fn=text_preprocessing)[0].squeeze().numpy())\n",
        "print('Original: ', X[0])\n",
        "print('Token IDs: ', token_ids)\n",
        "\n",
        "# Run function `preprocessing_for_bert` on the train set and the validation set\n",
        "print('Tokenizing data...')\n",
        "train_inputs, train_masks = preprocessing_for_bert(X_train, version=\"base\", text_preprocessing_fn=text_preprocessing)\n",
        "val_inputs, val_masks = preprocessing_for_bert(X_val, version=\"base\", text_preprocessing_fn=text_preprocessing)"
      ],
      "metadata": {
        "id": "fxx7ZTm1s91q"
      },
      "execution_count": null,
      "outputs": []
    },
    {
      "cell_type": "code",
      "source": [
        "from torch.utils.data import TensorDataset, DataLoader, RandomSampler, SequentialSampler\n",
        "\n",
        "# Convert other data types to torch.Tensor\n",
        "train_labels = torch.tensor(y_train)\n",
        "val_labels = torch.tensor(y_val)\n",
        "\n",
        "# For fine-tuning BERT, the authors recommend a batch size of 16 or 32.\n",
        "batch_size = 16\n",
        "\n",
        "# Create the DataLoader for our training set\n",
        "train_data = TensorDataset(train_inputs, train_masks, train_labels)\n",
        "train_sampler = RandomSampler(train_data)\n",
        "train_dataloader = DataLoader(train_data, sampler=train_sampler, batch_size=batch_size)\n",
        "\n",
        "# Create the DataLoader for our validation set\n",
        "val_data = TensorDataset(val_inputs, val_masks, val_labels)\n",
        "val_sampler = SequentialSampler(val_data)\n",
        "val_dataloader = DataLoader(val_data, sampler=val_sampler, batch_size=batch_size)"
      ],
      "metadata": {
        "id": "T_vwMKHbs91r"
      },
      "execution_count": null,
      "outputs": []
    },
    {
      "cell_type": "code",
      "source": [
        "set_seed(42) \n",
        "bert_classifier, optimizer, scheduler = initialize_model(epochs=2, version=\"base\")\n",
        "train(bert_classifier, train_dataloader, val_dataloader, epochs=2, evaluation=True)"
      ],
      "metadata": {
        "id": "sCo5YrVZs2jU"
      },
      "execution_count": null,
      "outputs": []
    },
    {
      "cell_type": "code",
      "source": [
        "probs = bert_predict(bert_classifier, val_dataloader)\n",
        "\n",
        "# Evaluate the Bert classifier\n",
        "evaluate_roc(probs, y_val)"
      ],
      "metadata": {
        "id": "HUp-hx4vs2jV"
      },
      "execution_count": null,
      "outputs": []
    },
    {
      "cell_type": "code",
      "source": [
        "print('Tokenizing data...')\n",
        "test_inputs, test_masks = preprocessing_for_bert(X_test)\n",
        "\n",
        "# Create the DataLoader for our test set\n",
        "test_dataset = TensorDataset(test_inputs, test_masks)\n",
        "test_sampler = SequentialSampler(test_dataset)\n",
        "test_dataloader = DataLoader(test_dataset, sampler=test_sampler, batch_size=32)"
      ],
      "metadata": {
        "id": "D8_J4ZsEs2jV"
      },
      "execution_count": null,
      "outputs": []
    },
    {
      "cell_type": "code",
      "source": [
        "probs = bert_predict(bert_classifier, test_dataloader)\n",
        "\n",
        "# Get predictions from the probabilities\n",
        "threshold = 0.5\n",
        "preds = np.where(probs[:, 1] > threshold, 1, 0)\n",
        "\n",
        "# Number of tweets predicted non-negative\n",
        "print(\"no-negative tweets ratio \", preds.sum()/len(preds))"
      ],
      "metadata": {
        "id": "rSoWoSPZs2jW"
      },
      "execution_count": null,
      "outputs": []
    },
    {
      "cell_type": "code",
      "source": [
        "# Evaluate the Bert classifier for unseen test data\n",
        "evaluate_roc(probs, y_test)"
      ],
      "metadata": {
        "id": "qSqZKD1vs2jW"
      },
      "execution_count": null,
      "outputs": []
    },
    {
      "cell_type": "code",
      "source": [
        ""
      ],
      "metadata": {
        "id": "QFJkGQigsits"
      },
      "execution_count": null,
      "outputs": []
    },
    {
      "cell_type": "markdown",
      "source": [
        "Dataset 5"
      ],
      "metadata": {
        "id": "niWG8neUs4No"
      }
    },
    {
      "cell_type": "code",
      "source": [
        "X = df5.text.values\n",
        "y = df5.sentiment.values\n",
        "X_, X_test, y_, y_test = train_test_split(X, y, test_size=0.2, random_state = 42)\n",
        "X_train, X_val, y_train, y_val = train_test_split(X_, y_, test_size=0.1, random_state = 42)"
      ],
      "metadata": {
        "id": "SQV4jrVms_90"
      },
      "execution_count": null,
      "outputs": []
    },
    {
      "cell_type": "code",
      "source": [
        "# Specify `MAX_LEN`\n",
        "MAX_LEN =  280\n",
        "\n",
        "# Print sentence 0 and its encoded token ids\n",
        "token_ids = list(preprocessing_for_bert([X[0]], version=\"base\", text_preprocessing_fn=text_preprocessing)[0].squeeze().numpy())\n",
        "print('Original: ', X[0])\n",
        "print('Token IDs: ', token_ids)\n",
        "\n",
        "# Run function `preprocessing_for_bert` on the train set and the validation set\n",
        "print('Tokenizing data...')\n",
        "train_inputs, train_masks = preprocessing_for_bert(X_train, version=\"base\", text_preprocessing_fn=text_preprocessing)\n",
        "val_inputs, val_masks = preprocessing_for_bert(X_val, version=\"base\", text_preprocessing_fn=text_preprocessing)"
      ],
      "metadata": {
        "id": "unFyjf8os_91"
      },
      "execution_count": null,
      "outputs": []
    },
    {
      "cell_type": "code",
      "source": [
        "from torch.utils.data import TensorDataset, DataLoader, RandomSampler, SequentialSampler\n",
        "\n",
        "# Convert other data types to torch.Tensor\n",
        "train_labels = torch.tensor(y_train)\n",
        "val_labels = torch.tensor(y_val)\n",
        "\n",
        "# For fine-tuning BERT, the authors recommend a batch size of 16 or 32.\n",
        "batch_size = 16\n",
        "\n",
        "# Create the DataLoader for our training set\n",
        "train_data = TensorDataset(train_inputs, train_masks, train_labels)\n",
        "train_sampler = RandomSampler(train_data)\n",
        "train_dataloader = DataLoader(train_data, sampler=train_sampler, batch_size=batch_size)\n",
        "\n",
        "# Create the DataLoader for our validation set\n",
        "val_data = TensorDataset(val_inputs, val_masks, val_labels)\n",
        "val_sampler = SequentialSampler(val_data)\n",
        "val_dataloader = DataLoader(val_data, sampler=val_sampler, batch_size=batch_size)"
      ],
      "metadata": {
        "id": "OBSt28hOs_92"
      },
      "execution_count": null,
      "outputs": []
    },
    {
      "cell_type": "code",
      "source": [
        "set_seed(42) \n",
        "bert_classifier, optimizer, scheduler = initialize_model(epochs=2, version=\"base\")\n",
        "train(bert_classifier, train_dataloader, val_dataloader, epochs=2, evaluation=True)"
      ],
      "metadata": {
        "id": "CyEj0m9ms56o"
      },
      "execution_count": null,
      "outputs": []
    },
    {
      "cell_type": "code",
      "source": [
        "probs = bert_predict(bert_classifier, val_dataloader)\n",
        "\n",
        "# Evaluate the Bert classifier\n",
        "evaluate_roc(probs, y_val)"
      ],
      "metadata": {
        "id": "FJz8jcOQs56p"
      },
      "execution_count": null,
      "outputs": []
    },
    {
      "cell_type": "code",
      "source": [
        "print('Tokenizing data...')\n",
        "test_inputs, test_masks = preprocessing_for_bert(X_test)\n",
        "\n",
        "# Create the DataLoader for our test set\n",
        "test_dataset = TensorDataset(test_inputs, test_masks)\n",
        "test_sampler = SequentialSampler(test_dataset)\n",
        "test_dataloader = DataLoader(test_dataset, sampler=test_sampler, batch_size=32)"
      ],
      "metadata": {
        "id": "hx1c_2xbs56q"
      },
      "execution_count": null,
      "outputs": []
    },
    {
      "cell_type": "code",
      "source": [
        "probs = bert_predict(bert_classifier, test_dataloader)\n",
        "\n",
        "# Get predictions from the probabilities\n",
        "threshold = 0.5\n",
        "preds = np.where(probs[:, 1] > threshold, 1, 0)\n",
        "\n",
        "# Number of tweets predicted non-negative\n",
        "print(\"no-negative tweets ratio \", preds.sum()/len(preds))"
      ],
      "metadata": {
        "id": "2dz6at6Ys56q"
      },
      "execution_count": null,
      "outputs": []
    },
    {
      "cell_type": "code",
      "source": [
        "# Evaluate the Bert classifier for unseen test data\n",
        "evaluate_roc(probs, y_test)"
      ],
      "metadata": {
        "id": "UGl5A0X0s56q"
      },
      "execution_count": null,
      "outputs": []
    }
  ]
}