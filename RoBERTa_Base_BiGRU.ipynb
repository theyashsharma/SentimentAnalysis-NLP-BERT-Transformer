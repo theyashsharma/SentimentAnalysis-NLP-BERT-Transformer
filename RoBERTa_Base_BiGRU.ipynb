{
  "nbformat": 4,
  "nbformat_minor": 0,
  "metadata": {
    "colab": {
      "name": "RoBERTa-Base-BiGRU.ipynb",
      "provenance": [],
      "collapsed_sections": []
    },
    "kernelspec": {
      "name": "python3",
      "display_name": "Python 3"
    },
    "language_info": {
      "name": "python"
    },
    "accelerator": "GPU"
  },
  "cells": [
    {
      "cell_type": "markdown",
      "source": [
        "# Sentiment classification with English Twitter Datasets"
      ],
      "metadata": {
        "id": "05KYS_pnO3Dq"
      }
    },
    {
      "cell_type": "markdown",
      "source": [
        "## Importing Libraries"
      ],
      "metadata": {
        "id": "8_6lr4dbPZNZ"
      }
    },
    {
      "cell_type": "code",
      "execution_count": 1,
      "metadata": {
        "id": "O2ganP7WOcv-"
      },
      "outputs": [],
      "source": [
        "import os\n",
        "import re\n",
        "from tqdm import tqdm\n",
        "import numpy as np\n",
        "import pandas as pd\n",
        "import matplotlib.pyplot as plt\n",
        "import csv\n",
        "%matplotlib inline"
      ]
    },
    {
      "cell_type": "markdown",
      "source": [
        "## 1 ) Loading Datasets"
      ],
      "metadata": {
        "id": "IpJdkXmSPKfj"
      }
    },
    {
      "cell_type": "code",
      "source": [
        "df1 = pd.read_csv('tweets_sqgames.csv')\n",
        "df1 = df1.loc[:, ['text', 'sentiment']]\n",
        "label_mapping = {\"Positive\": 1, \"Negative\":0}\n",
        "df1 = df1[df1.sentiment != \"Neutral\"]\n",
        "df1[\"sentiment\"] = df1[\"sentiment\"].map(label_mapping)"
      ],
      "metadata": {
        "id": "E200bW4uv0hW"
      },
      "execution_count": 25,
      "outputs": []
    },
    {
      "cell_type": "code",
      "source": [
        "df2 = pd.read_csv('Tweets.csv')\n",
        "df2 = df2.loc[:, ['text', 'airline_sentiment']]\n",
        "df2 = df2.rename(columns = {\"airline_sentiment\":\"sentiment\"})\n",
        "label_mapping = {\"positive\": 1, \"negative\":0}\n",
        "df2 = df2[df2.sentiment != \"neutral\"]\n",
        "df2[\"sentiment\"] = df2[\"sentiment\"].map(label_mapping)"
      ],
      "metadata": {
        "id": "9zdyPvyDv0kq"
      },
      "execution_count": 26,
      "outputs": []
    },
    {
      "cell_type": "code",
      "source": [
        "df3 = pd.read_csv('apple-twitter-sentiment-texts.csv')\n",
        "label_mapping = {1: 1, -1:0}\n",
        "df3 = df3[df3.sentiment != 0]\n",
        "df3[\"sentiment\"] = df3[\"sentiment\"].map(label_mapping)"
      ],
      "metadata": {
        "id": "wKAkAPNlv0r6"
      },
      "execution_count": 27,
      "outputs": []
    },
    {
      "cell_type": "code",
      "source": [
        "df4 = pd.read_csv('Apple-Twitter-Sentiment-DFE.csv', encoding=\"Latin-1\")\n",
        "label_mapping = {\"5\": 1, \"1\":0}\n",
        "df4 = df4[df4.sentiment != \"3\"]\n",
        "df4 = df4[df4.sentiment != \"not_relevant\"]\n",
        "df4[\"sentiment\"] = df4[\"sentiment\"].map(label_mapping)"
      ],
      "metadata": {
        "id": "f-d6W4F4v0vR"
      },
      "execution_count": 28,
      "outputs": []
    },
    {
      "cell_type": "code",
      "source": [
        "df5 = pd.read_csv('Reddit_Data.csv')\n",
        "df5 = df5.rename(columns = {\"clean_comment\":\"text\", \"category\":\"sentiment\"})\n",
        "label_mapping = {1: 1, -1:0}\n",
        "df5 = df5[df5.sentiment != 0]\n",
        "df5[\"sentiment\"] = df5[\"sentiment\"].map(label_mapping)"
      ],
      "metadata": {
        "id": "77x4gFaC6Dry"
      },
      "execution_count": 29,
      "outputs": []
    },
    {
      "cell_type": "code",
      "source": [
        "frames = [df1, df2, df3, df4, df5]\n",
        "merged_df = pd.concat(frames)"
      ],
      "metadata": {
        "id": "hIXnRwDnUPu5"
      },
      "execution_count": 30,
      "outputs": []
    },
    {
      "cell_type": "code",
      "source": [
        "from sklearn.model_selection import train_test_split\n",
        "X = merged_df.text.values\n",
        "y = merged_df.sentiment.values"
      ],
      "metadata": {
        "id": "M0LtDH9_O1pm"
      },
      "execution_count": 31,
      "outputs": []
    },
    {
      "cell_type": "code",
      "source": [
        "X_, X_test, y_, y_test = train_test_split(X, y, test_size=0.2, random_state = 42)\n",
        "X_train, X_val, y_train, y_val = train_test_split(X_, y_, test_size=0.1, random_state = 42)"
      ],
      "metadata": {
        "id": "5H2DVOPHO1sE"
      },
      "execution_count": 32,
      "outputs": []
    },
    {
      "cell_type": "markdown",
      "source": [
        "## 3 ) Deep Learning Approach"
      ],
      "metadata": {
        "id": "HakjkIbYY-EZ"
      }
    },
    {
      "cell_type": "code",
      "source": [
        "import torch\n",
        "\n",
        "if torch.cuda.is_available():       \n",
        "    device = torch.device(\"cuda\")\n",
        "    print(f'There are {torch.cuda.device_count()} GPU(s) available.')\n",
        "    print('Device name:', torch.cuda.get_device_name(0))\n",
        "\n",
        "else:\n",
        "    print('No GPU available, using the CPU instead.')\n",
        "    device = torch.device(\"cpu\")"
      ],
      "metadata": {
        "colab": {
          "base_uri": "https://localhost:8080/"
        },
        "id": "-oBZeFVSO2AH",
        "outputId": "2e5fba70-3ce7-4f4a-a912-0e85536d5ea8"
      },
      "execution_count": 33,
      "outputs": [
        {
          "output_type": "stream",
          "name": "stdout",
          "text": [
            "There are 1 GPU(s) available.\n",
            "Device name: Tesla T4\n"
          ]
        }
      ]
    },
    {
      "cell_type": "code",
      "source": [
        "!pip install transformers"
      ],
      "metadata": {
        "colab": {
          "base_uri": "https://localhost:8080/"
        },
        "id": "AI790cijO2GE",
        "outputId": "a4ef4496-4b5c-4344-91ec-65315066fa70"
      },
      "execution_count": 34,
      "outputs": [
        {
          "output_type": "stream",
          "name": "stdout",
          "text": [
            "Requirement already satisfied: transformers in /usr/local/lib/python3.7/dist-packages (4.16.2)\n",
            "Requirement already satisfied: huggingface-hub<1.0,>=0.1.0 in /usr/local/lib/python3.7/dist-packages (from transformers) (0.4.0)\n",
            "Requirement already satisfied: tokenizers!=0.11.3,>=0.10.1 in /usr/local/lib/python3.7/dist-packages (from transformers) (0.11.4)\n",
            "Requirement already satisfied: importlib-metadata in /usr/local/lib/python3.7/dist-packages (from transformers) (4.10.1)\n",
            "Requirement already satisfied: packaging>=20.0 in /usr/local/lib/python3.7/dist-packages (from transformers) (21.3)\n",
            "Requirement already satisfied: numpy>=1.17 in /usr/local/lib/python3.7/dist-packages (from transformers) (1.19.5)\n",
            "Requirement already satisfied: requests in /usr/local/lib/python3.7/dist-packages (from transformers) (2.23.0)\n",
            "Requirement already satisfied: pyyaml>=5.1 in /usr/local/lib/python3.7/dist-packages (from transformers) (6.0)\n",
            "Requirement already satisfied: regex!=2019.12.17 in /usr/local/lib/python3.7/dist-packages (from transformers) (2019.12.20)\n",
            "Requirement already satisfied: filelock in /usr/local/lib/python3.7/dist-packages (from transformers) (3.4.2)\n",
            "Requirement already satisfied: sacremoses in /usr/local/lib/python3.7/dist-packages (from transformers) (0.0.47)\n",
            "Requirement already satisfied: tqdm>=4.27 in /usr/local/lib/python3.7/dist-packages (from transformers) (4.62.3)\n",
            "Requirement already satisfied: typing-extensions>=3.7.4.3 in /usr/local/lib/python3.7/dist-packages (from huggingface-hub<1.0,>=0.1.0->transformers) (3.10.0.2)\n",
            "Requirement already satisfied: pyparsing!=3.0.5,>=2.0.2 in /usr/local/lib/python3.7/dist-packages (from packaging>=20.0->transformers) (3.0.7)\n",
            "Requirement already satisfied: zipp>=0.5 in /usr/local/lib/python3.7/dist-packages (from importlib-metadata->transformers) (3.7.0)\n",
            "Requirement already satisfied: certifi>=2017.4.17 in /usr/local/lib/python3.7/dist-packages (from requests->transformers) (2021.10.8)\n",
            "Requirement already satisfied: idna<3,>=2.5 in /usr/local/lib/python3.7/dist-packages (from requests->transformers) (2.10)\n",
            "Requirement already satisfied: chardet<4,>=3.0.2 in /usr/local/lib/python3.7/dist-packages (from requests->transformers) (3.0.4)\n",
            "Requirement already satisfied: urllib3!=1.25.0,!=1.25.1,<1.26,>=1.21.1 in /usr/local/lib/python3.7/dist-packages (from requests->transformers) (1.24.3)\n",
            "Requirement already satisfied: click in /usr/local/lib/python3.7/dist-packages (from sacremoses->transformers) (7.1.2)\n",
            "Requirement already satisfied: six in /usr/local/lib/python3.7/dist-packages (from sacremoses->transformers) (1.15.0)\n",
            "Requirement already satisfied: joblib in /usr/local/lib/python3.7/dist-packages (from sacremoses->transformers) (1.1.0)\n"
          ]
        }
      ]
    },
    {
      "cell_type": "code",
      "source": [
        "from transformers import RobertaTokenizer, RobertaModel"
      ],
      "metadata": {
        "id": "SLMSbnC5O2DJ"
      },
      "execution_count": 35,
      "outputs": []
    },
    {
      "cell_type": "code",
      "source": [
        "tokenizer = RobertaTokenizer.from_pretrained(\"cardiffnlp/twitter-roberta-base-sentiment\")"
      ],
      "metadata": {
        "id": "xMmgFGdOO2Jh"
      },
      "execution_count": 36,
      "outputs": []
    },
    {
      "cell_type": "code",
      "source": [
        "def text_preprocessing(text):\n",
        "    \"\"\"\n",
        "    - Remove entity mentions (eg. '@united')\n",
        "    - Correct errors (eg. '&amp;' to '&')\n",
        "    @param    text (str): a string to be processed.\n",
        "    @return   text (Str): the processed string.\n",
        "    \"\"\"\n",
        "\n",
        "    # Normalize unicode encoding\n",
        "    text = unicodedata.normalize('NFC', text)\n",
        "    # Remove '@name'\n",
        "    text = re.sub(r'(@.*?)[\\s]', ' ', text)\n",
        "\n",
        "    # Replace '&amp;' with '&'\n",
        "    text = re.sub(r'&amp;', '&', text)\n",
        "\n",
        "    # Remove trailing whitespace\n",
        "    text = re.sub(r'\\s+', ' ', text).strip()\n",
        "\n",
        "    #Remove URLs\n",
        "    text = re.sub(r'^https?:\\/\\/.*[\\r\\n]*', '<URL>', text)\n",
        "\n",
        "\n",
        "    return text"
      ],
      "metadata": {
        "id": "o2TenWCGZw7I"
      },
      "execution_count": 37,
      "outputs": []
    },
    {
      "cell_type": "code",
      "source": [
        "def remove_emojis(sent):\n",
        "    text =  emoji.demojize(sent)\n",
        "    text= re.sub(r'(:[!_\\-\\w]+:)', '', text)\n",
        "    return text\n",
        "    \n",
        "def text_preprocessing_no_emojis(text):\n",
        "    \"\"\"\n",
        "    - Remove entity mentions (eg. '@united')\n",
        "    - Correct errors (eg. '&amp;' to '&')\n",
        "    @param    text (str): a string to be processed.\n",
        "    @return   text (Str): the processed string.\n",
        "    \"\"\"\n",
        "  \n",
        "    # Remove emojis\n",
        "    text = remove_emojis(text)\n",
        "\n",
        "    return text_preprocessing(text)"
      ],
      "metadata": {
        "id": "Lp6sDjV9L2hQ"
      },
      "execution_count": 38,
      "outputs": []
    },
    {
      "cell_type": "code",
      "source": [
        "!pip install emoji"
      ],
      "metadata": {
        "colab": {
          "base_uri": "https://localhost:8080/"
        },
        "id": "gklJcuwha7hu",
        "outputId": "8829c168-73c0-4378-df95-abd5544a32ef"
      },
      "execution_count": 39,
      "outputs": [
        {
          "output_type": "stream",
          "name": "stdout",
          "text": [
            "Requirement already satisfied: emoji in /usr/local/lib/python3.7/dist-packages (1.6.3)\n"
          ]
        }
      ]
    },
    {
      "cell_type": "code",
      "source": [
        "import emoji\n",
        "import unicodedata\n",
        "def preprocessing_for_bert(data, version=\"mini\", text_preprocessing_fn = text_preprocessing):\n",
        "    \"\"\"Perform required preprocessing steps for pretrained BERT.\n",
        "    @param    data (np.array): Array of texts to be processed.\n",
        "    @return   input_ids (torch.Tensor): Tensor of token ids to be fed to a model.\n",
        "    @return   attention_masks (torch.Tensor): Tensor of indices specifying which\n",
        "                  tokens should be attended to by the model.\n",
        "    \"\"\"\n",
        "    # Create empty lists to store outputs\n",
        "    input_ids = []\n",
        "    attention_masks = []\n",
        "    tokenizer = RobertaTokenizer.from_pretrained(\"cardiffnlp/twitter-roberta-base-sentiment\")# if version == \"mini\" else RobertaTokenizer.from_pretrained(\"asafaya/bert-base-arabic\")\n",
        "\n",
        "    # For every sentence...\n",
        "    for i,sent in enumerate(data):\n",
        "        # `encode_plus` will:\n",
        "        #    (1) Tokenize the sentence\n",
        "        #    (2) Add the `[CLS]` and `[SEP]` token to the start and end\n",
        "        #    (3) Truncate/Pad sentence to max length\n",
        "        #    (4) Map tokens to their IDs\n",
        "        #    (5) Create attention mask\n",
        "        #    (6) Return a dictionary of outputs\n",
        "        encoded_sent = tokenizer.encode_plus(\n",
        "            text=text_preprocessing_fn(sent),  # Preprocess sentence\n",
        "            add_special_tokens=True,        # Add `[CLS]` and `[SEP]`\n",
        "            max_length=MAX_LEN,                  # Max length to truncate/pad\n",
        "            padding='max_length',        # Pad sentence to max length\n",
        "            #return_tensors='pt',           # Return PyTorch tensor\n",
        "            return_attention_mask=True,     # Return attention mask\n",
        "            truncation = True \n",
        "            )\n",
        "        \n",
        "        # Add the outputs to the lists\n",
        "        input_ids.append(encoded_sent.get('input_ids'))\n",
        "        attention_masks.append(encoded_sent.get('attention_mask'))\n",
        "    # Convert lists to tensors\n",
        "    input_ids = torch.tensor(input_ids)\n",
        "    attention_masks = torch.tensor(attention_masks)\n",
        "\n",
        "    return input_ids, attention_masks"
      ],
      "metadata": {
        "id": "8fjl5AftaQU7"
      },
      "execution_count": 40,
      "outputs": []
    },
    {
      "cell_type": "code",
      "source": [
        "# Specify `MAX_LEN`\n",
        "MAX_LEN =  280\n",
        "\n",
        "# Print sentence 0 and its encoded token ids\n",
        "token_ids = list(preprocessing_for_bert([X[0]], version=\"base\", text_preprocessing_fn=text_preprocessing)[0].squeeze().numpy())\n",
        "print('Original: ', X[0])\n",
        "print('Token IDs: ', token_ids)\n",
        "\n",
        "# Run function `preprocessing_for_bert` on the train set and the validation set\n",
        "print('Tokenizing data...')\n",
        "train_inputs, train_masks = preprocessing_for_bert(X_train, version=\"base\", text_preprocessing_fn=text_preprocessing)\n",
        "val_inputs, val_masks = preprocessing_for_bert(X_val, version=\"base\", text_preprocessing_fn=text_preprocessing)"
      ],
      "metadata": {
        "colab": {
          "base_uri": "https://localhost:8080/"
        },
        "id": "PCm99bITa5hL",
        "outputId": "3e4eff06-1467-42e5-d088-070dc64dc45d"
      },
      "execution_count": 41,
      "outputs": [
        {
          "output_type": "stream",
          "name": "stdout",
          "text": [
            "Original:  When life hits and the same time poverty strikes you\n",
            "Gong Yoo : Lets play a game \n",
            "#SquidGame #Netflix https://t.co/Cx7ifmZ8cN\n",
            "Token IDs:  [0, 1779, 301, 2323, 8, 5, 276, 86, 5263, 5315, 47, 36135, 854, 3036, 4832, 40702, 310, 10, 177, 849, 38378, 808, 20178, 849, 29675, 1205, 640, 90, 4, 876, 73, 347, 1178, 406, 1594, 119, 1301, 398, 438, 487, 2, 1, 1, 1, 1, 1, 1, 1, 1, 1, 1, 1, 1, 1, 1, 1, 1, 1, 1, 1, 1, 1, 1, 1, 1, 1, 1, 1, 1, 1, 1, 1, 1, 1, 1, 1, 1, 1, 1, 1, 1, 1, 1, 1, 1, 1, 1, 1, 1, 1, 1, 1, 1, 1, 1, 1, 1, 1, 1, 1, 1, 1, 1, 1, 1, 1, 1, 1, 1, 1, 1, 1, 1, 1, 1, 1, 1, 1, 1, 1, 1, 1, 1, 1, 1, 1, 1, 1, 1, 1, 1, 1, 1, 1, 1, 1, 1, 1, 1, 1, 1, 1, 1, 1, 1, 1, 1, 1, 1, 1, 1, 1, 1, 1, 1, 1, 1, 1, 1, 1, 1, 1, 1, 1, 1, 1, 1, 1, 1, 1, 1, 1, 1, 1, 1, 1, 1, 1, 1, 1, 1, 1, 1, 1, 1, 1, 1, 1, 1, 1, 1, 1, 1, 1, 1, 1, 1, 1, 1, 1, 1, 1, 1, 1, 1, 1, 1, 1, 1, 1, 1, 1, 1, 1, 1, 1, 1, 1, 1, 1, 1, 1, 1, 1, 1, 1, 1, 1, 1, 1, 1, 1, 1, 1, 1, 1, 1, 1, 1, 1, 1, 1, 1, 1, 1, 1, 1, 1, 1, 1, 1, 1, 1, 1, 1, 1, 1, 1, 1, 1, 1, 1, 1, 1, 1, 1, 1, 1, 1, 1, 1, 1, 1, 1, 1, 1, 1, 1, 1, 1]\n",
            "Tokenizing data...\n"
          ]
        }
      ]
    },
    {
      "cell_type": "code",
      "source": [
        "from torch.utils.data import TensorDataset, DataLoader, RandomSampler, SequentialSampler\n",
        "\n",
        "# Convert other data types to torch.Tensor\n",
        "train_labels = torch.tensor(y_train)\n",
        "val_labels = torch.tensor(y_val)\n",
        "\n",
        "# For fine-tuning BERT, the authors recommend a batch size of 16 or 32.\n",
        "batch_size = 16\n",
        "\n",
        "# Create the DataLoader for our training set\n",
        "train_data = TensorDataset(train_inputs, train_masks, train_labels)\n",
        "train_sampler = RandomSampler(train_data)\n",
        "train_dataloader = DataLoader(train_data, sampler=train_sampler, batch_size=batch_size)\n",
        "\n",
        "# Create the DataLoader for our validation set\n",
        "val_data = TensorDataset(val_inputs, val_masks, val_labels)\n",
        "val_sampler = SequentialSampler(val_data)\n",
        "val_dataloader = DataLoader(val_data, sampler=val_sampler, batch_size=batch_size)"
      ],
      "metadata": {
        "id": "U7iTT16LbLni"
      },
      "execution_count": 42,
      "outputs": []
    },
    {
      "cell_type": "code",
      "source": [
        "%%time\n",
        "import torch\n",
        "import torch.nn as nn\n",
        "from transformers import BertModel\n",
        "\n",
        "# Create the BertClassfier class\n",
        "class BertClassifier(nn.Module):\n",
        "    \"\"\"Bert Model for Classification Tasks.\n",
        "    \"\"\"\n",
        "    def __init__(self, freeze_bert=False, version=\"mini\"):\n",
        "        \"\"\"\n",
        "        @param    bert: a BertModel object\n",
        "        @param    classifier: a torch.nn.Module classifier\n",
        "        @param    freeze_bert (bool): Set `False` to fine-tune the BERT model\n",
        "        \"\"\"\n",
        "        super(BertClassifier, self).__init__()\n",
        "        # Specify hidden size of BERT, hidden size of our classifier, and number of labels\n",
        "        D_in = 768\n",
        "        H, D_out = 50, 2\n",
        "\n",
        "        # Instantiate BERT model\n",
        "        self.roberta = RobertaModel.from_pretrained(\"cardiffnlp/twitter-roberta-base-sentiment\")\n",
        "        self.gru = nn.GRU(768, 768, bidirectional = True)\n",
        "        # Instantiate an one-layer feed-forward classifier\n",
        "        self.classifier = nn.Sequential(\n",
        "\n",
        "            nn.Linear(D_in, H),\n",
        "            nn.ReLU(),\n",
        "            nn.Dropout(0.5),\n",
        "            nn.Linear(H, D_out)\n",
        "        )\n",
        "\n",
        "        # Freeze the BERT model\n",
        "        if freeze_bert:\n",
        "            for param in self.bert.parameters():\n",
        "                param.requires_grad = False\n",
        "        \n",
        "    def forward(self, input_ids, attention_mask):\n",
        "        \"\"\"\n",
        "        Feed input to BERT and the classifier to compute logits.\n",
        "        @param    input_ids (torch.Tensor): an input tensor with shape (batch_size,\n",
        "                      max_length)\n",
        "        @param    attention_mask (torch.Tensor): a tensor that hold attention mask\n",
        "                      information with shape (batch_size, max_length)\n",
        "        @return   logits (torch.Tensor): an output tensor with shape (batch_size,\n",
        "                      num_labels)\n",
        "        \"\"\"\n",
        "        # Feed input to BERT\n",
        "        outputs = self.roberta(input_ids=input_ids,\n",
        "                            attention_mask=attention_mask)\n",
        "        \n",
        "        # Extract the last hidden state of the token `[CLS]` for classification task\n",
        "        last_hidden_state_cls = outputs[0][:, 0, :]\n",
        "\n",
        "        # Feed input to classifier to compute logits\n",
        "        logits = self.classifier(last_hidden_state_cls)\n",
        "\n",
        "        return logits"
      ],
      "metadata": {
        "colab": {
          "base_uri": "https://localhost:8080/"
        },
        "id": "32gvSQ9pb9Fr",
        "outputId": "0b4575a9-8873-49a6-a775-2742dfc47d18"
      },
      "execution_count": 43,
      "outputs": [
        {
          "output_type": "stream",
          "name": "stdout",
          "text": [
            "CPU times: user 47 µs, sys: 1e+03 ns, total: 48 µs\n",
            "Wall time: 51.3 µs\n"
          ]
        }
      ]
    },
    {
      "cell_type": "code",
      "source": [
        "from transformers import AdamW, get_linear_schedule_with_warmup\n",
        "\n",
        "from torch.optim import SparseAdam, Adam\n",
        "def initialize_model(epochs=4, version=\"base\"):\n",
        "    \"\"\"Initialize the Bert Classifier, the optimizer and the learning rate scheduler.\n",
        "    \"\"\"\n",
        "    # Instantiate Bert Classifier\n",
        "    bert_classifier = BertClassifier(freeze_bert=False, version=version)\n",
        "    # Tell PyTorch to run the model on GPU\n",
        "    bert_classifier.to(device)\n",
        "\n",
        "    # Create the optimizer\n",
        "    optimizer = torch.optim.AdamW(params=list(bert_classifier.parameters()),\n",
        "                      lr=5e-5,    # Default learning rate\n",
        "                      eps=1e-8    # Default epsilon value\n",
        "                      )\n",
        "\n",
        "    # Total number of training steps\n",
        "    total_steps = len(train_dataloader) * epochs\n",
        "\n",
        "    # Set up the learning rate scheduler\n",
        "    scheduler = get_linear_schedule_with_warmup(optimizer,\n",
        "                                                num_warmup_steps=0, # Default value\n",
        "                                                num_training_steps=total_steps)\n",
        "    return bert_classifier, optimizer, scheduler"
      ],
      "metadata": {
        "id": "z7RwU_UBPHUh"
      },
      "execution_count": 44,
      "outputs": []
    },
    {
      "cell_type": "code",
      "source": [
        "import random\n",
        "import time\n",
        "import torch\n",
        "import torch.nn as nn\n",
        "\n",
        "# Specify loss function\n",
        "loss_fn = nn.CrossEntropyLoss()\n",
        "\n",
        "def set_seed(seed_value=42):\n",
        "    \"\"\"Set seed for reproducibility.\n",
        "    \"\"\"\n",
        "    random.seed(seed_value)\n",
        "    np.random.seed(seed_value)\n",
        "    torch.manual_seed(seed_value)\n",
        "    torch.cuda.manual_seed_all(seed_value)\n",
        "\n",
        "def train(model, train_dataloader, val_dataloader=None, epochs=4, evaluation=False):\n",
        "    \"\"\"Train the BertClassifier model.\n",
        "    \"\"\"\n",
        "    # Start training loop\n",
        "    print(\"Start training...\\n\")\n",
        "    for epoch_i in range(epochs):\n",
        "        # =======================================\n",
        "        #               Training\n",
        "        # =======================================\n",
        "        # Print the header of the result table\n",
        "        print(f\"{'Epoch':^7} | {'Batch':^7} | {'Train Loss':^12} | {'Val Loss':^10} | {'Val Acc':^9} | {'Elapsed':^9}\")\n",
        "        print(\"-\"*70)\n",
        "\n",
        "        # Measure the elapsed time of each epoch\n",
        "        t0_epoch, t0_batch = time.time(), time.time()\n",
        "\n",
        "        # Reset tracking variables at the beginning of each epoch\n",
        "        total_loss, batch_loss, batch_counts = 0, 0, 0\n",
        "\n",
        "        # Put the model into the training mode\n",
        "        model.train()\n",
        "\n",
        "        # For each batch of training data...\n",
        "        for step, batch in enumerate(train_dataloader):\n",
        "            batch_counts +=1\n",
        "            # Load batch to GPU\n",
        "            b_input_ids, b_attn_mask, b_labels = tuple(t.to(device) for t in batch)\n",
        "\n",
        "            # Zero out any previously calculated gradients\n",
        "            model.zero_grad()\n",
        "\n",
        "            # Perform a forward pass. This will return logits.\n",
        "            logits = model(b_input_ids, b_attn_mask)\n",
        "\n",
        "            # Compute loss and accumulate the loss values\n",
        "            loss = loss_fn(logits, b_labels)\n",
        "            batch_loss += loss.item()\n",
        "            total_loss += loss.item()\n",
        "\n",
        "            # Perform a backward pass to calculate gradients\n",
        "            loss.backward()\n",
        "\n",
        "            # Clip the norm of the gradients to 1.0 to prevent \"exploding gradients\"\n",
        "            torch.nn.utils.clip_grad_norm_(model.parameters(), 1.0)\n",
        "\n",
        "            # Update parameters and the learning rate\n",
        "            optimizer.step()\n",
        "            scheduler.step()\n",
        "\n",
        "            # Print the loss values and time elapsed for every 20 batches\n",
        "            if (step % 20 == 0 and step != 0) or (step == len(train_dataloader) - 1):\n",
        "                # Calculate time elapsed for 20 batches\n",
        "                time_elapsed = time.time() - t0_batch\n",
        "\n",
        "                # Print training results\n",
        "                print(f\"{epoch_i + 1:^7} | {step:^7} | {batch_loss / batch_counts:^12.6f} | {'-':^10} | {'-':^9} | {time_elapsed:^9.2f}\")\n",
        "\n",
        "                # Reset batch tracking variables\n",
        "                batch_loss, batch_counts = 0, 0\n",
        "                t0_batch = time.time()\n",
        "\n",
        "        # Calculate the average loss over the entire training data\n",
        "        avg_train_loss = total_loss / len(train_dataloader)\n",
        "\n",
        "        print(\"-\"*70)\n",
        "        # =======================================\n",
        "        #               Evaluation\n",
        "        # =======================================\n",
        "        if evaluation == True:\n",
        "            # After the completion of each training epoch, measure the model's performance\n",
        "            # on our validation set.\n",
        "            val_loss, val_accuracy = evaluate(model, val_dataloader)\n",
        "\n",
        "            # Print performance over the entire training data\n",
        "            time_elapsed = time.time() - t0_epoch\n",
        "            \n",
        "            print(f\"{epoch_i + 1:^7} | {'-':^7} | {avg_train_loss:^12.6f} | {val_loss:^10.6f} | {val_accuracy:^9.2f} | {time_elapsed:^9.2f}\")\n",
        "            print(\"-\"*70)\n",
        "        print(\"\\n\")\n",
        "    \n",
        "    print(\"Training complete!\")\n",
        "\n",
        "def evaluate(model, val_dataloader):\n",
        "    \"\"\"After the completion of each training epoch, measure the model's performance\n",
        "    on our validation set.\n",
        "    \"\"\"\n",
        "    # Put the model into the evaluation mode. The dropout layers are disabled during\n",
        "    # the test time.\n",
        "    model.eval()\n",
        "\n",
        "    # Tracking variables\n",
        "    val_accuracy = []\n",
        "    val_loss = []\n",
        "\n",
        "    # For each batch in our validation set...\n",
        "    for batch in val_dataloader:\n",
        "        # Load batch to GPU\n",
        "        b_input_ids, b_attn_mask, b_labels = tuple(t.to(device) for t in batch)\n",
        "\n",
        "        # Compute logits\n",
        "        with torch.no_grad():\n",
        "            logits = model(b_input_ids, b_attn_mask)\n",
        "\n",
        "        # Compute loss\n",
        "        loss = loss_fn(logits, b_labels)\n",
        "        val_loss.append(loss.item())\n",
        "\n",
        "        # Get the predictions\n",
        "        preds = torch.argmax(logits, dim=1).flatten()\n",
        "\n",
        "        # Calculate the accuracy rate\n",
        "        accuracy = (preds == b_labels).cpu().numpy().mean() * 100\n",
        "        val_accuracy.append(accuracy)\n",
        "\n",
        "       \n",
        "\n",
        "    # Compute the average accuracy and loss over the validation set.\n",
        "    val_loss = np.mean(val_loss)\n",
        "    val_accuracy = np.mean(val_accuracy)\n",
        "\n",
        "    return val_loss, val_accuracy"
      ],
      "metadata": {
        "id": "DwlxCFVUPHXN"
      },
      "execution_count": 45,
      "outputs": []
    },
    {
      "cell_type": "code",
      "source": [
        "set_seed(42) \n",
        "bert_classifier, optimizer, scheduler = initialize_model(epochs=2, version=\"base\")\n",
        "train(bert_classifier, train_dataloader, val_dataloader, epochs=2, evaluation=True)"
      ],
      "metadata": {
        "id": "I0K_YbfyO1TR",
        "colab": {
          "base_uri": "https://localhost:8080/"
        },
        "outputId": "47614395-cd62-4f27-f7ca-7b446e1e8706"
      },
      "execution_count": 46,
      "outputs": [
        {
          "metadata": {
            "tags": null
          },
          "name": "stderr",
          "output_type": "stream",
          "text": [
            "Some weights of the model checkpoint at cardiffnlp/twitter-roberta-base-sentiment were not used when initializing RobertaModel: ['classifier.out_proj.bias', 'classifier.dense.weight', 'classifier.dense.bias', 'classifier.out_proj.weight']\n",
            "- This IS expected if you are initializing RobertaModel from the checkpoint of a model trained on another task or with another architecture (e.g. initializing a BertForSequenceClassification model from a BertForPreTraining model).\n",
            "- This IS NOT expected if you are initializing RobertaModel from the checkpoint of a model that you expect to be exactly identical (initializing a BertForSequenceClassification model from a BertForSequenceClassification model).\n",
            "Some weights of RobertaModel were not initialized from the model checkpoint at cardiffnlp/twitter-roberta-base-sentiment and are newly initialized: ['roberta.pooler.dense.bias', 'roberta.pooler.dense.weight']\n",
            "You should probably TRAIN this model on a down-stream task to be able to use it for predictions and inference.\n"
          ]
        },
        {
          "output_type": "stream",
          "name": "stdout",
          "text": [
            "Start training...\n",
            "\n",
            " Epoch  |  Batch  |  Train Loss  |  Val Loss  |  Val Acc  |  Elapsed \n",
            "----------------------------------------------------------------------\n",
            "   1    |   20    |   0.627650   |     -      |     -     |   16.26  \n",
            "   1    |   40    |   0.554219   |     -      |     -     |   15.57  \n",
            "   1    |   60    |   0.532630   |     -      |     -     |   15.41  \n",
            "   1    |   80    |   0.496979   |     -      |     -     |   15.42  \n",
            "   1    |   100   |   0.508310   |     -      |     -     |   15.45  \n",
            "   1    |   120   |   0.418414   |     -      |     -     |   15.55  \n",
            "   1    |   140   |   0.500084   |     -      |     -     |   15.62  \n",
            "   1    |   160   |   0.505437   |     -      |     -     |   15.74  \n",
            "   1    |   180   |   0.466823   |     -      |     -     |   15.73  \n",
            "   1    |   200   |   0.448147   |     -      |     -     |   15.77  \n",
            "   1    |   220   |   0.352958   |     -      |     -     |   15.87  \n",
            "   1    |   240   |   0.386025   |     -      |     -     |   15.82  \n",
            "   1    |   260   |   0.430838   |     -      |     -     |   15.86  \n",
            "   1    |   280   |   0.486632   |     -      |     -     |   15.88  \n",
            "   1    |   300   |   0.432226   |     -      |     -     |   15.90  \n",
            "   1    |   320   |   0.375193   |     -      |     -     |   15.88  \n",
            "   1    |   340   |   0.380624   |     -      |     -     |   15.89  \n",
            "   1    |   360   |   0.328945   |     -      |     -     |   15.89  \n",
            "   1    |   380   |   0.390887   |     -      |     -     |   15.88  \n",
            "   1    |   400   |   0.404549   |     -      |     -     |   15.87  \n",
            "   1    |   420   |   0.352820   |     -      |     -     |   15.87  \n",
            "   1    |   440   |   0.341143   |     -      |     -     |   15.87  \n",
            "   1    |   460   |   0.366274   |     -      |     -     |   15.84  \n",
            "   1    |   480   |   0.324783   |     -      |     -     |   15.84  \n",
            "   1    |   500   |   0.331312   |     -      |     -     |   15.83  \n",
            "   1    |   520   |   0.389643   |     -      |     -     |   15.84  \n",
            "   1    |   540   |   0.379316   |     -      |     -     |   15.85  \n",
            "   1    |   560   |   0.322504   |     -      |     -     |   15.85  \n",
            "   1    |   580   |   0.307607   |     -      |     -     |   15.84  \n",
            "   1    |   600   |   0.305609   |     -      |     -     |   15.98  \n",
            "   1    |   620   |   0.273308   |     -      |     -     |   16.08  \n",
            "   1    |   640   |   0.370037   |     -      |     -     |   15.86  \n",
            "   1    |   660   |   0.363147   |     -      |     -     |   15.85  \n",
            "   1    |   680   |   0.317084   |     -      |     -     |   15.86  \n",
            "   1    |   700   |   0.299732   |     -      |     -     |   15.87  \n",
            "   1    |   720   |   0.296641   |     -      |     -     |   15.88  \n",
            "   1    |   740   |   0.349473   |     -      |     -     |   15.86  \n",
            "   1    |   760   |   0.326598   |     -      |     -     |   15.87  \n",
            "   1    |   780   |   0.320921   |     -      |     -     |   15.88  \n",
            "   1    |   800   |   0.280097   |     -      |     -     |   15.85  \n",
            "   1    |   820   |   0.373293   |     -      |     -     |   15.87  \n",
            "   1    |   840   |   0.266208   |     -      |     -     |   15.84  \n",
            "   1    |   860   |   0.316048   |     -      |     -     |   15.86  \n",
            "   1    |   880   |   0.301353   |     -      |     -     |   15.83  \n",
            "   1    |   900   |   0.254640   |     -      |     -     |   15.82  \n",
            "   1    |   920   |   0.315771   |     -      |     -     |   15.83  \n",
            "   1    |   940   |   0.227775   |     -      |     -     |   15.85  \n",
            "   1    |   960   |   0.283181   |     -      |     -     |   15.85  \n",
            "   1    |   980   |   0.312507   |     -      |     -     |   15.82  \n",
            "   1    |  1000   |   0.231315   |     -      |     -     |   15.85  \n",
            "   1    |  1020   |   0.306059   |     -      |     -     |   15.84  \n",
            "   1    |  1040   |   0.304341   |     -      |     -     |   15.84  \n",
            "   1    |  1060   |   0.327274   |     -      |     -     |   15.84  \n",
            "   1    |  1080   |   0.198464   |     -      |     -     |   15.86  \n",
            "   1    |  1100   |   0.307585   |     -      |     -     |   15.85  \n",
            "   1    |  1120   |   0.272166   |     -      |     -     |   15.86  \n",
            "   1    |  1140   |   0.238036   |     -      |     -     |   15.85  \n",
            "   1    |  1160   |   0.237133   |     -      |     -     |   15.87  \n",
            "   1    |  1180   |   0.281790   |     -      |     -     |   15.86  \n",
            "   1    |  1200   |   0.227218   |     -      |     -     |   15.86  \n",
            "   1    |  1220   |   0.253789   |     -      |     -     |   15.85  \n",
            "   1    |  1240   |   0.324608   |     -      |     -     |   15.85  \n",
            "   1    |  1260   |   0.278989   |     -      |     -     |   15.82  \n",
            "   1    |  1280   |   0.210390   |     -      |     -     |   15.84  \n",
            "   1    |  1300   |   0.239503   |     -      |     -     |   15.85  \n",
            "   1    |  1320   |   0.192019   |     -      |     -     |   15.83  \n",
            "   1    |  1340   |   0.316314   |     -      |     -     |   15.85  \n",
            "   1    |  1360   |   0.344458   |     -      |     -     |   15.86  \n",
            "   1    |  1380   |   0.246841   |     -      |     -     |   15.83  \n",
            "   1    |  1400   |   0.258565   |     -      |     -     |   15.85  \n",
            "   1    |  1420   |   0.258221   |     -      |     -     |   15.83  \n",
            "   1    |  1440   |   0.296930   |     -      |     -     |   15.85  \n",
            "   1    |  1460   |   0.230750   |     -      |     -     |   15.85  \n",
            "   1    |  1480   |   0.335606   |     -      |     -     |   15.86  \n",
            "   1    |  1500   |   0.345523   |     -      |     -     |   15.84  \n",
            "   1    |  1520   |   0.249377   |     -      |     -     |   15.82  \n",
            "   1    |  1540   |   0.303962   |     -      |     -     |   15.84  \n",
            "   1    |  1560   |   0.225056   |     -      |     -     |   15.85  \n",
            "   1    |  1580   |   0.227607   |     -      |     -     |   15.83  \n",
            "   1    |  1600   |   0.308291   |     -      |     -     |   15.83  \n",
            "   1    |  1620   |   0.276032   |     -      |     -     |   15.85  \n",
            "   1    |  1640   |   0.268931   |     -      |     -     |   15.85  \n",
            "   1    |  1660   |   0.379990   |     -      |     -     |   15.84  \n",
            "   1    |  1680   |   0.276442   |     -      |     -     |   15.86  \n",
            "   1    |  1700   |   0.176468   |     -      |     -     |   15.85  \n",
            "   1    |  1720   |   0.298732   |     -      |     -     |   15.85  \n",
            "   1    |  1740   |   0.213292   |     -      |     -     |   15.85  \n",
            "   1    |  1760   |   0.249543   |     -      |     -     |   15.85  \n",
            "   1    |  1780   |   0.261256   |     -      |     -     |   15.86  \n",
            "   1    |  1800   |   0.244479   |     -      |     -     |   15.88  \n",
            "   1    |  1820   |   0.221294   |     -      |     -     |   15.87  \n",
            "   1    |  1840   |   0.281855   |     -      |     -     |   15.84  \n",
            "   1    |  1860   |   0.276449   |     -      |     -     |   15.85  \n",
            "   1    |  1880   |   0.212875   |     -      |     -     |   15.84  \n",
            "   1    |  1900   |   0.257132   |     -      |     -     |   15.86  \n",
            "   1    |  1920   |   0.193655   |     -      |     -     |   15.86  \n",
            "   1    |  1940   |   0.250345   |     -      |     -     |   15.86  \n",
            "   1    |  1960   |   0.166997   |     -      |     -     |   15.85  \n",
            "   1    |  1980   |   0.261679   |     -      |     -     |   15.85  \n",
            "   1    |  2000   |   0.244827   |     -      |     -     |   15.84  \n",
            "   1    |  2020   |   0.223642   |     -      |     -     |   15.84  \n",
            "   1    |  2040   |   0.245759   |     -      |     -     |   15.84  \n",
            "   1    |  2060   |   0.233417   |     -      |     -     |   15.83  \n",
            "   1    |  2080   |   0.272422   |     -      |     -     |   15.83  \n",
            "   1    |  2100   |   0.246062   |     -      |     -     |   15.83  \n",
            "   1    |  2120   |   0.227017   |     -      |     -     |   15.83  \n",
            "   1    |  2140   |   0.331414   |     -      |     -     |   15.86  \n",
            "   1    |  2160   |   0.238424   |     -      |     -     |   15.85  \n",
            "   1    |  2180   |   0.239911   |     -      |     -     |   15.84  \n",
            "   1    |  2200   |   0.182412   |     -      |     -     |   15.84  \n",
            "   1    |  2220   |   0.247360   |     -      |     -     |   15.86  \n",
            "   1    |  2240   |   0.293337   |     -      |     -     |   15.88  \n",
            "   1    |  2260   |   0.211781   |     -      |     -     |   15.84  \n",
            "   1    |  2280   |   0.204845   |     -      |     -     |   15.86  \n",
            "   1    |  2300   |   0.255327   |     -      |     -     |   15.84  \n",
            "   1    |  2320   |   0.269994   |     -      |     -     |   15.87  \n",
            "   1    |  2340   |   0.188465   |     -      |     -     |   15.84  \n",
            "   1    |  2360   |   0.235380   |     -      |     -     |   15.82  \n",
            "   1    |  2380   |   0.260011   |     -      |     -     |   15.84  \n",
            "   1    |  2400   |   0.276459   |     -      |     -     |   15.83  \n",
            "   1    |  2420   |   0.202252   |     -      |     -     |   15.83  \n",
            "   1    |  2440   |   0.182514   |     -      |     -     |   15.83  \n",
            "   1    |  2460   |   0.214356   |     -      |     -     |   15.82  \n",
            "   1    |  2480   |   0.290685   |     -      |     -     |   15.84  \n",
            "   1    |  2500   |   0.183729   |     -      |     -     |   15.85  \n",
            "   1    |  2520   |   0.163116   |     -      |     -     |   15.85  \n",
            "   1    |  2540   |   0.403945   |     -      |     -     |   15.85  \n",
            "   1    |  2560   |   0.260170   |     -      |     -     |   15.85  \n",
            "   1    |  2580   |   0.273751   |     -      |     -     |   15.87  \n",
            "   1    |  2600   |   0.236942   |     -      |     -     |   15.86  \n",
            "   1    |  2620   |   0.230926   |     -      |     -     |   15.85  \n",
            "   1    |  2640   |   0.223844   |     -      |     -     |   15.86  \n",
            "   1    |  2660   |   0.210788   |     -      |     -     |   15.89  \n",
            "   1    |  2680   |   0.189473   |     -      |     -     |   15.86  \n",
            "   1    |  2700   |   0.330226   |     -      |     -     |   15.85  \n",
            "   1    |  2720   |   0.211090   |     -      |     -     |   15.86  \n",
            "   1    |  2740   |   0.135569   |     -      |     -     |   15.84  \n",
            "   1    |  2760   |   0.232154   |     -      |     -     |   15.86  \n",
            "   1    |  2780   |   0.313804   |     -      |     -     |   15.84  \n",
            "   1    |  2800   |   0.204911   |     -      |     -     |   15.83  \n",
            "   1    |  2820   |   0.260731   |     -      |     -     |   15.84  \n",
            "   1    |  2840   |   0.197049   |     -      |     -     |   15.85  \n",
            "   1    |  2860   |   0.234728   |     -      |     -     |   15.84  \n",
            "   1    |  2880   |   0.233348   |     -      |     -     |   15.84  \n",
            "   1    |  2900   |   0.252665   |     -      |     -     |   15.84  \n",
            "   1    |  2920   |   0.232796   |     -      |     -     |   15.85  \n",
            "   1    |  2940   |   0.186280   |     -      |     -     |   15.88  \n",
            "   1    |  2960   |   0.190195   |     -      |     -     |   15.82  \n",
            "   1    |  2980   |   0.242322   |     -      |     -     |   15.83  \n",
            "   1    |  3000   |   0.191989   |     -      |     -     |   15.86  \n",
            "   1    |  3020   |   0.244045   |     -      |     -     |   15.84  \n",
            "   1    |  3040   |   0.207005   |     -      |     -     |   15.84  \n",
            "   1    |  3060   |   0.225144   |     -      |     -     |   15.85  \n",
            "   1    |  3080   |   0.279304   |     -      |     -     |   15.85  \n",
            "   1    |  3100   |   0.229619   |     -      |     -     |   15.84  \n",
            "   1    |  3120   |   0.239673   |     -      |     -     |   15.84  \n",
            "   1    |  3140   |   0.136661   |     -      |     -     |   15.84  \n",
            "   1    |  3160   |   0.191797   |     -      |     -     |   15.86  \n",
            "   1    |  3180   |   0.198381   |     -      |     -     |   15.86  \n",
            "   1    |  3200   |   0.192824   |     -      |     -     |   15.85  \n",
            "   1    |  3220   |   0.211549   |     -      |     -     |   15.83  \n",
            "   1    |  3240   |   0.188865   |     -      |     -     |   15.85  \n",
            "   1    |  3260   |   0.251683   |     -      |     -     |   15.86  \n",
            "   1    |  3280   |   0.192039   |     -      |     -     |   15.84  \n",
            "   1    |  3300   |   0.245777   |     -      |     -     |   15.85  \n",
            "   1    |  3320   |   0.185652   |     -      |     -     |   15.83  \n",
            "   1    |  3340   |   0.250833   |     -      |     -     |   15.87  \n",
            "   1    |  3360   |   0.178796   |     -      |     -     |   15.85  \n",
            "   1    |  3380   |   0.226652   |     -      |     -     |   15.87  \n",
            "   1    |  3400   |   0.210132   |     -      |     -     |   15.85  \n",
            "   1    |  3420   |   0.247279   |     -      |     -     |   15.85  \n",
            "   1    |  3440   |   0.149155   |     -      |     -     |   15.85  \n",
            "   1    |  3460   |   0.187888   |     -      |     -     |   15.85  \n",
            "   1    |  3480   |   0.293596   |     -      |     -     |   15.84  \n",
            "   1    |  3500   |   0.265221   |     -      |     -     |   15.84  \n",
            "   1    |  3520   |   0.179369   |     -      |     -     |   15.83  \n",
            "   1    |  3540   |   0.226541   |     -      |     -     |   15.82  \n",
            "   1    |  3560   |   0.242857   |     -      |     -     |   15.83  \n",
            "   1    |  3580   |   0.196911   |     -      |     -     |   15.84  \n",
            "   1    |  3600   |   0.131330   |     -      |     -     |   15.85  \n",
            "   1    |  3620   |   0.208317   |     -      |     -     |   15.84  \n",
            "   1    |  3640   |   0.200437   |     -      |     -     |   15.83  \n",
            "   1    |  3660   |   0.199619   |     -      |     -     |   15.85  \n",
            "   1    |  3680   |   0.221336   |     -      |     -     |   15.86  \n",
            "   1    |  3700   |   0.214330   |     -      |     -     |   15.83  \n",
            "   1    |  3720   |   0.114791   |     -      |     -     |   15.82  \n",
            "   1    |  3740   |   0.159342   |     -      |     -     |   15.84  \n",
            "   1    |  3760   |   0.219237   |     -      |     -     |   15.85  \n",
            "   1    |  3780   |   0.144417   |     -      |     -     |   15.84  \n",
            "   1    |  3800   |   0.275303   |     -      |     -     |   15.84  \n",
            "   1    |  3820   |   0.161360   |     -      |     -     |   15.85  \n",
            "   1    |  3840   |   0.166777   |     -      |     -     |   15.84  \n",
            "   1    |  3860   |   0.226289   |     -      |     -     |   15.85  \n",
            "   1    |  3880   |   0.121868   |     -      |     -     |   15.85  \n",
            "   1    |  3900   |   0.212089   |     -      |     -     |   15.83  \n",
            "   1    |  3920   |   0.211763   |     -      |     -     |   15.86  \n",
            "   1    |  3940   |   0.206205   |     -      |     -     |   15.86  \n",
            "   1    |  3950   |   0.152221   |     -      |     -     |   7.93   \n",
            "----------------------------------------------------------------------\n",
            "   1    |    -    |   0.269624   |  0.191031  |   93.61   |  3245.02 \n",
            "----------------------------------------------------------------------\n",
            "\n",
            "\n",
            " Epoch  |  Batch  |  Train Loss  |  Val Loss  |  Val Acc  |  Elapsed \n",
            "----------------------------------------------------------------------\n",
            "   2    |   20    |   0.144340   |     -      |     -     |   16.65  \n",
            "   2    |   40    |   0.175297   |     -      |     -     |   15.88  \n",
            "   2    |   60    |   0.162177   |     -      |     -     |   15.88  \n",
            "   2    |   80    |   0.119889   |     -      |     -     |   15.88  \n",
            "   2    |   100   |   0.064139   |     -      |     -     |   15.85  \n",
            "   2    |   120   |   0.120295   |     -      |     -     |   15.82  \n",
            "   2    |   140   |   0.154316   |     -      |     -     |   15.83  \n",
            "   2    |   160   |   0.234591   |     -      |     -     |   15.83  \n",
            "   2    |   180   |   0.169258   |     -      |     -     |   15.84  \n",
            "   2    |   200   |   0.086236   |     -      |     -     |   15.84  \n",
            "   2    |   220   |   0.277573   |     -      |     -     |   15.84  \n",
            "   2    |   240   |   0.169232   |     -      |     -     |   15.83  \n",
            "   2    |   260   |   0.122755   |     -      |     -     |   15.84  \n",
            "   2    |   280   |   0.135894   |     -      |     -     |   15.84  \n",
            "   2    |   300   |   0.195008   |     -      |     -     |   15.84  \n",
            "   2    |   320   |   0.159433   |     -      |     -     |   15.85  \n",
            "   2    |   340   |   0.120625   |     -      |     -     |   15.85  \n",
            "   2    |   360   |   0.138006   |     -      |     -     |   15.84  \n",
            "   2    |   380   |   0.124083   |     -      |     -     |   15.83  \n",
            "   2    |   400   |   0.154480   |     -      |     -     |   15.83  \n",
            "   2    |   420   |   0.184080   |     -      |     -     |   15.82  \n",
            "   2    |   440   |   0.261999   |     -      |     -     |   15.86  \n",
            "   2    |   460   |   0.180135   |     -      |     -     |   15.83  \n",
            "   2    |   480   |   0.157805   |     -      |     -     |   15.85  \n",
            "   2    |   500   |   0.146075   |     -      |     -     |   15.83  \n",
            "   2    |   520   |   0.144379   |     -      |     -     |   15.85  \n",
            "   2    |   540   |   0.186778   |     -      |     -     |   15.85  \n",
            "   2    |   560   |   0.112600   |     -      |     -     |   15.85  \n",
            "   2    |   580   |   0.103174   |     -      |     -     |   15.84  \n",
            "   2    |   600   |   0.185450   |     -      |     -     |   15.85  \n",
            "   2    |   620   |   0.127711   |     -      |     -     |   15.86  \n",
            "   2    |   640   |   0.124801   |     -      |     -     |   15.83  \n",
            "   2    |   660   |   0.123661   |     -      |     -     |   15.82  \n",
            "   2    |   680   |   0.190382   |     -      |     -     |   15.84  \n",
            "   2    |   700   |   0.157156   |     -      |     -     |   15.83  \n",
            "   2    |   720   |   0.186149   |     -      |     -     |   15.83  \n",
            "   2    |   740   |   0.123830   |     -      |     -     |   15.84  \n",
            "   2    |   760   |   0.148713   |     -      |     -     |   15.82  \n",
            "   2    |   780   |   0.212669   |     -      |     -     |   15.85  \n",
            "   2    |   800   |   0.166225   |     -      |     -     |   15.84  \n",
            "   2    |   820   |   0.201675   |     -      |     -     |   15.84  \n",
            "   2    |   840   |   0.079653   |     -      |     -     |   15.83  \n",
            "   2    |   860   |   0.161847   |     -      |     -     |   15.85  \n",
            "   2    |   880   |   0.062732   |     -      |     -     |   15.83  \n",
            "   2    |   900   |   0.177843   |     -      |     -     |   15.83  \n",
            "   2    |   920   |   0.227256   |     -      |     -     |   15.86  \n",
            "   2    |   940   |   0.116422   |     -      |     -     |   15.85  \n",
            "   2    |   960   |   0.090660   |     -      |     -     |   15.85  \n",
            "   2    |   980   |   0.118175   |     -      |     -     |   15.83  \n",
            "   2    |  1000   |   0.178009   |     -      |     -     |   15.86  \n",
            "   2    |  1020   |   0.165407   |     -      |     -     |   15.87  \n",
            "   2    |  1040   |   0.251189   |     -      |     -     |   15.84  \n",
            "   2    |  1060   |   0.091749   |     -      |     -     |   15.83  \n",
            "   2    |  1080   |   0.127159   |     -      |     -     |   15.83  \n",
            "   2    |  1100   |   0.125980   |     -      |     -     |   15.86  \n",
            "   2    |  1120   |   0.112803   |     -      |     -     |   15.85  \n",
            "   2    |  1140   |   0.084341   |     -      |     -     |   15.84  \n",
            "   2    |  1160   |   0.139077   |     -      |     -     |   15.85  \n",
            "   2    |  1180   |   0.196478   |     -      |     -     |   15.83  \n",
            "   2    |  1200   |   0.268314   |     -      |     -     |   15.84  \n",
            "   2    |  1220   |   0.161839   |     -      |     -     |   15.84  \n",
            "   2    |  1240   |   0.132489   |     -      |     -     |   15.86  \n",
            "   2    |  1260   |   0.131346   |     -      |     -     |   15.83  \n",
            "   2    |  1280   |   0.098145   |     -      |     -     |   15.84  \n",
            "   2    |  1300   |   0.129091   |     -      |     -     |   15.85  \n",
            "   2    |  1320   |   0.083571   |     -      |     -     |   15.82  \n",
            "   2    |  1340   |   0.125088   |     -      |     -     |   15.83  \n",
            "   2    |  1360   |   0.151870   |     -      |     -     |   15.84  \n",
            "   2    |  1380   |   0.125575   |     -      |     -     |   15.86  \n",
            "   2    |  1400   |   0.113329   |     -      |     -     |   15.83  \n",
            "   2    |  1420   |   0.101707   |     -      |     -     |   15.82  \n",
            "   2    |  1440   |   0.052621   |     -      |     -     |   15.83  \n",
            "   2    |  1460   |   0.184422   |     -      |     -     |   15.85  \n",
            "   2    |  1480   |   0.129116   |     -      |     -     |   15.84  \n",
            "   2    |  1500   |   0.239954   |     -      |     -     |   15.83  \n",
            "   2    |  1520   |   0.181669   |     -      |     -     |   15.83  \n",
            "   2    |  1540   |   0.099778   |     -      |     -     |   15.84  \n",
            "   2    |  1560   |   0.212769   |     -      |     -     |   15.82  \n",
            "   2    |  1580   |   0.142338   |     -      |     -     |   15.82  \n",
            "   2    |  1600   |   0.108649   |     -      |     -     |   15.83  \n",
            "   2    |  1620   |   0.060383   |     -      |     -     |   15.83  \n",
            "   2    |  1640   |   0.124555   |     -      |     -     |   15.86  \n",
            "   2    |  1660   |   0.107654   |     -      |     -     |   15.84  \n",
            "   2    |  1680   |   0.133623   |     -      |     -     |   15.84  \n",
            "   2    |  1700   |   0.170401   |     -      |     -     |   15.83  \n",
            "   2    |  1720   |   0.088916   |     -      |     -     |   15.85  \n",
            "   2    |  1740   |   0.172880   |     -      |     -     |   15.85  \n",
            "   2    |  1760   |   0.137194   |     -      |     -     |   15.83  \n",
            "   2    |  1780   |   0.104981   |     -      |     -     |   15.85  \n",
            "   2    |  1800   |   0.085004   |     -      |     -     |   15.85  \n",
            "   2    |  1820   |   0.197185   |     -      |     -     |   15.84  \n",
            "   2    |  1840   |   0.095329   |     -      |     -     |   15.82  \n",
            "   2    |  1860   |   0.252901   |     -      |     -     |   15.84  \n",
            "   2    |  1880   |   0.146182   |     -      |     -     |   15.85  \n",
            "   2    |  1900   |   0.130166   |     -      |     -     |   15.84  \n",
            "   2    |  1920   |   0.111569   |     -      |     -     |   15.84  \n",
            "   2    |  1940   |   0.053848   |     -      |     -     |   15.84  \n",
            "   2    |  1960   |   0.131156   |     -      |     -     |   15.84  \n",
            "   2    |  1980   |   0.088170   |     -      |     -     |   15.87  \n",
            "   2    |  2000   |   0.174241   |     -      |     -     |   15.85  \n",
            "   2    |  2020   |   0.097915   |     -      |     -     |   15.83  \n",
            "   2    |  2040   |   0.129095   |     -      |     -     |   15.85  \n",
            "   2    |  2060   |   0.174397   |     -      |     -     |   15.84  \n",
            "   2    |  2080   |   0.106452   |     -      |     -     |   15.85  \n",
            "   2    |  2100   |   0.138095   |     -      |     -     |   15.85  \n",
            "   2    |  2120   |   0.091541   |     -      |     -     |   15.86  \n",
            "   2    |  2140   |   0.167112   |     -      |     -     |   15.87  \n",
            "   2    |  2160   |   0.175394   |     -      |     -     |   15.85  \n",
            "   2    |  2180   |   0.180198   |     -      |     -     |   15.82  \n",
            "   2    |  2200   |   0.120362   |     -      |     -     |   15.83  \n",
            "   2    |  2220   |   0.193929   |     -      |     -     |   15.83  \n",
            "   2    |  2240   |   0.114741   |     -      |     -     |   15.83  \n",
            "   2    |  2260   |   0.159946   |     -      |     -     |   15.83  \n",
            "   2    |  2280   |   0.132469   |     -      |     -     |   15.85  \n",
            "   2    |  2300   |   0.189559   |     -      |     -     |   15.84  \n",
            "   2    |  2320   |   0.100051   |     -      |     -     |   15.87  \n",
            "   2    |  2340   |   0.185949   |     -      |     -     |   15.89  \n",
            "   2    |  2360   |   0.097594   |     -      |     -     |   15.89  \n",
            "   2    |  2380   |   0.125503   |     -      |     -     |   15.88  \n",
            "   2    |  2400   |   0.110463   |     -      |     -     |   15.84  \n",
            "   2    |  2420   |   0.272303   |     -      |     -     |   15.83  \n",
            "   2    |  2440   |   0.098006   |     -      |     -     |   15.83  \n",
            "   2    |  2460   |   0.157582   |     -      |     -     |   15.83  \n",
            "   2    |  2480   |   0.098615   |     -      |     -     |   15.83  \n",
            "   2    |  2500   |   0.142525   |     -      |     -     |   15.84  \n",
            "   2    |  2520   |   0.115569   |     -      |     -     |   15.85  \n",
            "   2    |  2540   |   0.132652   |     -      |     -     |   15.83  \n",
            "   2    |  2560   |   0.228185   |     -      |     -     |   15.84  \n",
            "   2    |  2580   |   0.125115   |     -      |     -     |   15.85  \n",
            "   2    |  2600   |   0.150267   |     -      |     -     |   15.82  \n",
            "   2    |  2620   |   0.124677   |     -      |     -     |   15.85  \n",
            "   2    |  2640   |   0.104391   |     -      |     -     |   15.83  \n",
            "   2    |  2660   |   0.108277   |     -      |     -     |   15.85  \n",
            "   2    |  2680   |   0.154903   |     -      |     -     |   15.84  \n",
            "   2    |  2700   |   0.172826   |     -      |     -     |   15.84  \n",
            "   2    |  2720   |   0.086807   |     -      |     -     |   15.84  \n",
            "   2    |  2740   |   0.111207   |     -      |     -     |   15.85  \n",
            "   2    |  2760   |   0.230989   |     -      |     -     |   15.83  \n",
            "   2    |  2780   |   0.098314   |     -      |     -     |   15.83  \n",
            "   2    |  2800   |   0.161925   |     -      |     -     |   15.81  \n",
            "   2    |  2820   |   0.182898   |     -      |     -     |   15.84  \n",
            "   2    |  2840   |   0.106455   |     -      |     -     |   15.84  \n",
            "   2    |  2860   |   0.168325   |     -      |     -     |   15.85  \n",
            "   2    |  2880   |   0.122136   |     -      |     -     |   15.83  \n",
            "   2    |  2900   |   0.094932   |     -      |     -     |   15.83  \n",
            "   2    |  2920   |   0.113024   |     -      |     -     |   15.85  \n",
            "   2    |  2940   |   0.104981   |     -      |     -     |   15.87  \n",
            "   2    |  2960   |   0.107923   |     -      |     -     |   15.83  \n",
            "   2    |  2980   |   0.111719   |     -      |     -     |   15.83  \n",
            "   2    |  3000   |   0.236774   |     -      |     -     |   15.83  \n",
            "   2    |  3020   |   0.070594   |     -      |     -     |   15.83  \n",
            "   2    |  3040   |   0.030821   |     -      |     -     |   15.83  \n",
            "   2    |  3060   |   0.081729   |     -      |     -     |   15.83  \n",
            "   2    |  3080   |   0.039988   |     -      |     -     |   15.87  \n",
            "   2    |  3100   |   0.062420   |     -      |     -     |   15.85  \n",
            "   2    |  3120   |   0.202937   |     -      |     -     |   15.84  \n",
            "   2    |  3140   |   0.087266   |     -      |     -     |   15.84  \n",
            "   2    |  3160   |   0.067400   |     -      |     -     |   15.83  \n",
            "   2    |  3180   |   0.166786   |     -      |     -     |   15.83  \n",
            "   2    |  3200   |   0.145673   |     -      |     -     |   15.83  \n",
            "   2    |  3220   |   0.132138   |     -      |     -     |   15.83  \n",
            "   2    |  3240   |   0.143876   |     -      |     -     |   15.83  \n",
            "   2    |  3260   |   0.151811   |     -      |     -     |   15.84  \n",
            "   2    |  3280   |   0.082834   |     -      |     -     |   15.83  \n",
            "   2    |  3300   |   0.108930   |     -      |     -     |   15.83  \n",
            "   2    |  3320   |   0.114487   |     -      |     -     |   15.84  \n",
            "   2    |  3340   |   0.053714   |     -      |     -     |   15.84  \n",
            "   2    |  3360   |   0.129380   |     -      |     -     |   15.83  \n",
            "   2    |  3380   |   0.095479   |     -      |     -     |   15.82  \n",
            "   2    |  3400   |   0.168439   |     -      |     -     |   15.83  \n",
            "   2    |  3420   |   0.123970   |     -      |     -     |   15.84  \n",
            "   2    |  3440   |   0.109744   |     -      |     -     |   15.83  \n",
            "   2    |  3460   |   0.074927   |     -      |     -     |   15.83  \n",
            "   2    |  3480   |   0.190503   |     -      |     -     |   15.82  \n",
            "   2    |  3500   |   0.088407   |     -      |     -     |   15.83  \n",
            "   2    |  3520   |   0.175309   |     -      |     -     |   15.83  \n",
            "   2    |  3540   |   0.090297   |     -      |     -     |   15.83  \n",
            "   2    |  3560   |   0.095147   |     -      |     -     |   15.83  \n",
            "   2    |  3580   |   0.131940   |     -      |     -     |   15.83  \n",
            "   2    |  3600   |   0.125494   |     -      |     -     |   15.82  \n",
            "   2    |  3620   |   0.065875   |     -      |     -     |   15.83  \n",
            "   2    |  3640   |   0.166103   |     -      |     -     |   15.83  \n",
            "   2    |  3660   |   0.083509   |     -      |     -     |   15.82  \n",
            "   2    |  3680   |   0.078641   |     -      |     -     |   15.85  \n",
            "   2    |  3700   |   0.113094   |     -      |     -     |   15.85  \n",
            "   2    |  3720   |   0.097821   |     -      |     -     |   15.85  \n",
            "   2    |  3740   |   0.146240   |     -      |     -     |   15.83  \n",
            "   2    |  3760   |   0.130427   |     -      |     -     |   15.84  \n",
            "   2    |  3780   |   0.085967   |     -      |     -     |   15.84  \n",
            "   2    |  3800   |   0.122893   |     -      |     -     |   15.83  \n",
            "   2    |  3820   |   0.116472   |     -      |     -     |   15.83  \n",
            "   2    |  3840   |   0.182225   |     -      |     -     |   15.82  \n",
            "   2    |  3860   |   0.113699   |     -      |     -     |   15.85  \n",
            "   2    |  3880   |   0.200374   |     -      |     -     |   15.82  \n",
            "   2    |  3900   |   0.170768   |     -      |     -     |   15.84  \n",
            "   2    |  3920   |   0.059436   |     -      |     -     |   15.83  \n",
            "   2    |  3940   |   0.092027   |     -      |     -     |   15.85  \n",
            "   2    |  3950   |   0.037236   |     -      |     -     |   7.92   \n",
            "----------------------------------------------------------------------\n",
            "   2    |    -    |   0.136213   |  0.199248  |   95.18   |  3245.78 \n",
            "----------------------------------------------------------------------\n",
            "\n",
            "\n",
            "Training complete!\n"
          ]
        }
      ]
    },
    {
      "cell_type": "code",
      "source": [
        "import pickle\n",
        "filename = 'trained-twitter-roberta-base-sentiment-BiGRU.sav'\n",
        "pickle.dump(bert_classifier, open(filename, 'wb'))"
      ],
      "metadata": {
        "id": "Pi0d0Im5QxvH"
      },
      "execution_count": 53,
      "outputs": []
    },
    {
      "cell_type": "code",
      "source": [
        "# # Loading the model (to avoid retraining in reruns)\n",
        "\n",
        "# import pickle\n",
        "# filename = 'trained-twitter-roberta-base-sentiment-BiGRU.sav'\n",
        "# f = open(filename, 'rb')\n",
        "# bert_classifier = pickle.load(f)"
      ],
      "metadata": {
        "id": "K-c0ZmRox8AB"
      },
      "execution_count": null,
      "outputs": []
    },
    {
      "cell_type": "code",
      "source": [
        "import torch.nn.functional as F\n",
        "\n",
        "def bert_predict(model, test_dataloader):\n",
        "    \"\"\"Perform a forward pass on the trained BERT model to predict probabilities\n",
        "    on the test set.\n",
        "    \"\"\"\n",
        "    # Put the model into the evaluation mode. The dropout layers are disabled during\n",
        "    # the test time.\n",
        "    model.eval()\n",
        "\n",
        "    all_logits = []\n",
        "\n",
        "    # For each batch in our test set...\n",
        "    for batch in test_dataloader:\n",
        "        # Load batch to GPU\n",
        "        b_input_ids, b_attn_mask = tuple(t.to(device) for t in batch)[:2]\n",
        "\n",
        "        # Compute logits\n",
        "        with torch.no_grad():\n",
        "            logits = model(b_input_ids, b_attn_mask)\n",
        "        all_logits.append(logits)\n",
        "    \n",
        "    # Concatenate logits from each batch\n",
        "    all_logits = torch.cat(all_logits, dim=0)\n",
        "\n",
        "    # Apply softmax to calculate probabilities\n",
        "    probs = F.softmax(all_logits, dim=1).cpu().numpy()\n",
        "\n",
        "    return probs"
      ],
      "metadata": {
        "id": "Y84FNM8rlMuq"
      },
      "execution_count": 47,
      "outputs": []
    },
    {
      "cell_type": "code",
      "source": [
        "from sklearn.metrics import accuracy_score, roc_curve, auc, precision_score, recall_score\n",
        "from sklearn.metrics import precision_recall_curve, f1_score\n",
        "\n",
        "def evaluate_roc(probs, y_true):\n",
        "    \"\"\"\n",
        "    - Print AUC and accuracy on the test set\n",
        "    - Plot ROC\n",
        "    @params    probs (np.array): an array of predicted probabilities with shape (len(y_true), 2)\n",
        "    @params    y_true (np.array): an array of the true values with shape (len(y_true),)\n",
        "    \"\"\"\n",
        "    preds = probs[:, 1]\n",
        "    fpr, tpr, threshold = roc_curve(y_true, preds)\n",
        "    roc_auc = auc(fpr, tpr)\n",
        "    print(f'AUC: {roc_auc:.4f}')\n",
        "       \n",
        "    # Get accuracy over the test set\n",
        "    y_pred = np.where(preds >= 0.5, 1, 0)\n",
        "    accuracy = accuracy_score(y_true, y_pred)\n",
        "    print(f'Accuracy: {accuracy*100:.2f}%')\n",
        "\n",
        "    #Get Precision and Recall over the test set\n",
        "    precision  = precision_score(y_true, y_pred, average='binary')\n",
        "    print(f'Precision: {precision*100:.2f}%')\n",
        "    recall = recall_score(y_true, y_pred, average='binary')\n",
        "    print(f'Recall: {recall*100:.2f}%')\n",
        "\n",
        "    f1 = f1_score(y_true, y_pred)\n",
        "\n",
        "    \n",
        "    # Plot ROC AUC\n",
        "    plt.plot(fpr, tpr, 'b', label = 'AUC = %0.2f' % roc_auc)\n",
        "    plt.legend(loc = 'lower right')\n",
        "    plt.plot([0, 1], [0, 1],'r--')\n",
        "    plt.xlim([0, 1])\n",
        "    plt.ylim([0, 1])\n",
        "    plt.ylabel('True Positive Rate')\n",
        "    plt.xlabel('False Positive Rate')\n",
        "    plt.show()\n",
        "\n",
        "    print('RoBERTa-Base-GRU: f1=%.3f ' % (f1))\n",
        "    # plot the precision-recall curves\n",
        "    baseline = len(y_test[y_test==1]) / len(y_test)\n",
        "    plt.plot([0, 1], [baseline, baseline], linestyle='--', label='Baseline')\n",
        "    plt.plot(recall, precision, marker='.', label='RoBERTa-Base-GRU')\n",
        "    # axis labels\n",
        "    plt.xlabel('Recall')\n",
        "    plt.ylabel('Precision')\n",
        "    # show the legend\n",
        "    plt.legend()\n",
        "    # show the plot\n",
        "    plt.show()\n"
      ],
      "metadata": {
        "id": "BaP0b0jclMxY"
      },
      "execution_count": 54,
      "outputs": []
    },
    {
      "cell_type": "code",
      "source": [
        "# Compute predicted probabilities on the validation set\n",
        "probs = bert_predict(bert_classifier, val_dataloader)\n",
        "\n",
        "# Evaluate the Bert classifier\n",
        "evaluate_roc(probs, y_val)"
      ],
      "metadata": {
        "id": "MUH-ejXRlMz9",
        "colab": {
          "base_uri": "https://localhost:8080/",
          "height": 632
        },
        "outputId": "23d54ca2-1e7f-4d0e-f8ca-30c2e0e2c45c"
      },
      "execution_count": 55,
      "outputs": [
        {
          "output_type": "stream",
          "name": "stdout",
          "text": [
            "AUC: 0.9900\n",
            "Accuracy: 95.17%\n",
            "Precision: 94.90%\n",
            "Recall: 96.31%\n"
          ]
        },
        {
          "output_type": "display_data",
          "data": {
            "image/png": "[encoded data removed]",
            "text/plain": [
              "<Figure size 432x288 with 1 Axes>"
            ]
          },
          "metadata": {
            "needs_background": "light"
          }
        },
        {
          "output_type": "stream",
          "name": "stdout",
          "text": [
            "RoBERTa-Base-GRU: f1=0.956 \n"
          ]
        },
        {
          "output_type": "display_data",
          "data": {
            "image/png": "[encoded data removed]",
            "text/plain": [
              "<Figure size 432x288 with 1 Axes>"
            ]
          },
          "metadata": {
            "needs_background": "light"
          }
        }
      ]
    },
    {
      "cell_type": "code",
      "source": [
        "# Run `preprocessing_for_bert` on the test set\n",
        "print('Tokenizing data...')\n",
        "test_inputs, test_masks = preprocessing_for_bert(X_test)\n",
        "\n",
        "# Create the DataLoader for our test set\n",
        "test_dataset = TensorDataset(test_inputs, test_masks)\n",
        "test_sampler = SequentialSampler(test_dataset)\n",
        "test_dataloader = DataLoader(test_dataset, sampler=test_sampler, batch_size=32)"
      ],
      "metadata": {
        "colab": {
          "base_uri": "https://localhost:8080/"
        },
        "id": "Yvvheq0qlM3d",
        "outputId": "7b464c21-a56c-437c-cd00-7f3ac8f1d9fc"
      },
      "execution_count": 56,
      "outputs": [
        {
          "output_type": "stream",
          "name": "stdout",
          "text": [
            "Tokenizing data...\n"
          ]
        }
      ]
    },
    {
      "cell_type": "code",
      "source": [
        "# Compute predicted probabilities on the test set\n",
        "probs = bert_predict(bert_classifier, test_dataloader)\n",
        "\n",
        "# Get predictions from the probabilities\n",
        "threshold = 0.5\n",
        "preds = np.where(probs[:, 1] > threshold, 1, 0)\n",
        "\n",
        "# Number of tweets predicted non-negative\n",
        "print(\"no-negative tweets ratio \", preds.sum()/len(preds))"
      ],
      "metadata": {
        "colab": {
          "base_uri": "https://localhost:8080/"
        },
        "id": "ENShAjsVlh0P",
        "outputId": "030f3a5b-572e-4ec4-bc0f-623e979c8b32"
      },
      "execution_count": 57,
      "outputs": [
        {
          "output_type": "stream",
          "name": "stdout",
          "text": [
            "no-negative tweets ratio  0.5602186663629634\n"
          ]
        }
      ]
    },
    {
      "cell_type": "code",
      "source": [
        "# Evaluate the Bert classifier for unseen test data\n",
        "evaluate_roc(probs, y_test)"
      ],
      "metadata": {
        "colab": {
          "base_uri": "https://localhost:8080/",
          "height": 632
        },
        "id": "4nMBgpwvlh3D",
        "outputId": "3d78506e-a6aa-4879-9e43-07bf2ed48146"
      },
      "execution_count": 58,
      "outputs": [
        {
          "output_type": "stream",
          "name": "stdout",
          "text": [
            "AUC: 0.9911\n",
            "Accuracy: 95.53%\n",
            "Precision: 95.59%\n",
            "Recall: 96.40%\n"
          ]
        },
        {
          "output_type": "display_data",
          "data": {
            "image/png": "[encoded data removed]",
            "text/plain": [
              "<Figure size 432x288 with 1 Axes>"
            ]
          },
          "metadata": {
            "needs_background": "light"
          }
        },
        {
          "output_type": "stream",
          "name": "stdout",
          "text": [
            "RoBERTa-Base-GRU: f1=0.960 \n"
          ]
        },
        {
          "output_type": "display_data",
          "data": {
            "image/png": "[encoded data removed]",
            "text/plain": [
              "<Figure size 432x288 with 1 Axes>"
            ]
          },
          "metadata": {
            "needs_background": "light"
          }
        }
      ]
    },
    {
      "cell_type": "markdown",
      "source": [
        "Dataset 1"
      ],
      "metadata": {
        "id": "UbxnxHjbrN7w"
      }
    },
    {
      "cell_type": "code",
      "source": [
        "X = df1.text.values\n",
        "y = df1.sentiment.values\n",
        "X_, X_test, y_, y_test = train_test_split(X, y, test_size=0.2, random_state = 42)\n",
        "X_train, X_val, y_train, y_val = train_test_split(X_, y_, test_size=0.1, random_state = 42)"
      ],
      "metadata": {
        "id": "blHSYaz9rWGZ"
      },
      "execution_count": null,
      "outputs": []
    },
    {
      "cell_type": "code",
      "source": [
        "# Specify `MAX_LEN`\n",
        "MAX_LEN =  280\n",
        "\n",
        "# Print sentence 0 and its encoded token ids\n",
        "token_ids = list(preprocessing_for_bert([X[0]], version=\"base\", text_preprocessing_fn=text_preprocessing)[0].squeeze().numpy())\n",
        "print('Original: ', X[0])\n",
        "print('Token IDs: ', token_ids)\n",
        "\n",
        "# Run function `preprocessing_for_bert` on the train set and the validation set\n",
        "print('Tokenizing data...')\n",
        "train_inputs, train_masks = preprocessing_for_bert(X_train, version=\"base\", text_preprocessing_fn=text_preprocessing)\n",
        "val_inputs, val_masks = preprocessing_for_bert(X_val, version=\"base\", text_preprocessing_fn=text_preprocessing)"
      ],
      "metadata": {
        "id": "LHkD3v3DrWJc"
      },
      "execution_count": null,
      "outputs": []
    },
    {
      "cell_type": "code",
      "source": [
        "from torch.utils.data import TensorDataset, DataLoader, RandomSampler, SequentialSampler\n",
        "\n",
        "# Convert other data types to torch.Tensor\n",
        "train_labels = torch.tensor(y_train)\n",
        "val_labels = torch.tensor(y_val)\n",
        "\n",
        "# For fine-tuning BERT, the authors recommend a batch size of 16 or 32.\n",
        "batch_size = 16\n",
        "\n",
        "# Create the DataLoader for our training set\n",
        "train_data = TensorDataset(train_inputs, train_masks, train_labels)\n",
        "train_sampler = RandomSampler(train_data)\n",
        "train_dataloader = DataLoader(train_data, sampler=train_sampler, batch_size=batch_size)\n",
        "\n",
        "# Create the DataLoader for our validation set\n",
        "val_data = TensorDataset(val_inputs, val_masks, val_labels)\n",
        "val_sampler = SequentialSampler(val_data)\n",
        "val_dataloader = DataLoader(val_data, sampler=val_sampler, batch_size=batch_size)"
      ],
      "metadata": {
        "id": "PFgGW0g7rWMk"
      },
      "execution_count": null,
      "outputs": []
    },
    {
      "cell_type": "code",
      "source": [
        "set_seed(42) \n",
        "bert_classifier, optimizer, scheduler = initialize_model(epochs=2, version=\"base\")\n",
        "train(bert_classifier, train_dataloader, val_dataloader, epochs=2, evaluation=True)"
      ],
      "metadata": {
        "id": "C15aScZ7rWQI"
      },
      "execution_count": null,
      "outputs": []
    },
    {
      "cell_type": "code",
      "source": [
        "probs = bert_predict(bert_classifier, val_dataloader)\n",
        "\n",
        "# Evaluate the Bert classifier\n",
        "evaluate_roc(probs, y_val)"
      ],
      "metadata": {
        "id": "BV8qdxdorWW3"
      },
      "execution_count": null,
      "outputs": []
    },
    {
      "cell_type": "code",
      "source": [
        "print('Tokenizing data...')\n",
        "test_inputs, test_masks = preprocessing_for_bert(X_test)\n",
        "\n",
        "# Create the DataLoader for our test set\n",
        "test_dataset = TensorDataset(test_inputs, test_masks)\n",
        "test_sampler = SequentialSampler(test_dataset)\n",
        "test_dataloader = DataLoader(test_dataset, sampler=test_sampler, batch_size=32)"
      ],
      "metadata": {
        "id": "IWA5L_vXrWZR"
      },
      "execution_count": null,
      "outputs": []
    },
    {
      "cell_type": "code",
      "source": [
        "probs = bert_predict(bert_classifier, test_dataloader)\n",
        "\n",
        "# Get predictions from the probabilities\n",
        "threshold = 0.5\n",
        "preds = np.where(probs[:, 1] > threshold, 1, 0)\n",
        "\n",
        "# Number of tweets predicted non-negative\n",
        "print(\"no-negative tweets ratio \", preds.sum()/len(preds))"
      ],
      "metadata": {
        "id": "vmU48X_wrWcA"
      },
      "execution_count": null,
      "outputs": []
    },
    {
      "cell_type": "code",
      "source": [
        "# Evaluate the Bert classifier for unseen test data\n",
        "evaluate_roc(probs, y_test)"
      ],
      "metadata": {
        "id": "q2J_5WbYrWe3"
      },
      "execution_count": null,
      "outputs": []
    },
    {
      "cell_type": "markdown",
      "source": [
        "Dataset 2"
      ],
      "metadata": {
        "id": "__XHLDr7sXzY"
      }
    },
    {
      "cell_type": "code",
      "source": [
        "X = df2.text.values\n",
        "y = df2.sentiment.values\n",
        "X_, X_test, y_, y_test = train_test_split(X, y, test_size=0.2, random_state = 42)\n",
        "X_train, X_val, y_train, y_val = train_test_split(X_, y_, test_size=0.1, random_state = 42)"
      ],
      "metadata": {
        "id": "KL4fvGwtsfMG"
      },
      "execution_count": null,
      "outputs": []
    },
    {
      "cell_type": "code",
      "source": [
        "# Specify `MAX_LEN`\n",
        "MAX_LEN =  280\n",
        "\n",
        "# Print sentence 0 and its encoded token ids\n",
        "token_ids = list(preprocessing_for_bert([X[0]], version=\"base\", text_preprocessing_fn=text_preprocessing)[0].squeeze().numpy())\n",
        "print('Original: ', X[0])\n",
        "print('Token IDs: ', token_ids)\n",
        "\n",
        "# Run function `preprocessing_for_bert` on the train set and the validation set\n",
        "print('Tokenizing data...')\n",
        "train_inputs, train_masks = preprocessing_for_bert(X_train, version=\"base\", text_preprocessing_fn=text_preprocessing)\n",
        "val_inputs, val_masks = preprocessing_for_bert(X_val, version=\"base\", text_preprocessing_fn=text_preprocessing)"
      ],
      "metadata": {
        "id": "UWZaHaRHsfMH"
      },
      "execution_count": null,
      "outputs": []
    },
    {
      "cell_type": "code",
      "source": [
        "from torch.utils.data import TensorDataset, DataLoader, RandomSampler, SequentialSampler\n",
        "\n",
        "# Convert other data types to torch.Tensor\n",
        "train_labels = torch.tensor(y_train)\n",
        "val_labels = torch.tensor(y_val)\n",
        "\n",
        "# For fine-tuning BERT, the authors recommend a batch size of 16 or 32.\n",
        "batch_size = 16\n",
        "\n",
        "# Create the DataLoader for our training set\n",
        "train_data = TensorDataset(train_inputs, train_masks, train_labels)\n",
        "train_sampler = RandomSampler(train_data)\n",
        "train_dataloader = DataLoader(train_data, sampler=train_sampler, batch_size=batch_size)\n",
        "\n",
        "# Create the DataLoader for our validation set\n",
        "val_data = TensorDataset(val_inputs, val_masks, val_labels)\n",
        "val_sampler = SequentialSampler(val_data)\n",
        "val_dataloader = DataLoader(val_data, sampler=val_sampler, batch_size=batch_size)"
      ],
      "metadata": {
        "id": "E9HVAST2sfMH"
      },
      "execution_count": null,
      "outputs": []
    },
    {
      "cell_type": "code",
      "source": [
        "set_seed(42) \n",
        "bert_classifier, optimizer, scheduler = initialize_model(epochs=2, version=\"base\")\n",
        "train(bert_classifier, train_dataloader, val_dataloader, epochs=2, evaluation=True)"
      ],
      "metadata": {
        "id": "0DgNVgLYstSd"
      },
      "execution_count": null,
      "outputs": []
    },
    {
      "cell_type": "code",
      "source": [
        "probs = bert_predict(bert_classifier, val_dataloader)\n",
        "\n",
        "# Evaluate the Bert classifier\n",
        "evaluate_roc(probs, y_val)"
      ],
      "metadata": {
        "id": "wsQvAkT3stSe"
      },
      "execution_count": null,
      "outputs": []
    },
    {
      "cell_type": "code",
      "source": [
        "print('Tokenizing data...')\n",
        "test_inputs, test_masks = preprocessing_for_bert(X_test)\n",
        "\n",
        "# Create the DataLoader for our test set\n",
        "test_dataset = TensorDataset(test_inputs, test_masks)\n",
        "test_sampler = SequentialSampler(test_dataset)\n",
        "test_dataloader = DataLoader(test_dataset, sampler=test_sampler, batch_size=32)"
      ],
      "metadata": {
        "id": "Rfb1hZkNstSf"
      },
      "execution_count": null,
      "outputs": []
    },
    {
      "cell_type": "code",
      "source": [
        "probs = bert_predict(bert_classifier, test_dataloader)\n",
        "\n",
        "# Get predictions from the probabilities\n",
        "threshold = 0.5\n",
        "preds = np.where(probs[:, 1] > threshold, 1, 0)\n",
        "\n",
        "# Number of tweets predicted non-negative\n",
        "print(\"no-negative tweets ratio \", preds.sum()/len(preds))"
      ],
      "metadata": {
        "id": "k9kl_X-NstSf"
      },
      "execution_count": null,
      "outputs": []
    },
    {
      "cell_type": "code",
      "source": [
        "# Evaluate the Bert classifier for unseen test data\n",
        "evaluate_roc(probs, y_test)"
      ],
      "metadata": {
        "id": "CIYUYUDxstSg"
      },
      "execution_count": null,
      "outputs": []
    },
    {
      "cell_type": "code",
      "source": [
        ""
      ],
      "metadata": {
        "id": "uCx1zoZpsihF"
      },
      "execution_count": null,
      "outputs": []
    },
    {
      "cell_type": "markdown",
      "source": [
        "Dataset 3"
      ],
      "metadata": {
        "id": "9P3Sl4TyskJ_"
      }
    },
    {
      "cell_type": "code",
      "source": [
        "X = df3.text.values\n",
        "y = df3.sentiment.values\n",
        "X_, X_test, y_, y_test = train_test_split(X, y, test_size=0.2, random_state = 42)\n",
        "X_train, X_val, y_train, y_val = train_test_split(X_, y_, test_size=0.1, random_state = 42)"
      ],
      "metadata": {
        "id": "NJaYb6qVsmgo"
      },
      "execution_count": null,
      "outputs": []
    },
    {
      "cell_type": "code",
      "source": [
        "# Specify `MAX_LEN`\n",
        "MAX_LEN =  280\n",
        "\n",
        "# Print sentence 0 and its encoded token ids\n",
        "token_ids = list(preprocessing_for_bert([X[0]], version=\"base\", text_preprocessing_fn=text_preprocessing)[0].squeeze().numpy())\n",
        "print('Original: ', X[0])\n",
        "print('Token IDs: ', token_ids)\n",
        "\n",
        "# Run function `preprocessing_for_bert` on the train set and the validation set\n",
        "print('Tokenizing data...')\n",
        "train_inputs, train_masks = preprocessing_for_bert(X_train, version=\"base\", text_preprocessing_fn=text_preprocessing)\n",
        "val_inputs, val_masks = preprocessing_for_bert(X_val, version=\"base\", text_preprocessing_fn=text_preprocessing)"
      ],
      "metadata": {
        "id": "cDP6Aq1lsmgp"
      },
      "execution_count": null,
      "outputs": []
    },
    {
      "cell_type": "code",
      "source": [
        "from torch.utils.data import TensorDataset, DataLoader, RandomSampler, SequentialSampler\n",
        "\n",
        "# Convert other data types to torch.Tensor\n",
        "train_labels = torch.tensor(y_train)\n",
        "val_labels = torch.tensor(y_val)\n",
        "\n",
        "# For fine-tuning BERT, the authors recommend a batch size of 16 or 32.\n",
        "batch_size = 16\n",
        "\n",
        "# Create the DataLoader for our training set\n",
        "train_data = TensorDataset(train_inputs, train_masks, train_labels)\n",
        "train_sampler = RandomSampler(train_data)\n",
        "train_dataloader = DataLoader(train_data, sampler=train_sampler, batch_size=batch_size)\n",
        "\n",
        "# Create the DataLoader for our validation set\n",
        "val_data = TensorDataset(val_inputs, val_masks, val_labels)\n",
        "val_sampler = SequentialSampler(val_data)\n",
        "val_dataloader = DataLoader(val_data, sampler=val_sampler, batch_size=batch_size)"
      ],
      "metadata": {
        "id": "mGH5uKTBsmgq"
      },
      "execution_count": null,
      "outputs": []
    },
    {
      "cell_type": "code",
      "source": [
        "set_seed(42) \n",
        "bert_classifier, optimizer, scheduler = initialize_model(epochs=2, version=\"base\")\n",
        "train(bert_classifier, train_dataloader, val_dataloader, epochs=2, evaluation=True)"
      ],
      "metadata": {
        "id": "Ohu1X0l4sv_y"
      },
      "execution_count": null,
      "outputs": []
    },
    {
      "cell_type": "code",
      "source": [
        "probs = bert_predict(bert_classifier, val_dataloader)\n",
        "\n",
        "# Evaluate the Bert classifier\n",
        "evaluate_roc(probs, y_val)"
      ],
      "metadata": {
        "id": "ehKs_Hoasv_z"
      },
      "execution_count": null,
      "outputs": []
    },
    {
      "cell_type": "code",
      "source": [
        "print('Tokenizing data...')\n",
        "test_inputs, test_masks = preprocessing_for_bert(X_test)\n",
        "\n",
        "# Create the DataLoader for our test set\n",
        "test_dataset = TensorDataset(test_inputs, test_masks)\n",
        "test_sampler = SequentialSampler(test_dataset)\n",
        "test_dataloader = DataLoader(test_dataset, sampler=test_sampler, batch_size=32)"
      ],
      "metadata": {
        "id": "zWWGeZrEsv_z"
      },
      "execution_count": null,
      "outputs": []
    },
    {
      "cell_type": "code",
      "source": [
        "probs = bert_predict(bert_classifier, test_dataloader)\n",
        "\n",
        "# Get predictions from the probabilities\n",
        "threshold = 0.5\n",
        "preds = np.where(probs[:, 1] > threshold, 1, 0)\n",
        "\n",
        "# Number of tweets predicted non-negative\n",
        "print(\"no-negative tweets ratio \", preds.sum()/len(preds))"
      ],
      "metadata": {
        "id": "NnilNQbIsv_z"
      },
      "execution_count": null,
      "outputs": []
    },
    {
      "cell_type": "code",
      "source": [
        "# Evaluate the Bert classifier for unseen test data\n",
        "evaluate_roc(probs, y_test)"
      ],
      "metadata": {
        "id": "MkPnUPx3sv_0"
      },
      "execution_count": null,
      "outputs": []
    },
    {
      "cell_type": "code",
      "source": [
        ""
      ],
      "metadata": {
        "id": "mLr3anZ4siof"
      },
      "execution_count": null,
      "outputs": []
    },
    {
      "cell_type": "markdown",
      "source": [
        "Dataset 4"
      ],
      "metadata": {
        "id": "EaM6piRas1XO"
      }
    },
    {
      "cell_type": "code",
      "source": [
        "X = df4.text.values\n",
        "y = df4.sentiment.values\n",
        "X_, X_test, y_, y_test = train_test_split(X, y, test_size=0.2, random_state = 42)\n",
        "X_train, X_val, y_train, y_val = train_test_split(X_, y_, test_size=0.1, random_state = 42)"
      ],
      "metadata": {
        "id": "RbrKWSI3s91p"
      },
      "execution_count": null,
      "outputs": []
    },
    {
      "cell_type": "code",
      "source": [
        "# Specify `MAX_LEN`\n",
        "MAX_LEN =  280\n",
        "\n",
        "# Print sentence 0 and its encoded token ids\n",
        "token_ids = list(preprocessing_for_bert([X[0]], version=\"base\", text_preprocessing_fn=text_preprocessing)[0].squeeze().numpy())\n",
        "print('Original: ', X[0])\n",
        "print('Token IDs: ', token_ids)\n",
        "\n",
        "# Run function `preprocessing_for_bert` on the train set and the validation set\n",
        "print('Tokenizing data...')\n",
        "train_inputs, train_masks = preprocessing_for_bert(X_train, version=\"base\", text_preprocessing_fn=text_preprocessing)\n",
        "val_inputs, val_masks = preprocessing_for_bert(X_val, version=\"base\", text_preprocessing_fn=text_preprocessing)"
      ],
      "metadata": {
        "id": "fxx7ZTm1s91q"
      },
      "execution_count": null,
      "outputs": []
    },
    {
      "cell_type": "code",
      "source": [
        "from torch.utils.data import TensorDataset, DataLoader, RandomSampler, SequentialSampler\n",
        "\n",
        "# Convert other data types to torch.Tensor\n",
        "train_labels = torch.tensor(y_train)\n",
        "val_labels = torch.tensor(y_val)\n",
        "\n",
        "# For fine-tuning BERT, the authors recommend a batch size of 16 or 32.\n",
        "batch_size = 16\n",
        "\n",
        "# Create the DataLoader for our training set\n",
        "train_data = TensorDataset(train_inputs, train_masks, train_labels)\n",
        "train_sampler = RandomSampler(train_data)\n",
        "train_dataloader = DataLoader(train_data, sampler=train_sampler, batch_size=batch_size)\n",
        "\n",
        "# Create the DataLoader for our validation set\n",
        "val_data = TensorDataset(val_inputs, val_masks, val_labels)\n",
        "val_sampler = SequentialSampler(val_data)\n",
        "val_dataloader = DataLoader(val_data, sampler=val_sampler, batch_size=batch_size)"
      ],
      "metadata": {
        "id": "T_vwMKHbs91r"
      },
      "execution_count": null,
      "outputs": []
    },
    {
      "cell_type": "code",
      "source": [
        "set_seed(42) \n",
        "bert_classifier, optimizer, scheduler = initialize_model(epochs=2, version=\"base\")\n",
        "train(bert_classifier, train_dataloader, val_dataloader, epochs=2, evaluation=True)"
      ],
      "metadata": {
        "id": "sCo5YrVZs2jU"
      },
      "execution_count": null,
      "outputs": []
    },
    {
      "cell_type": "code",
      "source": [
        "probs = bert_predict(bert_classifier, val_dataloader)\n",
        "\n",
        "# Evaluate the Bert classifier\n",
        "evaluate_roc(probs, y_val)"
      ],
      "metadata": {
        "id": "HUp-hx4vs2jV"
      },
      "execution_count": null,
      "outputs": []
    },
    {
      "cell_type": "code",
      "source": [
        "print('Tokenizing data...')\n",
        "test_inputs, test_masks = preprocessing_for_bert(X_test)\n",
        "\n",
        "# Create the DataLoader for our test set\n",
        "test_dataset = TensorDataset(test_inputs, test_masks)\n",
        "test_sampler = SequentialSampler(test_dataset)\n",
        "test_dataloader = DataLoader(test_dataset, sampler=test_sampler, batch_size=32)"
      ],
      "metadata": {
        "id": "D8_J4ZsEs2jV"
      },
      "execution_count": null,
      "outputs": []
    },
    {
      "cell_type": "code",
      "source": [
        "probs = bert_predict(bert_classifier, test_dataloader)\n",
        "\n",
        "# Get predictions from the probabilities\n",
        "threshold = 0.5\n",
        "preds = np.where(probs[:, 1] > threshold, 1, 0)\n",
        "\n",
        "# Number of tweets predicted non-negative\n",
        "print(\"no-negative tweets ratio \", preds.sum()/len(preds))"
      ],
      "metadata": {
        "id": "rSoWoSPZs2jW"
      },
      "execution_count": null,
      "outputs": []
    },
    {
      "cell_type": "code",
      "source": [
        "# Evaluate the Bert classifier for unseen test data\n",
        "evaluate_roc(probs, y_test)"
      ],
      "metadata": {
        "id": "qSqZKD1vs2jW"
      },
      "execution_count": null,
      "outputs": []
    },
    {
      "cell_type": "code",
      "source": [
        ""
      ],
      "metadata": {
        "id": "QFJkGQigsits"
      },
      "execution_count": null,
      "outputs": []
    },
    {
      "cell_type": "markdown",
      "source": [
        "Dataset 5"
      ],
      "metadata": {
        "id": "niWG8neUs4No"
      }
    },
    {
      "cell_type": "code",
      "source": [
        "X = df5.text.values\n",
        "y = df5.sentiment.values\n",
        "X_, X_test, y_, y_test = train_test_split(X, y, test_size=0.2, random_state = 42)\n",
        "X_train, X_val, y_train, y_val = train_test_split(X_, y_, test_size=0.1, random_state = 42)"
      ],
      "metadata": {
        "id": "SQV4jrVms_90"
      },
      "execution_count": null,
      "outputs": []
    },
    {
      "cell_type": "code",
      "source": [
        "# Specify `MAX_LEN`\n",
        "MAX_LEN =  280\n",
        "\n",
        "# Print sentence 0 and its encoded token ids\n",
        "token_ids = list(preprocessing_for_bert([X[0]], version=\"base\", text_preprocessing_fn=text_preprocessing)[0].squeeze().numpy())\n",
        "print('Original: ', X[0])\n",
        "print('Token IDs: ', token_ids)\n",
        "\n",
        "# Run function `preprocessing_for_bert` on the train set and the validation set\n",
        "print('Tokenizing data...')\n",
        "train_inputs, train_masks = preprocessing_for_bert(X_train, version=\"base\", text_preprocessing_fn=text_preprocessing)\n",
        "val_inputs, val_masks = preprocessing_for_bert(X_val, version=\"base\", text_preprocessing_fn=text_preprocessing)"
      ],
      "metadata": {
        "id": "unFyjf8os_91"
      },
      "execution_count": null,
      "outputs": []
    },
    {
      "cell_type": "code",
      "source": [
        "from torch.utils.data import TensorDataset, DataLoader, RandomSampler, SequentialSampler\n",
        "\n",
        "# Convert other data types to torch.Tensor\n",
        "train_labels = torch.tensor(y_train)\n",
        "val_labels = torch.tensor(y_val)\n",
        "\n",
        "# For fine-tuning BERT, the authors recommend a batch size of 16 or 32.\n",
        "batch_size = 16\n",
        "\n",
        "# Create the DataLoader for our training set\n",
        "train_data = TensorDataset(train_inputs, train_masks, train_labels)\n",
        "train_sampler = RandomSampler(train_data)\n",
        "train_dataloader = DataLoader(train_data, sampler=train_sampler, batch_size=batch_size)\n",
        "\n",
        "# Create the DataLoader for our validation set\n",
        "val_data = TensorDataset(val_inputs, val_masks, val_labels)\n",
        "val_sampler = SequentialSampler(val_data)\n",
        "val_dataloader = DataLoader(val_data, sampler=val_sampler, batch_size=batch_size)"
      ],
      "metadata": {
        "id": "OBSt28hOs_92"
      },
      "execution_count": null,
      "outputs": []
    },
    {
      "cell_type": "code",
      "source": [
        "set_seed(42) \n",
        "bert_classifier, optimizer, scheduler = initialize_model(epochs=2, version=\"base\")\n",
        "train(bert_classifier, train_dataloader, val_dataloader, epochs=2, evaluation=True)"
      ],
      "metadata": {
        "id": "CyEj0m9ms56o"
      },
      "execution_count": null,
      "outputs": []
    },
    {
      "cell_type": "code",
      "source": [
        "probs = bert_predict(bert_classifier, val_dataloader)\n",
        "\n",
        "# Evaluate the Bert classifier\n",
        "evaluate_roc(probs, y_val)"
      ],
      "metadata": {
        "id": "FJz8jcOQs56p"
      },
      "execution_count": null,
      "outputs": []
    },
    {
      "cell_type": "code",
      "source": [
        "print('Tokenizing data...')\n",
        "test_inputs, test_masks = preprocessing_for_bert(X_test)\n",
        "\n",
        "# Create the DataLoader for our test set\n",
        "test_dataset = TensorDataset(test_inputs, test_masks)\n",
        "test_sampler = SequentialSampler(test_dataset)\n",
        "test_dataloader = DataLoader(test_dataset, sampler=test_sampler, batch_size=32)"
      ],
      "metadata": {
        "id": "hx1c_2xbs56q"
      },
      "execution_count": null,
      "outputs": []
    },
    {
      "cell_type": "code",
      "source": [
        "probs = bert_predict(bert_classifier, test_dataloader)\n",
        "\n",
        "# Get predictions from the probabilities\n",
        "threshold = 0.5\n",
        "preds = np.where(probs[:, 1] > threshold, 1, 0)\n",
        "\n",
        "# Number of tweets predicted non-negative\n",
        "print(\"no-negative tweets ratio \", preds.sum()/len(preds))"
      ],
      "metadata": {
        "id": "2dz6at6Ys56q"
      },
      "execution_count": null,
      "outputs": []
    },
    {
      "cell_type": "code",
      "source": [
        "# Evaluate the Bert classifier for unseen test data\n",
        "evaluate_roc(probs, y_test)"
      ],
      "metadata": {
        "id": "UGl5A0X0s56q"
      },
      "execution_count": null,
      "outputs": []
    }
  ]
}