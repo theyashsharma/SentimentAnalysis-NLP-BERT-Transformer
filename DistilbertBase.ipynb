{
  "nbformat": 4,
  "nbformat_minor": 0,
  "metadata": {
    "colab": {
      "name": "DistilbertBase.ipynb",
      "provenance": [],
      "collapsed_sections": []
    },
    "kernelspec": {
      "name": "python3",
      "display_name": "Python 3"
    },
    "language_info": {
      "name": "python"
    },
    "accelerator": "GPU",
    "widgets": {
      "application/vnd.jupyter.widget-state+json": {
        "7ae51a72e2ee4e39901fa1839c60aca1": {
          "model_module": "@jupyter-widgets/controls",
          "model_name": "HBoxModel",
          "model_module_version": "1.5.0",
          "state": {
            "_view_name": "HBoxView",
            "_dom_classes": [],
            "_model_name": "HBoxModel",
            "_view_module": "@jupyter-widgets/controls",
            "_model_module_version": "1.5.0",
            "_view_count": null,
            "_view_module_version": "1.5.0",
            "box_style": "",
            "layout": "IPY_MODEL_c23649b0258540eeb89641fbd3ece446",
            "_model_module": "@jupyter-widgets/controls",
            "children": [
              "IPY_MODEL_b91ff7d4622642aabaa4700e6908125b",
              "IPY_MODEL_a008cd8931ba4ccdba08ee140a09fdf0",
              "IPY_MODEL_ef08200a5c854840b8b4ee445e9511fe"
            ]
          }
        },
        "c23649b0258540eeb89641fbd3ece446": {
          "model_module": "@jupyter-widgets/base",
          "model_name": "LayoutModel",
          "model_module_version": "1.2.0",
          "state": {
            "_view_name": "LayoutView",
            "grid_template_rows": null,
            "right": null,
            "justify_content": null,
            "_view_module": "@jupyter-widgets/base",
            "overflow": null,
            "_model_module_version": "1.2.0",
            "_view_count": null,
            "flex_flow": null,
            "width": null,
            "min_width": null,
            "border": null,
            "align_items": null,
            "bottom": null,
            "_model_module": "@jupyter-widgets/base",
            "top": null,
            "grid_column": null,
            "overflow_y": null,
            "overflow_x": null,
            "grid_auto_flow": null,
            "grid_area": null,
            "grid_template_columns": null,
            "flex": null,
            "_model_name": "LayoutModel",
            "justify_items": null,
            "grid_row": null,
            "max_height": null,
            "align_content": null,
            "visibility": null,
            "align_self": null,
            "height": null,
            "min_height": null,
            "padding": null,
            "grid_auto_rows": null,
            "grid_gap": null,
            "max_width": null,
            "order": null,
            "_view_module_version": "1.2.0",
            "grid_template_areas": null,
            "object_position": null,
            "object_fit": null,
            "grid_auto_columns": null,
            "margin": null,
            "display": null,
            "left": null
          }
        },
        "b91ff7d4622642aabaa4700e6908125b": {
          "model_module": "@jupyter-widgets/controls",
          "model_name": "HTMLModel",
          "model_module_version": "1.5.0",
          "state": {
            "_view_name": "HTMLView",
            "style": "IPY_MODEL_fdcd8f6a01a543bda2df8582393b1c0b",
            "_dom_classes": [],
            "description": "",
            "_model_name": "HTMLModel",
            "placeholder": "​",
            "_view_module": "@jupyter-widgets/controls",
            "_model_module_version": "1.5.0",
            "value": "Downloading: 100%",
            "_view_count": null,
            "_view_module_version": "1.5.0",
            "description_tooltip": null,
            "_model_module": "@jupyter-widgets/controls",
            "layout": "IPY_MODEL_3d82b058eb1d4e0585a68ef9dcf94cd9"
          }
        },
        "a008cd8931ba4ccdba08ee140a09fdf0": {
          "model_module": "@jupyter-widgets/controls",
          "model_name": "FloatProgressModel",
          "model_module_version": "1.5.0",
          "state": {
            "_view_name": "ProgressView",
            "style": "IPY_MODEL_00a75a34c1804897879798396b50c337",
            "_dom_classes": [],
            "description": "",
            "_model_name": "FloatProgressModel",
            "bar_style": "success",
            "max": 291,
            "_view_module": "@jupyter-widgets/controls",
            "_model_module_version": "1.5.0",
            "value": 291,
            "_view_count": null,
            "_view_module_version": "1.5.0",
            "orientation": "horizontal",
            "min": 0,
            "description_tooltip": null,
            "_model_module": "@jupyter-widgets/controls",
            "layout": "IPY_MODEL_70c42af5ccfc4be0a0b68e5e799ac776"
          }
        },
        "ef08200a5c854840b8b4ee445e9511fe": {
          "model_module": "@jupyter-widgets/controls",
          "model_name": "HTMLModel",
          "model_module_version": "1.5.0",
          "state": {
            "_view_name": "HTMLView",
            "style": "IPY_MODEL_cedb1f37d7414335b0debc961549e412",
            "_dom_classes": [],
            "description": "",
            "_model_name": "HTMLModel",
            "placeholder": "​",
            "_view_module": "@jupyter-widgets/controls",
            "_model_module_version": "1.5.0",
            "value": " 291/291 [00:00&lt;00:00, 2.68kB/s]",
            "_view_count": null,
            "_view_module_version": "1.5.0",
            "description_tooltip": null,
            "_model_module": "@jupyter-widgets/controls",
            "layout": "IPY_MODEL_3504ddea7ff34c7abfcaad94c005864e"
          }
        },
        "fdcd8f6a01a543bda2df8582393b1c0b": {
          "model_module": "@jupyter-widgets/controls",
          "model_name": "DescriptionStyleModel",
          "model_module_version": "1.5.0",
          "state": {
            "_view_name": "StyleView",
            "_model_name": "DescriptionStyleModel",
            "description_width": "",
            "_view_module": "@jupyter-widgets/base",
            "_model_module_version": "1.5.0",
            "_view_count": null,
            "_view_module_version": "1.2.0",
            "_model_module": "@jupyter-widgets/controls"
          }
        },
        "3d82b058eb1d4e0585a68ef9dcf94cd9": {
          "model_module": "@jupyter-widgets/base",
          "model_name": "LayoutModel",
          "model_module_version": "1.2.0",
          "state": {
            "_view_name": "LayoutView",
            "grid_template_rows": null,
            "right": null,
            "justify_content": null,
            "_view_module": "@jupyter-widgets/base",
            "overflow": null,
            "_model_module_version": "1.2.0",
            "_view_count": null,
            "flex_flow": null,
            "width": null,
            "min_width": null,
            "border": null,
            "align_items": null,
            "bottom": null,
            "_model_module": "@jupyter-widgets/base",
            "top": null,
            "grid_column": null,
            "overflow_y": null,
            "overflow_x": null,
            "grid_auto_flow": null,
            "grid_area": null,
            "grid_template_columns": null,
            "flex": null,
            "_model_name": "LayoutModel",
            "justify_items": null,
            "grid_row": null,
            "max_height": null,
            "align_content": null,
            "visibility": null,
            "align_self": null,
            "height": null,
            "min_height": null,
            "padding": null,
            "grid_auto_rows": null,
            "grid_gap": null,
            "max_width": null,
            "order": null,
            "_view_module_version": "1.2.0",
            "grid_template_areas": null,
            "object_position": null,
            "object_fit": null,
            "grid_auto_columns": null,
            "margin": null,
            "display": null,
            "left": null
          }
        },
        "00a75a34c1804897879798396b50c337": {
          "model_module": "@jupyter-widgets/controls",
          "model_name": "ProgressStyleModel",
          "model_module_version": "1.5.0",
          "state": {
            "_view_name": "StyleView",
            "_model_name": "ProgressStyleModel",
            "description_width": "",
            "_view_module": "@jupyter-widgets/base",
            "_model_module_version": "1.5.0",
            "_view_count": null,
            "_view_module_version": "1.2.0",
            "bar_color": null,
            "_model_module": "@jupyter-widgets/controls"
          }
        },
        "70c42af5ccfc4be0a0b68e5e799ac776": {
          "model_module": "@jupyter-widgets/base",
          "model_name": "LayoutModel",
          "model_module_version": "1.2.0",
          "state": {
            "_view_name": "LayoutView",
            "grid_template_rows": null,
            "right": null,
            "justify_content": null,
            "_view_module": "@jupyter-widgets/base",
            "overflow": null,
            "_model_module_version": "1.2.0",
            "_view_count": null,
            "flex_flow": null,
            "width": null,
            "min_width": null,
            "border": null,
            "align_items": null,
            "bottom": null,
            "_model_module": "@jupyter-widgets/base",
            "top": null,
            "grid_column": null,
            "overflow_y": null,
            "overflow_x": null,
            "grid_auto_flow": null,
            "grid_area": null,
            "grid_template_columns": null,
            "flex": null,
            "_model_name": "LayoutModel",
            "justify_items": null,
            "grid_row": null,
            "max_height": null,
            "align_content": null,
            "visibility": null,
            "align_self": null,
            "height": null,
            "min_height": null,
            "padding": null,
            "grid_auto_rows": null,
            "grid_gap": null,
            "max_width": null,
            "order": null,
            "_view_module_version": "1.2.0",
            "grid_template_areas": null,
            "object_position": null,
            "object_fit": null,
            "grid_auto_columns": null,
            "margin": null,
            "display": null,
            "left": null
          }
        },
        "cedb1f37d7414335b0debc961549e412": {
          "model_module": "@jupyter-widgets/controls",
          "model_name": "DescriptionStyleModel",
          "model_module_version": "1.5.0",
          "state": {
            "_view_name": "StyleView",
            "_model_name": "DescriptionStyleModel",
            "description_width": "",
            "_view_module": "@jupyter-widgets/base",
            "_model_module_version": "1.5.0",
            "_view_count": null,
            "_view_module_version": "1.2.0",
            "_model_module": "@jupyter-widgets/controls"
          }
        },
        "3504ddea7ff34c7abfcaad94c005864e": {
          "model_module": "@jupyter-widgets/base",
          "model_name": "LayoutModel",
          "model_module_version": "1.2.0",
          "state": {
            "_view_name": "LayoutView",
            "grid_template_rows": null,
            "right": null,
            "justify_content": null,
            "_view_module": "@jupyter-widgets/base",
            "overflow": null,
            "_model_module_version": "1.2.0",
            "_view_count": null,
            "flex_flow": null,
            "width": null,
            "min_width": null,
            "border": null,
            "align_items": null,
            "bottom": null,
            "_model_module": "@jupyter-widgets/base",
            "top": null,
            "grid_column": null,
            "overflow_y": null,
            "overflow_x": null,
            "grid_auto_flow": null,
            "grid_area": null,
            "grid_template_columns": null,
            "flex": null,
            "_model_name": "LayoutModel",
            "justify_items": null,
            "grid_row": null,
            "max_height": null,
            "align_content": null,
            "visibility": null,
            "align_self": null,
            "height": null,
            "min_height": null,
            "padding": null,
            "grid_auto_rows": null,
            "grid_gap": null,
            "max_width": null,
            "order": null,
            "_view_module_version": "1.2.0",
            "grid_template_areas": null,
            "object_position": null,
            "object_fit": null,
            "grid_auto_columns": null,
            "margin": null,
            "display": null,
            "left": null
          }
        },
        "0d6cb13e299c468681828bba45382366": {
          "model_module": "@jupyter-widgets/controls",
          "model_name": "HBoxModel",
          "model_module_version": "1.5.0",
          "state": {
            "_view_name": "HBoxView",
            "_dom_classes": [],
            "_model_name": "HBoxModel",
            "_view_module": "@jupyter-widgets/controls",
            "_model_module_version": "1.5.0",
            "_view_count": null,
            "_view_module_version": "1.5.0",
            "box_style": "",
            "layout": "IPY_MODEL_fa9431629bfc4a6bb8192e95613986ec",
            "_model_module": "@jupyter-widgets/controls",
            "children": [
              "IPY_MODEL_347aa0aacb294e5396a2acde7b34bd67",
              "IPY_MODEL_ec4bb52975f04b3996bbb5f3c23ee649",
              "IPY_MODEL_ab14975b9cbc4f34969e863bfba5b00b"
            ]
          }
        },
        "fa9431629bfc4a6bb8192e95613986ec": {
          "model_module": "@jupyter-widgets/base",
          "model_name": "LayoutModel",
          "model_module_version": "1.2.0",
          "state": {
            "_view_name": "LayoutView",
            "grid_template_rows": null,
            "right": null,
            "justify_content": null,
            "_view_module": "@jupyter-widgets/base",
            "overflow": null,
            "_model_module_version": "1.2.0",
            "_view_count": null,
            "flex_flow": null,
            "width": null,
            "min_width": null,
            "border": null,
            "align_items": null,
            "bottom": null,
            "_model_module": "@jupyter-widgets/base",
            "top": null,
            "grid_column": null,
            "overflow_y": null,
            "overflow_x": null,
            "grid_auto_flow": null,
            "grid_area": null,
            "grid_template_columns": null,
            "flex": null,
            "_model_name": "LayoutModel",
            "justify_items": null,
            "grid_row": null,
            "max_height": null,
            "align_content": null,
            "visibility": null,
            "align_self": null,
            "height": null,
            "min_height": null,
            "padding": null,
            "grid_auto_rows": null,
            "grid_gap": null,
            "max_width": null,
            "order": null,
            "_view_module_version": "1.2.0",
            "grid_template_areas": null,
            "object_position": null,
            "object_fit": null,
            "grid_auto_columns": null,
            "margin": null,
            "display": null,
            "left": null
          }
        },
        "347aa0aacb294e5396a2acde7b34bd67": {
          "model_module": "@jupyter-widgets/controls",
          "model_name": "HTMLModel",
          "model_module_version": "1.5.0",
          "state": {
            "_view_name": "HTMLView",
            "style": "IPY_MODEL_7fdc40257d734682b2cca4da0c8aab60",
            "_dom_classes": [],
            "description": "",
            "_model_name": "HTMLModel",
            "placeholder": "​",
            "_view_module": "@jupyter-widgets/controls",
            "_model_module_version": "1.5.0",
            "value": "Downloading: 100%",
            "_view_count": null,
            "_view_module_version": "1.5.0",
            "description_tooltip": null,
            "_model_module": "@jupyter-widgets/controls",
            "layout": "IPY_MODEL_dea53523b0b94974aa52c542aeab2772"
          }
        },
        "ec4bb52975f04b3996bbb5f3c23ee649": {
          "model_module": "@jupyter-widgets/controls",
          "model_name": "FloatProgressModel",
          "model_module_version": "1.5.0",
          "state": {
            "_view_name": "ProgressView",
            "style": "IPY_MODEL_aacf7bf5ee7a4a129793edf203282173",
            "_dom_classes": [],
            "description": "",
            "_model_name": "FloatProgressModel",
            "bar_style": "success",
            "max": 768,
            "_view_module": "@jupyter-widgets/controls",
            "_model_module_version": "1.5.0",
            "value": 768,
            "_view_count": null,
            "_view_module_version": "1.5.0",
            "orientation": "horizontal",
            "min": 0,
            "description_tooltip": null,
            "_model_module": "@jupyter-widgets/controls",
            "layout": "IPY_MODEL_8f7aab72bc2d4932a814b96eb15b6fc7"
          }
        },
        "ab14975b9cbc4f34969e863bfba5b00b": {
          "model_module": "@jupyter-widgets/controls",
          "model_name": "HTMLModel",
          "model_module_version": "1.5.0",
          "state": {
            "_view_name": "HTMLView",
            "style": "IPY_MODEL_75de5a1b6d4b4230aa5a3f3d72d66110",
            "_dom_classes": [],
            "description": "",
            "_model_name": "HTMLModel",
            "placeholder": "​",
            "_view_module": "@jupyter-widgets/controls",
            "_model_module_version": "1.5.0",
            "value": " 768/768 [00:00&lt;00:00, 16.1kB/s]",
            "_view_count": null,
            "_view_module_version": "1.5.0",
            "description_tooltip": null,
            "_model_module": "@jupyter-widgets/controls",
            "layout": "IPY_MODEL_21ebeba1509b4024af25375fb1944f9b"
          }
        },
        "7fdc40257d734682b2cca4da0c8aab60": {
          "model_module": "@jupyter-widgets/controls",
          "model_name": "DescriptionStyleModel",
          "model_module_version": "1.5.0",
          "state": {
            "_view_name": "StyleView",
            "_model_name": "DescriptionStyleModel",
            "description_width": "",
            "_view_module": "@jupyter-widgets/base",
            "_model_module_version": "1.5.0",
            "_view_count": null,
            "_view_module_version": "1.2.0",
            "_model_module": "@jupyter-widgets/controls"
          }
        },
        "dea53523b0b94974aa52c542aeab2772": {
          "model_module": "@jupyter-widgets/base",
          "model_name": "LayoutModel",
          "model_module_version": "1.2.0",
          "state": {
            "_view_name": "LayoutView",
            "grid_template_rows": null,
            "right": null,
            "justify_content": null,
            "_view_module": "@jupyter-widgets/base",
            "overflow": null,
            "_model_module_version": "1.2.0",
            "_view_count": null,
            "flex_flow": null,
            "width": null,
            "min_width": null,
            "border": null,
            "align_items": null,
            "bottom": null,
            "_model_module": "@jupyter-widgets/base",
            "top": null,
            "grid_column": null,
            "overflow_y": null,
            "overflow_x": null,
            "grid_auto_flow": null,
            "grid_area": null,
            "grid_template_columns": null,
            "flex": null,
            "_model_name": "LayoutModel",
            "justify_items": null,
            "grid_row": null,
            "max_height": null,
            "align_content": null,
            "visibility": null,
            "align_self": null,
            "height": null,
            "min_height": null,
            "padding": null,
            "grid_auto_rows": null,
            "grid_gap": null,
            "max_width": null,
            "order": null,
            "_view_module_version": "1.2.0",
            "grid_template_areas": null,
            "object_position": null,
            "object_fit": null,
            "grid_auto_columns": null,
            "margin": null,
            "display": null,
            "left": null
          }
        },
        "aacf7bf5ee7a4a129793edf203282173": {
          "model_module": "@jupyter-widgets/controls",
          "model_name": "ProgressStyleModel",
          "model_module_version": "1.5.0",
          "state": {
            "_view_name": "StyleView",
            "_model_name": "ProgressStyleModel",
            "description_width": "",
            "_view_module": "@jupyter-widgets/base",
            "_model_module_version": "1.5.0",
            "_view_count": null,
            "_view_module_version": "1.2.0",
            "bar_color": null,
            "_model_module": "@jupyter-widgets/controls"
          }
        },
        "8f7aab72bc2d4932a814b96eb15b6fc7": {
          "model_module": "@jupyter-widgets/base",
          "model_name": "LayoutModel",
          "model_module_version": "1.2.0",
          "state": {
            "_view_name": "LayoutView",
            "grid_template_rows": null,
            "right": null,
            "justify_content": null,
            "_view_module": "@jupyter-widgets/base",
            "overflow": null,
            "_model_module_version": "1.2.0",
            "_view_count": null,
            "flex_flow": null,
            "width": null,
            "min_width": null,
            "border": null,
            "align_items": null,
            "bottom": null,
            "_model_module": "@jupyter-widgets/base",
            "top": null,
            "grid_column": null,
            "overflow_y": null,
            "overflow_x": null,
            "grid_auto_flow": null,
            "grid_area": null,
            "grid_template_columns": null,
            "flex": null,
            "_model_name": "LayoutModel",
            "justify_items": null,
            "grid_row": null,
            "max_height": null,
            "align_content": null,
            "visibility": null,
            "align_self": null,
            "height": null,
            "min_height": null,
            "padding": null,
            "grid_auto_rows": null,
            "grid_gap": null,
            "max_width": null,
            "order": null,
            "_view_module_version": "1.2.0",
            "grid_template_areas": null,
            "object_position": null,
            "object_fit": null,
            "grid_auto_columns": null,
            "margin": null,
            "display": null,
            "left": null
          }
        },
        "75de5a1b6d4b4230aa5a3f3d72d66110": {
          "model_module": "@jupyter-widgets/controls",
          "model_name": "DescriptionStyleModel",
          "model_module_version": "1.5.0",
          "state": {
            "_view_name": "StyleView",
            "_model_name": "DescriptionStyleModel",
            "description_width": "",
            "_view_module": "@jupyter-widgets/base",
            "_model_module_version": "1.5.0",
            "_view_count": null,
            "_view_module_version": "1.2.0",
            "_model_module": "@jupyter-widgets/controls"
          }
        },
        "21ebeba1509b4024af25375fb1944f9b": {
          "model_module": "@jupyter-widgets/base",
          "model_name": "LayoutModel",
          "model_module_version": "1.2.0",
          "state": {
            "_view_name": "LayoutView",
            "grid_template_rows": null,
            "right": null,
            "justify_content": null,
            "_view_module": "@jupyter-widgets/base",
            "overflow": null,
            "_model_module_version": "1.2.0",
            "_view_count": null,
            "flex_flow": null,
            "width": null,
            "min_width": null,
            "border": null,
            "align_items": null,
            "bottom": null,
            "_model_module": "@jupyter-widgets/base",
            "top": null,
            "grid_column": null,
            "overflow_y": null,
            "overflow_x": null,
            "grid_auto_flow": null,
            "grid_area": null,
            "grid_template_columns": null,
            "flex": null,
            "_model_name": "LayoutModel",
            "justify_items": null,
            "grid_row": null,
            "max_height": null,
            "align_content": null,
            "visibility": null,
            "align_self": null,
            "height": null,
            "min_height": null,
            "padding": null,
            "grid_auto_rows": null,
            "grid_gap": null,
            "max_width": null,
            "order": null,
            "_view_module_version": "1.2.0",
            "grid_template_areas": null,
            "object_position": null,
            "object_fit": null,
            "grid_auto_columns": null,
            "margin": null,
            "display": null,
            "left": null
          }
        },
        "1f78a76fb7a24fcc8bd435a74df2c555": {
          "model_module": "@jupyter-widgets/controls",
          "model_name": "HBoxModel",
          "model_module_version": "1.5.0",
          "state": {
            "_view_name": "HBoxView",
            "_dom_classes": [],
            "_model_name": "HBoxModel",
            "_view_module": "@jupyter-widgets/controls",
            "_model_module_version": "1.5.0",
            "_view_count": null,
            "_view_module_version": "1.5.0",
            "box_style": "",
            "layout": "IPY_MODEL_55d61847c3f346048a28b70f7f631963",
            "_model_module": "@jupyter-widgets/controls",
            "children": [
              "IPY_MODEL_8abecdb490db4af582b1f501903ecf58",
              "IPY_MODEL_88e7273355bd44df9b2f2d573f4f5ce9",
              "IPY_MODEL_3ad54cbbb96b4b91b5f800376fda7de2"
            ]
          }
        },
        "55d61847c3f346048a28b70f7f631963": {
          "model_module": "@jupyter-widgets/base",
          "model_name": "LayoutModel",
          "model_module_version": "1.2.0",
          "state": {
            "_view_name": "LayoutView",
            "grid_template_rows": null,
            "right": null,
            "justify_content": null,
            "_view_module": "@jupyter-widgets/base",
            "overflow": null,
            "_model_module_version": "1.2.0",
            "_view_count": null,
            "flex_flow": null,
            "width": null,
            "min_width": null,
            "border": null,
            "align_items": null,
            "bottom": null,
            "_model_module": "@jupyter-widgets/base",
            "top": null,
            "grid_column": null,
            "overflow_y": null,
            "overflow_x": null,
            "grid_auto_flow": null,
            "grid_area": null,
            "grid_template_columns": null,
            "flex": null,
            "_model_name": "LayoutModel",
            "justify_items": null,
            "grid_row": null,
            "max_height": null,
            "align_content": null,
            "visibility": null,
            "align_self": null,
            "height": null,
            "min_height": null,
            "padding": null,
            "grid_auto_rows": null,
            "grid_gap": null,
            "max_width": null,
            "order": null,
            "_view_module_version": "1.2.0",
            "grid_template_areas": null,
            "object_position": null,
            "object_fit": null,
            "grid_auto_columns": null,
            "margin": null,
            "display": null,
            "left": null
          }
        },
        "8abecdb490db4af582b1f501903ecf58": {
          "model_module": "@jupyter-widgets/controls",
          "model_name": "HTMLModel",
          "model_module_version": "1.5.0",
          "state": {
            "_view_name": "HTMLView",
            "style": "IPY_MODEL_adc5aa62e9314d9fa36b1fca79c8ffad",
            "_dom_classes": [],
            "description": "",
            "_model_name": "HTMLModel",
            "placeholder": "​",
            "_view_module": "@jupyter-widgets/controls",
            "_model_module_version": "1.5.0",
            "value": "Downloading: 100%",
            "_view_count": null,
            "_view_module_version": "1.5.0",
            "description_tooltip": null,
            "_model_module": "@jupyter-widgets/controls",
            "layout": "IPY_MODEL_a4aafcac7d4a47b88fb92757ec91f2ff"
          }
        },
        "88e7273355bd44df9b2f2d573f4f5ce9": {
          "model_module": "@jupyter-widgets/controls",
          "model_name": "FloatProgressModel",
          "model_module_version": "1.5.0",
          "state": {
            "_view_name": "ProgressView",
            "style": "IPY_MODEL_a2adb2107f7249628707eceee2b59e43",
            "_dom_classes": [],
            "description": "",
            "_model_name": "FloatProgressModel",
            "bar_style": "success",
            "max": 231508,
            "_view_module": "@jupyter-widgets/controls",
            "_model_module_version": "1.5.0",
            "value": 231508,
            "_view_count": null,
            "_view_module_version": "1.5.0",
            "orientation": "horizontal",
            "min": 0,
            "description_tooltip": null,
            "_model_module": "@jupyter-widgets/controls",
            "layout": "IPY_MODEL_f98fa8d4810b4a0d885fedca5fece20c"
          }
        },
        "3ad54cbbb96b4b91b5f800376fda7de2": {
          "model_module": "@jupyter-widgets/controls",
          "model_name": "HTMLModel",
          "model_module_version": "1.5.0",
          "state": {
            "_view_name": "HTMLView",
            "style": "IPY_MODEL_0d6bdf6a088c4b0ea99845b02302b3e8",
            "_dom_classes": [],
            "description": "",
            "_model_name": "HTMLModel",
            "placeholder": "​",
            "_view_module": "@jupyter-widgets/controls",
            "_model_module_version": "1.5.0",
            "value": " 226k/226k [00:00&lt;00:00, 998kB/s]",
            "_view_count": null,
            "_view_module_version": "1.5.0",
            "description_tooltip": null,
            "_model_module": "@jupyter-widgets/controls",
            "layout": "IPY_MODEL_1177ef9a4c1f44f5a0aae51678ca729b"
          }
        },
        "adc5aa62e9314d9fa36b1fca79c8ffad": {
          "model_module": "@jupyter-widgets/controls",
          "model_name": "DescriptionStyleModel",
          "model_module_version": "1.5.0",
          "state": {
            "_view_name": "StyleView",
            "_model_name": "DescriptionStyleModel",
            "description_width": "",
            "_view_module": "@jupyter-widgets/base",
            "_model_module_version": "1.5.0",
            "_view_count": null,
            "_view_module_version": "1.2.0",
            "_model_module": "@jupyter-widgets/controls"
          }
        },
        "a4aafcac7d4a47b88fb92757ec91f2ff": {
          "model_module": "@jupyter-widgets/base",
          "model_name": "LayoutModel",
          "model_module_version": "1.2.0",
          "state": {
            "_view_name": "LayoutView",
            "grid_template_rows": null,
            "right": null,
            "justify_content": null,
            "_view_module": "@jupyter-widgets/base",
            "overflow": null,
            "_model_module_version": "1.2.0",
            "_view_count": null,
            "flex_flow": null,
            "width": null,
            "min_width": null,
            "border": null,
            "align_items": null,
            "bottom": null,
            "_model_module": "@jupyter-widgets/base",
            "top": null,
            "grid_column": null,
            "overflow_y": null,
            "overflow_x": null,
            "grid_auto_flow": null,
            "grid_area": null,
            "grid_template_columns": null,
            "flex": null,
            "_model_name": "LayoutModel",
            "justify_items": null,
            "grid_row": null,
            "max_height": null,
            "align_content": null,
            "visibility": null,
            "align_self": null,
            "height": null,
            "min_height": null,
            "padding": null,
            "grid_auto_rows": null,
            "grid_gap": null,
            "max_width": null,
            "order": null,
            "_view_module_version": "1.2.0",
            "grid_template_areas": null,
            "object_position": null,
            "object_fit": null,
            "grid_auto_columns": null,
            "margin": null,
            "display": null,
            "left": null
          }
        },
        "a2adb2107f7249628707eceee2b59e43": {
          "model_module": "@jupyter-widgets/controls",
          "model_name": "ProgressStyleModel",
          "model_module_version": "1.5.0",
          "state": {
            "_view_name": "StyleView",
            "_model_name": "ProgressStyleModel",
            "description_width": "",
            "_view_module": "@jupyter-widgets/base",
            "_model_module_version": "1.5.0",
            "_view_count": null,
            "_view_module_version": "1.2.0",
            "bar_color": null,
            "_model_module": "@jupyter-widgets/controls"
          }
        },
        "f98fa8d4810b4a0d885fedca5fece20c": {
          "model_module": "@jupyter-widgets/base",
          "model_name": "LayoutModel",
          "model_module_version": "1.2.0",
          "state": {
            "_view_name": "LayoutView",
            "grid_template_rows": null,
            "right": null,
            "justify_content": null,
            "_view_module": "@jupyter-widgets/base",
            "overflow": null,
            "_model_module_version": "1.2.0",
            "_view_count": null,
            "flex_flow": null,
            "width": null,
            "min_width": null,
            "border": null,
            "align_items": null,
            "bottom": null,
            "_model_module": "@jupyter-widgets/base",
            "top": null,
            "grid_column": null,
            "overflow_y": null,
            "overflow_x": null,
            "grid_auto_flow": null,
            "grid_area": null,
            "grid_template_columns": null,
            "flex": null,
            "_model_name": "LayoutModel",
            "justify_items": null,
            "grid_row": null,
            "max_height": null,
            "align_content": null,
            "visibility": null,
            "align_self": null,
            "height": null,
            "min_height": null,
            "padding": null,
            "grid_auto_rows": null,
            "grid_gap": null,
            "max_width": null,
            "order": null,
            "_view_module_version": "1.2.0",
            "grid_template_areas": null,
            "object_position": null,
            "object_fit": null,
            "grid_auto_columns": null,
            "margin": null,
            "display": null,
            "left": null
          }
        },
        "0d6bdf6a088c4b0ea99845b02302b3e8": {
          "model_module": "@jupyter-widgets/controls",
          "model_name": "DescriptionStyleModel",
          "model_module_version": "1.5.0",
          "state": {
            "_view_name": "StyleView",
            "_model_name": "DescriptionStyleModel",
            "description_width": "",
            "_view_module": "@jupyter-widgets/base",
            "_model_module_version": "1.5.0",
            "_view_count": null,
            "_view_module_version": "1.2.0",
            "_model_module": "@jupyter-widgets/controls"
          }
        },
        "1177ef9a4c1f44f5a0aae51678ca729b": {
          "model_module": "@jupyter-widgets/base",
          "model_name": "LayoutModel",
          "model_module_version": "1.2.0",
          "state": {
            "_view_name": "LayoutView",
            "grid_template_rows": null,
            "right": null,
            "justify_content": null,
            "_view_module": "@jupyter-widgets/base",
            "overflow": null,
            "_model_module_version": "1.2.0",
            "_view_count": null,
            "flex_flow": null,
            "width": null,
            "min_width": null,
            "border": null,
            "align_items": null,
            "bottom": null,
            "_model_module": "@jupyter-widgets/base",
            "top": null,
            "grid_column": null,
            "overflow_y": null,
            "overflow_x": null,
            "grid_auto_flow": null,
            "grid_area": null,
            "grid_template_columns": null,
            "flex": null,
            "_model_name": "LayoutModel",
            "justify_items": null,
            "grid_row": null,
            "max_height": null,
            "align_content": null,
            "visibility": null,
            "align_self": null,
            "height": null,
            "min_height": null,
            "padding": null,
            "grid_auto_rows": null,
            "grid_gap": null,
            "max_width": null,
            "order": null,
            "_view_module_version": "1.2.0",
            "grid_template_areas": null,
            "object_position": null,
            "object_fit": null,
            "grid_auto_columns": null,
            "margin": null,
            "display": null,
            "left": null
          }
        },
        "78e5ba924d104256a06f0037e52e0128": {
          "model_module": "@jupyter-widgets/controls",
          "model_name": "HBoxModel",
          "model_module_version": "1.5.0",
          "state": {
            "_view_name": "HBoxView",
            "_dom_classes": [],
            "_model_name": "HBoxModel",
            "_view_module": "@jupyter-widgets/controls",
            "_model_module_version": "1.5.0",
            "_view_count": null,
            "_view_module_version": "1.5.0",
            "box_style": "",
            "layout": "IPY_MODEL_cfbbc4372f3d4c9f8b130113779ed637",
            "_model_module": "@jupyter-widgets/controls",
            "children": [
              "IPY_MODEL_4a411fbd38ba4d4fad309789919f23f2",
              "IPY_MODEL_076e0587823a42fdbc71b307adda03c6",
              "IPY_MODEL_29002108eb1b420bbfff101248620301"
            ]
          }
        },
        "cfbbc4372f3d4c9f8b130113779ed637": {
          "model_module": "@jupyter-widgets/base",
          "model_name": "LayoutModel",
          "model_module_version": "1.2.0",
          "state": {
            "_view_name": "LayoutView",
            "grid_template_rows": null,
            "right": null,
            "justify_content": null,
            "_view_module": "@jupyter-widgets/base",
            "overflow": null,
            "_model_module_version": "1.2.0",
            "_view_count": null,
            "flex_flow": null,
            "width": null,
            "min_width": null,
            "border": null,
            "align_items": null,
            "bottom": null,
            "_model_module": "@jupyter-widgets/base",
            "top": null,
            "grid_column": null,
            "overflow_y": null,
            "overflow_x": null,
            "grid_auto_flow": null,
            "grid_area": null,
            "grid_template_columns": null,
            "flex": null,
            "_model_name": "LayoutModel",
            "justify_items": null,
            "grid_row": null,
            "max_height": null,
            "align_content": null,
            "visibility": null,
            "align_self": null,
            "height": null,
            "min_height": null,
            "padding": null,
            "grid_auto_rows": null,
            "grid_gap": null,
            "max_width": null,
            "order": null,
            "_view_module_version": "1.2.0",
            "grid_template_areas": null,
            "object_position": null,
            "object_fit": null,
            "grid_auto_columns": null,
            "margin": null,
            "display": null,
            "left": null
          }
        },
        "4a411fbd38ba4d4fad309789919f23f2": {
          "model_module": "@jupyter-widgets/controls",
          "model_name": "HTMLModel",
          "model_module_version": "1.5.0",
          "state": {
            "_view_name": "HTMLView",
            "style": "IPY_MODEL_ecbf42274f674fb5b1694e3fbdaa1300",
            "_dom_classes": [],
            "description": "",
            "_model_name": "HTMLModel",
            "placeholder": "​",
            "_view_module": "@jupyter-widgets/controls",
            "_model_module_version": "1.5.0",
            "value": "Downloading: 100%",
            "_view_count": null,
            "_view_module_version": "1.5.0",
            "description_tooltip": null,
            "_model_module": "@jupyter-widgets/controls",
            "layout": "IPY_MODEL_1ca804d9a3d24336b988f35f0ca6b2a0"
          }
        },
        "076e0587823a42fdbc71b307adda03c6": {
          "model_module": "@jupyter-widgets/controls",
          "model_name": "FloatProgressModel",
          "model_module_version": "1.5.0",
          "state": {
            "_view_name": "ProgressView",
            "style": "IPY_MODEL_a9fde397bbb945d097c067c7d63823c8",
            "_dom_classes": [],
            "description": "",
            "_model_name": "FloatProgressModel",
            "bar_style": "success",
            "max": 112,
            "_view_module": "@jupyter-widgets/controls",
            "_model_module_version": "1.5.0",
            "value": 112,
            "_view_count": null,
            "_view_module_version": "1.5.0",
            "orientation": "horizontal",
            "min": 0,
            "description_tooltip": null,
            "_model_module": "@jupyter-widgets/controls",
            "layout": "IPY_MODEL_27e5a135272f4431a5b4c7a34b3c0619"
          }
        },
        "29002108eb1b420bbfff101248620301": {
          "model_module": "@jupyter-widgets/controls",
          "model_name": "HTMLModel",
          "model_module_version": "1.5.0",
          "state": {
            "_view_name": "HTMLView",
            "style": "IPY_MODEL_3f4c4c240cb4441381d92c53ac515f58",
            "_dom_classes": [],
            "description": "",
            "_model_name": "HTMLModel",
            "placeholder": "​",
            "_view_module": "@jupyter-widgets/controls",
            "_model_module_version": "1.5.0",
            "value": " 112/112 [00:00&lt;00:00, 2.59kB/s]",
            "_view_count": null,
            "_view_module_version": "1.5.0",
            "description_tooltip": null,
            "_model_module": "@jupyter-widgets/controls",
            "layout": "IPY_MODEL_afddb6d7ae2544dd87f88ff11272fc6a"
          }
        },
        "ecbf42274f674fb5b1694e3fbdaa1300": {
          "model_module": "@jupyter-widgets/controls",
          "model_name": "DescriptionStyleModel",
          "model_module_version": "1.5.0",
          "state": {
            "_view_name": "StyleView",
            "_model_name": "DescriptionStyleModel",
            "description_width": "",
            "_view_module": "@jupyter-widgets/base",
            "_model_module_version": "1.5.0",
            "_view_count": null,
            "_view_module_version": "1.2.0",
            "_model_module": "@jupyter-widgets/controls"
          }
        },
        "1ca804d9a3d24336b988f35f0ca6b2a0": {
          "model_module": "@jupyter-widgets/base",
          "model_name": "LayoutModel",
          "model_module_version": "1.2.0",
          "state": {
            "_view_name": "LayoutView",
            "grid_template_rows": null,
            "right": null,
            "justify_content": null,
            "_view_module": "@jupyter-widgets/base",
            "overflow": null,
            "_model_module_version": "1.2.0",
            "_view_count": null,
            "flex_flow": null,
            "width": null,
            "min_width": null,
            "border": null,
            "align_items": null,
            "bottom": null,
            "_model_module": "@jupyter-widgets/base",
            "top": null,
            "grid_column": null,
            "overflow_y": null,
            "overflow_x": null,
            "grid_auto_flow": null,
            "grid_area": null,
            "grid_template_columns": null,
            "flex": null,
            "_model_name": "LayoutModel",
            "justify_items": null,
            "grid_row": null,
            "max_height": null,
            "align_content": null,
            "visibility": null,
            "align_self": null,
            "height": null,
            "min_height": null,
            "padding": null,
            "grid_auto_rows": null,
            "grid_gap": null,
            "max_width": null,
            "order": null,
            "_view_module_version": "1.2.0",
            "grid_template_areas": null,
            "object_position": null,
            "object_fit": null,
            "grid_auto_columns": null,
            "margin": null,
            "display": null,
            "left": null
          }
        },
        "a9fde397bbb945d097c067c7d63823c8": {
          "model_module": "@jupyter-widgets/controls",
          "model_name": "ProgressStyleModel",
          "model_module_version": "1.5.0",
          "state": {
            "_view_name": "StyleView",
            "_model_name": "ProgressStyleModel",
            "description_width": "",
            "_view_module": "@jupyter-widgets/base",
            "_model_module_version": "1.5.0",
            "_view_count": null,
            "_view_module_version": "1.2.0",
            "bar_color": null,
            "_model_module": "@jupyter-widgets/controls"
          }
        },
        "27e5a135272f4431a5b4c7a34b3c0619": {
          "model_module": "@jupyter-widgets/base",
          "model_name": "LayoutModel",
          "model_module_version": "1.2.0",
          "state": {
            "_view_name": "LayoutView",
            "grid_template_rows": null,
            "right": null,
            "justify_content": null,
            "_view_module": "@jupyter-widgets/base",
            "overflow": null,
            "_model_module_version": "1.2.0",
            "_view_count": null,
            "flex_flow": null,
            "width": null,
            "min_width": null,
            "border": null,
            "align_items": null,
            "bottom": null,
            "_model_module": "@jupyter-widgets/base",
            "top": null,
            "grid_column": null,
            "overflow_y": null,
            "overflow_x": null,
            "grid_auto_flow": null,
            "grid_area": null,
            "grid_template_columns": null,
            "flex": null,
            "_model_name": "LayoutModel",
            "justify_items": null,
            "grid_row": null,
            "max_height": null,
            "align_content": null,
            "visibility": null,
            "align_self": null,
            "height": null,
            "min_height": null,
            "padding": null,
            "grid_auto_rows": null,
            "grid_gap": null,
            "max_width": null,
            "order": null,
            "_view_module_version": "1.2.0",
            "grid_template_areas": null,
            "object_position": null,
            "object_fit": null,
            "grid_auto_columns": null,
            "margin": null,
            "display": null,
            "left": null
          }
        },
        "3f4c4c240cb4441381d92c53ac515f58": {
          "model_module": "@jupyter-widgets/controls",
          "model_name": "DescriptionStyleModel",
          "model_module_version": "1.5.0",
          "state": {
            "_view_name": "StyleView",
            "_model_name": "DescriptionStyleModel",
            "description_width": "",
            "_view_module": "@jupyter-widgets/base",
            "_model_module_version": "1.5.0",
            "_view_count": null,
            "_view_module_version": "1.2.0",
            "_model_module": "@jupyter-widgets/controls"
          }
        },
        "afddb6d7ae2544dd87f88ff11272fc6a": {
          "model_module": "@jupyter-widgets/base",
          "model_name": "LayoutModel",
          "model_module_version": "1.2.0",
          "state": {
            "_view_name": "LayoutView",
            "grid_template_rows": null,
            "right": null,
            "justify_content": null,
            "_view_module": "@jupyter-widgets/base",
            "overflow": null,
            "_model_module_version": "1.2.0",
            "_view_count": null,
            "flex_flow": null,
            "width": null,
            "min_width": null,
            "border": null,
            "align_items": null,
            "bottom": null,
            "_model_module": "@jupyter-widgets/base",
            "top": null,
            "grid_column": null,
            "overflow_y": null,
            "overflow_x": null,
            "grid_auto_flow": null,
            "grid_area": null,
            "grid_template_columns": null,
            "flex": null,
            "_model_name": "LayoutModel",
            "justify_items": null,
            "grid_row": null,
            "max_height": null,
            "align_content": null,
            "visibility": null,
            "align_self": null,
            "height": null,
            "min_height": null,
            "padding": null,
            "grid_auto_rows": null,
            "grid_gap": null,
            "max_width": null,
            "order": null,
            "_view_module_version": "1.2.0",
            "grid_template_areas": null,
            "object_position": null,
            "object_fit": null,
            "grid_auto_columns": null,
            "margin": null,
            "display": null,
            "left": null
          }
        },
        "a2ac01b256cb46cc921b8758781eb954": {
          "model_module": "@jupyter-widgets/controls",
          "model_name": "HBoxModel",
          "model_module_version": "1.5.0",
          "state": {
            "_view_name": "HBoxView",
            "_dom_classes": [],
            "_model_name": "HBoxModel",
            "_view_module": "@jupyter-widgets/controls",
            "_model_module_version": "1.5.0",
            "_view_count": null,
            "_view_module_version": "1.5.0",
            "box_style": "",
            "layout": "IPY_MODEL_0cca29206e764f34be2b126d0706e43c",
            "_model_module": "@jupyter-widgets/controls",
            "children": [
              "IPY_MODEL_74c4ff82a1eb499fbf054876b585bd72",
              "IPY_MODEL_dcb48b5f19964cc9992721812372b2af",
              "IPY_MODEL_53ba82690e084df0abfb3533a7de3db7"
            ]
          }
        },
        "0cca29206e764f34be2b126d0706e43c": {
          "model_module": "@jupyter-widgets/base",
          "model_name": "LayoutModel",
          "model_module_version": "1.2.0",
          "state": {
            "_view_name": "LayoutView",
            "grid_template_rows": null,
            "right": null,
            "justify_content": null,
            "_view_module": "@jupyter-widgets/base",
            "overflow": null,
            "_model_module_version": "1.2.0",
            "_view_count": null,
            "flex_flow": null,
            "width": null,
            "min_width": null,
            "border": null,
            "align_items": null,
            "bottom": null,
            "_model_module": "@jupyter-widgets/base",
            "top": null,
            "grid_column": null,
            "overflow_y": null,
            "overflow_x": null,
            "grid_auto_flow": null,
            "grid_area": null,
            "grid_template_columns": null,
            "flex": null,
            "_model_name": "LayoutModel",
            "justify_items": null,
            "grid_row": null,
            "max_height": null,
            "align_content": null,
            "visibility": null,
            "align_self": null,
            "height": null,
            "min_height": null,
            "padding": null,
            "grid_auto_rows": null,
            "grid_gap": null,
            "max_width": null,
            "order": null,
            "_view_module_version": "1.2.0",
            "grid_template_areas": null,
            "object_position": null,
            "object_fit": null,
            "grid_auto_columns": null,
            "margin": null,
            "display": null,
            "left": null
          }
        },
        "74c4ff82a1eb499fbf054876b585bd72": {
          "model_module": "@jupyter-widgets/controls",
          "model_name": "HTMLModel",
          "model_module_version": "1.5.0",
          "state": {
            "_view_name": "HTMLView",
            "style": "IPY_MODEL_f9616694d1d941f480c5a5322368ca72",
            "_dom_classes": [],
            "description": "",
            "_model_name": "HTMLModel",
            "placeholder": "​",
            "_view_module": "@jupyter-widgets/controls",
            "_model_module_version": "1.5.0",
            "value": "Downloading: 100%",
            "_view_count": null,
            "_view_module_version": "1.5.0",
            "description_tooltip": null,
            "_model_module": "@jupyter-widgets/controls",
            "layout": "IPY_MODEL_80eeda6db29046f1b670c472e1b28bfe"
          }
        },
        "dcb48b5f19964cc9992721812372b2af": {
          "model_module": "@jupyter-widgets/controls",
          "model_name": "FloatProgressModel",
          "model_module_version": "1.5.0",
          "state": {
            "_view_name": "ProgressView",
            "style": "IPY_MODEL_c1b5f7cb132d41e0ae3014b978880e38",
            "_dom_classes": [],
            "description": "",
            "_model_name": "FloatProgressModel",
            "bar_style": "success",
            "max": 267875479,
            "_view_module": "@jupyter-widgets/controls",
            "_model_module_version": "1.5.0",
            "value": 267875479,
            "_view_count": null,
            "_view_module_version": "1.5.0",
            "orientation": "horizontal",
            "min": 0,
            "description_tooltip": null,
            "_model_module": "@jupyter-widgets/controls",
            "layout": "IPY_MODEL_405741e246c04266873f6801d7717ece"
          }
        },
        "53ba82690e084df0abfb3533a7de3db7": {
          "model_module": "@jupyter-widgets/controls",
          "model_name": "HTMLModel",
          "model_module_version": "1.5.0",
          "state": {
            "_view_name": "HTMLView",
            "style": "IPY_MODEL_c0f729e6de0d47288a357ab6eb21bb1f",
            "_dom_classes": [],
            "description": "",
            "_model_name": "HTMLModel",
            "placeholder": "​",
            "_view_module": "@jupyter-widgets/controls",
            "_model_module_version": "1.5.0",
            "value": " 255M/255M [00:18&lt;00:00, 9.26MB/s]",
            "_view_count": null,
            "_view_module_version": "1.5.0",
            "description_tooltip": null,
            "_model_module": "@jupyter-widgets/controls",
            "layout": "IPY_MODEL_f96a954db9ae4005a103333aa23cdbc2"
          }
        },
        "f9616694d1d941f480c5a5322368ca72": {
          "model_module": "@jupyter-widgets/controls",
          "model_name": "DescriptionStyleModel",
          "model_module_version": "1.5.0",
          "state": {
            "_view_name": "StyleView",
            "_model_name": "DescriptionStyleModel",
            "description_width": "",
            "_view_module": "@jupyter-widgets/base",
            "_model_module_version": "1.5.0",
            "_view_count": null,
            "_view_module_version": "1.2.0",
            "_model_module": "@jupyter-widgets/controls"
          }
        },
        "80eeda6db29046f1b670c472e1b28bfe": {
          "model_module": "@jupyter-widgets/base",
          "model_name": "LayoutModel",
          "model_module_version": "1.2.0",
          "state": {
            "_view_name": "LayoutView",
            "grid_template_rows": null,
            "right": null,
            "justify_content": null,
            "_view_module": "@jupyter-widgets/base",
            "overflow": null,
            "_model_module_version": "1.2.0",
            "_view_count": null,
            "flex_flow": null,
            "width": null,
            "min_width": null,
            "border": null,
            "align_items": null,
            "bottom": null,
            "_model_module": "@jupyter-widgets/base",
            "top": null,
            "grid_column": null,
            "overflow_y": null,
            "overflow_x": null,
            "grid_auto_flow": null,
            "grid_area": null,
            "grid_template_columns": null,
            "flex": null,
            "_model_name": "LayoutModel",
            "justify_items": null,
            "grid_row": null,
            "max_height": null,
            "align_content": null,
            "visibility": null,
            "align_self": null,
            "height": null,
            "min_height": null,
            "padding": null,
            "grid_auto_rows": null,
            "grid_gap": null,
            "max_width": null,
            "order": null,
            "_view_module_version": "1.2.0",
            "grid_template_areas": null,
            "object_position": null,
            "object_fit": null,
            "grid_auto_columns": null,
            "margin": null,
            "display": null,
            "left": null
          }
        },
        "c1b5f7cb132d41e0ae3014b978880e38": {
          "model_module": "@jupyter-widgets/controls",
          "model_name": "ProgressStyleModel",
          "model_module_version": "1.5.0",
          "state": {
            "_view_name": "StyleView",
            "_model_name": "ProgressStyleModel",
            "description_width": "",
            "_view_module": "@jupyter-widgets/base",
            "_model_module_version": "1.5.0",
            "_view_count": null,
            "_view_module_version": "1.2.0",
            "bar_color": null,
            "_model_module": "@jupyter-widgets/controls"
          }
        },
        "405741e246c04266873f6801d7717ece": {
          "model_module": "@jupyter-widgets/base",
          "model_name": "LayoutModel",
          "model_module_version": "1.2.0",
          "state": {
            "_view_name": "LayoutView",
            "grid_template_rows": null,
            "right": null,
            "justify_content": null,
            "_view_module": "@jupyter-widgets/base",
            "overflow": null,
            "_model_module_version": "1.2.0",
            "_view_count": null,
            "flex_flow": null,
            "width": null,
            "min_width": null,
            "border": null,
            "align_items": null,
            "bottom": null,
            "_model_module": "@jupyter-widgets/base",
            "top": null,
            "grid_column": null,
            "overflow_y": null,
            "overflow_x": null,
            "grid_auto_flow": null,
            "grid_area": null,
            "grid_template_columns": null,
            "flex": null,
            "_model_name": "LayoutModel",
            "justify_items": null,
            "grid_row": null,
            "max_height": null,
            "align_content": null,
            "visibility": null,
            "align_self": null,
            "height": null,
            "min_height": null,
            "padding": null,
            "grid_auto_rows": null,
            "grid_gap": null,
            "max_width": null,
            "order": null,
            "_view_module_version": "1.2.0",
            "grid_template_areas": null,
            "object_position": null,
            "object_fit": null,
            "grid_auto_columns": null,
            "margin": null,
            "display": null,
            "left": null
          }
        },
        "c0f729e6de0d47288a357ab6eb21bb1f": {
          "model_module": "@jupyter-widgets/controls",
          "model_name": "DescriptionStyleModel",
          "model_module_version": "1.5.0",
          "state": {
            "_view_name": "StyleView",
            "_model_name": "DescriptionStyleModel",
            "description_width": "",
            "_view_module": "@jupyter-widgets/base",
            "_model_module_version": "1.5.0",
            "_view_count": null,
            "_view_module_version": "1.2.0",
            "_model_module": "@jupyter-widgets/controls"
          }
        },
        "f96a954db9ae4005a103333aa23cdbc2": {
          "model_module": "@jupyter-widgets/base",
          "model_name": "LayoutModel",
          "model_module_version": "1.2.0",
          "state": {
            "_view_name": "LayoutView",
            "grid_template_rows": null,
            "right": null,
            "justify_content": null,
            "_view_module": "@jupyter-widgets/base",
            "overflow": null,
            "_model_module_version": "1.2.0",
            "_view_count": null,
            "flex_flow": null,
            "width": null,
            "min_width": null,
            "border": null,
            "align_items": null,
            "bottom": null,
            "_model_module": "@jupyter-widgets/base",
            "top": null,
            "grid_column": null,
            "overflow_y": null,
            "overflow_x": null,
            "grid_auto_flow": null,
            "grid_area": null,
            "grid_template_columns": null,
            "flex": null,
            "_model_name": "LayoutModel",
            "justify_items": null,
            "grid_row": null,
            "max_height": null,
            "align_content": null,
            "visibility": null,
            "align_self": null,
            "height": null,
            "min_height": null,
            "padding": null,
            "grid_auto_rows": null,
            "grid_gap": null,
            "max_width": null,
            "order": null,
            "_view_module_version": "1.2.0",
            "grid_template_areas": null,
            "object_position": null,
            "object_fit": null,
            "grid_auto_columns": null,
            "margin": null,
            "display": null,
            "left": null
          }
        }
      }
    }
  },
  "cells": [
    {
      "cell_type": "markdown",
      "source": [
        "# Sentiment classification with English Twitter Datasets"
      ],
      "metadata": {
        "id": "05KYS_pnO3Dq"
      }
    },
    {
      "cell_type": "markdown",
      "source": [
        "## Importing Libraries"
      ],
      "metadata": {
        "id": "8_6lr4dbPZNZ"
      }
    },
    {
      "cell_type": "code",
      "execution_count": 1,
      "metadata": {
        "id": "O2ganP7WOcv-"
      },
      "outputs": [],
      "source": [
        "import os\n",
        "import re\n",
        "from tqdm import tqdm\n",
        "import numpy as np\n",
        "import pandas as pd\n",
        "import matplotlib.pyplot as plt\n",
        "import csv\n",
        "%matplotlib inline"
      ]
    },
    {
      "cell_type": "markdown",
      "source": [
        "## 1 ) Loading Datasets"
      ],
      "metadata": {
        "id": "IpJdkXmSPKfj"
      }
    },
    {
      "cell_type": "code",
      "source": [
        "df1 = pd.read_csv('tweets_sqgames.csv')\n",
        "df1 = df1.loc[:, ['text', 'sentiment']]\n",
        "label_mapping = {\"Positive\": 1, \"Negative\":0}\n",
        "df1 = df1[df1.sentiment != \"Neutral\"]\n",
        "df1[\"sentiment\"] = df1[\"sentiment\"].map(label_mapping)"
      ],
      "metadata": {
        "id": "E200bW4uv0hW"
      },
      "execution_count": 2,
      "outputs": []
    },
    {
      "cell_type": "code",
      "source": [
        "df2 = pd.read_csv('Tweets.csv')\n",
        "df2 = df2.loc[:, ['text', 'airline_sentiment']]\n",
        "df2 = df2.rename(columns = {\"airline_sentiment\":\"sentiment\"})\n",
        "label_mapping = {\"positive\": 1, \"negative\":0}\n",
        "df2 = df2[df2.sentiment != \"neutral\"]\n",
        "df2[\"sentiment\"] = df2[\"sentiment\"].map(label_mapping)"
      ],
      "metadata": {
        "id": "9zdyPvyDv0kq"
      },
      "execution_count": 3,
      "outputs": []
    },
    {
      "cell_type": "code",
      "source": [
        "df3 = pd.read_csv('apple-twitter-sentiment-texts.csv')\n",
        "label_mapping = {1: 1, -1:0}\n",
        "df3 = df3[df3.sentiment != 0]\n",
        "df3[\"sentiment\"] = df3[\"sentiment\"].map(label_mapping)"
      ],
      "metadata": {
        "id": "wKAkAPNlv0r6"
      },
      "execution_count": 4,
      "outputs": []
    },
    {
      "cell_type": "code",
      "source": [
        "df4 = pd.read_csv('Apple-Twitter-Sentiment-DFE.csv', encoding=\"Latin-1\")\n",
        "label_mapping = {\"5\": 1, \"1\":0}\n",
        "df4 = df4[df4.sentiment != \"3\"]\n",
        "df4 = df4[df4.sentiment != \"not_relevant\"]\n",
        "df4[\"sentiment\"] = df4[\"sentiment\"].map(label_mapping)"
      ],
      "metadata": {
        "id": "f-d6W4F4v0vR"
      },
      "execution_count": 5,
      "outputs": []
    },
    {
      "cell_type": "code",
      "source": [
        "df5 = pd.read_csv('Reddit_Data.csv')\n",
        "df5 = df5.rename(columns = {\"clean_comment\":\"text\", \"category\":\"sentiment\"})\n",
        "label_mapping = {1: 1, -1:0}\n",
        "df5 = df5[df5.sentiment != 0]\n",
        "df5[\"sentiment\"] = df5[\"sentiment\"].map(label_mapping)"
      ],
      "metadata": {
        "id": "77x4gFaC6Dry"
      },
      "execution_count": 6,
      "outputs": []
    },
    {
      "cell_type": "code",
      "source": [
        "frames = [df1, df2, df3, df4, df5]\n",
        "merged_df = pd.concat(frames)"
      ],
      "metadata": {
        "id": "JL-V1zngIHfK"
      },
      "execution_count": 7,
      "outputs": []
    },
    {
      "cell_type": "code",
      "source": [
        "from sklearn.model_selection import train_test_split\n",
        "X = merged_df.text.values\n",
        "y = merged_df.sentiment.values"
      ],
      "metadata": {
        "id": "M0LtDH9_O1pm"
      },
      "execution_count": 10,
      "outputs": []
    },
    {
      "cell_type": "code",
      "source": [
        "X_, X_test, y_, y_test = train_test_split(X, y, test_size=0.2, random_state = 42)\n",
        "X_train, X_val, y_train, y_val = train_test_split(X_, y_, test_size=0.1, random_state = 42)"
      ],
      "metadata": {
        "id": "5H2DVOPHO1sE"
      },
      "execution_count": 11,
      "outputs": []
    },
    {
      "cell_type": "markdown",
      "source": [
        "## 3 ) Deep Learning Approach"
      ],
      "metadata": {
        "id": "HakjkIbYY-EZ"
      }
    },
    {
      "cell_type": "code",
      "source": [
        "import torch\n",
        "\n",
        "if torch.cuda.is_available():       \n",
        "    device = torch.device(\"cuda\")\n",
        "    print(f'There are {torch.cuda.device_count()} GPU(s) available.')\n",
        "    print('Device name:', torch.cuda.get_device_name(0))\n",
        "\n",
        "else:\n",
        "    print('No GPU available, using the CPU instead.')\n",
        "    device = torch.device(\"cpu\")"
      ],
      "metadata": {
        "colab": {
          "base_uri": "https://localhost:8080/"
        },
        "id": "-oBZeFVSO2AH",
        "outputId": "46cbf527-6362-4548-c3c8-a5bb651113d9"
      },
      "execution_count": 12,
      "outputs": [
        {
          "output_type": "stream",
          "name": "stdout",
          "text": [
            "There are 1 GPU(s) available.\n",
            "Device name: Tesla K80\n"
          ]
        }
      ]
    },
    {
      "cell_type": "code",
      "source": [
        "!pip install transformers"
      ],
      "metadata": {
        "colab": {
          "base_uri": "https://localhost:8080/"
        },
        "id": "AI790cijO2GE",
        "outputId": "472e45cf-fe67-4097-9544-750866850562"
      },
      "execution_count": 13,
      "outputs": [
        {
          "output_type": "stream",
          "name": "stdout",
          "text": [
            "Collecting transformers\n",
            "  Downloading transformers-4.16.2-py3-none-any.whl (3.5 MB)\n",
            "\u001b[K     |████████████████████████████████| 3.5 MB 5.4 MB/s \n",
            "\u001b[?25hRequirement already satisfied: filelock in /usr/local/lib/python3.7/dist-packages (from transformers) (3.4.2)\n",
            "Requirement already satisfied: numpy>=1.17 in /usr/local/lib/python3.7/dist-packages (from transformers) (1.19.5)\n",
            "Requirement already satisfied: importlib-metadata in /usr/local/lib/python3.7/dist-packages (from transformers) (4.10.1)\n",
            "Requirement already satisfied: packaging>=20.0 in /usr/local/lib/python3.7/dist-packages (from transformers) (21.3)\n",
            "Requirement already satisfied: tqdm>=4.27 in /usr/local/lib/python3.7/dist-packages (from transformers) (4.62.3)\n",
            "Collecting pyyaml>=5.1\n",
            "  Downloading PyYAML-6.0-cp37-cp37m-manylinux_2_5_x86_64.manylinux1_x86_64.manylinux_2_12_x86_64.manylinux2010_x86_64.whl (596 kB)\n",
            "\u001b[K     |████████████████████████████████| 596 kB 31.0 MB/s \n",
            "\u001b[?25hCollecting tokenizers!=0.11.3,>=0.10.1\n",
            "  Downloading tokenizers-0.11.4-cp37-cp37m-manylinux_2_12_x86_64.manylinux2010_x86_64.whl (6.8 MB)\n",
            "\u001b[K     |████████████████████████████████| 6.8 MB 5.9 MB/s \n",
            "\u001b[?25hCollecting huggingface-hub<1.0,>=0.1.0\n",
            "  Downloading huggingface_hub-0.4.0-py3-none-any.whl (67 kB)\n",
            "\u001b[K     |████████████████████████████████| 67 kB 4.5 MB/s \n",
            "\u001b[?25hCollecting sacremoses\n",
            "  Downloading sacremoses-0.0.47-py2.py3-none-any.whl (895 kB)\n",
            "\u001b[K     |████████████████████████████████| 895 kB 30.7 MB/s \n",
            "\u001b[?25hRequirement already satisfied: requests in /usr/local/lib/python3.7/dist-packages (from transformers) (2.23.0)\n",
            "Requirement already satisfied: regex!=2019.12.17 in /usr/local/lib/python3.7/dist-packages (from transformers) (2019.12.20)\n",
            "Requirement already satisfied: typing-extensions>=3.7.4.3 in /usr/local/lib/python3.7/dist-packages (from huggingface-hub<1.0,>=0.1.0->transformers) (3.10.0.2)\n",
            "Requirement already satisfied: pyparsing!=3.0.5,>=2.0.2 in /usr/local/lib/python3.7/dist-packages (from packaging>=20.0->transformers) (3.0.7)\n",
            "Requirement already satisfied: zipp>=0.5 in /usr/local/lib/python3.7/dist-packages (from importlib-metadata->transformers) (3.7.0)\n",
            "Requirement already satisfied: urllib3!=1.25.0,!=1.25.1,<1.26,>=1.21.1 in /usr/local/lib/python3.7/dist-packages (from requests->transformers) (1.24.3)\n",
            "Requirement already satisfied: certifi>=2017.4.17 in /usr/local/lib/python3.7/dist-packages (from requests->transformers) (2021.10.8)\n",
            "Requirement already satisfied: chardet<4,>=3.0.2 in /usr/local/lib/python3.7/dist-packages (from requests->transformers) (3.0.4)\n",
            "Requirement already satisfied: idna<3,>=2.5 in /usr/local/lib/python3.7/dist-packages (from requests->transformers) (2.10)\n",
            "Requirement already satisfied: joblib in /usr/local/lib/python3.7/dist-packages (from sacremoses->transformers) (1.1.0)\n",
            "Requirement already satisfied: click in /usr/local/lib/python3.7/dist-packages (from sacremoses->transformers) (7.1.2)\n",
            "Requirement already satisfied: six in /usr/local/lib/python3.7/dist-packages (from sacremoses->transformers) (1.15.0)\n",
            "Installing collected packages: pyyaml, tokenizers, sacremoses, huggingface-hub, transformers\n",
            "  Attempting uninstall: pyyaml\n",
            "    Found existing installation: PyYAML 3.13\n",
            "    Uninstalling PyYAML-3.13:\n",
            "      Successfully uninstalled PyYAML-3.13\n",
            "Successfully installed huggingface-hub-0.4.0 pyyaml-6.0 sacremoses-0.0.47 tokenizers-0.11.4 transformers-4.16.2\n"
          ]
        }
      ]
    },
    {
      "cell_type": "code",
      "source": [
        "from transformers import AutoTokenizer, AutoModel"
      ],
      "metadata": {
        "id": "SLMSbnC5O2DJ"
      },
      "execution_count": 14,
      "outputs": []
    },
    {
      "cell_type": "code",
      "source": [
        "tokenizer = AutoTokenizer.from_pretrained(\"bhadresh-savani/distilbert-base-uncased-emotion\")"
      ],
      "metadata": {
        "id": "xMmgFGdOO2Jh",
        "colab": {
          "base_uri": "https://localhost:8080/",
          "height": 145,
          "referenced_widgets": [
            "7ae51a72e2ee4e39901fa1839c60aca1",
            "c23649b0258540eeb89641fbd3ece446",
            "b91ff7d4622642aabaa4700e6908125b",
            "a008cd8931ba4ccdba08ee140a09fdf0",
            "ef08200a5c854840b8b4ee445e9511fe",
            "fdcd8f6a01a543bda2df8582393b1c0b",
            "3d82b058eb1d4e0585a68ef9dcf94cd9",
            "00a75a34c1804897879798396b50c337",
            "70c42af5ccfc4be0a0b68e5e799ac776",
            "cedb1f37d7414335b0debc961549e412",
            "3504ddea7ff34c7abfcaad94c005864e",
            "0d6cb13e299c468681828bba45382366",
            "fa9431629bfc4a6bb8192e95613986ec",
            "347aa0aacb294e5396a2acde7b34bd67",
            "ec4bb52975f04b3996bbb5f3c23ee649",
            "ab14975b9cbc4f34969e863bfba5b00b",
            "7fdc40257d734682b2cca4da0c8aab60",
            "dea53523b0b94974aa52c542aeab2772",
            "aacf7bf5ee7a4a129793edf203282173",
            "8f7aab72bc2d4932a814b96eb15b6fc7",
            "75de5a1b6d4b4230aa5a3f3d72d66110",
            "21ebeba1509b4024af25375fb1944f9b",
            "1f78a76fb7a24fcc8bd435a74df2c555",
            "55d61847c3f346048a28b70f7f631963",
            "8abecdb490db4af582b1f501903ecf58",
            "88e7273355bd44df9b2f2d573f4f5ce9",
            "3ad54cbbb96b4b91b5f800376fda7de2",
            "adc5aa62e9314d9fa36b1fca79c8ffad",
            "a4aafcac7d4a47b88fb92757ec91f2ff",
            "a2adb2107f7249628707eceee2b59e43",
            "f98fa8d4810b4a0d885fedca5fece20c",
            "0d6bdf6a088c4b0ea99845b02302b3e8",
            "1177ef9a4c1f44f5a0aae51678ca729b",
            "78e5ba924d104256a06f0037e52e0128",
            "cfbbc4372f3d4c9f8b130113779ed637",
            "4a411fbd38ba4d4fad309789919f23f2",
            "076e0587823a42fdbc71b307adda03c6",
            "29002108eb1b420bbfff101248620301",
            "ecbf42274f674fb5b1694e3fbdaa1300",
            "1ca804d9a3d24336b988f35f0ca6b2a0",
            "a9fde397bbb945d097c067c7d63823c8",
            "27e5a135272f4431a5b4c7a34b3c0619",
            "3f4c4c240cb4441381d92c53ac515f58",
            "afddb6d7ae2544dd87f88ff11272fc6a"
          ]
        },
        "outputId": "dcbccfa1-55ee-43b1-f54f-f95f747aad7b"
      },
      "execution_count": 15,
      "outputs": [
        {
          "output_type": "display_data",
          "data": {
            "application/vnd.jupyter.widget-view+json": {
              "model_id": "7ae51a72e2ee4e39901fa1839c60aca1",
              "version_minor": 0,
              "version_major": 2
            },
            "text/plain": [
              "Downloading:   0%|          | 0.00/291 [00:00<?, ?B/s]"
            ]
          },
          "metadata": {}
        },
        {
          "output_type": "display_data",
          "data": {
            "application/vnd.jupyter.widget-view+json": {
              "model_id": "0d6cb13e299c468681828bba45382366",
              "version_minor": 0,
              "version_major": 2
            },
            "text/plain": [
              "Downloading:   0%|          | 0.00/768 [00:00<?, ?B/s]"
            ]
          },
          "metadata": {}
        },
        {
          "output_type": "display_data",
          "data": {
            "application/vnd.jupyter.widget-view+json": {
              "model_id": "1f78a76fb7a24fcc8bd435a74df2c555",
              "version_minor": 0,
              "version_major": 2
            },
            "text/plain": [
              "Downloading:   0%|          | 0.00/226k [00:00<?, ?B/s]"
            ]
          },
          "metadata": {}
        },
        {
          "output_type": "display_data",
          "data": {
            "application/vnd.jupyter.widget-view+json": {
              "model_id": "78e5ba924d104256a06f0037e52e0128",
              "version_minor": 0,
              "version_major": 2
            },
            "text/plain": [
              "Downloading:   0%|          | 0.00/112 [00:00<?, ?B/s]"
            ]
          },
          "metadata": {}
        }
      ]
    },
    {
      "cell_type": "code",
      "source": [
        "def text_preprocessing(text):\n",
        "    \"\"\"\n",
        "    - Remove entity mentions (eg. '@united')\n",
        "    - Correct errors (eg. '&amp;' to '&')\n",
        "    @param    text (str): a string to be processed.\n",
        "    @return   text (Str): the processed string.\n",
        "    \"\"\"\n",
        "\n",
        "    # Normalize unicode encoding\n",
        "    text = unicodedata.normalize('NFC', text)\n",
        "    # Remove '@name'\n",
        "    text = re.sub(r'(@.*?)[\\s]', ' ', text)\n",
        "\n",
        "    # Replace '&amp;' with '&'\n",
        "    text = re.sub(r'&amp;', '&', text)\n",
        "\n",
        "    # Remove trailing whitespace\n",
        "    text = re.sub(r'\\s+', ' ', text).strip()\n",
        "\n",
        "    #Remove URLs\n",
        "    text = re.sub(r'^https?:\\/\\/.*[\\r\\n]*', '<URL>', text)\n",
        "\n",
        "\n",
        "    return text"
      ],
      "metadata": {
        "id": "o2TenWCGZw7I"
      },
      "execution_count": 16,
      "outputs": []
    },
    {
      "cell_type": "code",
      "source": [
        "def remove_emojis(sent):\n",
        "    text =  emoji.demojize(sent)\n",
        "    text= re.sub(r'(:[!_\\-\\w]+:)', '', text)\n",
        "    return text\n",
        "    \n",
        "def text_preprocessing_no_emojis(text):\n",
        "    \"\"\"\n",
        "    - Remove entity mentions (eg. '@united')\n",
        "    - Correct errors (eg. '&amp;' to '&')\n",
        "    @param    text (str): a string to be processed.\n",
        "    @return   text (Str): the processed string.\n",
        "    \"\"\"\n",
        "  \n",
        "    # Remove emojis\n",
        "    text = remove_emojis(text)\n",
        "\n",
        "    return text_preprocessing(text)"
      ],
      "metadata": {
        "id": "Lp6sDjV9L2hQ"
      },
      "execution_count": 17,
      "outputs": []
    },
    {
      "cell_type": "code",
      "source": [
        "!pip install emoji"
      ],
      "metadata": {
        "colab": {
          "base_uri": "https://localhost:8080/"
        },
        "id": "gklJcuwha7hu",
        "outputId": "0beeade2-7046-4364-ffc7-4b9f64aff37c"
      },
      "execution_count": 18,
      "outputs": [
        {
          "output_type": "stream",
          "name": "stdout",
          "text": [
            "Collecting emoji\n",
            "  Downloading emoji-1.6.3.tar.gz (174 kB)\n",
            "\u001b[?25l\r\u001b[K     |█▉                              | 10 kB 17.2 MB/s eta 0:00:01\r\u001b[K     |███▊                            | 20 kB 11.6 MB/s eta 0:00:01\r\u001b[K     |█████▋                          | 30 kB 9.4 MB/s eta 0:00:01\r\u001b[K     |███████▌                        | 40 kB 8.7 MB/s eta 0:00:01\r\u001b[K     |█████████▍                      | 51 kB 5.6 MB/s eta 0:00:01\r\u001b[K     |███████████▎                    | 61 kB 5.6 MB/s eta 0:00:01\r\u001b[K     |█████████████▏                  | 71 kB 5.4 MB/s eta 0:00:01\r\u001b[K     |███████████████                 | 81 kB 6.1 MB/s eta 0:00:01\r\u001b[K     |█████████████████               | 92 kB 4.9 MB/s eta 0:00:01\r\u001b[K     |██████████████████▉             | 102 kB 5.3 MB/s eta 0:00:01\r\u001b[K     |████████████████████▊           | 112 kB 5.3 MB/s eta 0:00:01\r\u001b[K     |██████████████████████▋         | 122 kB 5.3 MB/s eta 0:00:01\r\u001b[K     |████████████████████████▌       | 133 kB 5.3 MB/s eta 0:00:01\r\u001b[K     |██████████████████████████▍     | 143 kB 5.3 MB/s eta 0:00:01\r\u001b[K     |████████████████████████████▏   | 153 kB 5.3 MB/s eta 0:00:01\r\u001b[K     |██████████████████████████████  | 163 kB 5.3 MB/s eta 0:00:01\r\u001b[K     |████████████████████████████████| 174 kB 5.3 MB/s eta 0:00:01\r\u001b[K     |████████████████████████████████| 174 kB 5.3 MB/s \n",
            "\u001b[?25hBuilding wheels for collected packages: emoji\n",
            "  Building wheel for emoji (setup.py) ... \u001b[?25l\u001b[?25hdone\n",
            "  Created wheel for emoji: filename=emoji-1.6.3-py3-none-any.whl size=170298 sha256=4352c2e6c126e2b82f29435537319818de65365a4ef7dffbc004740d67d3b54a\n",
            "  Stored in directory: /root/.cache/pip/wheels/03/8b/d7/ad579fbef83c287215c0caab60fb0ae0f30c4d7ce5f580eade\n",
            "Successfully built emoji\n",
            "Installing collected packages: emoji\n",
            "Successfully installed emoji-1.6.3\n"
          ]
        }
      ]
    },
    {
      "cell_type": "code",
      "source": [
        "import emoji\n",
        "import unicodedata\n",
        "def preprocessing_for_bert(data, version=\"mini\", text_preprocessing_fn = text_preprocessing):\n",
        "    \"\"\"Perform required preprocessing steps for pretrained BERT.\n",
        "    @param    data (np.array): Array of texts to be processed.\n",
        "    @return   input_ids (torch.Tensor): Tensor of token ids to be fed to a model.\n",
        "    @return   attention_masks (torch.Tensor): Tensor of indices specifying which\n",
        "                  tokens should be attended to by the model.\n",
        "    \"\"\"\n",
        "    # Create empty lists to store outputs\n",
        "    input_ids = []\n",
        "    attention_masks = []\n",
        "    tokenizer = AutoTokenizer.from_pretrained(\"bhadresh-savani/distilbert-base-uncased-emotion\")# if version == \"mini\" else AutoTokenizer.from_pretrained(\"asafaya/bert-base-arabic\")\n",
        "\n",
        "    # For every sentence...\n",
        "    for i,sent in enumerate(data):\n",
        "        # `encode_plus` will:\n",
        "        #    (1) Tokenize the sentence\n",
        "        #    (2) Add the `[CLS]` and `[SEP]` token to the start and end\n",
        "        #    (3) Truncate/Pad sentence to max length\n",
        "        #    (4) Map tokens to their IDs\n",
        "        #    (5) Create attention mask\n",
        "        #    (6) Return a dictionary of outputs\n",
        "        encoded_sent = tokenizer.encode_plus(\n",
        "            text=text_preprocessing_fn(sent),  # Preprocess sentence\n",
        "            add_special_tokens=True,        # Add `[CLS]` and `[SEP]`\n",
        "            max_length=MAX_LEN,                  # Max length to truncate/pad\n",
        "            padding='max_length',        # Pad sentence to max length\n",
        "            #return_tensors='pt',           # Return PyTorch tensor\n",
        "            return_attention_mask=True,     # Return attention mask\n",
        "            truncation = True \n",
        "            )\n",
        "        \n",
        "        # Add the outputs to the lists\n",
        "        input_ids.append(encoded_sent.get('input_ids'))\n",
        "        attention_masks.append(encoded_sent.get('attention_mask'))\n",
        "    # Convert lists to tensors\n",
        "    input_ids = torch.tensor(input_ids)\n",
        "    attention_masks = torch.tensor(attention_masks)\n",
        "\n",
        "    return input_ids, attention_masks"
      ],
      "metadata": {
        "id": "8fjl5AftaQU7"
      },
      "execution_count": 19,
      "outputs": []
    },
    {
      "cell_type": "code",
      "source": [
        "# Specify `MAX_LEN`\n",
        "MAX_LEN =  280\n",
        "\n",
        "# Print sentence 0 and its encoded token ids\n",
        "token_ids = list(preprocessing_for_bert([X[0]], version=\"base\", text_preprocessing_fn=text_preprocessing)[0].squeeze().numpy())\n",
        "print('Original: ', X[0])\n",
        "print('Token IDs: ', token_ids)\n",
        "\n",
        "# Run function `preprocessing_for_bert` on the train set and the validation set\n",
        "print('Tokenizing data...')\n",
        "train_inputs, train_masks = preprocessing_for_bert(X_train, version=\"base\", text_preprocessing_fn=text_preprocessing)\n",
        "val_inputs, val_masks = preprocessing_for_bert(X_val, version=\"base\", text_preprocessing_fn=text_preprocessing)"
      ],
      "metadata": {
        "colab": {
          "base_uri": "https://localhost:8080/"
        },
        "id": "PCm99bITa5hL",
        "outputId": "437481a9-5ff3-4ce2-96eb-bbd50a368a89"
      },
      "execution_count": 20,
      "outputs": [
        {
          "output_type": "stream",
          "name": "stdout",
          "text": [
            "Original:  When life hits and the same time poverty strikes you\n",
            "Gong Yoo : Lets play a game \n",
            "#SquidGame #Netflix https://t.co/Cx7ifmZ8cN\n",
            "Token IDs:  [101, 2043, 2166, 4978, 1998, 1996, 2168, 2051, 5635, 9326, 2017, 17242, 26823, 1024, 11082, 2377, 1037, 2208, 1001, 26852, 16650, 1001, 20907, 16770, 1024, 1013, 1013, 1056, 1012, 2522, 1013, 1039, 2595, 2581, 10128, 2213, 2480, 2620, 2278, 2078, 102, 0, 0, 0, 0, 0, 0, 0, 0, 0, 0, 0, 0, 0, 0, 0, 0, 0, 0, 0, 0, 0, 0, 0, 0, 0, 0, 0, 0, 0, 0, 0, 0, 0, 0, 0, 0, 0, 0, 0, 0, 0, 0, 0, 0, 0, 0, 0, 0, 0, 0, 0, 0, 0, 0, 0, 0, 0, 0, 0, 0, 0, 0, 0, 0, 0, 0, 0, 0, 0, 0, 0, 0, 0, 0, 0, 0, 0, 0, 0, 0, 0, 0, 0, 0, 0, 0, 0, 0, 0, 0, 0, 0, 0, 0, 0, 0, 0, 0, 0, 0, 0, 0, 0, 0, 0, 0, 0, 0, 0, 0, 0, 0, 0, 0, 0, 0, 0, 0, 0, 0, 0, 0, 0, 0, 0, 0, 0, 0, 0, 0, 0, 0, 0, 0, 0, 0, 0, 0, 0, 0, 0, 0, 0, 0, 0, 0, 0, 0, 0, 0, 0, 0, 0, 0, 0, 0, 0, 0, 0, 0, 0, 0, 0, 0, 0, 0, 0, 0, 0, 0, 0, 0, 0, 0, 0, 0, 0, 0, 0, 0, 0, 0, 0, 0, 0, 0, 0, 0, 0, 0, 0, 0, 0, 0, 0, 0, 0, 0, 0, 0, 0, 0, 0, 0, 0, 0, 0, 0, 0, 0, 0, 0, 0, 0, 0, 0, 0, 0, 0, 0, 0, 0, 0, 0, 0, 0, 0, 0, 0, 0, 0, 0, 0, 0, 0, 0, 0, 0, 0]\n",
            "Tokenizing data...\n"
          ]
        }
      ]
    },
    {
      "cell_type": "code",
      "source": [
        "from torch.utils.data import TensorDataset, DataLoader, RandomSampler, SequentialSampler\n",
        "\n",
        "# Convert other data types to torch.Tensor\n",
        "train_labels = torch.tensor(y_train)\n",
        "val_labels = torch.tensor(y_val)\n",
        "\n",
        "# For fine-tuning BERT, the authors recommend a batch size of 16 or 32.\n",
        "batch_size = 16\n",
        "\n",
        "# Create the DataLoader for our training set\n",
        "train_data = TensorDataset(train_inputs, train_masks, train_labels)\n",
        "train_sampler = RandomSampler(train_data)\n",
        "train_dataloader = DataLoader(train_data, sampler=train_sampler, batch_size=batch_size)\n",
        "\n",
        "# Create the DataLoader for our validation set\n",
        "val_data = TensorDataset(val_inputs, val_masks, val_labels)\n",
        "val_sampler = SequentialSampler(val_data)\n",
        "val_dataloader = DataLoader(val_data, sampler=val_sampler, batch_size=batch_size)"
      ],
      "metadata": {
        "id": "U7iTT16LbLni"
      },
      "execution_count": 21,
      "outputs": []
    },
    {
      "cell_type": "code",
      "source": [
        "%%time\n",
        "import torch\n",
        "import torch.nn as nn\n",
        "from transformers import BertModel\n",
        "\n",
        "# Create the BertClassfier class\n",
        "class BertClassifier(nn.Module):\n",
        "    \"\"\"Bert Model for Classification Tasks.\n",
        "    \"\"\"\n",
        "    def __init__(self, freeze_bert=False, version=\"mini\"):\n",
        "        \"\"\"\n",
        "        @param    bert: a BertModel object\n",
        "        @param    classifier: a torch.nn.Module classifier\n",
        "        @param    freeze_bert (bool): Set `False` to fine-tune the BERT model\n",
        "        \"\"\"\n",
        "        super(BertClassifier, self).__init__()\n",
        "        # Specify hidden size of BERT, hidden size of our classifier, and number of labels\n",
        "        D_in = 768\n",
        "        H, D_out = 50, 2\n",
        "\n",
        "        # Instantiate BERT model\n",
        "        self.bert = AutoModel.from_pretrained(\"bhadresh-savani/distilbert-base-uncased-emotion\")\n",
        "        # Instantiate an one-layer feed-forward classifier\n",
        "        self.classifier = nn.Sequential(\n",
        "            #nn.Dropout(p=0.1),\n",
        "            #nn.Linear(768, D_in),\n",
        "            #nn.Tanh(),\n",
        "            nn.Linear(D_in, H),\n",
        "            nn.ReLU(),\n",
        "            nn.Dropout(0.5),\n",
        "            nn.Linear(H, D_out)\n",
        "        )\n",
        "\n",
        "        # Freeze the BERT model\n",
        "        if freeze_bert:\n",
        "            for param in self.bert.parameters():\n",
        "                param.requires_grad = False\n",
        "        \n",
        "    def forward(self, input_ids, attention_mask):\n",
        "        \"\"\"\n",
        "        Feed input to BERT and the classifier to compute logits.\n",
        "        @param    input_ids (torch.Tensor): an input tensor with shape (batch_size,\n",
        "                      max_length)\n",
        "        @param    attention_mask (torch.Tensor): a tensor that hold attention mask\n",
        "                      information with shape (batch_size, max_length)\n",
        "        @return   logits (torch.Tensor): an output tensor with shape (batch_size,\n",
        "                      num_labels)\n",
        "        \"\"\"\n",
        "        # Feed input to BERT\n",
        "        outputs = self.bert(input_ids=input_ids,\n",
        "                            attention_mask=attention_mask)\n",
        "        \n",
        "        # Extract the last hidden state of the token `[CLS]` for classification task\n",
        "        last_hidden_state_cls = outputs[0][:, 0, :]\n",
        "\n",
        "        # Feed input to classifier to compute logits\n",
        "        logits = self.classifier(last_hidden_state_cls)\n",
        "\n",
        "        return logits"
      ],
      "metadata": {
        "colab": {
          "base_uri": "https://localhost:8080/"
        },
        "id": "32gvSQ9pb9Fr",
        "outputId": "fb38ac1a-293f-4104-91e8-d8fcaeb4c303"
      },
      "execution_count": 22,
      "outputs": [
        {
          "output_type": "stream",
          "name": "stdout",
          "text": [
            "CPU times: user 27.7 ms, sys: 974 µs, total: 28.7 ms\n",
            "Wall time: 30.2 ms\n"
          ]
        }
      ]
    },
    {
      "cell_type": "code",
      "source": [
        "from transformers import AdamW, get_linear_schedule_with_warmup\n",
        "\n",
        "from torch.optim import SparseAdam, Adam\n",
        "def initialize_model(epochs=4, version=\"base\"):\n",
        "    \"\"\"Initialize the Bert Classifier, the optimizer and the learning rate scheduler.\n",
        "    \"\"\"\n",
        "    # Instantiate Bert Classifier\n",
        "    bert_classifier = BertClassifier(freeze_bert=False, version=version)\n",
        "    # Tell PyTorch to run the model on GPU\n",
        "    bert_classifier.to(device)\n",
        "\n",
        "    # Create the optimizer\n",
        "    optimizer = torch.optim.AdamW(params=list(bert_classifier.parameters()),\n",
        "                      lr=5e-5,    # Default learning rate\n",
        "                      eps=1e-8    # Default epsilon value\n",
        "                      )\n",
        "\n",
        "    # Total number of training steps\n",
        "    total_steps = len(train_dataloader) * epochs\n",
        "\n",
        "    # Set up the learning rate scheduler\n",
        "    scheduler = get_linear_schedule_with_warmup(optimizer,\n",
        "                                                num_warmup_steps=0, # Default value\n",
        "                                                num_training_steps=total_steps)\n",
        "    return bert_classifier, optimizer, scheduler"
      ],
      "metadata": {
        "id": "z7RwU_UBPHUh"
      },
      "execution_count": 23,
      "outputs": []
    },
    {
      "cell_type": "code",
      "source": [
        "import random\n",
        "import time\n",
        "import torch\n",
        "import torch.nn as nn\n",
        "\n",
        "# Specify loss function\n",
        "loss_fn = nn.CrossEntropyLoss()\n",
        "\n",
        "def set_seed(seed_value=42):\n",
        "    \"\"\"Set seed for reproducibility.\n",
        "    \"\"\"\n",
        "    random.seed(seed_value)\n",
        "    np.random.seed(seed_value)\n",
        "    torch.manual_seed(seed_value)\n",
        "    torch.cuda.manual_seed_all(seed_value)\n",
        "\n",
        "def train(model, train_dataloader, val_dataloader=None, epochs=4, evaluation=False):\n",
        "    \"\"\"Train the BertClassifier model.\n",
        "    \"\"\"\n",
        "    # Start training loop\n",
        "    print(\"Start training...\\n\")\n",
        "    for epoch_i in range(epochs):\n",
        "        # =======================================\n",
        "        #               Training\n",
        "        # =======================================\n",
        "        # Print the header of the result table\n",
        "        print(f\"{'Epoch':^7} | {'Batch':^7} | {'Train Loss':^12} | {'Val Loss':^10} | {'Val Acc':^9} | {'Elapsed':^9}\")\n",
        "        print(\"-\"*70)\n",
        "\n",
        "        # Measure the elapsed time of each epoch\n",
        "        t0_epoch, t0_batch = time.time(), time.time()\n",
        "\n",
        "        # Reset tracking variables at the beginning of each epoch\n",
        "        total_loss, batch_loss, batch_counts = 0, 0, 0\n",
        "\n",
        "        # Put the model into the training mode\n",
        "        model.train()\n",
        "\n",
        "        # For each batch of training data...\n",
        "        for step, batch in enumerate(train_dataloader):\n",
        "            batch_counts +=1\n",
        "            # Load batch to GPU\n",
        "            b_input_ids, b_attn_mask, b_labels = tuple(t.to(device) for t in batch)\n",
        "\n",
        "            # Zero out any previously calculated gradients\n",
        "            model.zero_grad()\n",
        "\n",
        "            # Perform a forward pass. This will return logits.\n",
        "            logits = model(b_input_ids, b_attn_mask)\n",
        "\n",
        "            # Compute loss and accumulate the loss values\n",
        "            loss = loss_fn(logits, b_labels)\n",
        "            batch_loss += loss.item()\n",
        "            total_loss += loss.item()\n",
        "\n",
        "            # Perform a backward pass to calculate gradients\n",
        "            loss.backward()\n",
        "\n",
        "            # Clip the norm of the gradients to 1.0 to prevent \"exploding gradients\"\n",
        "            torch.nn.utils.clip_grad_norm_(model.parameters(), 1.0)\n",
        "\n",
        "            # Update parameters and the learning rate\n",
        "            optimizer.step()\n",
        "            scheduler.step()\n",
        "\n",
        "            # Print the loss values and time elapsed for every 20 batches\n",
        "            if (step % 20 == 0 and step != 0) or (step == len(train_dataloader) - 1):\n",
        "                # Calculate time elapsed for 20 batches\n",
        "                time_elapsed = time.time() - t0_batch\n",
        "\n",
        "                # Print training results\n",
        "                print(f\"{epoch_i + 1:^7} | {step:^7} | {batch_loss / batch_counts:^12.6f} | {'-':^10} | {'-':^9} | {time_elapsed:^9.2f}\")\n",
        "\n",
        "                # Reset batch tracking variables\n",
        "                batch_loss, batch_counts = 0, 0\n",
        "                t0_batch = time.time()\n",
        "\n",
        "        # Calculate the average loss over the entire training data\n",
        "        avg_train_loss = total_loss / len(train_dataloader)\n",
        "\n",
        "        print(\"-\"*70)\n",
        "        # =======================================\n",
        "        #               Evaluation\n",
        "        # =======================================\n",
        "        if evaluation == True:\n",
        "            # After the completion of each training epoch, measure the model's performance\n",
        "            # on our validation set.\n",
        "            val_loss, val_accuracy = evaluate(model, val_dataloader)\n",
        "\n",
        "            # Print performance over the entire training data\n",
        "            time_elapsed = time.time() - t0_epoch\n",
        "            \n",
        "            print(f\"{epoch_i + 1:^7} | {'-':^7} | {avg_train_loss:^12.6f} | {val_loss:^10.6f} | {val_accuracy:^9.2f} | {time_elapsed:^9.2f}\")\n",
        "            print(\"-\"*70)\n",
        "        print(\"\\n\")\n",
        "    \n",
        "    print(\"Training complete!\")\n",
        "\n",
        "def evaluate(model, val_dataloader):\n",
        "    \"\"\"After the completion of each training epoch, measure the model's performance\n",
        "    on our validation set.\n",
        "    \"\"\"\n",
        "    # Put the model into the evaluation mode. The dropout layers are disabled during\n",
        "    # the test time.\n",
        "    model.eval()\n",
        "\n",
        "    # Tracking variables\n",
        "    val_accuracy = []\n",
        "    val_loss = []\n",
        "\n",
        "    # For each batch in our validation set...\n",
        "    for batch in val_dataloader:\n",
        "        # Load batch to GPU\n",
        "        b_input_ids, b_attn_mask, b_labels = tuple(t.to(device) for t in batch)\n",
        "\n",
        "        # Compute logits\n",
        "        with torch.no_grad():\n",
        "            logits = model(b_input_ids, b_attn_mask)\n",
        "\n",
        "        # Compute loss\n",
        "        loss = loss_fn(logits, b_labels)\n",
        "        val_loss.append(loss.item())\n",
        "\n",
        "        # Get the predictions\n",
        "        preds = torch.argmax(logits, dim=1).flatten()\n",
        "\n",
        "        # Calculate the accuracy rate\n",
        "        accuracy = (preds == b_labels).cpu().numpy().mean() * 100\n",
        "        val_accuracy.append(accuracy)\n",
        "\n",
        "       \n",
        "\n",
        "    # Compute the average accuracy and loss over the validation set.\n",
        "    val_loss = np.mean(val_loss)\n",
        "    val_accuracy = np.mean(val_accuracy)\n",
        "\n",
        "    return val_loss, val_accuracy"
      ],
      "metadata": {
        "id": "DwlxCFVUPHXN"
      },
      "execution_count": 24,
      "outputs": []
    },
    {
      "cell_type": "code",
      "source": [
        "set_seed(42) \n",
        "bert_classifier, optimizer, scheduler = initialize_model(epochs=2, version=\"base\")\n",
        "train(bert_classifier, train_dataloader, val_dataloader, epochs=2, evaluation=True)"
      ],
      "metadata": {
        "id": "I0K_YbfyO1TR",
        "colab": {
          "base_uri": "https://localhost:8080/",
          "height": 1000,
          "referenced_widgets": [
            "a2ac01b256cb46cc921b8758781eb954",
            "0cca29206e764f34be2b126d0706e43c",
            "74c4ff82a1eb499fbf054876b585bd72",
            "dcb48b5f19964cc9992721812372b2af",
            "53ba82690e084df0abfb3533a7de3db7",
            "f9616694d1d941f480c5a5322368ca72",
            "80eeda6db29046f1b670c472e1b28bfe",
            "c1b5f7cb132d41e0ae3014b978880e38",
            "405741e246c04266873f6801d7717ece",
            "c0f729e6de0d47288a357ab6eb21bb1f",
            "f96a954db9ae4005a103333aa23cdbc2"
          ]
        },
        "outputId": "16b818a5-1aec-4e65-d585-08da96ca3ced"
      },
      "execution_count": null,
      "outputs": [
        {
          "output_type": "display_data",
          "data": {
            "application/vnd.jupyter.widget-view+json": {
              "model_id": "a2ac01b256cb46cc921b8758781eb954",
              "version_minor": 0,
              "version_major": 2
            },
            "text/plain": [
              "Downloading:   0%|          | 0.00/255M [00:00<?, ?B/s]"
            ]
          },
          "metadata": {}
        },
        {
          "output_type": "stream",
          "name": "stderr",
          "text": [
            "Some weights of the model checkpoint at bhadresh-savani/distilbert-base-uncased-emotion were not used when initializing DistilBertModel: ['pre_classifier.weight', 'pre_classifier.bias', 'classifier.bias', 'classifier.weight']\n",
            "- This IS expected if you are initializing DistilBertModel from the checkpoint of a model trained on another task or with another architecture (e.g. initializing a BertForSequenceClassification model from a BertForPreTraining model).\n",
            "- This IS NOT expected if you are initializing DistilBertModel from the checkpoint of a model that you expect to be exactly identical (initializing a BertForSequenceClassification model from a BertForSequenceClassification model).\n"
          ]
        },
        {
          "output_type": "stream",
          "name": "stdout",
          "text": [
            "Start training...\n",
            "\n",
            " Epoch  |  Batch  |  Train Loss  |  Val Loss  |  Val Acc  |  Elapsed \n",
            "----------------------------------------------------------------------\n",
            "   1    |   20    |   0.609848   |     -      |     -     |   15.41  \n",
            "   1    |   40    |   0.486245   |     -      |     -     |   14.57  \n",
            "   1    |   60    |   0.502838   |     -      |     -     |   14.63  \n",
            "   1    |   80    |   0.518472   |     -      |     -     |   14.76  \n",
            "   1    |   100   |   0.432570   |     -      |     -     |   14.84  \n",
            "   1    |   120   |   0.469183   |     -      |     -     |   14.90  \n",
            "   1    |   140   |   0.401113   |     -      |     -     |   15.10  \n",
            "   1    |   160   |   0.370308   |     -      |     -     |   15.22  \n",
            "   1    |   180   |   0.367908   |     -      |     -     |   15.05  \n",
            "   1    |   200   |   0.369624   |     -      |     -     |   15.05  \n",
            "   1    |   220   |   0.366189   |     -      |     -     |   15.07  \n",
            "   1    |   240   |   0.371199   |     -      |     -     |   15.11  \n",
            "   1    |   260   |   0.353305   |     -      |     -     |   15.08  \n",
            "   1    |   280   |   0.346609   |     -      |     -     |   15.12  \n",
            "   1    |   300   |   0.370924   |     -      |     -     |   15.12  \n",
            "   1    |   320   |   0.375173   |     -      |     -     |   15.08  \n",
            "   1    |   340   |   0.341807   |     -      |     -     |   15.11  \n",
            "   1    |   360   |   0.392635   |     -      |     -     |   15.07  \n",
            "   1    |   380   |   0.309754   |     -      |     -     |   15.03  \n",
            "   1    |   400   |   0.269819   |     -      |     -     |   15.06  \n",
            "   1    |   420   |   0.425491   |     -      |     -     |   15.08  \n",
            "   1    |   440   |   0.267223   |     -      |     -     |   15.06  \n",
            "   1    |   460   |   0.289037   |     -      |     -     |   15.07  \n",
            "   1    |   480   |   0.390577   |     -      |     -     |   15.08  \n",
            "   1    |   500   |   0.259732   |     -      |     -     |   15.06  \n",
            "   1    |   520   |   0.335392   |     -      |     -     |   15.06  \n",
            "   1    |   540   |   0.344362   |     -      |     -     |   15.08  \n",
            "   1    |   560   |   0.290960   |     -      |     -     |   15.08  \n",
            "   1    |   580   |   0.303415   |     -      |     -     |   15.07  \n",
            "   1    |   600   |   0.275760   |     -      |     -     |   15.11  \n",
            "   1    |   620   |   0.332475   |     -      |     -     |   15.08  \n",
            "   1    |   640   |   0.266474   |     -      |     -     |   15.08  \n",
            "   1    |   660   |   0.406841   |     -      |     -     |   15.08  \n",
            "   1    |   680   |   0.304048   |     -      |     -     |   15.11  \n",
            "   1    |   700   |   0.263938   |     -      |     -     |   15.08  \n",
            "   1    |   720   |   0.243387   |     -      |     -     |   15.04  \n",
            "   1    |   740   |   0.326495   |     -      |     -     |   15.06  \n",
            "   1    |   760   |   0.266349   |     -      |     -     |   15.06  \n",
            "   1    |   780   |   0.294445   |     -      |     -     |   15.08  \n",
            "   1    |   800   |   0.262867   |     -      |     -     |   15.07  \n",
            "   1    |   820   |   0.212568   |     -      |     -     |   15.03  \n",
            "   1    |   840   |   0.230040   |     -      |     -     |   15.05  \n",
            "   1    |   860   |   0.306099   |     -      |     -     |   15.11  \n",
            "   1    |   880   |   0.230857   |     -      |     -     |   15.08  \n",
            "   1    |   900   |   0.261226   |     -      |     -     |   15.07  \n",
            "   1    |   920   |   0.217524   |     -      |     -     |   15.07  \n",
            "   1    |   940   |   0.230391   |     -      |     -     |   15.05  \n",
            "   1    |   960   |   0.286146   |     -      |     -     |   15.05  \n",
            "   1    |   980   |   0.236345   |     -      |     -     |   15.08  \n",
            "   1    |  1000   |   0.281967   |     -      |     -     |   15.06  \n",
            "   1    |  1020   |   0.234334   |     -      |     -     |   15.05  \n",
            "   1    |  1040   |   0.234804   |     -      |     -     |   15.04  \n",
            "   1    |  1060   |   0.283199   |     -      |     -     |   15.10  \n",
            "   1    |  1080   |   0.301236   |     -      |     -     |   15.08  \n",
            "   1    |  1100   |   0.253534   |     -      |     -     |   15.10  \n",
            "   1    |  1120   |   0.237384   |     -      |     -     |   15.10  \n",
            "   1    |  1140   |   0.428244   |     -      |     -     |   15.12  \n",
            "   1    |  1160   |   0.237227   |     -      |     -     |   15.07  \n",
            "   1    |  1180   |   0.252438   |     -      |     -     |   15.07  \n",
            "   1    |  1200   |   0.316414   |     -      |     -     |   15.05  \n",
            "   1    |  1220   |   0.216670   |     -      |     -     |   15.01  \n",
            "   1    |  1240   |   0.218568   |     -      |     -     |   15.06  \n",
            "   1    |  1260   |   0.273424   |     -      |     -     |   15.07  \n",
            "   1    |  1280   |   0.230254   |     -      |     -     |   15.08  \n",
            "   1    |  1300   |   0.162775   |     -      |     -     |   15.08  \n",
            "   1    |  1320   |   0.245098   |     -      |     -     |   15.11  \n",
            "   1    |  1340   |   0.298854   |     -      |     -     |   15.09  \n",
            "   1    |  1360   |   0.250566   |     -      |     -     |   15.06  \n",
            "   1    |  1380   |   0.216390   |     -      |     -     |   15.03  \n",
            "   1    |  1400   |   0.246988   |     -      |     -     |   15.07  \n",
            "   1    |  1420   |   0.272060   |     -      |     -     |   15.11  \n",
            "   1    |  1440   |   0.196347   |     -      |     -     |   15.07  \n",
            "   1    |  1460   |   0.195477   |     -      |     -     |   15.05  \n",
            "   1    |  1480   |   0.198951   |     -      |     -     |   15.07  \n",
            "   1    |  1500   |   0.201171   |     -      |     -     |   15.08  \n",
            "   1    |  1520   |   0.261210   |     -      |     -     |   15.09  \n",
            "   1    |  1540   |   0.298794   |     -      |     -     |   15.08  \n",
            "   1    |  1560   |   0.273121   |     -      |     -     |   15.05  \n",
            "   1    |  1580   |   0.168907   |     -      |     -     |   15.08  \n",
            "   1    |  1600   |   0.246948   |     -      |     -     |   15.06  \n",
            "   1    |  1620   |   0.180490   |     -      |     -     |   15.07  \n",
            "   1    |  1640   |   0.287987   |     -      |     -     |   15.07  \n",
            "   1    |  1660   |   0.232648   |     -      |     -     |   15.09  \n",
            "   1    |  1680   |   0.234701   |     -      |     -     |   15.08  \n",
            "   1    |  1700   |   0.177343   |     -      |     -     |   15.08  \n",
            "   1    |  1720   |   0.274365   |     -      |     -     |   15.06  \n",
            "   1    |  1740   |   0.194724   |     -      |     -     |   15.07  \n",
            "   1    |  1760   |   0.160906   |     -      |     -     |   15.12  \n",
            "   1    |  1780   |   0.218663   |     -      |     -     |   15.09  \n",
            "   1    |  1800   |   0.204756   |     -      |     -     |   15.07  \n",
            "   1    |  1820   |   0.281209   |     -      |     -     |   14.97  \n",
            "   1    |  1840   |   0.217782   |     -      |     -     |   14.94  \n",
            "   1    |  1860   |   0.288334   |     -      |     -     |   14.97  \n",
            "   1    |  1880   |   0.209929   |     -      |     -     |   14.90  \n",
            "   1    |  1900   |   0.276306   |     -      |     -     |   14.92  \n",
            "   1    |  1920   |   0.219384   |     -      |     -     |   14.91  \n",
            "   1    |  1940   |   0.214101   |     -      |     -     |   14.90  \n",
            "   1    |  1960   |   0.241631   |     -      |     -     |   14.96  \n",
            "   1    |  1980   |   0.188860   |     -      |     -     |   15.06  \n",
            "   1    |  2000   |   0.264584   |     -      |     -     |   15.10  \n",
            "   1    |  2020   |   0.194407   |     -      |     -     |   15.11  \n",
            "   1    |  2040   |   0.174831   |     -      |     -     |   15.12  \n",
            "   1    |  2060   |   0.162822   |     -      |     -     |   15.10  \n",
            "   1    |  2080   |   0.193063   |     -      |     -     |   15.13  \n",
            "   1    |  2100   |   0.191552   |     -      |     -     |   15.10  \n",
            "   1    |  2120   |   0.159625   |     -      |     -     |   15.12  \n",
            "   1    |  2140   |   0.226468   |     -      |     -     |   15.13  \n",
            "   1    |  2160   |   0.173511   |     -      |     -     |   15.12  \n",
            "   1    |  2180   |   0.234765   |     -      |     -     |   15.13  \n",
            "   1    |  2200   |   0.298628   |     -      |     -     |   15.13  \n",
            "   1    |  2220   |   0.198462   |     -      |     -     |   15.12  \n",
            "   1    |  2240   |   0.217792   |     -      |     -     |   15.12  \n",
            "   1    |  2260   |   0.210399   |     -      |     -     |   15.12  \n",
            "   1    |  2280   |   0.193591   |     -      |     -     |   15.12  \n",
            "   1    |  2300   |   0.228960   |     -      |     -     |   15.08  \n",
            "   1    |  2320   |   0.201952   |     -      |     -     |   15.11  \n",
            "   1    |  2340   |   0.277487   |     -      |     -     |   15.10  \n",
            "   1    |  2360   |   0.191231   |     -      |     -     |   15.08  \n",
            "   1    |  2380   |   0.222763   |     -      |     -     |   15.06  \n",
            "   1    |  2400   |   0.191982   |     -      |     -     |   14.97  \n",
            "   1    |  2420   |   0.227171   |     -      |     -     |   15.03  \n",
            "   1    |  2440   |   0.130433   |     -      |     -     |   15.07  \n",
            "   1    |  2460   |   0.197977   |     -      |     -     |   15.06  \n",
            "   1    |  2480   |   0.141945   |     -      |     -     |   15.07  \n",
            "   1    |  2500   |   0.207644   |     -      |     -     |   15.08  \n",
            "   1    |  2520   |   0.252425   |     -      |     -     |   15.08  \n",
            "   1    |  2540   |   0.295023   |     -      |     -     |   15.07  \n",
            "   1    |  2560   |   0.208730   |     -      |     -     |   15.07  \n",
            "   1    |  2580   |   0.225896   |     -      |     -     |   15.08  \n",
            "   1    |  2600   |   0.214426   |     -      |     -     |   15.04  \n",
            "   1    |  2620   |   0.201870   |     -      |     -     |   15.12  \n",
            "   1    |  2640   |   0.116882   |     -      |     -     |   15.12  \n",
            "   1    |  2660   |   0.163035   |     -      |     -     |   15.08  \n",
            "   1    |  2680   |   0.233164   |     -      |     -     |   15.10  \n",
            "   1    |  2700   |   0.166912   |     -      |     -     |   15.12  \n",
            "   1    |  2720   |   0.122675   |     -      |     -     |   15.08  \n",
            "   1    |  2740   |   0.183488   |     -      |     -     |   15.10  \n",
            "   1    |  2760   |   0.205500   |     -      |     -     |   15.11  \n",
            "   1    |  2780   |   0.173180   |     -      |     -     |   15.07  \n",
            "   1    |  2800   |   0.114192   |     -      |     -     |   15.07  \n",
            "   1    |  2820   |   0.303695   |     -      |     -     |   15.02  \n",
            "   1    |  2840   |   0.144944   |     -      |     -     |   15.05  \n",
            "   1    |  2860   |   0.211004   |     -      |     -     |   15.10  \n",
            "   1    |  2880   |   0.255457   |     -      |     -     |   15.07  \n",
            "   1    |  2900   |   0.190532   |     -      |     -     |   15.03  \n",
            "   1    |  2920   |   0.144013   |     -      |     -     |   15.09  \n",
            "   1    |  2940   |   0.155061   |     -      |     -     |   15.08  \n",
            "   1    |  2960   |   0.196653   |     -      |     -     |   15.10  \n",
            "   1    |  2980   |   0.208441   |     -      |     -     |   15.06  \n",
            "   1    |  3000   |   0.206853   |     -      |     -     |   15.07  \n",
            "   1    |  3020   |   0.168988   |     -      |     -     |   15.08  \n",
            "   1    |  3040   |   0.174247   |     -      |     -     |   15.06  \n",
            "   1    |  3060   |   0.151375   |     -      |     -     |   15.06  \n",
            "   1    |  3080   |   0.234139   |     -      |     -     |   15.07  \n",
            "   1    |  3100   |   0.162913   |     -      |     -     |   15.05  \n",
            "   1    |  3120   |   0.188752   |     -      |     -     |   15.10  \n",
            "   1    |  3140   |   0.155652   |     -      |     -     |   15.12  \n",
            "   1    |  3160   |   0.129604   |     -      |     -     |   15.10  \n",
            "   1    |  3180   |   0.230570   |     -      |     -     |   15.13  \n",
            "   1    |  3200   |   0.206732   |     -      |     -     |   15.07  \n",
            "   1    |  3220   |   0.186143   |     -      |     -     |   15.07  \n",
            "   1    |  3240   |   0.101743   |     -      |     -     |   15.07  \n",
            "   1    |  3260   |   0.200096   |     -      |     -     |   15.08  \n",
            "   1    |  3280   |   0.221570   |     -      |     -     |   15.02  \n",
            "   1    |  3300   |   0.230841   |     -      |     -     |   15.03  \n",
            "   1    |  3320   |   0.184488   |     -      |     -     |   15.06  \n",
            "   1    |  3340   |   0.142142   |     -      |     -     |   15.06  \n",
            "   1    |  3360   |   0.119927   |     -      |     -     |   15.06  \n",
            "   1    |  3380   |   0.233159   |     -      |     -     |   15.12  \n",
            "   1    |  3400   |   0.187559   |     -      |     -     |   15.09  \n",
            "   1    |  3420   |   0.189673   |     -      |     -     |   15.07  \n",
            "   1    |  3440   |   0.126384   |     -      |     -     |   15.08  \n",
            "   1    |  3460   |   0.203858   |     -      |     -     |   15.06  \n",
            "   1    |  3480   |   0.165110   |     -      |     -     |   15.06  \n",
            "   1    |  3500   |   0.180058   |     -      |     -     |   15.08  \n",
            "   1    |  3520   |   0.201731   |     -      |     -     |   15.06  \n",
            "   1    |  3540   |   0.213024   |     -      |     -     |   15.10  \n",
            "   1    |  3560   |   0.282889   |     -      |     -     |   15.06  \n",
            "   1    |  3580   |   0.149020   |     -      |     -     |   15.07  \n",
            "   1    |  3600   |   0.140231   |     -      |     -     |   15.07  \n",
            "   1    |  3620   |   0.314154   |     -      |     -     |   15.06  \n",
            "   1    |  3640   |   0.175204   |     -      |     -     |   15.09  \n",
            "   1    |  3660   |   0.226456   |     -      |     -     |   15.06  \n",
            "   1    |  3680   |   0.151768   |     -      |     -     |   15.09  \n",
            "   1    |  3700   |   0.186820   |     -      |     -     |   15.05  \n",
            "   1    |  3720   |   0.254538   |     -      |     -     |   15.06  \n",
            "   1    |  3740   |   0.179756   |     -      |     -     |   15.06  \n",
            "   1    |  3760   |   0.202350   |     -      |     -     |   15.11  \n",
            "   1    |  3780   |   0.173914   |     -      |     -     |   15.06  \n",
            "   1    |  3800   |   0.133932   |     -      |     -     |   15.04  \n",
            "   1    |  3820   |   0.159067   |     -      |     -     |   15.05  \n",
            "   1    |  3840   |   0.205800   |     -      |     -     |   15.07  \n",
            "   1    |  3860   |   0.146188   |     -      |     -     |   15.06  \n",
            "   1    |  3880   |   0.155320   |     -      |     -     |   15.06  \n",
            "   1    |  3900   |   0.183794   |     -      |     -     |   15.07  \n",
            "   1    |  3920   |   0.245656   |     -      |     -     |   15.04  \n",
            "   1    |  3940   |   0.172324   |     -      |     -     |   15.05  \n",
            "   1    |  3950   |   0.065523   |     -      |     -     |   7.53   \n",
            "----------------------------------------------------------------------\n",
            "   1    |    -    |   0.240063   |  0.169548  |   94.26   |  3096.72 \n",
            "----------------------------------------------------------------------\n",
            "\n",
            "\n",
            " Epoch  |  Batch  |  Train Loss  |  Val Loss  |  Val Acc  |  Elapsed \n",
            "----------------------------------------------------------------------\n",
            "   2    |   20    |   0.109690   |     -      |     -     |   15.93  \n",
            "   2    |   40    |   0.098707   |     -      |     -     |   15.07  \n",
            "   2    |   60    |   0.135979   |     -      |     -     |   15.17  \n",
            "   2    |   80    |   0.104500   |     -      |     -     |   15.20  \n",
            "   2    |   100   |   0.077027   |     -      |     -     |   15.08  \n",
            "   2    |   120   |   0.179453   |     -      |     -     |   15.08  \n",
            "   2    |   140   |   0.088276   |     -      |     -     |   15.05  \n",
            "   2    |   160   |   0.168973   |     -      |     -     |   15.05  \n",
            "   2    |   180   |   0.150998   |     -      |     -     |   15.11  \n",
            "   2    |   200   |   0.114365   |     -      |     -     |   15.08  \n",
            "   2    |   220   |   0.133216   |     -      |     -     |   15.06  \n",
            "   2    |   240   |   0.142050   |     -      |     -     |   15.05  \n",
            "   2    |   260   |   0.124757   |     -      |     -     |   15.08  \n",
            "   2    |   280   |   0.130936   |     -      |     -     |   15.06  \n",
            "   2    |   300   |   0.081590   |     -      |     -     |   15.07  \n",
            "   2    |   320   |   0.082681   |     -      |     -     |   15.07  \n",
            "   2    |   340   |   0.093274   |     -      |     -     |   15.08  \n",
            "   2    |   360   |   0.070863   |     -      |     -     |   15.05  \n",
            "   2    |   380   |   0.107929   |     -      |     -     |   15.09  \n",
            "   2    |   400   |   0.086152   |     -      |     -     |   15.05  \n",
            "   2    |   420   |   0.079207   |     -      |     -     |   15.06  \n",
            "   2    |   440   |   0.126837   |     -      |     -     |   15.05  \n",
            "   2    |   460   |   0.131731   |     -      |     -     |   15.07  \n",
            "   2    |   480   |   0.046434   |     -      |     -     |   15.08  \n",
            "   2    |   500   |   0.202308   |     -      |     -     |   15.05  \n",
            "   2    |   520   |   0.117745   |     -      |     -     |   15.06  \n",
            "   2    |   540   |   0.115776   |     -      |     -     |   15.05  \n",
            "   2    |   560   |   0.108637   |     -      |     -     |   15.04  \n",
            "   2    |   580   |   0.046222   |     -      |     -     |   15.07  \n",
            "   2    |   600   |   0.102645   |     -      |     -     |   15.07  \n",
            "   2    |   620   |   0.178702   |     -      |     -     |   15.06  \n",
            "   2    |   640   |   0.103499   |     -      |     -     |   15.06  \n",
            "   2    |   660   |   0.067885   |     -      |     -     |   15.06  \n",
            "   2    |   680   |   0.096236   |     -      |     -     |   15.07  \n",
            "   2    |   700   |   0.213351   |     -      |     -     |   15.08  \n",
            "   2    |   720   |   0.124551   |     -      |     -     |   15.09  \n",
            "   2    |   740   |   0.080016   |     -      |     -     |   15.05  \n",
            "   2    |   760   |   0.151510   |     -      |     -     |   15.05  \n",
            "   2    |   780   |   0.089029   |     -      |     -     |   15.06  \n",
            "   2    |   800   |   0.133942   |     -      |     -     |   15.07  \n",
            "   2    |   820   |   0.129921   |     -      |     -     |   15.07  \n",
            "   2    |   840   |   0.137369   |     -      |     -     |   15.07  \n",
            "   2    |   860   |   0.175733   |     -      |     -     |   15.04  \n",
            "   2    |   880   |   0.100387   |     -      |     -     |   15.10  \n",
            "   2    |   900   |   0.130064   |     -      |     -     |   15.06  \n",
            "   2    |   920   |   0.102237   |     -      |     -     |   15.08  \n",
            "   2    |   940   |   0.110250   |     -      |     -     |   15.08  \n",
            "   2    |   960   |   0.079306   |     -      |     -     |   15.12  \n",
            "   2    |   980   |   0.157587   |     -      |     -     |   15.11  \n",
            "   2    |  1000   |   0.107117   |     -      |     -     |   15.07  \n",
            "   2    |  1020   |   0.049679   |     -      |     -     |   15.10  \n",
            "   2    |  1040   |   0.159789   |     -      |     -     |   15.08  \n",
            "   2    |  1060   |   0.138472   |     -      |     -     |   15.04  \n",
            "   2    |  1080   |   0.141772   |     -      |     -     |   15.04  \n",
            "   2    |  1100   |   0.129308   |     -      |     -     |   15.06  \n",
            "   2    |  1120   |   0.137394   |     -      |     -     |   15.08  \n",
            "   2    |  1140   |   0.092101   |     -      |     -     |   15.08  \n",
            "   2    |  1160   |   0.123993   |     -      |     -     |   15.05  \n",
            "   2    |  1180   |   0.121341   |     -      |     -     |   14.99  \n",
            "   2    |  1200   |   0.178568   |     -      |     -     |   14.97  \n",
            "   2    |  1220   |   0.172540   |     -      |     -     |   14.92  \n",
            "   2    |  1240   |   0.146691   |     -      |     -     |   14.93  \n",
            "   2    |  1260   |   0.142334   |     -      |     -     |   14.93  \n",
            "   2    |  1280   |   0.110748   |     -      |     -     |   14.90  \n",
            "   2    |  1300   |   0.127929   |     -      |     -     |   14.92  \n",
            "   2    |  1320   |   0.105998   |     -      |     -     |   14.88  \n",
            "   2    |  1340   |   0.138289   |     -      |     -     |   14.90  \n",
            "   2    |  1360   |   0.065092   |     -      |     -     |   14.92  \n",
            "   2    |  1380   |   0.078779   |     -      |     -     |   14.90  \n",
            "   2    |  1400   |   0.101444   |     -      |     -     |   14.91  \n",
            "   2    |  1420   |   0.096050   |     -      |     -     |   14.90  \n",
            "   2    |  1440   |   0.120493   |     -      |     -     |   14.93  \n",
            "   2    |  1460   |   0.123961   |     -      |     -     |   14.89  \n",
            "   2    |  1480   |   0.097241   |     -      |     -     |   14.92  \n",
            "   2    |  1500   |   0.168977   |     -      |     -     |   14.88  \n",
            "   2    |  1520   |   0.074708   |     -      |     -     |   14.91  \n",
            "   2    |  1540   |   0.060750   |     -      |     -     |   14.93  \n",
            "   2    |  1560   |   0.149575   |     -      |     -     |   14.88  \n",
            "   2    |  1580   |   0.136585   |     -      |     -     |   14.96  \n",
            "   2    |  1600   |   0.125251   |     -      |     -     |   15.01  \n",
            "   2    |  1620   |   0.087213   |     -      |     -     |   15.10  \n",
            "   2    |  1640   |   0.114149   |     -      |     -     |   15.08  \n",
            "   2    |  1660   |   0.165819   |     -      |     -     |   15.13  \n",
            "   2    |  1680   |   0.204750   |     -      |     -     |   15.12  \n",
            "   2    |  1700   |   0.084150   |     -      |     -     |   15.07  \n",
            "   2    |  1720   |   0.097266   |     -      |     -     |   15.09  \n",
            "   2    |  1740   |   0.182880   |     -      |     -     |   15.06  \n",
            "   2    |  1760   |   0.164621   |     -      |     -     |   15.05  \n",
            "   2    |  1780   |   0.092268   |     -      |     -     |   15.07  \n",
            "   2    |  1800   |   0.087002   |     -      |     -     |   15.08  \n",
            "   2    |  1820   |   0.180163   |     -      |     -     |   15.08  \n",
            "   2    |  1840   |   0.180101   |     -      |     -     |   15.08  \n",
            "   2    |  1860   |   0.154307   |     -      |     -     |   15.05  \n",
            "   2    |  1880   |   0.117960   |     -      |     -     |   15.07  \n",
            "   2    |  1900   |   0.123688   |     -      |     -     |   15.05  \n",
            "   2    |  1920   |   0.104336   |     -      |     -     |   15.05  \n",
            "   2    |  1940   |   0.163355   |     -      |     -     |   15.09  \n",
            "   2    |  1960   |   0.079979   |     -      |     -     |   15.07  \n",
            "   2    |  1980   |   0.139224   |     -      |     -     |   15.05  \n",
            "   2    |  2000   |   0.130989   |     -      |     -     |   15.07  \n",
            "   2    |  2020   |   0.076314   |     -      |     -     |   15.05  \n",
            "   2    |  2040   |   0.139481   |     -      |     -     |   15.08  \n",
            "   2    |  2060   |   0.070275   |     -      |     -     |   15.09  \n",
            "   2    |  2080   |   0.199058   |     -      |     -     |   15.07  \n",
            "   2    |  2100   |   0.099681   |     -      |     -     |   15.05  \n",
            "   2    |  2120   |   0.064597   |     -      |     -     |   15.07  \n",
            "   2    |  2140   |   0.147290   |     -      |     -     |   15.05  \n",
            "   2    |  2160   |   0.048737   |     -      |     -     |   15.07  \n",
            "   2    |  2180   |   0.074633   |     -      |     -     |   15.06  \n",
            "   2    |  2200   |   0.153732   |     -      |     -     |   15.04  \n",
            "   2    |  2220   |   0.075608   |     -      |     -     |   15.07  \n",
            "   2    |  2240   |   0.153757   |     -      |     -     |   15.10  \n",
            "   2    |  2260   |   0.110663   |     -      |     -     |   15.12  \n",
            "   2    |  2280   |   0.094704   |     -      |     -     |   15.09  \n",
            "   2    |  2300   |   0.104837   |     -      |     -     |   15.13  \n",
            "   2    |  2320   |   0.092670   |     -      |     -     |   15.07  \n",
            "   2    |  2340   |   0.155852   |     -      |     -     |   15.08  \n",
            "   2    |  2360   |   0.129330   |     -      |     -     |   15.04  \n",
            "   2    |  2380   |   0.167989   |     -      |     -     |   15.09  \n",
            "   2    |  2400   |   0.121517   |     -      |     -     |   15.08  \n",
            "   2    |  2420   |   0.080518   |     -      |     -     |   15.06  \n",
            "   2    |  2440   |   0.120141   |     -      |     -     |   15.11  \n",
            "   2    |  2460   |   0.083914   |     -      |     -     |   15.08  \n",
            "   2    |  2480   |   0.097093   |     -      |     -     |   15.09  \n",
            "   2    |  2500   |   0.078582   |     -      |     -     |   15.10  \n",
            "   2    |  2520   |   0.055701   |     -      |     -     |   15.09  \n",
            "   2    |  2540   |   0.072397   |     -      |     -     |   15.07  \n",
            "   2    |  2560   |   0.159562   |     -      |     -     |   15.05  \n",
            "   2    |  2580   |   0.118646   |     -      |     -     |   15.10  \n",
            "   2    |  2600   |   0.053073   |     -      |     -     |   15.08  \n",
            "   2    |  2620   |   0.084171   |     -      |     -     |   15.07  \n",
            "   2    |  2640   |   0.107218   |     -      |     -     |   15.06  \n",
            "   2    |  2660   |   0.074877   |     -      |     -     |   15.05  \n",
            "   2    |  2680   |   0.127906   |     -      |     -     |   15.06  \n",
            "   2    |  2700   |   0.154529   |     -      |     -     |   15.05  \n",
            "   2    |  2720   |   0.103068   |     -      |     -     |   15.08  \n",
            "   2    |  2740   |   0.100563   |     -      |     -     |   15.07  \n",
            "   2    |  2760   |   0.088078   |     -      |     -     |   15.05  \n",
            "   2    |  2780   |   0.162699   |     -      |     -     |   15.07  \n",
            "   2    |  2800   |   0.119739   |     -      |     -     |   15.07  \n",
            "   2    |  2820   |   0.046813   |     -      |     -     |   15.07  \n",
            "   2    |  2840   |   0.161008   |     -      |     -     |   15.08  \n",
            "   2    |  2860   |   0.100669   |     -      |     -     |   15.07  \n",
            "   2    |  2880   |   0.061110   |     -      |     -     |   15.10  \n",
            "   2    |  2900   |   0.078581   |     -      |     -     |   15.10  \n",
            "   2    |  2920   |   0.219118   |     -      |     -     |   15.06  \n",
            "   2    |  2940   |   0.170126   |     -      |     -     |   15.09  \n",
            "   2    |  2960   |   0.114339   |     -      |     -     |   15.07  \n",
            "   2    |  2980   |   0.129701   |     -      |     -     |   15.06  \n",
            "   2    |  3000   |   0.040165   |     -      |     -     |   15.07  \n",
            "   2    |  3020   |   0.098950   |     -      |     -     |   15.05  \n",
            "   2    |  3040   |   0.106709   |     -      |     -     |   15.04  \n",
            "   2    |  3060   |   0.067658   |     -      |     -     |   15.07  \n",
            "   2    |  3080   |   0.118287   |     -      |     -     |   15.07  \n",
            "   2    |  3100   |   0.175559   |     -      |     -     |   15.07  \n",
            "   2    |  3120   |   0.121224   |     -      |     -     |   15.06  \n",
            "   2    |  3140   |   0.093983   |     -      |     -     |   15.08  \n",
            "   2    |  3160   |   0.092447   |     -      |     -     |   15.07  \n",
            "   2    |  3180   |   0.114843   |     -      |     -     |   15.09  \n",
            "   2    |  3200   |   0.097833   |     -      |     -     |   15.06  \n",
            "   2    |  3220   |   0.121262   |     -      |     -     |   15.06  \n",
            "   2    |  3240   |   0.110012   |     -      |     -     |   15.08  \n",
            "   2    |  3260   |   0.091911   |     -      |     -     |   15.05  \n",
            "   2    |  3280   |   0.144900   |     -      |     -     |   15.07  \n",
            "   2    |  3300   |   0.059644   |     -      |     -     |   15.06  \n",
            "   2    |  3320   |   0.119187   |     -      |     -     |   15.05  \n",
            "   2    |  3340   |   0.099684   |     -      |     -     |   15.05  \n",
            "   2    |  3360   |   0.080687   |     -      |     -     |   15.07  \n",
            "   2    |  3380   |   0.082787   |     -      |     -     |   15.07  \n",
            "   2    |  3400   |   0.133476   |     -      |     -     |   15.06  \n",
            "   2    |  3420   |   0.127840   |     -      |     -     |   15.06  \n",
            "   2    |  3440   |   0.151054   |     -      |     -     |   15.06  \n",
            "   2    |  3460   |   0.098280   |     -      |     -     |   15.05  \n",
            "   2    |  3480   |   0.092006   |     -      |     -     |   15.06  \n",
            "   2    |  3500   |   0.044713   |     -      |     -     |   15.06  \n",
            "   2    |  3520   |   0.098927   |     -      |     -     |   15.06  \n",
            "   2    |  3540   |   0.068982   |     -      |     -     |   15.07  \n",
            "   2    |  3560   |   0.092273   |     -      |     -     |   15.03  \n",
            "   2    |  3580   |   0.103629   |     -      |     -     |   15.08  \n",
            "   2    |  3600   |   0.053838   |     -      |     -     |   15.08  \n",
            "   2    |  3620   |   0.093593   |     -      |     -     |   15.07  \n",
            "   2    |  3640   |   0.087665   |     -      |     -     |   15.06  \n",
            "   2    |  3660   |   0.070819   |     -      |     -     |   15.06  \n",
            "   2    |  3680   |   0.190493   |     -      |     -     |   15.07  \n",
            "   2    |  3700   |   0.103034   |     -      |     -     |   15.08  \n",
            "   2    |  3720   |   0.155098   |     -      |     -     |   15.07  \n",
            "   2    |  3740   |   0.097408   |     -      |     -     |   15.09  \n",
            "   2    |  3760   |   0.141355   |     -      |     -     |   15.07  \n",
            "   2    |  3780   |   0.093873   |     -      |     -     |   15.09  \n",
            "   2    |  3800   |   0.151402   |     -      |     -     |   15.08  \n",
            "   2    |  3820   |   0.102361   |     -      |     -     |   15.04  \n",
            "   2    |  3840   |   0.080825   |     -      |     -     |   15.05  \n"
          ]
        }
      ]
    },
    {
      "cell_type": "code",
      "source": [
        "import pickle\n",
        "filename = 'trained-distilbert-base-uncased-emotion.sav'\n",
        "pickle.dump(bert_classifier, open(filename, 'wb'))"
      ],
      "metadata": {
        "id": "Pi0d0Im5QxvH"
      },
      "execution_count": null,
      "outputs": []
    },
    {
      "cell_type": "code",
      "source": [
        "# # Loading the model (to avoid retraining in reruns)\n",
        "\n",
        "# import pickle\n",
        "# filename = 'trained-distilbert-base-uncased-emotion.sav'\n",
        "# f = open(filename, 'rb')\n",
        "# bert_classifier = pickle.load(f)"
      ],
      "metadata": {
        "id": "AjU-9IY9tRKR"
      },
      "execution_count": null,
      "outputs": []
    },
    {
      "cell_type": "code",
      "source": [
        "import torch.nn.functional as F\n",
        "\n",
        "def bert_predict(model, test_dataloader):\n",
        "    \"\"\"Perform a forward pass on the trained BERT model to predict probabilities\n",
        "    on the test set.\n",
        "    \"\"\"\n",
        "    # Put the model into the evaluation mode. The dropout layers are disabled during\n",
        "    # the test time.\n",
        "    model.eval()\n",
        "\n",
        "    all_logits = []\n",
        "\n",
        "    # For each batch in our test set...\n",
        "    for batch in test_dataloader:\n",
        "        # Load batch to GPU\n",
        "        b_input_ids, b_attn_mask = tuple(t.to(device) for t in batch)[:2]\n",
        "\n",
        "        # Compute logits\n",
        "        with torch.no_grad():\n",
        "            logits = model(b_input_ids, b_attn_mask)\n",
        "        all_logits.append(logits)\n",
        "    \n",
        "    # Concatenate logits from each batch\n",
        "    all_logits = torch.cat(all_logits, dim=0)\n",
        "\n",
        "    # Apply softmax to calculate probabilities\n",
        "    probs = F.softmax(all_logits, dim=1).cpu().numpy()\n",
        "\n",
        "    return probs"
      ],
      "metadata": {
        "id": "Y84FNM8rlMuq"
      },
      "execution_count": 27,
      "outputs": []
    },
    {
      "cell_type": "code",
      "source": [
        "from sklearn.metrics import accuracy_score, roc_curve, auc, precision_score, recall_score\n",
        "from sklearn.metrics import precision_recall_curve, f1_score\n",
        "\n",
        "def evaluate_roc(probs, y_true):\n",
        "    \"\"\"\n",
        "    - Print AUC and accuracy on the test set\n",
        "    - Plot ROC\n",
        "    @params    probs (np.array): an array of predicted probabilities with shape (len(y_true), 2)\n",
        "    @params    y_true (np.array): an array of the true values with shape (len(y_true),)\n",
        "    \"\"\"\n",
        "    preds = probs[:, 1]\n",
        "    fpr, tpr, threshold = roc_curve(y_true, preds)\n",
        "    roc_auc = auc(fpr, tpr)\n",
        "    print(f'AUC: {roc_auc:.4f}')\n",
        "       \n",
        "    # Get accuracy over the test set\n",
        "    y_pred = np.where(preds >= 0.5, 1, 0)\n",
        "    accuracy = accuracy_score(y_true, y_pred)\n",
        "    print(f'Accuracy: {accuracy*100:.2f}%')\n",
        "\n",
        "    #Get Precision and Recall over the test set\n",
        "    precision  = precision_score(y_true, y_pred, average='binary')\n",
        "    print(f'Precision: {precision*100:.2f}%')\n",
        "    recall = recall_score(y_true, y_pred, average='binary')\n",
        "    print(f'Recall: {recall*100:.2f}%')\n",
        "\n",
        "    f1 = f1_score(y_true, y_pred)\n",
        "\n",
        "    \n",
        "    # Plot ROC AUC\n",
        "    plt.plot(fpr, tpr, 'b', label = 'AUC = %0.2f' % roc_auc)\n",
        "    plt.legend(loc = 'lower right')\n",
        "    plt.plot([0, 1], [0, 1],'r--')\n",
        "    plt.xlim([0, 1])\n",
        "    plt.ylim([0, 1])\n",
        "    plt.ylabel('True Positive Rate')\n",
        "    plt.xlabel('False Positive Rate')\n",
        "    plt.show()\n",
        "\n",
        "    print('Distilbert: f1=%.3f ' % (f1))\n",
        "    # plot the precision-recall curves\n",
        "    baseline = len(y_test[y_test==1]) / len(y_test)\n",
        "    plt.plot([0, 1], [baseline, baseline], linestyle='--', label='Baseline')\n",
        "    plt.plot(recall, precision, marker='.', label='DistilbertBase')\n",
        "    # axis labels\n",
        "    plt.xlabel('Recall')\n",
        "    plt.ylabel('Precision')\n",
        "    # show the legend\n",
        "    plt.legend()\n",
        "    # show the plot\n",
        "    plt.show()\n"
      ],
      "metadata": {
        "id": "BaP0b0jclMxY"
      },
      "execution_count": 41,
      "outputs": []
    },
    {
      "cell_type": "code",
      "source": [
        "# Compute predicted probabilities on the validation set\n",
        "probs = bert_predict(bert_classifier, val_dataloader)\n",
        "\n",
        "# Evaluate the Bert classifier\n",
        "evaluate_roc(probs, y_val)"
      ],
      "metadata": {
        "colab": {
          "base_uri": "https://localhost:8080/",
          "height": 632
        },
        "id": "MUH-ejXRlMz9",
        "outputId": "edbafd43-8c71-4ca4-cde2-5c878e91cb36"
      },
      "execution_count": 42,
      "outputs": [
        {
          "output_type": "stream",
          "name": "stdout",
          "text": [
            "AUC: 0.9896\n",
            "Accuracy: 95.27%\n",
            "Precision: 95.52%\n",
            "Recall: 95.82%\n"
          ]
        },
        {
          "output_type": "display_data",
          "data": {
            "image/png": "[encoded data removed]",
            "text/plain": [
              "<Figure size 432x288 with 1 Axes>"
            ]
          },
          "metadata": {
            "needs_background": "light"
          }
        },
        {
          "output_type": "stream",
          "name": "stdout",
          "text": [
            "Distilbert: f1=0.957 \n"
          ]
        },
        {
          "output_type": "display_data",
          "data": {
            "image/png": "[encoded data removed]",
            "text/plain": [
              "<Figure size 432x288 with 1 Axes>"
            ]
          },
          "metadata": {
            "needs_background": "light"
          }
        }
      ]
    },
    {
      "cell_type": "code",
      "source": [
        "# Run `preprocessing_for_bert` on the test set\n",
        "print('Tokenizing data...')\n",
        "test_inputs, test_masks = preprocessing_for_bert(X_test)\n",
        "\n",
        "# Create the DataLoader for our test set\n",
        "test_dataset = TensorDataset(test_inputs, test_masks)\n",
        "test_sampler = SequentialSampler(test_dataset)\n",
        "test_dataloader = DataLoader(test_dataset, sampler=test_sampler, batch_size=32)"
      ],
      "metadata": {
        "colab": {
          "base_uri": "https://localhost:8080/"
        },
        "id": "Yvvheq0qlM3d",
        "outputId": "e2b8b79e-5f29-4d18-cd66-402581b393f1"
      },
      "execution_count": 44,
      "outputs": [
        {
          "output_type": "stream",
          "name": "stdout",
          "text": [
            "Tokenizing data...\n"
          ]
        }
      ]
    },
    {
      "cell_type": "code",
      "source": [
        "# Compute predicted probabilities on the test set\n",
        "probs = bert_predict(bert_classifier, test_dataloader)\n",
        "\n",
        "# Get predictions from the probabilities\n",
        "threshold = 0.5\n",
        "preds = np.where(probs[:, 1] > threshold, 1, 0)\n",
        "\n",
        "# Number of tweets predicted non-negative\n",
        "print(\"no-negative tweets ratio \", preds.sum()/len(preds))"
      ],
      "metadata": {
        "colab": {
          "base_uri": "https://localhost:8080/"
        },
        "id": "ENShAjsVlh0P",
        "outputId": "71b62683-33b7-408d-96a5-47c2ec62f701"
      },
      "execution_count": 45,
      "outputs": [
        {
          "output_type": "stream",
          "name": "stdout",
          "text": [
            "no-negative tweets ratio  0.5542395080006833\n"
          ]
        }
      ]
    },
    {
      "cell_type": "code",
      "source": [
        "# Evaluate the Bert classifier for unseen test data\n",
        "evaluate_roc(probs, y_test)"
      ],
      "metadata": {
        "colab": {
          "base_uri": "https://localhost:8080/",
          "height": 632
        },
        "id": "4nMBgpwvlh3D",
        "outputId": "fd41e926-b90f-44d0-c5b4-ff0b738ad37a"
      },
      "execution_count": 46,
      "outputs": [
        {
          "output_type": "stream",
          "name": "stdout",
          "text": [
            "AUC: 0.9908\n",
            "Accuracy: 95.57%\n",
            "Precision: 96.12%\n",
            "Recall: 95.90%\n"
          ]
        },
        {
          "output_type": "display_data",
          "data": {
            "image/png": "[encoded data removed]",
            "text/plain": [
              "<Figure size 432x288 with 1 Axes>"
            ]
          },
          "metadata": {
            "needs_background": "light"
          }
        },
        {
          "output_type": "stream",
          "name": "stdout",
          "text": [
            "Distilbert: f1=0.960 \n"
          ]
        },
        {
          "output_type": "display_data",
          "data": {
            "image/png": "[encoded data removed]",
            "text/plain": [
              "<Figure size 432x288 with 1 Axes>"
            ]
          },
          "metadata": {
            "needs_background": "light"
          }
        }
      ]
    },
    {
      "cell_type": "markdown",
      "source": [
        "Dataset 1"
      ],
      "metadata": {
        "id": "UbxnxHjbrN7w"
      }
    },
    {
      "cell_type": "code",
      "source": [
        "X = df1.text.values\n",
        "y = df1.sentiment.values\n",
        "X_, X_test, y_, y_test = train_test_split(X, y, test_size=0.2, random_state = 42)\n",
        "X_train, X_val, y_train, y_val = train_test_split(X_, y_, test_size=0.1, random_state = 42)"
      ],
      "metadata": {
        "id": "blHSYaz9rWGZ"
      },
      "execution_count": null,
      "outputs": []
    },
    {
      "cell_type": "code",
      "source": [
        "# Specify `MAX_LEN`\n",
        "MAX_LEN =  280\n",
        "\n",
        "# Print sentence 0 and its encoded token ids\n",
        "token_ids = list(preprocessing_for_bert([X[0]], version=\"base\", text_preprocessing_fn=text_preprocessing)[0].squeeze().numpy())\n",
        "print('Original: ', X[0])\n",
        "print('Token IDs: ', token_ids)\n",
        "\n",
        "# Run function `preprocessing_for_bert` on the train set and the validation set\n",
        "print('Tokenizing data...')\n",
        "train_inputs, train_masks = preprocessing_for_bert(X_train, version=\"base\", text_preprocessing_fn=text_preprocessing)\n",
        "val_inputs, val_masks = preprocessing_for_bert(X_val, version=\"base\", text_preprocessing_fn=text_preprocessing)"
      ],
      "metadata": {
        "id": "LHkD3v3DrWJc"
      },
      "execution_count": null,
      "outputs": []
    },
    {
      "cell_type": "code",
      "source": [
        "from torch.utils.data import TensorDataset, DataLoader, RandomSampler, SequentialSampler\n",
        "\n",
        "# Convert other data types to torch.Tensor\n",
        "train_labels = torch.tensor(y_train)\n",
        "val_labels = torch.tensor(y_val)\n",
        "\n",
        "# For fine-tuning BERT, the authors recommend a batch size of 16 or 32.\n",
        "batch_size = 16\n",
        "\n",
        "# Create the DataLoader for our training set\n",
        "train_data = TensorDataset(train_inputs, train_masks, train_labels)\n",
        "train_sampler = RandomSampler(train_data)\n",
        "train_dataloader = DataLoader(train_data, sampler=train_sampler, batch_size=batch_size)\n",
        "\n",
        "# Create the DataLoader for our validation set\n",
        "val_data = TensorDataset(val_inputs, val_masks, val_labels)\n",
        "val_sampler = SequentialSampler(val_data)\n",
        "val_dataloader = DataLoader(val_data, sampler=val_sampler, batch_size=batch_size)"
      ],
      "metadata": {
        "id": "PFgGW0g7rWMk"
      },
      "execution_count": null,
      "outputs": []
    },
    {
      "cell_type": "code",
      "source": [
        "set_seed(42) \n",
        "bert_classifier, optimizer, scheduler = initialize_model(epochs=2, version=\"base\")\n",
        "train(bert_classifier, train_dataloader, val_dataloader, epochs=2, evaluation=True)"
      ],
      "metadata": {
        "id": "C15aScZ7rWQI"
      },
      "execution_count": null,
      "outputs": []
    },
    {
      "cell_type": "code",
      "source": [
        "probs = bert_predict(bert_classifier, val_dataloader)\n",
        "\n",
        "# Evaluate the Bert classifier\n",
        "evaluate_roc(probs, y_val)"
      ],
      "metadata": {
        "id": "BV8qdxdorWW3"
      },
      "execution_count": null,
      "outputs": []
    },
    {
      "cell_type": "code",
      "source": [
        "print('Tokenizing data...')\n",
        "test_inputs, test_masks = preprocessing_for_bert(X_test)\n",
        "\n",
        "# Create the DataLoader for our test set\n",
        "test_dataset = TensorDataset(test_inputs, test_masks)\n",
        "test_sampler = SequentialSampler(test_dataset)\n",
        "test_dataloader = DataLoader(test_dataset, sampler=test_sampler, batch_size=32)"
      ],
      "metadata": {
        "id": "IWA5L_vXrWZR"
      },
      "execution_count": null,
      "outputs": []
    },
    {
      "cell_type": "code",
      "source": [
        "probs = bert_predict(bert_classifier, test_dataloader)\n",
        "\n",
        "# Get predictions from the probabilities\n",
        "threshold = 0.5\n",
        "preds = np.where(probs[:, 1] > threshold, 1, 0)\n",
        "\n",
        "# Number of tweets predicted non-negative\n",
        "print(\"no-negative tweets ratio \", preds.sum()/len(preds))"
      ],
      "metadata": {
        "id": "vmU48X_wrWcA"
      },
      "execution_count": null,
      "outputs": []
    },
    {
      "cell_type": "code",
      "source": [
        "# Evaluate the Bert classifier for unseen test data\n",
        "evaluate_roc(probs, y_test)"
      ],
      "metadata": {
        "id": "q2J_5WbYrWe3"
      },
      "execution_count": null,
      "outputs": []
    },
    {
      "cell_type": "markdown",
      "source": [
        "Dataset 2"
      ],
      "metadata": {
        "id": "__XHLDr7sXzY"
      }
    },
    {
      "cell_type": "code",
      "source": [
        "X = df2.text.values\n",
        "y = df2.sentiment.values\n",
        "X_, X_test, y_, y_test = train_test_split(X, y, test_size=0.2, random_state = 42)\n",
        "X_train, X_val, y_train, y_val = train_test_split(X_, y_, test_size=0.1, random_state = 42)"
      ],
      "metadata": {
        "id": "KL4fvGwtsfMG"
      },
      "execution_count": null,
      "outputs": []
    },
    {
      "cell_type": "code",
      "source": [
        "# Specify `MAX_LEN`\n",
        "MAX_LEN =  280\n",
        "\n",
        "# Print sentence 0 and its encoded token ids\n",
        "token_ids = list(preprocessing_for_bert([X[0]], version=\"base\", text_preprocessing_fn=text_preprocessing)[0].squeeze().numpy())\n",
        "print('Original: ', X[0])\n",
        "print('Token IDs: ', token_ids)\n",
        "\n",
        "# Run function `preprocessing_for_bert` on the train set and the validation set\n",
        "print('Tokenizing data...')\n",
        "train_inputs, train_masks = preprocessing_for_bert(X_train, version=\"base\", text_preprocessing_fn=text_preprocessing)\n",
        "val_inputs, val_masks = preprocessing_for_bert(X_val, version=\"base\", text_preprocessing_fn=text_preprocessing)"
      ],
      "metadata": {
        "id": "UWZaHaRHsfMH"
      },
      "execution_count": null,
      "outputs": []
    },
    {
      "cell_type": "code",
      "source": [
        "from torch.utils.data import TensorDataset, DataLoader, RandomSampler, SequentialSampler\n",
        "\n",
        "# Convert other data types to torch.Tensor\n",
        "train_labels = torch.tensor(y_train)\n",
        "val_labels = torch.tensor(y_val)\n",
        "\n",
        "# For fine-tuning BERT, the authors recommend a batch size of 16 or 32.\n",
        "batch_size = 16\n",
        "\n",
        "# Create the DataLoader for our training set\n",
        "train_data = TensorDataset(train_inputs, train_masks, train_labels)\n",
        "train_sampler = RandomSampler(train_data)\n",
        "train_dataloader = DataLoader(train_data, sampler=train_sampler, batch_size=batch_size)\n",
        "\n",
        "# Create the DataLoader for our validation set\n",
        "val_data = TensorDataset(val_inputs, val_masks, val_labels)\n",
        "val_sampler = SequentialSampler(val_data)\n",
        "val_dataloader = DataLoader(val_data, sampler=val_sampler, batch_size=batch_size)"
      ],
      "metadata": {
        "id": "E9HVAST2sfMH"
      },
      "execution_count": null,
      "outputs": []
    },
    {
      "cell_type": "code",
      "source": [
        "set_seed(42) \n",
        "bert_classifier, optimizer, scheduler = initialize_model(epochs=2, version=\"base\")\n",
        "train(bert_classifier, train_dataloader, val_dataloader, epochs=2, evaluation=True)"
      ],
      "metadata": {
        "id": "0DgNVgLYstSd"
      },
      "execution_count": null,
      "outputs": []
    },
    {
      "cell_type": "code",
      "source": [
        "probs = bert_predict(bert_classifier, val_dataloader)\n",
        "\n",
        "# Evaluate the Bert classifier\n",
        "evaluate_roc(probs, y_val)"
      ],
      "metadata": {
        "id": "wsQvAkT3stSe"
      },
      "execution_count": null,
      "outputs": []
    },
    {
      "cell_type": "code",
      "source": [
        "print('Tokenizing data...')\n",
        "test_inputs, test_masks = preprocessing_for_bert(X_test)\n",
        "\n",
        "# Create the DataLoader for our test set\n",
        "test_dataset = TensorDataset(test_inputs, test_masks)\n",
        "test_sampler = SequentialSampler(test_dataset)\n",
        "test_dataloader = DataLoader(test_dataset, sampler=test_sampler, batch_size=32)"
      ],
      "metadata": {
        "id": "Rfb1hZkNstSf"
      },
      "execution_count": null,
      "outputs": []
    },
    {
      "cell_type": "code",
      "source": [
        "probs = bert_predict(bert_classifier, test_dataloader)\n",
        "\n",
        "# Get predictions from the probabilities\n",
        "threshold = 0.5\n",
        "preds = np.where(probs[:, 1] > threshold, 1, 0)\n",
        "\n",
        "# Number of tweets predicted non-negative\n",
        "print(\"no-negative tweets ratio \", preds.sum()/len(preds))"
      ],
      "metadata": {
        "id": "k9kl_X-NstSf"
      },
      "execution_count": null,
      "outputs": []
    },
    {
      "cell_type": "code",
      "source": [
        "# Evaluate the Bert classifier for unseen test data\n",
        "evaluate_roc(probs, y_test)"
      ],
      "metadata": {
        "id": "CIYUYUDxstSg"
      },
      "execution_count": null,
      "outputs": []
    },
    {
      "cell_type": "code",
      "source": [
        ""
      ],
      "metadata": {
        "id": "uCx1zoZpsihF"
      },
      "execution_count": null,
      "outputs": []
    },
    {
      "cell_type": "markdown",
      "source": [
        "Dataset 3"
      ],
      "metadata": {
        "id": "9P3Sl4TyskJ_"
      }
    },
    {
      "cell_type": "code",
      "source": [
        "X = df3.text.values\n",
        "y = df3.sentiment.values\n",
        "X_, X_test, y_, y_test = train_test_split(X, y, test_size=0.2, random_state = 42)\n",
        "X_train, X_val, y_train, y_val = train_test_split(X_, y_, test_size=0.1, random_state = 42)"
      ],
      "metadata": {
        "id": "NJaYb6qVsmgo"
      },
      "execution_count": null,
      "outputs": []
    },
    {
      "cell_type": "code",
      "source": [
        "# Specify `MAX_LEN`\n",
        "MAX_LEN =  280\n",
        "\n",
        "# Print sentence 0 and its encoded token ids\n",
        "token_ids = list(preprocessing_for_bert([X[0]], version=\"base\", text_preprocessing_fn=text_preprocessing)[0].squeeze().numpy())\n",
        "print('Original: ', X[0])\n",
        "print('Token IDs: ', token_ids)\n",
        "\n",
        "# Run function `preprocessing_for_bert` on the train set and the validation set\n",
        "print('Tokenizing data...')\n",
        "train_inputs, train_masks = preprocessing_for_bert(X_train, version=\"base\", text_preprocessing_fn=text_preprocessing)\n",
        "val_inputs, val_masks = preprocessing_for_bert(X_val, version=\"base\", text_preprocessing_fn=text_preprocessing)"
      ],
      "metadata": {
        "id": "cDP6Aq1lsmgp"
      },
      "execution_count": null,
      "outputs": []
    },
    {
      "cell_type": "code",
      "source": [
        "from torch.utils.data import TensorDataset, DataLoader, RandomSampler, SequentialSampler\n",
        "\n",
        "# Convert other data types to torch.Tensor\n",
        "train_labels = torch.tensor(y_train)\n",
        "val_labels = torch.tensor(y_val)\n",
        "\n",
        "# For fine-tuning BERT, the authors recommend a batch size of 16 or 32.\n",
        "batch_size = 16\n",
        "\n",
        "# Create the DataLoader for our training set\n",
        "train_data = TensorDataset(train_inputs, train_masks, train_labels)\n",
        "train_sampler = RandomSampler(train_data)\n",
        "train_dataloader = DataLoader(train_data, sampler=train_sampler, batch_size=batch_size)\n",
        "\n",
        "# Create the DataLoader for our validation set\n",
        "val_data = TensorDataset(val_inputs, val_masks, val_labels)\n",
        "val_sampler = SequentialSampler(val_data)\n",
        "val_dataloader = DataLoader(val_data, sampler=val_sampler, batch_size=batch_size)"
      ],
      "metadata": {
        "id": "mGH5uKTBsmgq"
      },
      "execution_count": null,
      "outputs": []
    },
    {
      "cell_type": "code",
      "source": [
        "set_seed(42) \n",
        "bert_classifier, optimizer, scheduler = initialize_model(epochs=2, version=\"base\")\n",
        "train(bert_classifier, train_dataloader, val_dataloader, epochs=2, evaluation=True)"
      ],
      "metadata": {
        "id": "Ohu1X0l4sv_y"
      },
      "execution_count": null,
      "outputs": []
    },
    {
      "cell_type": "code",
      "source": [
        "probs = bert_predict(bert_classifier, val_dataloader)\n",
        "\n",
        "# Evaluate the Bert classifier\n",
        "evaluate_roc(probs, y_val)"
      ],
      "metadata": {
        "id": "ehKs_Hoasv_z"
      },
      "execution_count": null,
      "outputs": []
    },
    {
      "cell_type": "code",
      "source": [
        "print('Tokenizing data...')\n",
        "test_inputs, test_masks = preprocessing_for_bert(X_test)\n",
        "\n",
        "# Create the DataLoader for our test set\n",
        "test_dataset = TensorDataset(test_inputs, test_masks)\n",
        "test_sampler = SequentialSampler(test_dataset)\n",
        "test_dataloader = DataLoader(test_dataset, sampler=test_sampler, batch_size=32)"
      ],
      "metadata": {
        "id": "zWWGeZrEsv_z"
      },
      "execution_count": null,
      "outputs": []
    },
    {
      "cell_type": "code",
      "source": [
        "probs = bert_predict(bert_classifier, test_dataloader)\n",
        "\n",
        "# Get predictions from the probabilities\n",
        "threshold = 0.5\n",
        "preds = np.where(probs[:, 1] > threshold, 1, 0)\n",
        "\n",
        "# Number of tweets predicted non-negative\n",
        "print(\"no-negative tweets ratio \", preds.sum()/len(preds))"
      ],
      "metadata": {
        "id": "NnilNQbIsv_z"
      },
      "execution_count": null,
      "outputs": []
    },
    {
      "cell_type": "code",
      "source": [
        "# Evaluate the Bert classifier for unseen test data\n",
        "evaluate_roc(probs, y_test)"
      ],
      "metadata": {
        "id": "MkPnUPx3sv_0"
      },
      "execution_count": null,
      "outputs": []
    },
    {
      "cell_type": "code",
      "source": [
        ""
      ],
      "metadata": {
        "id": "mLr3anZ4siof"
      },
      "execution_count": null,
      "outputs": []
    },
    {
      "cell_type": "markdown",
      "source": [
        "Dataset 4"
      ],
      "metadata": {
        "id": "EaM6piRas1XO"
      }
    },
    {
      "cell_type": "code",
      "source": [
        "X = df4.text.values\n",
        "y = df4.sentiment.values\n",
        "X_, X_test, y_, y_test = train_test_split(X, y, test_size=0.2, random_state = 42)\n",
        "X_train, X_val, y_train, y_val = train_test_split(X_, y_, test_size=0.1, random_state = 42)"
      ],
      "metadata": {
        "id": "RbrKWSI3s91p"
      },
      "execution_count": null,
      "outputs": []
    },
    {
      "cell_type": "code",
      "source": [
        "# Specify `MAX_LEN`\n",
        "MAX_LEN =  280\n",
        "\n",
        "# Print sentence 0 and its encoded token ids\n",
        "token_ids = list(preprocessing_for_bert([X[0]], version=\"base\", text_preprocessing_fn=text_preprocessing)[0].squeeze().numpy())\n",
        "print('Original: ', X[0])\n",
        "print('Token IDs: ', token_ids)\n",
        "\n",
        "# Run function `preprocessing_for_bert` on the train set and the validation set\n",
        "print('Tokenizing data...')\n",
        "train_inputs, train_masks = preprocessing_for_bert(X_train, version=\"base\", text_preprocessing_fn=text_preprocessing)\n",
        "val_inputs, val_masks = preprocessing_for_bert(X_val, version=\"base\", text_preprocessing_fn=text_preprocessing)"
      ],
      "metadata": {
        "id": "fxx7ZTm1s91q"
      },
      "execution_count": null,
      "outputs": []
    },
    {
      "cell_type": "code",
      "source": [
        "from torch.utils.data import TensorDataset, DataLoader, RandomSampler, SequentialSampler\n",
        "\n",
        "# Convert other data types to torch.Tensor\n",
        "train_labels = torch.tensor(y_train)\n",
        "val_labels = torch.tensor(y_val)\n",
        "\n",
        "# For fine-tuning BERT, the authors recommend a batch size of 16 or 32.\n",
        "batch_size = 16\n",
        "\n",
        "# Create the DataLoader for our training set\n",
        "train_data = TensorDataset(train_inputs, train_masks, train_labels)\n",
        "train_sampler = RandomSampler(train_data)\n",
        "train_dataloader = DataLoader(train_data, sampler=train_sampler, batch_size=batch_size)\n",
        "\n",
        "# Create the DataLoader for our validation set\n",
        "val_data = TensorDataset(val_inputs, val_masks, val_labels)\n",
        "val_sampler = SequentialSampler(val_data)\n",
        "val_dataloader = DataLoader(val_data, sampler=val_sampler, batch_size=batch_size)"
      ],
      "metadata": {
        "id": "T_vwMKHbs91r"
      },
      "execution_count": null,
      "outputs": []
    },
    {
      "cell_type": "code",
      "source": [
        "set_seed(42) \n",
        "bert_classifier, optimizer, scheduler = initialize_model(epochs=2, version=\"base\")\n",
        "train(bert_classifier, train_dataloader, val_dataloader, epochs=2, evaluation=True)"
      ],
      "metadata": {
        "id": "sCo5YrVZs2jU"
      },
      "execution_count": null,
      "outputs": []
    },
    {
      "cell_type": "code",
      "source": [
        "probs = bert_predict(bert_classifier, val_dataloader)\n",
        "\n",
        "# Evaluate the Bert classifier\n",
        "evaluate_roc(probs, y_val)"
      ],
      "metadata": {
        "id": "HUp-hx4vs2jV"
      },
      "execution_count": null,
      "outputs": []
    },
    {
      "cell_type": "code",
      "source": [
        "print('Tokenizing data...')\n",
        "test_inputs, test_masks = preprocessing_for_bert(X_test)\n",
        "\n",
        "# Create the DataLoader for our test set\n",
        "test_dataset = TensorDataset(test_inputs, test_masks)\n",
        "test_sampler = SequentialSampler(test_dataset)\n",
        "test_dataloader = DataLoader(test_dataset, sampler=test_sampler, batch_size=32)"
      ],
      "metadata": {
        "id": "D8_J4ZsEs2jV"
      },
      "execution_count": null,
      "outputs": []
    },
    {
      "cell_type": "code",
      "source": [
        "probs = bert_predict(bert_classifier, test_dataloader)\n",
        "\n",
        "# Get predictions from the probabilities\n",
        "threshold = 0.5\n",
        "preds = np.where(probs[:, 1] > threshold, 1, 0)\n",
        "\n",
        "# Number of tweets predicted non-negative\n",
        "print(\"no-negative tweets ratio \", preds.sum()/len(preds))"
      ],
      "metadata": {
        "id": "rSoWoSPZs2jW"
      },
      "execution_count": null,
      "outputs": []
    },
    {
      "cell_type": "code",
      "source": [
        "# Evaluate the Bert classifier for unseen test data\n",
        "evaluate_roc(probs, y_test)"
      ],
      "metadata": {
        "id": "qSqZKD1vs2jW"
      },
      "execution_count": null,
      "outputs": []
    },
    {
      "cell_type": "code",
      "source": [
        ""
      ],
      "metadata": {
        "id": "QFJkGQigsits"
      },
      "execution_count": null,
      "outputs": []
    },
    {
      "cell_type": "markdown",
      "source": [
        "Dataset 5"
      ],
      "metadata": {
        "id": "niWG8neUs4No"
      }
    },
    {
      "cell_type": "code",
      "source": [
        "X = df5.text.values\n",
        "y = df5.sentiment.values\n",
        "X_, X_test, y_, y_test = train_test_split(X, y, test_size=0.2, random_state = 42)\n",
        "X_train, X_val, y_train, y_val = train_test_split(X_, y_, test_size=0.1, random_state = 42)"
      ],
      "metadata": {
        "id": "SQV4jrVms_90"
      },
      "execution_count": null,
      "outputs": []
    },
    {
      "cell_type": "code",
      "source": [
        "# Specify `MAX_LEN`\n",
        "MAX_LEN =  280\n",
        "\n",
        "# Print sentence 0 and its encoded token ids\n",
        "token_ids = list(preprocessing_for_bert([X[0]], version=\"base\", text_preprocessing_fn=text_preprocessing)[0].squeeze().numpy())\n",
        "print('Original: ', X[0])\n",
        "print('Token IDs: ', token_ids)\n",
        "\n",
        "# Run function `preprocessing_for_bert` on the train set and the validation set\n",
        "print('Tokenizing data...')\n",
        "train_inputs, train_masks = preprocessing_for_bert(X_train, version=\"base\", text_preprocessing_fn=text_preprocessing)\n",
        "val_inputs, val_masks = preprocessing_for_bert(X_val, version=\"base\", text_preprocessing_fn=text_preprocessing)"
      ],
      "metadata": {
        "id": "unFyjf8os_91"
      },
      "execution_count": null,
      "outputs": []
    },
    {
      "cell_type": "code",
      "source": [
        "from torch.utils.data import TensorDataset, DataLoader, RandomSampler, SequentialSampler\n",
        "\n",
        "# Convert other data types to torch.Tensor\n",
        "train_labels = torch.tensor(y_train)\n",
        "val_labels = torch.tensor(y_val)\n",
        "\n",
        "# For fine-tuning BERT, the authors recommend a batch size of 16 or 32.\n",
        "batch_size = 16\n",
        "\n",
        "# Create the DataLoader for our training set\n",
        "train_data = TensorDataset(train_inputs, train_masks, train_labels)\n",
        "train_sampler = RandomSampler(train_data)\n",
        "train_dataloader = DataLoader(train_data, sampler=train_sampler, batch_size=batch_size)\n",
        "\n",
        "# Create the DataLoader for our validation set\n",
        "val_data = TensorDataset(val_inputs, val_masks, val_labels)\n",
        "val_sampler = SequentialSampler(val_data)\n",
        "val_dataloader = DataLoader(val_data, sampler=val_sampler, batch_size=batch_size)"
      ],
      "metadata": {
        "id": "OBSt28hOs_92"
      },
      "execution_count": null,
      "outputs": []
    },
    {
      "cell_type": "code",
      "source": [
        "set_seed(42) \n",
        "bert_classifier, optimizer, scheduler = initialize_model(epochs=2, version=\"base\")\n",
        "train(bert_classifier, train_dataloader, val_dataloader, epochs=2, evaluation=True)"
      ],
      "metadata": {
        "id": "CyEj0m9ms56o"
      },
      "execution_count": null,
      "outputs": []
    },
    {
      "cell_type": "code",
      "source": [
        "probs = bert_predict(bert_classifier, val_dataloader)\n",
        "\n",
        "# Evaluate the Bert classifier\n",
        "evaluate_roc(probs, y_val)"
      ],
      "metadata": {
        "id": "FJz8jcOQs56p"
      },
      "execution_count": null,
      "outputs": []
    },
    {
      "cell_type": "code",
      "source": [
        "print('Tokenizing data...')\n",
        "test_inputs, test_masks = preprocessing_for_bert(X_test)\n",
        "\n",
        "# Create the DataLoader for our test set\n",
        "test_dataset = TensorDataset(test_inputs, test_masks)\n",
        "test_sampler = SequentialSampler(test_dataset)\n",
        "test_dataloader = DataLoader(test_dataset, sampler=test_sampler, batch_size=32)"
      ],
      "metadata": {
        "id": "hx1c_2xbs56q"
      },
      "execution_count": null,
      "outputs": []
    },
    {
      "cell_type": "code",
      "source": [
        "probs = bert_predict(bert_classifier, test_dataloader)\n",
        "\n",
        "# Get predictions from the probabilities\n",
        "threshold = 0.5\n",
        "preds = np.where(probs[:, 1] > threshold, 1, 0)\n",
        "\n",
        "# Number of tweets predicted non-negative\n",
        "print(\"no-negative tweets ratio \", preds.sum()/len(preds))"
      ],
      "metadata": {
        "id": "2dz6at6Ys56q"
      },
      "execution_count": null,
      "outputs": []
    },
    {
      "cell_type": "code",
      "source": [
        "# Evaluate the Bert classifier for unseen test data\n",
        "evaluate_roc(probs, y_test)"
      ],
      "metadata": {
        "id": "UGl5A0X0s56q"
      },
      "execution_count": null,
      "outputs": []
    },
    {
      "cell_type": "code",
      "source": [
        ""
      ],
      "metadata": {
        "id": "Hci5Jm83siyd"
      },
      "execution_count": null,
      "outputs": []
    },
    {
      "cell_type": "code",
      "source": [
        ""
      ],
      "metadata": {
        "id": "ueEe1U1-si01"
      },
      "execution_count": null,
      "outputs": []
    },
    {
      "cell_type": "code",
      "source": [
        ""
      ],
      "metadata": {
        "id": "bpbdxYs7si3M"
      },
      "execution_count": null,
      "outputs": []
    },
    {
      "cell_type": "code",
      "source": [
        ""
      ],
      "metadata": {
        "id": "mgAHgJO9si6c"
      },
      "execution_count": null,
      "outputs": []
    },
    {
      "cell_type": "code",
      "source": [
        ""
      ],
      "metadata": {
        "id": "MdlV8_OQx47n"
      },
      "execution_count": null,
      "outputs": []
    }
  ]
}