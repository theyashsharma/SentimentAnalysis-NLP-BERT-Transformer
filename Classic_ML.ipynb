{
  "nbformat": 4,
  "nbformat_minor": 0,
  "metadata": {
    "colab": {
      "name": "Classic ML",
      "provenance": [],
      "collapsed_sections": []
    },
    "kernelspec": {
      "name": "python3",
      "display_name": "Python 3"
    },
    "language_info": {
      "name": "python"
    }
  },
  "cells": [
    {
      "cell_type": "code",
      "execution_count": 1,
      "metadata": {
        "id": "1urgQN9meyZz"
      },
      "outputs": [],
      "source": [
        "import os\n",
        "import numpy as np\n",
        "import pandas as pd"
      ]
    },
    {
      "cell_type": "markdown",
      "source": [
        "Dataset 1"
      ],
      "metadata": {
        "id": "rtHdV8Fjmez5"
      }
    },
    {
      "cell_type": "code",
      "source": [
        "df1 = pd.read_csv('tweets_sqgames.csv')\n",
        "df1 = df1.loc[:, ['text', 'sentiment']]\n",
        "label_mapping = {\"Positive\": 1, \"Negative\":0}\n",
        "df1 = df1[df1.sentiment != \"Neutral\"]\n",
        "df1[\"sentiment\"] = df1[\"sentiment\"].map(label_mapping)"
      ],
      "metadata": {
        "id": "JupjKARYjqeR"
      },
      "execution_count": 2,
      "outputs": []
    },
    {
      "cell_type": "markdown",
      "source": [
        "Dataset 2"
      ],
      "metadata": {
        "id": "m8KNGFGKoFB2"
      }
    },
    {
      "cell_type": "code",
      "source": [
        "df2 = pd.read_csv('Tweets.csv')\n",
        "df2 = df2.loc[:, ['text', 'airline_sentiment']]\n",
        "df2 = df2.rename(columns = {\"airline_sentiment\":\"sentiment\"})\n",
        "label_mapping = {\"positive\": 1, \"negative\":0}\n",
        "df2 = df2[df2.sentiment != \"neutral\"]\n",
        "df2[\"sentiment\"] = df2[\"sentiment\"].map(label_mapping)"
      ],
      "metadata": {
        "id": "fUSMLPVSl0gp"
      },
      "execution_count": 3,
      "outputs": []
    },
    {
      "cell_type": "markdown",
      "source": [
        "Dataset 3"
      ],
      "metadata": {
        "id": "d2ZoNYcxmh1q"
      }
    },
    {
      "cell_type": "code",
      "source": [
        "df3 = pd.read_csv('apple-twitter-sentiment-texts.csv')\n",
        "label_mapping = {1: 1, -1:0}\n",
        "df3 = df3[df3.sentiment != 0]\n",
        "df3[\"sentiment\"] = df3[\"sentiment\"].map(label_mapping)"
      ],
      "metadata": {
        "id": "0WCK997tfC8z"
      },
      "execution_count": 4,
      "outputs": []
    },
    {
      "cell_type": "markdown",
      "source": [
        "Dataset 4"
      ],
      "metadata": {
        "id": "T61ti4CNqUx2"
      }
    },
    {
      "cell_type": "code",
      "source": [
        "df4 = pd.read_csv('Apple-Twitter-Sentiment-DFE.csv', encoding=\"Latin-1\")\n",
        "label_mapping = {\"5\": 1, \"1\":0}\n",
        "df4 = df4[df4.sentiment != \"3\"]\n",
        "df4 = df4[df4.sentiment != \"not_relevant\"]\n",
        "df4[\"sentiment\"] = df4[\"sentiment\"].map(label_mapping)"
      ],
      "metadata": {
        "id": "208qBi8Rp8ar"
      },
      "execution_count": 5,
      "outputs": []
    },
    {
      "cell_type": "markdown",
      "source": [
        "Dataset 5"
      ],
      "metadata": {
        "id": "Sr9nvM7jpxhT"
      }
    },
    {
      "cell_type": "code",
      "source": [
        "df5 = pd.read_csv('Reddit_Data.csv')\n",
        "df5 = df5.rename(columns = {\"clean_comment\":\"text\", \"category\":\"sentiment\"})\n",
        "label_mapping = {1: 1, -1:0}\n",
        "df5 = df5[df5.sentiment != 0]\n",
        "df5[\"sentiment\"] = df5[\"sentiment\"].map(label_mapping)"
      ],
      "metadata": {
        "id": "02pWQ8bMoAF4"
      },
      "execution_count": 6,
      "outputs": []
    },
    {
      "cell_type": "markdown",
      "source": [
        "Merged Dataset"
      ],
      "metadata": {
        "id": "dC62t6aQPlHn"
      }
    },
    {
      "cell_type": "code",
      "source": [
        "frames = [df1, df2, df3, df4, df5]\n",
        "merged_df = pd.concat(frames)"
      ],
      "metadata": {
        "id": "7b8SAao7PfjX"
      },
      "execution_count": 7,
      "outputs": []
    },
    {
      "cell_type": "code",
      "source": [
        "from sklearn.model_selection import train_test_split\n",
        "X = merged_df.text.values\n",
        "y = merged_df.sentiment.values"
      ],
      "metadata": {
        "id": "yFlB6F-MdNE2"
      },
      "execution_count": 8,
      "outputs": []
    },
    {
      "cell_type": "code",
      "source": [
        "#X_, X_test, y_, y_test = train_test_split(X, y, test_size=0.2, random_state = 42)\n",
        "X_train, X_val, y_train, y_val = train_test_split(X, y, test_size=0.3, random_state = 42)"
      ],
      "metadata": {
        "id": "DzcGuKF8dNU2"
      },
      "execution_count": 9,
      "outputs": []
    },
    {
      "cell_type": "code",
      "source": [
        "X_val.shape"
      ],
      "metadata": {
        "colab": {
          "base_uri": "https://localhost:8080/"
        },
        "id": "kI0q2oMMiro6",
        "outputId": "d31177f3-8232-4c7b-a2ba-6947d28dd61f"
      },
      "execution_count": 10,
      "outputs": [
        {
          "output_type": "execute_result",
          "data": {
            "text/plain": [
              "(26341,)"
            ]
          },
          "metadata": {},
          "execution_count": 10
        }
      ]
    },
    {
      "cell_type": "markdown",
      "source": [
        "# Classic ML Approach"
      ],
      "metadata": {
        "id": "NP7STF2wcE1r"
      }
    },
    {
      "cell_type": "code",
      "source": [
        "from sklearn.feature_extraction.text import CountVectorizer\n",
        "from sklearn.feature_extraction.text import TfidfTransformer\n",
        "from sklearn.metrics import precision_score\n",
        "from sklearn.metrics import recall_score\n",
        "from sklearn.pipeline import Pipeline\n",
        "def train_model(model, data, targets):\n",
        "    text_clf = Pipeline([\n",
        "    ('vect', CountVectorizer()),\n",
        "    ('tfidf', TfidfTransformer()),\n",
        "    ('clf', model),\n",
        "    ])\n",
        "    text_clf.fit(data, targets)\n",
        "    return text_clf\n",
        "def get_accuracy(trained_model,X, y):\n",
        "    predicted = trained_model.predict(X)\n",
        "    accuracy = np.mean(predicted == y)\n",
        "    precision = precision_score(y, predicted, average='binary')\n",
        "    recall = recall_score(y, predicted, average='binary')\n",
        "    return accuracy, precision, recall\n"
      ],
      "metadata": {
        "id": "AX67_Ytlt3LG"
      },
      "execution_count": 11,
      "outputs": []
    },
    {
      "cell_type": "code",
      "source": [
        "from sklearn.tree import DecisionTreeClassifier\n",
        "trained_clf_decision_tree = train_model(DecisionTreeClassifier(), X_train, y_train)\n",
        "accuracy, precision, recall = get_accuracy(trained_clf_decision_tree,X_val, y_val)\n",
        "print(f\"Test dataset accuracy, precision and recall with DecisionTreeClassifier: {accuracy:.2f}, {precision:.2f}, {recall:.2f}\")"
      ],
      "metadata": {
        "colab": {
          "base_uri": "https://localhost:8080/"
        },
        "id": "ud9jjnofcfXz",
        "outputId": "236bcf84-6f64-47a0-cd8d-91cd91aedf2e"
      },
      "execution_count": 12,
      "outputs": [
        {
          "output_type": "stream",
          "name": "stdout",
          "text": [
            "Test dataset accuracy, precision and recall with DecisionTreeClassifier: 0.87, 0.89, 0.88\n"
          ]
        }
      ]
    },
    {
      "cell_type": "code",
      "source": [
        "from sklearn.neighbors import KNeighborsClassifier\n",
        "trained_clf_KNeighbors = train_model(KNeighborsClassifier(), X_train, y_train)\n",
        "accuracy, precision, recall = get_accuracy(trained_clf_KNeighbors,X_val, y_val)\n",
        "print(f\"Test dataset accuracy, precision and recall with KNN: {accuracy:.2f}, {precision:.2f}, {recall:.2f}\")"
      ],
      "metadata": {
        "colab": {
          "base_uri": "https://localhost:8080/"
        },
        "id": "yl-LrK6JcfaZ",
        "outputId": "7a118716-54c8-4d74-aeaf-340c571fac08"
      },
      "execution_count": 13,
      "outputs": [
        {
          "output_type": "stream",
          "name": "stdout",
          "text": [
            "Test dataset accuracy, precision and recall with KNN: 0.77, 0.79, 0.81\n"
          ]
        }
      ]
    },
    {
      "cell_type": "code",
      "source": [
        "from sklearn.linear_model import LogisticRegression\n",
        "trained_clf_LR = train_model(LogisticRegression(), X_train, y_train)\n",
        "accuracy, precision, recall = get_accuracy(trained_clf_LR,X_val, y_val)\n",
        "print(f\"Test dataset accuracy, precision and recall with Logistic Regression: {accuracy:.2f}, {precision:.2f}, {recall:.2f}\")"
      ],
      "metadata": {
        "colab": {
          "base_uri": "https://localhost:8080/"
        },
        "id": "7VyOWZd7cfdC",
        "outputId": "49236dca-6be9-4a27-9a48-8c546cd7a225"
      },
      "execution_count": 14,
      "outputs": [
        {
          "output_type": "stream",
          "name": "stderr",
          "text": [
            "/usr/local/lib/python3.7/dist-packages/sklearn/linear_model/_logistic.py:818: ConvergenceWarning: lbfgs failed to converge (status=1):\n",
            "STOP: TOTAL NO. of ITERATIONS REACHED LIMIT.\n",
            "\n",
            "Increase the number of iterations (max_iter) or scale the data as shown in:\n",
            "    https://scikit-learn.org/stable/modules/preprocessing.html\n",
            "Please also refer to the documentation for alternative solver options:\n",
            "    https://scikit-learn.org/stable/modules/linear_model.html#logistic-regression\n",
            "  extra_warning_msg=_LOGISTIC_SOLVER_CONVERGENCE_MSG,\n"
          ]
        },
        {
          "output_type": "stream",
          "name": "stdout",
          "text": [
            "Test dataset accuracy, precision and recall with Logistic Regression: 0.91, 0.91, 0.93\n"
          ]
        }
      ]
    },
    {
      "cell_type": "code",
      "source": [
        "from sklearn.svm import LinearSVC\n",
        "trained_clf_linearSVC = train_model(LinearSVC(), X_train, y_train)\n",
        "accuracy, precision, recall = get_accuracy(trained_clf_linearSVC,X_val, y_val)\n",
        "print(f\"Test dataset accuracy, precision and recall with LinearSVC: {accuracy:.2f}, {precision:.2f}, {recall:.2f}\")"
      ],
      "metadata": {
        "colab": {
          "base_uri": "https://localhost:8080/"
        },
        "id": "CmraPwuCcffn",
        "outputId": "a9b39508-8f91-41ca-af7f-6af3f50b3deb"
      },
      "execution_count": 15,
      "outputs": [
        {
          "output_type": "stream",
          "name": "stdout",
          "text": [
            "Test dataset accuracy, precision and recall with LinearSVC: 0.92, 0.93, 0.93\n"
          ]
        }
      ]
    },
    {
      "cell_type": "code",
      "source": [
        "from sklearn.naive_bayes import MultinomialNB\n",
        "trained_clf_multinomial_nb = train_model(MultinomialNB(), X_train, y_train)\n",
        "accuracy, precision, recall = get_accuracy(trained_clf_multinomial_nb,X_val, y_val)\n",
        "print(f\"Test dataset accuracy, precision and recall with MultinomialNB: {accuracy:.2f}, {precision:.2f}, {recall:.2f}\")"
      ],
      "metadata": {
        "colab": {
          "base_uri": "https://localhost:8080/"
        },
        "id": "FretXuHCc7EO",
        "outputId": "c4ea7ece-34cf-458b-c274-cc728921c087"
      },
      "execution_count": 16,
      "outputs": [
        {
          "output_type": "stream",
          "name": "stdout",
          "text": [
            "Test dataset accuracy, precision and recall with MultinomialNB: 0.81, 0.77, 0.95\n"
          ]
        }
      ]
    },
    {
      "cell_type": "code",
      "source": [
        "from sklearn.ensemble import RandomForestClassifier\n",
        "trained_clf_random_forest = train_model(RandomForestClassifier(), X_train, y_train)\n",
        "accuracy, precision, recall = get_accuracy(trained_clf_random_forest,X_val, y_val)\n",
        "print(f\"Test dataset accuracy, precision and recall with RandomForestClassifier: {accuracy:.2f}, {precision:.2f}, {recall:.2f}\")"
      ],
      "metadata": {
        "colab": {
          "base_uri": "https://localhost:8080/"
        },
        "id": "yfOza3Ryc7Hi",
        "outputId": "5e0fd799-053a-44a3-8fc7-e336e2392c8a"
      },
      "execution_count": 17,
      "outputs": [
        {
          "output_type": "stream",
          "name": "stdout",
          "text": [
            "Test dataset accuracy, precision and recall with RandomForestClassifier: 0.88, 0.87, 0.93\n"
          ]
        }
      ]
    },
    {
      "cell_type": "code",
      "source": [
        "from sklearn.ensemble import GradientBoostingClassifier\n",
        "trained_clf_xgboost = train_model(GradientBoostingClassifier(), X_train, y_train)\n",
        "accuracy, precision, recall = get_accuracy(trained_clf_xgboost,X_val, y_val)\n",
        "print(f\"Test dataset accuracy, precision and recall with xgboost: {accuracy:.2f}, {precision:.2f}, {recall:.2f}\")"
      ],
      "metadata": {
        "colab": {
          "base_uri": "https://localhost:8080/"
        },
        "id": "4c4lU8fHcfk_",
        "outputId": "3d8a8c0e-4d72-4e10-cc2a-3dd3b169d0af"
      },
      "execution_count": 18,
      "outputs": [
        {
          "output_type": "stream",
          "name": "stdout",
          "text": [
            "Test dataset accuracy, precision and recall with xgboost: 0.80, 0.77, 0.92\n"
          ]
        }
      ]
    },
    {
      "cell_type": "code",
      "source": [
        "def convertTuple(tup):\n",
        "    st = ''.join(map(str, tup))\n",
        "    return st\n",
        "\n",
        "def print_all_accuracies(dataset_name, dataset):\n",
        "  accuracy = get_accuracy(trained_clf_decision_tree,dataset.text.values, dataset.sentiment.values)\n",
        "  accuracy = convertTuple(accuracy)\n",
        "  print(dataset_name + \" dataset accuracy with Decision Tree: \"+ accuracy)\n",
        "\n",
        "  accuracy = get_accuracy(trained_clf_KNeighbors,dataset.text.values, dataset.sentiment.values)\n",
        "  accuracy = convertTuple(accuracy)\n",
        "  print(dataset_name + \" dataset accuracy with KNN Tree: \"+ accuracy)\n",
        "\n",
        "  accuracy = get_accuracy(trained_clf_LR,dataset.text.values, dataset.sentiment.values)\n",
        "  accuracy = convertTuple(accuracy)\n",
        "  print(dataset_name + \" dataset accuracy with Logistic Regression: \"+ accuracy)\n",
        "\n",
        "  accuracy = get_accuracy(trained_clf_linearSVC,dataset.text.values, dataset.sentiment.values)\n",
        "  accuracy = convertTuple(accuracy)\n",
        "  print(dataset_name + \" dataset accuracy with Linear SVC: \"+ accuracy)\n",
        "\n",
        "  accuracy = get_accuracy(trained_clf_multinomial_nb,dataset.text.values, dataset.sentiment.values)\n",
        "  accuracy = convertTuple(accuracy)\n",
        "  print(dataset_name + \" dataset accuracy with Multinomial NB: \"+ accuracy)\n",
        "\n",
        "  accuracy = get_accuracy(trained_clf_random_forest,dataset.text.values, dataset.sentiment.values)\n",
        "  accuracy = convertTuple(accuracy)\n",
        "  print(dataset_name + \" dataset accuracy with Random Forest: \"+ accuracy)\n",
        "\n",
        "  accuracy = get_accuracy(trained_clf_xgboost,dataset.text.values, dataset.sentiment.values)\n",
        "  accuracy = convertTuple(accuracy)\n",
        "  print(dataset_name + \" dataset accuracy with Xgboost: \"+ accuracy)"
      ],
      "metadata": {
        "id": "Mk6EP7HccfiT"
      },
      "execution_count": 37,
      "outputs": []
    },
    {
      "cell_type": "code",
      "source": [
        "print_all_accuracies(\"squid-game-netflix-twitter-data\", df1)\n",
        "print_all_accuracies(\"twitter-airline-sentiment\", df2)\n",
        "print_all_accuracies(\"appletwittersentimenttexts\", df3)\n",
        "print_all_accuracies(\"apple-twitter-sentiment-crowdflower\", df4)\n",
        "print_all_accuracies(\"reddit-sentimental-analysis-dataset\", df5)"
      ],
      "metadata": {
        "colab": {
          "base_uri": "https://localhost:8080/"
        },
        "id": "xgd1rXPncfnp",
        "outputId": "905d9bf2-28e8-4640-9e3d-325d9894da02"
      },
      "execution_count": 38,
      "outputs": [
        {
          "output_type": "stream",
          "name": "stdout",
          "text": [
            "squid-game-netflix-twitter-data dataset accuracy with Decision Tree: 0.97037215949117410.97653146386246040.9743845974484527\n",
            "squid-game-netflix-twitter-data dataset accuracy with KNN Tree: 0.83712738763762250.86869094455092640.8605309616601712\n",
            "squid-game-netflix-twitter-data dataset accuracy with Logistic Regression: 0.94265644184127370.94867899603698810.9568635288631292\n",
            "squid-game-netflix-twitter-data dataset accuracy with Linear SVC: 0.9764305698126120.98067310896367880.9803137803537524\n",
            "squid-game-netflix-twitter-data dataset accuracy with Multinomial NB: 0.89459171145059680.86498586239396790.9782485593417941\n",
            "squid-game-netflix-twitter-data dataset accuracy with Random Forest: 0.97055330797254590.96948773591109360.9821791412677793\n",
            "squid-game-netflix-twitter-data dataset accuracy with Xgboost: 0.81718092707767240.7998510626109870.9302155158056028\n",
            "twitter-airline-sentiment dataset accuracy with Decision Tree: 0.95243046529763450.88595744680851060.8810833685992383\n",
            "twitter-airline-sentiment dataset accuracy with KNN Tree: 0.88163937267134560.67101200686106340.8277613203554803\n",
            "twitter-airline-sentiment dataset accuracy with Logistic Regression: 0.90728706351269380.80452190296749880.7228099873042743\n",
            "twitter-airline-sentiment dataset accuracy with Linear SVC: 0.93735378216792310.8507271171941830.841726618705036\n",
            "twitter-airline-sentiment dataset accuracy with Multinomial NB: 0.89723594142621950.82895472330911120.6275920440118493\n",
            "twitter-airline-sentiment dataset accuracy with Random Forest: 0.96733385321895850.95676172953081870.8802369868810833\n",
            "twitter-airline-sentiment dataset accuracy with Xgboost: 0.85521185339225370.6636707663197730.5937367752856538\n",
            "appletwittersentimenttexts dataset accuracy with Decision Tree: 0.99034981905910740.96551724137931040.9790209790209791\n",
            "appletwittersentimenttexts dataset accuracy with KNN Tree: 0.89505428226779250.68918918918918910.7132867132867133\n",
            "appletwittersentimenttexts dataset accuracy with Logistic Regression: 0.91194209891435460.73648648648648650.7622377622377622\n",
            "appletwittersentimenttexts dataset accuracy with Linear SVC: 0.97587454764776840.9127516778523490.951048951048951\n",
            "appletwittersentimenttexts dataset accuracy with Multinomial NB: 0.95295536791314840.85135135135135130.8811188811188811\n",
            "appletwittersentimenttexts dataset accuracy with Random Forest: 0.99276236429433050.97902097902097910.9790209790209791\n",
            "appletwittersentimenttexts dataset accuracy with Xgboost: 0.86972255729794930.67676767676767680.46853146853146854\n",
            "apple-twitter-sentiment-crowdflower dataset accuracy with Decision Tree: 0.9537149817295980.93052109181141440.8865248226950354\n",
            "apple-twitter-sentiment-crowdflower dataset accuracy with KNN Tree: 0.85200974421437270.72388059701492540.6879432624113475\n",
            "apple-twitter-sentiment-crowdflower dataset accuracy with Logistic Regression: 0.87088915956151040.80403458213256480.6595744680851063\n",
            "apple-twitter-sentiment-crowdflower dataset accuracy with Linear SVC: 0.94153471376370280.92689295039164490.8392434988179669\n",
            "apple-twitter-sentiment-crowdflower dataset accuracy with Multinomial NB: 0.90560292326431180.86612021857923490.7494089834515366\n",
            "apple-twitter-sentiment-crowdflower dataset accuracy with Random Forest: 0.96224116930572470.94789081885856070.9030732860520094\n",
            "apple-twitter-sentiment-crowdflower dataset accuracy with Xgboost: 0.79841656516443360.68110236220472440.408983451536643\n",
            "reddit-sentimental-analysis-dataset dataset accuracy with Decision Tree: 0.94387522296428430.95868449401178630.9557169930511686\n",
            "reddit-sentimental-analysis-dataset dataset accuracy with KNN Tree: 0.78694984859169540.80925390399074610.8838913455464308\n",
            "reddit-sentimental-analysis-dataset dataset accuracy with Logistic Regression: 0.91919359522130510.91369650733102870.9684144030322173\n",
            "reddit-sentimental-analysis-dataset dataset accuracy with Linear SVC: 0.95673455842701290.9621804088266550.9723310170562224\n",
            "reddit-sentimental-analysis-dataset dataset accuracy with Multinomial NB: 0.78719873895549010.7592556697034310.9897662665824384\n",
            "reddit-sentimental-analysis-dataset dataset accuracy with Random Forest: 0.94852117642178620.93614349775784760.9890713834491471\n",
            "reddit-sentimental-analysis-dataset dataset accuracy with Xgboost: 0.75268594184261830.73555810178554380.9732785849652559\n"
          ]
        }
      ]
    },
    {
      "cell_type": "code",
      "source": [
        ""
      ],
      "metadata": {
        "id": "kOyr1J6EUF-Q"
      },
      "execution_count": null,
      "outputs": []
    }
  ]
}