{
  "nbformat": 4,
  "nbformat_minor": 0,
  "metadata": {
    "colab": {
      "name": "Distilbert-BiGRU-WithoutEmoji.ipynb",
      "provenance": [],
      "collapsed_sections": []
    },
    "kernelspec": {
      "name": "python3",
      "display_name": "Python 3"
    },
    "language_info": {
      "name": "python"
    },
    "accelerator": "GPU",
    "widgets": {
      "application/vnd.jupyter.widget-state+json": {
        "74d2633492614b66adc85c64b49c1e3f": {
          "model_module": "@jupyter-widgets/controls",
          "model_name": "HBoxModel",
          "model_module_version": "1.5.0",
          "state": {
            "_view_name": "HBoxView",
            "_dom_classes": [],
            "_model_name": "HBoxModel",
            "_view_module": "@jupyter-widgets/controls",
            "_model_module_version": "1.5.0",
            "_view_count": null,
            "_view_module_version": "1.5.0",
            "box_style": "",
            "layout": "IPY_MODEL_a0b0e12c699441e08bffb1f5140ff65e",
            "_model_module": "@jupyter-widgets/controls",
            "children": [
              "IPY_MODEL_e35841fec929490ca1d7bb836a9d22a5",
              "IPY_MODEL_e4f53d8e281d45cd8eeddeb8891300d4",
              "IPY_MODEL_330a43634ef24fb6b6575d1f3b6c21b4"
            ]
          }
        },
        "a0b0e12c699441e08bffb1f5140ff65e": {
          "model_module": "@jupyter-widgets/base",
          "model_name": "LayoutModel",
          "model_module_version": "1.2.0",
          "state": {
            "_view_name": "LayoutView",
            "grid_template_rows": null,
            "right": null,
            "justify_content": null,
            "_view_module": "@jupyter-widgets/base",
            "overflow": null,
            "_model_module_version": "1.2.0",
            "_view_count": null,
            "flex_flow": null,
            "width": null,
            "min_width": null,
            "border": null,
            "align_items": null,
            "bottom": null,
            "_model_module": "@jupyter-widgets/base",
            "top": null,
            "grid_column": null,
            "overflow_y": null,
            "overflow_x": null,
            "grid_auto_flow": null,
            "grid_area": null,
            "grid_template_columns": null,
            "flex": null,
            "_model_name": "LayoutModel",
            "justify_items": null,
            "grid_row": null,
            "max_height": null,
            "align_content": null,
            "visibility": null,
            "align_self": null,
            "height": null,
            "min_height": null,
            "padding": null,
            "grid_auto_rows": null,
            "grid_gap": null,
            "max_width": null,
            "order": null,
            "_view_module_version": "1.2.0",
            "grid_template_areas": null,
            "object_position": null,
            "object_fit": null,
            "grid_auto_columns": null,
            "margin": null,
            "display": null,
            "left": null
          }
        },
        "e35841fec929490ca1d7bb836a9d22a5": {
          "model_module": "@jupyter-widgets/controls",
          "model_name": "HTMLModel",
          "model_module_version": "1.5.0",
          "state": {
            "_view_name": "HTMLView",
            "style": "IPY_MODEL_274bb6270e55453299916bf6a797848d",
            "_dom_classes": [],
            "description": "",
            "_model_name": "HTMLModel",
            "placeholder": "​",
            "_view_module": "@jupyter-widgets/controls",
            "_model_module_version": "1.5.0",
            "value": "Downloading: 100%",
            "_view_count": null,
            "_view_module_version": "1.5.0",
            "description_tooltip": null,
            "_model_module": "@jupyter-widgets/controls",
            "layout": "IPY_MODEL_c906f6779a4c450bac724007ac4a0004"
          }
        },
        "e4f53d8e281d45cd8eeddeb8891300d4": {
          "model_module": "@jupyter-widgets/controls",
          "model_name": "FloatProgressModel",
          "model_module_version": "1.5.0",
          "state": {
            "_view_name": "ProgressView",
            "style": "IPY_MODEL_3c9a5573aa124291a50fc00b8468a3fd",
            "_dom_classes": [],
            "description": "",
            "_model_name": "FloatProgressModel",
            "bar_style": "success",
            "max": 291,
            "_view_module": "@jupyter-widgets/controls",
            "_model_module_version": "1.5.0",
            "value": 291,
            "_view_count": null,
            "_view_module_version": "1.5.0",
            "orientation": "horizontal",
            "min": 0,
            "description_tooltip": null,
            "_model_module": "@jupyter-widgets/controls",
            "layout": "IPY_MODEL_70cae7f4e96f4adca074dec09c8960fd"
          }
        },
        "330a43634ef24fb6b6575d1f3b6c21b4": {
          "model_module": "@jupyter-widgets/controls",
          "model_name": "HTMLModel",
          "model_module_version": "1.5.0",
          "state": {
            "_view_name": "HTMLView",
            "style": "IPY_MODEL_cb997812affe46dd913c39af195e7587",
            "_dom_classes": [],
            "description": "",
            "_model_name": "HTMLModel",
            "placeholder": "​",
            "_view_module": "@jupyter-widgets/controls",
            "_model_module_version": "1.5.0",
            "value": " 291/291 [00:00&lt;00:00, 6.40kB/s]",
            "_view_count": null,
            "_view_module_version": "1.5.0",
            "description_tooltip": null,
            "_model_module": "@jupyter-widgets/controls",
            "layout": "IPY_MODEL_6ab70498222947a3960f67a3a4748180"
          }
        },
        "274bb6270e55453299916bf6a797848d": {
          "model_module": "@jupyter-widgets/controls",
          "model_name": "DescriptionStyleModel",
          "model_module_version": "1.5.0",
          "state": {
            "_view_name": "StyleView",
            "_model_name": "DescriptionStyleModel",
            "description_width": "",
            "_view_module": "@jupyter-widgets/base",
            "_model_module_version": "1.5.0",
            "_view_count": null,
            "_view_module_version": "1.2.0",
            "_model_module": "@jupyter-widgets/controls"
          }
        },
        "c906f6779a4c450bac724007ac4a0004": {
          "model_module": "@jupyter-widgets/base",
          "model_name": "LayoutModel",
          "model_module_version": "1.2.0",
          "state": {
            "_view_name": "LayoutView",
            "grid_template_rows": null,
            "right": null,
            "justify_content": null,
            "_view_module": "@jupyter-widgets/base",
            "overflow": null,
            "_model_module_version": "1.2.0",
            "_view_count": null,
            "flex_flow": null,
            "width": null,
            "min_width": null,
            "border": null,
            "align_items": null,
            "bottom": null,
            "_model_module": "@jupyter-widgets/base",
            "top": null,
            "grid_column": null,
            "overflow_y": null,
            "overflow_x": null,
            "grid_auto_flow": null,
            "grid_area": null,
            "grid_template_columns": null,
            "flex": null,
            "_model_name": "LayoutModel",
            "justify_items": null,
            "grid_row": null,
            "max_height": null,
            "align_content": null,
            "visibility": null,
            "align_self": null,
            "height": null,
            "min_height": null,
            "padding": null,
            "grid_auto_rows": null,
            "grid_gap": null,
            "max_width": null,
            "order": null,
            "_view_module_version": "1.2.0",
            "grid_template_areas": null,
            "object_position": null,
            "object_fit": null,
            "grid_auto_columns": null,
            "margin": null,
            "display": null,
            "left": null
          }
        },
        "3c9a5573aa124291a50fc00b8468a3fd": {
          "model_module": "@jupyter-widgets/controls",
          "model_name": "ProgressStyleModel",
          "model_module_version": "1.5.0",
          "state": {
            "_view_name": "StyleView",
            "_model_name": "ProgressStyleModel",
            "description_width": "",
            "_view_module": "@jupyter-widgets/base",
            "_model_module_version": "1.5.0",
            "_view_count": null,
            "_view_module_version": "1.2.0",
            "bar_color": null,
            "_model_module": "@jupyter-widgets/controls"
          }
        },
        "70cae7f4e96f4adca074dec09c8960fd": {
          "model_module": "@jupyter-widgets/base",
          "model_name": "LayoutModel",
          "model_module_version": "1.2.0",
          "state": {
            "_view_name": "LayoutView",
            "grid_template_rows": null,
            "right": null,
            "justify_content": null,
            "_view_module": "@jupyter-widgets/base",
            "overflow": null,
            "_model_module_version": "1.2.0",
            "_view_count": null,
            "flex_flow": null,
            "width": null,
            "min_width": null,
            "border": null,
            "align_items": null,
            "bottom": null,
            "_model_module": "@jupyter-widgets/base",
            "top": null,
            "grid_column": null,
            "overflow_y": null,
            "overflow_x": null,
            "grid_auto_flow": null,
            "grid_area": null,
            "grid_template_columns": null,
            "flex": null,
            "_model_name": "LayoutModel",
            "justify_items": null,
            "grid_row": null,
            "max_height": null,
            "align_content": null,
            "visibility": null,
            "align_self": null,
            "height": null,
            "min_height": null,
            "padding": null,
            "grid_auto_rows": null,
            "grid_gap": null,
            "max_width": null,
            "order": null,
            "_view_module_version": "1.2.0",
            "grid_template_areas": null,
            "object_position": null,
            "object_fit": null,
            "grid_auto_columns": null,
            "margin": null,
            "display": null,
            "left": null
          }
        },
        "cb997812affe46dd913c39af195e7587": {
          "model_module": "@jupyter-widgets/controls",
          "model_name": "DescriptionStyleModel",
          "model_module_version": "1.5.0",
          "state": {
            "_view_name": "StyleView",
            "_model_name": "DescriptionStyleModel",
            "description_width": "",
            "_view_module": "@jupyter-widgets/base",
            "_model_module_version": "1.5.0",
            "_view_count": null,
            "_view_module_version": "1.2.0",
            "_model_module": "@jupyter-widgets/controls"
          }
        },
        "6ab70498222947a3960f67a3a4748180": {
          "model_module": "@jupyter-widgets/base",
          "model_name": "LayoutModel",
          "model_module_version": "1.2.0",
          "state": {
            "_view_name": "LayoutView",
            "grid_template_rows": null,
            "right": null,
            "justify_content": null,
            "_view_module": "@jupyter-widgets/base",
            "overflow": null,
            "_model_module_version": "1.2.0",
            "_view_count": null,
            "flex_flow": null,
            "width": null,
            "min_width": null,
            "border": null,
            "align_items": null,
            "bottom": null,
            "_model_module": "@jupyter-widgets/base",
            "top": null,
            "grid_column": null,
            "overflow_y": null,
            "overflow_x": null,
            "grid_auto_flow": null,
            "grid_area": null,
            "grid_template_columns": null,
            "flex": null,
            "_model_name": "LayoutModel",
            "justify_items": null,
            "grid_row": null,
            "max_height": null,
            "align_content": null,
            "visibility": null,
            "align_self": null,
            "height": null,
            "min_height": null,
            "padding": null,
            "grid_auto_rows": null,
            "grid_gap": null,
            "max_width": null,
            "order": null,
            "_view_module_version": "1.2.0",
            "grid_template_areas": null,
            "object_position": null,
            "object_fit": null,
            "grid_auto_columns": null,
            "margin": null,
            "display": null,
            "left": null
          }
        },
        "3f83d0a982bf478d8d7628662cbcca2a": {
          "model_module": "@jupyter-widgets/controls",
          "model_name": "HBoxModel",
          "model_module_version": "1.5.0",
          "state": {
            "_view_name": "HBoxView",
            "_dom_classes": [],
            "_model_name": "HBoxModel",
            "_view_module": "@jupyter-widgets/controls",
            "_model_module_version": "1.5.0",
            "_view_count": null,
            "_view_module_version": "1.5.0",
            "box_style": "",
            "layout": "IPY_MODEL_88fcf7ba99dd4389bf4f8f8cfb4c4899",
            "_model_module": "@jupyter-widgets/controls",
            "children": [
              "IPY_MODEL_c2cf781f3adc4b1e84b03a2d3642642f",
              "IPY_MODEL_b2b6be6275114550ae8afeb06014fa29",
              "IPY_MODEL_7534d6d73156478f8af9ffb890f3e11d"
            ]
          }
        },
        "88fcf7ba99dd4389bf4f8f8cfb4c4899": {
          "model_module": "@jupyter-widgets/base",
          "model_name": "LayoutModel",
          "model_module_version": "1.2.0",
          "state": {
            "_view_name": "LayoutView",
            "grid_template_rows": null,
            "right": null,
            "justify_content": null,
            "_view_module": "@jupyter-widgets/base",
            "overflow": null,
            "_model_module_version": "1.2.0",
            "_view_count": null,
            "flex_flow": null,
            "width": null,
            "min_width": null,
            "border": null,
            "align_items": null,
            "bottom": null,
            "_model_module": "@jupyter-widgets/base",
            "top": null,
            "grid_column": null,
            "overflow_y": null,
            "overflow_x": null,
            "grid_auto_flow": null,
            "grid_area": null,
            "grid_template_columns": null,
            "flex": null,
            "_model_name": "LayoutModel",
            "justify_items": null,
            "grid_row": null,
            "max_height": null,
            "align_content": null,
            "visibility": null,
            "align_self": null,
            "height": null,
            "min_height": null,
            "padding": null,
            "grid_auto_rows": null,
            "grid_gap": null,
            "max_width": null,
            "order": null,
            "_view_module_version": "1.2.0",
            "grid_template_areas": null,
            "object_position": null,
            "object_fit": null,
            "grid_auto_columns": null,
            "margin": null,
            "display": null,
            "left": null
          }
        },
        "c2cf781f3adc4b1e84b03a2d3642642f": {
          "model_module": "@jupyter-widgets/controls",
          "model_name": "HTMLModel",
          "model_module_version": "1.5.0",
          "state": {
            "_view_name": "HTMLView",
            "style": "IPY_MODEL_14119e70b8744e8099633770cc7a609c",
            "_dom_classes": [],
            "description": "",
            "_model_name": "HTMLModel",
            "placeholder": "​",
            "_view_module": "@jupyter-widgets/controls",
            "_model_module_version": "1.5.0",
            "value": "Downloading: 100%",
            "_view_count": null,
            "_view_module_version": "1.5.0",
            "description_tooltip": null,
            "_model_module": "@jupyter-widgets/controls",
            "layout": "IPY_MODEL_9201a546e341422f998525e40243cfb0"
          }
        },
        "b2b6be6275114550ae8afeb06014fa29": {
          "model_module": "@jupyter-widgets/controls",
          "model_name": "FloatProgressModel",
          "model_module_version": "1.5.0",
          "state": {
            "_view_name": "ProgressView",
            "style": "IPY_MODEL_2e2d8f0a52e744d99d4526c20f75694d",
            "_dom_classes": [],
            "description": "",
            "_model_name": "FloatProgressModel",
            "bar_style": "success",
            "max": 768,
            "_view_module": "@jupyter-widgets/controls",
            "_model_module_version": "1.5.0",
            "value": 768,
            "_view_count": null,
            "_view_module_version": "1.5.0",
            "orientation": "horizontal",
            "min": 0,
            "description_tooltip": null,
            "_model_module": "@jupyter-widgets/controls",
            "layout": "IPY_MODEL_40c4538c280b474e85d175d05dc64349"
          }
        },
        "7534d6d73156478f8af9ffb890f3e11d": {
          "model_module": "@jupyter-widgets/controls",
          "model_name": "HTMLModel",
          "model_module_version": "1.5.0",
          "state": {
            "_view_name": "HTMLView",
            "style": "IPY_MODEL_38a556e13e784e759ee09c00639bb4d6",
            "_dom_classes": [],
            "description": "",
            "_model_name": "HTMLModel",
            "placeholder": "​",
            "_view_module": "@jupyter-widgets/controls",
            "_model_module_version": "1.5.0",
            "value": " 768/768 [00:00&lt;00:00, 20.7kB/s]",
            "_view_count": null,
            "_view_module_version": "1.5.0",
            "description_tooltip": null,
            "_model_module": "@jupyter-widgets/controls",
            "layout": "IPY_MODEL_b4d8ecc025324cfb81ce002acdcc121c"
          }
        },
        "14119e70b8744e8099633770cc7a609c": {
          "model_module": "@jupyter-widgets/controls",
          "model_name": "DescriptionStyleModel",
          "model_module_version": "1.5.0",
          "state": {
            "_view_name": "StyleView",
            "_model_name": "DescriptionStyleModel",
            "description_width": "",
            "_view_module": "@jupyter-widgets/base",
            "_model_module_version": "1.5.0",
            "_view_count": null,
            "_view_module_version": "1.2.0",
            "_model_module": "@jupyter-widgets/controls"
          }
        },
        "9201a546e341422f998525e40243cfb0": {
          "model_module": "@jupyter-widgets/base",
          "model_name": "LayoutModel",
          "model_module_version": "1.2.0",
          "state": {
            "_view_name": "LayoutView",
            "grid_template_rows": null,
            "right": null,
            "justify_content": null,
            "_view_module": "@jupyter-widgets/base",
            "overflow": null,
            "_model_module_version": "1.2.0",
            "_view_count": null,
            "flex_flow": null,
            "width": null,
            "min_width": null,
            "border": null,
            "align_items": null,
            "bottom": null,
            "_model_module": "@jupyter-widgets/base",
            "top": null,
            "grid_column": null,
            "overflow_y": null,
            "overflow_x": null,
            "grid_auto_flow": null,
            "grid_area": null,
            "grid_template_columns": null,
            "flex": null,
            "_model_name": "LayoutModel",
            "justify_items": null,
            "grid_row": null,
            "max_height": null,
            "align_content": null,
            "visibility": null,
            "align_self": null,
            "height": null,
            "min_height": null,
            "padding": null,
            "grid_auto_rows": null,
            "grid_gap": null,
            "max_width": null,
            "order": null,
            "_view_module_version": "1.2.0",
            "grid_template_areas": null,
            "object_position": null,
            "object_fit": null,
            "grid_auto_columns": null,
            "margin": null,
            "display": null,
            "left": null
          }
        },
        "2e2d8f0a52e744d99d4526c20f75694d": {
          "model_module": "@jupyter-widgets/controls",
          "model_name": "ProgressStyleModel",
          "model_module_version": "1.5.0",
          "state": {
            "_view_name": "StyleView",
            "_model_name": "ProgressStyleModel",
            "description_width": "",
            "_view_module": "@jupyter-widgets/base",
            "_model_module_version": "1.5.0",
            "_view_count": null,
            "_view_module_version": "1.2.0",
            "bar_color": null,
            "_model_module": "@jupyter-widgets/controls"
          }
        },
        "40c4538c280b474e85d175d05dc64349": {
          "model_module": "@jupyter-widgets/base",
          "model_name": "LayoutModel",
          "model_module_version": "1.2.0",
          "state": {
            "_view_name": "LayoutView",
            "grid_template_rows": null,
            "right": null,
            "justify_content": null,
            "_view_module": "@jupyter-widgets/base",
            "overflow": null,
            "_model_module_version": "1.2.0",
            "_view_count": null,
            "flex_flow": null,
            "width": null,
            "min_width": null,
            "border": null,
            "align_items": null,
            "bottom": null,
            "_model_module": "@jupyter-widgets/base",
            "top": null,
            "grid_column": null,
            "overflow_y": null,
            "overflow_x": null,
            "grid_auto_flow": null,
            "grid_area": null,
            "grid_template_columns": null,
            "flex": null,
            "_model_name": "LayoutModel",
            "justify_items": null,
            "grid_row": null,
            "max_height": null,
            "align_content": null,
            "visibility": null,
            "align_self": null,
            "height": null,
            "min_height": null,
            "padding": null,
            "grid_auto_rows": null,
            "grid_gap": null,
            "max_width": null,
            "order": null,
            "_view_module_version": "1.2.0",
            "grid_template_areas": null,
            "object_position": null,
            "object_fit": null,
            "grid_auto_columns": null,
            "margin": null,
            "display": null,
            "left": null
          }
        },
        "38a556e13e784e759ee09c00639bb4d6": {
          "model_module": "@jupyter-widgets/controls",
          "model_name": "DescriptionStyleModel",
          "model_module_version": "1.5.0",
          "state": {
            "_view_name": "StyleView",
            "_model_name": "DescriptionStyleModel",
            "description_width": "",
            "_view_module": "@jupyter-widgets/base",
            "_model_module_version": "1.5.0",
            "_view_count": null,
            "_view_module_version": "1.2.0",
            "_model_module": "@jupyter-widgets/controls"
          }
        },
        "b4d8ecc025324cfb81ce002acdcc121c": {
          "model_module": "@jupyter-widgets/base",
          "model_name": "LayoutModel",
          "model_module_version": "1.2.0",
          "state": {
            "_view_name": "LayoutView",
            "grid_template_rows": null,
            "right": null,
            "justify_content": null,
            "_view_module": "@jupyter-widgets/base",
            "overflow": null,
            "_model_module_version": "1.2.0",
            "_view_count": null,
            "flex_flow": null,
            "width": null,
            "min_width": null,
            "border": null,
            "align_items": null,
            "bottom": null,
            "_model_module": "@jupyter-widgets/base",
            "top": null,
            "grid_column": null,
            "overflow_y": null,
            "overflow_x": null,
            "grid_auto_flow": null,
            "grid_area": null,
            "grid_template_columns": null,
            "flex": null,
            "_model_name": "LayoutModel",
            "justify_items": null,
            "grid_row": null,
            "max_height": null,
            "align_content": null,
            "visibility": null,
            "align_self": null,
            "height": null,
            "min_height": null,
            "padding": null,
            "grid_auto_rows": null,
            "grid_gap": null,
            "max_width": null,
            "order": null,
            "_view_module_version": "1.2.0",
            "grid_template_areas": null,
            "object_position": null,
            "object_fit": null,
            "grid_auto_columns": null,
            "margin": null,
            "display": null,
            "left": null
          }
        },
        "438ec98c4331463da311484cd3c07ad5": {
          "model_module": "@jupyter-widgets/controls",
          "model_name": "HBoxModel",
          "model_module_version": "1.5.0",
          "state": {
            "_view_name": "HBoxView",
            "_dom_classes": [],
            "_model_name": "HBoxModel",
            "_view_module": "@jupyter-widgets/controls",
            "_model_module_version": "1.5.0",
            "_view_count": null,
            "_view_module_version": "1.5.0",
            "box_style": "",
            "layout": "IPY_MODEL_ac6f60d8b1e64f809d0481b444753a04",
            "_model_module": "@jupyter-widgets/controls",
            "children": [
              "IPY_MODEL_725e3ff8b1644ab4b80d49231d5a76c1",
              "IPY_MODEL_573622f9b77d45a1bd9d9e0d408f8f8e",
              "IPY_MODEL_f20fa8518003424aa982fc91c7a8d55d"
            ]
          }
        },
        "ac6f60d8b1e64f809d0481b444753a04": {
          "model_module": "@jupyter-widgets/base",
          "model_name": "LayoutModel",
          "model_module_version": "1.2.0",
          "state": {
            "_view_name": "LayoutView",
            "grid_template_rows": null,
            "right": null,
            "justify_content": null,
            "_view_module": "@jupyter-widgets/base",
            "overflow": null,
            "_model_module_version": "1.2.0",
            "_view_count": null,
            "flex_flow": null,
            "width": null,
            "min_width": null,
            "border": null,
            "align_items": null,
            "bottom": null,
            "_model_module": "@jupyter-widgets/base",
            "top": null,
            "grid_column": null,
            "overflow_y": null,
            "overflow_x": null,
            "grid_auto_flow": null,
            "grid_area": null,
            "grid_template_columns": null,
            "flex": null,
            "_model_name": "LayoutModel",
            "justify_items": null,
            "grid_row": null,
            "max_height": null,
            "align_content": null,
            "visibility": null,
            "align_self": null,
            "height": null,
            "min_height": null,
            "padding": null,
            "grid_auto_rows": null,
            "grid_gap": null,
            "max_width": null,
            "order": null,
            "_view_module_version": "1.2.0",
            "grid_template_areas": null,
            "object_position": null,
            "object_fit": null,
            "grid_auto_columns": null,
            "margin": null,
            "display": null,
            "left": null
          }
        },
        "725e3ff8b1644ab4b80d49231d5a76c1": {
          "model_module": "@jupyter-widgets/controls",
          "model_name": "HTMLModel",
          "model_module_version": "1.5.0",
          "state": {
            "_view_name": "HTMLView",
            "style": "IPY_MODEL_3cee32b012d842beb46a2eaf1658a2d0",
            "_dom_classes": [],
            "description": "",
            "_model_name": "HTMLModel",
            "placeholder": "​",
            "_view_module": "@jupyter-widgets/controls",
            "_model_module_version": "1.5.0",
            "value": "Downloading: 100%",
            "_view_count": null,
            "_view_module_version": "1.5.0",
            "description_tooltip": null,
            "_model_module": "@jupyter-widgets/controls",
            "layout": "IPY_MODEL_f970ed18263d49fa8cecfffeba634314"
          }
        },
        "573622f9b77d45a1bd9d9e0d408f8f8e": {
          "model_module": "@jupyter-widgets/controls",
          "model_name": "FloatProgressModel",
          "model_module_version": "1.5.0",
          "state": {
            "_view_name": "ProgressView",
            "style": "IPY_MODEL_ec6a722e4e94489cbb65854754096b13",
            "_dom_classes": [],
            "description": "",
            "_model_name": "FloatProgressModel",
            "bar_style": "success",
            "max": 231508,
            "_view_module": "@jupyter-widgets/controls",
            "_model_module_version": "1.5.0",
            "value": 231508,
            "_view_count": null,
            "_view_module_version": "1.5.0",
            "orientation": "horizontal",
            "min": 0,
            "description_tooltip": null,
            "_model_module": "@jupyter-widgets/controls",
            "layout": "IPY_MODEL_1fef245a42244e589bfe64e2cad8e21d"
          }
        },
        "f20fa8518003424aa982fc91c7a8d55d": {
          "model_module": "@jupyter-widgets/controls",
          "model_name": "HTMLModel",
          "model_module_version": "1.5.0",
          "state": {
            "_view_name": "HTMLView",
            "style": "IPY_MODEL_22895a25b29d48bf88c556abc581d422",
            "_dom_classes": [],
            "description": "",
            "_model_name": "HTMLModel",
            "placeholder": "​",
            "_view_module": "@jupyter-widgets/controls",
            "_model_module_version": "1.5.0",
            "value": " 226k/226k [00:00&lt;00:00, 1.35MB/s]",
            "_view_count": null,
            "_view_module_version": "1.5.0",
            "description_tooltip": null,
            "_model_module": "@jupyter-widgets/controls",
            "layout": "IPY_MODEL_e0250bf99ac74f70802e7846131e15ed"
          }
        },
        "3cee32b012d842beb46a2eaf1658a2d0": {
          "model_module": "@jupyter-widgets/controls",
          "model_name": "DescriptionStyleModel",
          "model_module_version": "1.5.0",
          "state": {
            "_view_name": "StyleView",
            "_model_name": "DescriptionStyleModel",
            "description_width": "",
            "_view_module": "@jupyter-widgets/base",
            "_model_module_version": "1.5.0",
            "_view_count": null,
            "_view_module_version": "1.2.0",
            "_model_module": "@jupyter-widgets/controls"
          }
        },
        "f970ed18263d49fa8cecfffeba634314": {
          "model_module": "@jupyter-widgets/base",
          "model_name": "LayoutModel",
          "model_module_version": "1.2.0",
          "state": {
            "_view_name": "LayoutView",
            "grid_template_rows": null,
            "right": null,
            "justify_content": null,
            "_view_module": "@jupyter-widgets/base",
            "overflow": null,
            "_model_module_version": "1.2.0",
            "_view_count": null,
            "flex_flow": null,
            "width": null,
            "min_width": null,
            "border": null,
            "align_items": null,
            "bottom": null,
            "_model_module": "@jupyter-widgets/base",
            "top": null,
            "grid_column": null,
            "overflow_y": null,
            "overflow_x": null,
            "grid_auto_flow": null,
            "grid_area": null,
            "grid_template_columns": null,
            "flex": null,
            "_model_name": "LayoutModel",
            "justify_items": null,
            "grid_row": null,
            "max_height": null,
            "align_content": null,
            "visibility": null,
            "align_self": null,
            "height": null,
            "min_height": null,
            "padding": null,
            "grid_auto_rows": null,
            "grid_gap": null,
            "max_width": null,
            "order": null,
            "_view_module_version": "1.2.0",
            "grid_template_areas": null,
            "object_position": null,
            "object_fit": null,
            "grid_auto_columns": null,
            "margin": null,
            "display": null,
            "left": null
          }
        },
        "ec6a722e4e94489cbb65854754096b13": {
          "model_module": "@jupyter-widgets/controls",
          "model_name": "ProgressStyleModel",
          "model_module_version": "1.5.0",
          "state": {
            "_view_name": "StyleView",
            "_model_name": "ProgressStyleModel",
            "description_width": "",
            "_view_module": "@jupyter-widgets/base",
            "_model_module_version": "1.5.0",
            "_view_count": null,
            "_view_module_version": "1.2.0",
            "bar_color": null,
            "_model_module": "@jupyter-widgets/controls"
          }
        },
        "1fef245a42244e589bfe64e2cad8e21d": {
          "model_module": "@jupyter-widgets/base",
          "model_name": "LayoutModel",
          "model_module_version": "1.2.0",
          "state": {
            "_view_name": "LayoutView",
            "grid_template_rows": null,
            "right": null,
            "justify_content": null,
            "_view_module": "@jupyter-widgets/base",
            "overflow": null,
            "_model_module_version": "1.2.0",
            "_view_count": null,
            "flex_flow": null,
            "width": null,
            "min_width": null,
            "border": null,
            "align_items": null,
            "bottom": null,
            "_model_module": "@jupyter-widgets/base",
            "top": null,
            "grid_column": null,
            "overflow_y": null,
            "overflow_x": null,
            "grid_auto_flow": null,
            "grid_area": null,
            "grid_template_columns": null,
            "flex": null,
            "_model_name": "LayoutModel",
            "justify_items": null,
            "grid_row": null,
            "max_height": null,
            "align_content": null,
            "visibility": null,
            "align_self": null,
            "height": null,
            "min_height": null,
            "padding": null,
            "grid_auto_rows": null,
            "grid_gap": null,
            "max_width": null,
            "order": null,
            "_view_module_version": "1.2.0",
            "grid_template_areas": null,
            "object_position": null,
            "object_fit": null,
            "grid_auto_columns": null,
            "margin": null,
            "display": null,
            "left": null
          }
        },
        "22895a25b29d48bf88c556abc581d422": {
          "model_module": "@jupyter-widgets/controls",
          "model_name": "DescriptionStyleModel",
          "model_module_version": "1.5.0",
          "state": {
            "_view_name": "StyleView",
            "_model_name": "DescriptionStyleModel",
            "description_width": "",
            "_view_module": "@jupyter-widgets/base",
            "_model_module_version": "1.5.0",
            "_view_count": null,
            "_view_module_version": "1.2.0",
            "_model_module": "@jupyter-widgets/controls"
          }
        },
        "e0250bf99ac74f70802e7846131e15ed": {
          "model_module": "@jupyter-widgets/base",
          "model_name": "LayoutModel",
          "model_module_version": "1.2.0",
          "state": {
            "_view_name": "LayoutView",
            "grid_template_rows": null,
            "right": null,
            "justify_content": null,
            "_view_module": "@jupyter-widgets/base",
            "overflow": null,
            "_model_module_version": "1.2.0",
            "_view_count": null,
            "flex_flow": null,
            "width": null,
            "min_width": null,
            "border": null,
            "align_items": null,
            "bottom": null,
            "_model_module": "@jupyter-widgets/base",
            "top": null,
            "grid_column": null,
            "overflow_y": null,
            "overflow_x": null,
            "grid_auto_flow": null,
            "grid_area": null,
            "grid_template_columns": null,
            "flex": null,
            "_model_name": "LayoutModel",
            "justify_items": null,
            "grid_row": null,
            "max_height": null,
            "align_content": null,
            "visibility": null,
            "align_self": null,
            "height": null,
            "min_height": null,
            "padding": null,
            "grid_auto_rows": null,
            "grid_gap": null,
            "max_width": null,
            "order": null,
            "_view_module_version": "1.2.0",
            "grid_template_areas": null,
            "object_position": null,
            "object_fit": null,
            "grid_auto_columns": null,
            "margin": null,
            "display": null,
            "left": null
          }
        },
        "c66db9fea0344e5492123faea8d146d9": {
          "model_module": "@jupyter-widgets/controls",
          "model_name": "HBoxModel",
          "model_module_version": "1.5.0",
          "state": {
            "_view_name": "HBoxView",
            "_dom_classes": [],
            "_model_name": "HBoxModel",
            "_view_module": "@jupyter-widgets/controls",
            "_model_module_version": "1.5.0",
            "_view_count": null,
            "_view_module_version": "1.5.0",
            "box_style": "",
            "layout": "IPY_MODEL_83d7ffd765e04f9abcdaf71da2f83df1",
            "_model_module": "@jupyter-widgets/controls",
            "children": [
              "IPY_MODEL_d665cfc002f441c9bb1bd27e97368382",
              "IPY_MODEL_605d3accfcd34b32af0b61cf07f1bf9a",
              "IPY_MODEL_4f9347615d8f41f088e0e0f9b9e20953"
            ]
          }
        },
        "83d7ffd765e04f9abcdaf71da2f83df1": {
          "model_module": "@jupyter-widgets/base",
          "model_name": "LayoutModel",
          "model_module_version": "1.2.0",
          "state": {
            "_view_name": "LayoutView",
            "grid_template_rows": null,
            "right": null,
            "justify_content": null,
            "_view_module": "@jupyter-widgets/base",
            "overflow": null,
            "_model_module_version": "1.2.0",
            "_view_count": null,
            "flex_flow": null,
            "width": null,
            "min_width": null,
            "border": null,
            "align_items": null,
            "bottom": null,
            "_model_module": "@jupyter-widgets/base",
            "top": null,
            "grid_column": null,
            "overflow_y": null,
            "overflow_x": null,
            "grid_auto_flow": null,
            "grid_area": null,
            "grid_template_columns": null,
            "flex": null,
            "_model_name": "LayoutModel",
            "justify_items": null,
            "grid_row": null,
            "max_height": null,
            "align_content": null,
            "visibility": null,
            "align_self": null,
            "height": null,
            "min_height": null,
            "padding": null,
            "grid_auto_rows": null,
            "grid_gap": null,
            "max_width": null,
            "order": null,
            "_view_module_version": "1.2.0",
            "grid_template_areas": null,
            "object_position": null,
            "object_fit": null,
            "grid_auto_columns": null,
            "margin": null,
            "display": null,
            "left": null
          }
        },
        "d665cfc002f441c9bb1bd27e97368382": {
          "model_module": "@jupyter-widgets/controls",
          "model_name": "HTMLModel",
          "model_module_version": "1.5.0",
          "state": {
            "_view_name": "HTMLView",
            "style": "IPY_MODEL_4f1b91ffd7164799932e68030a170f8e",
            "_dom_classes": [],
            "description": "",
            "_model_name": "HTMLModel",
            "placeholder": "​",
            "_view_module": "@jupyter-widgets/controls",
            "_model_module_version": "1.5.0",
            "value": "Downloading: 100%",
            "_view_count": null,
            "_view_module_version": "1.5.0",
            "description_tooltip": null,
            "_model_module": "@jupyter-widgets/controls",
            "layout": "IPY_MODEL_acecf74944ba4cceb9619f82b48fcbae"
          }
        },
        "605d3accfcd34b32af0b61cf07f1bf9a": {
          "model_module": "@jupyter-widgets/controls",
          "model_name": "FloatProgressModel",
          "model_module_version": "1.5.0",
          "state": {
            "_view_name": "ProgressView",
            "style": "IPY_MODEL_413762a94f9944b9bf94db9835a043a4",
            "_dom_classes": [],
            "description": "",
            "_model_name": "FloatProgressModel",
            "bar_style": "success",
            "max": 112,
            "_view_module": "@jupyter-widgets/controls",
            "_model_module_version": "1.5.0",
            "value": 112,
            "_view_count": null,
            "_view_module_version": "1.5.0",
            "orientation": "horizontal",
            "min": 0,
            "description_tooltip": null,
            "_model_module": "@jupyter-widgets/controls",
            "layout": "IPY_MODEL_2c541c45423d428c9f1af86b16a60154"
          }
        },
        "4f9347615d8f41f088e0e0f9b9e20953": {
          "model_module": "@jupyter-widgets/controls",
          "model_name": "HTMLModel",
          "model_module_version": "1.5.0",
          "state": {
            "_view_name": "HTMLView",
            "style": "IPY_MODEL_80a26dff91414a5cb7c796c8005d8fed",
            "_dom_classes": [],
            "description": "",
            "_model_name": "HTMLModel",
            "placeholder": "​",
            "_view_module": "@jupyter-widgets/controls",
            "_model_module_version": "1.5.0",
            "value": " 112/112 [00:00&lt;00:00, 2.79kB/s]",
            "_view_count": null,
            "_view_module_version": "1.5.0",
            "description_tooltip": null,
            "_model_module": "@jupyter-widgets/controls",
            "layout": "IPY_MODEL_5f216e2591af4af180c8744da694b0a2"
          }
        },
        "4f1b91ffd7164799932e68030a170f8e": {
          "model_module": "@jupyter-widgets/controls",
          "model_name": "DescriptionStyleModel",
          "model_module_version": "1.5.0",
          "state": {
            "_view_name": "StyleView",
            "_model_name": "DescriptionStyleModel",
            "description_width": "",
            "_view_module": "@jupyter-widgets/base",
            "_model_module_version": "1.5.0",
            "_view_count": null,
            "_view_module_version": "1.2.0",
            "_model_module": "@jupyter-widgets/controls"
          }
        },
        "acecf74944ba4cceb9619f82b48fcbae": {
          "model_module": "@jupyter-widgets/base",
          "model_name": "LayoutModel",
          "model_module_version": "1.2.0",
          "state": {
            "_view_name": "LayoutView",
            "grid_template_rows": null,
            "right": null,
            "justify_content": null,
            "_view_module": "@jupyter-widgets/base",
            "overflow": null,
            "_model_module_version": "1.2.0",
            "_view_count": null,
            "flex_flow": null,
            "width": null,
            "min_width": null,
            "border": null,
            "align_items": null,
            "bottom": null,
            "_model_module": "@jupyter-widgets/base",
            "top": null,
            "grid_column": null,
            "overflow_y": null,
            "overflow_x": null,
            "grid_auto_flow": null,
            "grid_area": null,
            "grid_template_columns": null,
            "flex": null,
            "_model_name": "LayoutModel",
            "justify_items": null,
            "grid_row": null,
            "max_height": null,
            "align_content": null,
            "visibility": null,
            "align_self": null,
            "height": null,
            "min_height": null,
            "padding": null,
            "grid_auto_rows": null,
            "grid_gap": null,
            "max_width": null,
            "order": null,
            "_view_module_version": "1.2.0",
            "grid_template_areas": null,
            "object_position": null,
            "object_fit": null,
            "grid_auto_columns": null,
            "margin": null,
            "display": null,
            "left": null
          }
        },
        "413762a94f9944b9bf94db9835a043a4": {
          "model_module": "@jupyter-widgets/controls",
          "model_name": "ProgressStyleModel",
          "model_module_version": "1.5.0",
          "state": {
            "_view_name": "StyleView",
            "_model_name": "ProgressStyleModel",
            "description_width": "",
            "_view_module": "@jupyter-widgets/base",
            "_model_module_version": "1.5.0",
            "_view_count": null,
            "_view_module_version": "1.2.0",
            "bar_color": null,
            "_model_module": "@jupyter-widgets/controls"
          }
        },
        "2c541c45423d428c9f1af86b16a60154": {
          "model_module": "@jupyter-widgets/base",
          "model_name": "LayoutModel",
          "model_module_version": "1.2.0",
          "state": {
            "_view_name": "LayoutView",
            "grid_template_rows": null,
            "right": null,
            "justify_content": null,
            "_view_module": "@jupyter-widgets/base",
            "overflow": null,
            "_model_module_version": "1.2.0",
            "_view_count": null,
            "flex_flow": null,
            "width": null,
            "min_width": null,
            "border": null,
            "align_items": null,
            "bottom": null,
            "_model_module": "@jupyter-widgets/base",
            "top": null,
            "grid_column": null,
            "overflow_y": null,
            "overflow_x": null,
            "grid_auto_flow": null,
            "grid_area": null,
            "grid_template_columns": null,
            "flex": null,
            "_model_name": "LayoutModel",
            "justify_items": null,
            "grid_row": null,
            "max_height": null,
            "align_content": null,
            "visibility": null,
            "align_self": null,
            "height": null,
            "min_height": null,
            "padding": null,
            "grid_auto_rows": null,
            "grid_gap": null,
            "max_width": null,
            "order": null,
            "_view_module_version": "1.2.0",
            "grid_template_areas": null,
            "object_position": null,
            "object_fit": null,
            "grid_auto_columns": null,
            "margin": null,
            "display": null,
            "left": null
          }
        },
        "80a26dff91414a5cb7c796c8005d8fed": {
          "model_module": "@jupyter-widgets/controls",
          "model_name": "DescriptionStyleModel",
          "model_module_version": "1.5.0",
          "state": {
            "_view_name": "StyleView",
            "_model_name": "DescriptionStyleModel",
            "description_width": "",
            "_view_module": "@jupyter-widgets/base",
            "_model_module_version": "1.5.0",
            "_view_count": null,
            "_view_module_version": "1.2.0",
            "_model_module": "@jupyter-widgets/controls"
          }
        },
        "5f216e2591af4af180c8744da694b0a2": {
          "model_module": "@jupyter-widgets/base",
          "model_name": "LayoutModel",
          "model_module_version": "1.2.0",
          "state": {
            "_view_name": "LayoutView",
            "grid_template_rows": null,
            "right": null,
            "justify_content": null,
            "_view_module": "@jupyter-widgets/base",
            "overflow": null,
            "_model_module_version": "1.2.0",
            "_view_count": null,
            "flex_flow": null,
            "width": null,
            "min_width": null,
            "border": null,
            "align_items": null,
            "bottom": null,
            "_model_module": "@jupyter-widgets/base",
            "top": null,
            "grid_column": null,
            "overflow_y": null,
            "overflow_x": null,
            "grid_auto_flow": null,
            "grid_area": null,
            "grid_template_columns": null,
            "flex": null,
            "_model_name": "LayoutModel",
            "justify_items": null,
            "grid_row": null,
            "max_height": null,
            "align_content": null,
            "visibility": null,
            "align_self": null,
            "height": null,
            "min_height": null,
            "padding": null,
            "grid_auto_rows": null,
            "grid_gap": null,
            "max_width": null,
            "order": null,
            "_view_module_version": "1.2.0",
            "grid_template_areas": null,
            "object_position": null,
            "object_fit": null,
            "grid_auto_columns": null,
            "margin": null,
            "display": null,
            "left": null
          }
        },
        "912a1e9685bc46c195274ed746a2ed9d": {
          "model_module": "@jupyter-widgets/controls",
          "model_name": "HBoxModel",
          "model_module_version": "1.5.0",
          "state": {
            "_view_name": "HBoxView",
            "_dom_classes": [],
            "_model_name": "HBoxModel",
            "_view_module": "@jupyter-widgets/controls",
            "_model_module_version": "1.5.0",
            "_view_count": null,
            "_view_module_version": "1.5.0",
            "box_style": "",
            "layout": "IPY_MODEL_863dab92d7a34c5fb4ab7bfaa0ba493b",
            "_model_module": "@jupyter-widgets/controls",
            "children": [
              "IPY_MODEL_8518569de35d488882945bfc8a138d2c",
              "IPY_MODEL_d34d183e57b04318b833d32a91f9eb31",
              "IPY_MODEL_afe39b7463f541e88840af1f81b65455"
            ]
          }
        },
        "863dab92d7a34c5fb4ab7bfaa0ba493b": {
          "model_module": "@jupyter-widgets/base",
          "model_name": "LayoutModel",
          "model_module_version": "1.2.0",
          "state": {
            "_view_name": "LayoutView",
            "grid_template_rows": null,
            "right": null,
            "justify_content": null,
            "_view_module": "@jupyter-widgets/base",
            "overflow": null,
            "_model_module_version": "1.2.0",
            "_view_count": null,
            "flex_flow": null,
            "width": null,
            "min_width": null,
            "border": null,
            "align_items": null,
            "bottom": null,
            "_model_module": "@jupyter-widgets/base",
            "top": null,
            "grid_column": null,
            "overflow_y": null,
            "overflow_x": null,
            "grid_auto_flow": null,
            "grid_area": null,
            "grid_template_columns": null,
            "flex": null,
            "_model_name": "LayoutModel",
            "justify_items": null,
            "grid_row": null,
            "max_height": null,
            "align_content": null,
            "visibility": null,
            "align_self": null,
            "height": null,
            "min_height": null,
            "padding": null,
            "grid_auto_rows": null,
            "grid_gap": null,
            "max_width": null,
            "order": null,
            "_view_module_version": "1.2.0",
            "grid_template_areas": null,
            "object_position": null,
            "object_fit": null,
            "grid_auto_columns": null,
            "margin": null,
            "display": null,
            "left": null
          }
        },
        "8518569de35d488882945bfc8a138d2c": {
          "model_module": "@jupyter-widgets/controls",
          "model_name": "HTMLModel",
          "model_module_version": "1.5.0",
          "state": {
            "_view_name": "HTMLView",
            "style": "IPY_MODEL_bd4c55778c074bc9b67abe38689813f7",
            "_dom_classes": [],
            "description": "",
            "_model_name": "HTMLModel",
            "placeholder": "​",
            "_view_module": "@jupyter-widgets/controls",
            "_model_module_version": "1.5.0",
            "value": "Downloading: 100%",
            "_view_count": null,
            "_view_module_version": "1.5.0",
            "description_tooltip": null,
            "_model_module": "@jupyter-widgets/controls",
            "layout": "IPY_MODEL_a4e222fe57cd401ba465cb6b78046048"
          }
        },
        "d34d183e57b04318b833d32a91f9eb31": {
          "model_module": "@jupyter-widgets/controls",
          "model_name": "FloatProgressModel",
          "model_module_version": "1.5.0",
          "state": {
            "_view_name": "ProgressView",
            "style": "IPY_MODEL_7c9cb86312d844569e4cb6bc575c3684",
            "_dom_classes": [],
            "description": "",
            "_model_name": "FloatProgressModel",
            "bar_style": "success",
            "max": 267875479,
            "_view_module": "@jupyter-widgets/controls",
            "_model_module_version": "1.5.0",
            "value": 267875479,
            "_view_count": null,
            "_view_module_version": "1.5.0",
            "orientation": "horizontal",
            "min": 0,
            "description_tooltip": null,
            "_model_module": "@jupyter-widgets/controls",
            "layout": "IPY_MODEL_4ee4b97a0626496ba39d2cb374654bc1"
          }
        },
        "afe39b7463f541e88840af1f81b65455": {
          "model_module": "@jupyter-widgets/controls",
          "model_name": "HTMLModel",
          "model_module_version": "1.5.0",
          "state": {
            "_view_name": "HTMLView",
            "style": "IPY_MODEL_f243e21f339140bea1d02696d9ca6606",
            "_dom_classes": [],
            "description": "",
            "_model_name": "HTMLModel",
            "placeholder": "​",
            "_view_module": "@jupyter-widgets/controls",
            "_model_module_version": "1.5.0",
            "value": " 255M/255M [00:08&lt;00:00, 22.9MB/s]",
            "_view_count": null,
            "_view_module_version": "1.5.0",
            "description_tooltip": null,
            "_model_module": "@jupyter-widgets/controls",
            "layout": "IPY_MODEL_a59b9293185242afbadd13869a352f44"
          }
        },
        "bd4c55778c074bc9b67abe38689813f7": {
          "model_module": "@jupyter-widgets/controls",
          "model_name": "DescriptionStyleModel",
          "model_module_version": "1.5.0",
          "state": {
            "_view_name": "StyleView",
            "_model_name": "DescriptionStyleModel",
            "description_width": "",
            "_view_module": "@jupyter-widgets/base",
            "_model_module_version": "1.5.0",
            "_view_count": null,
            "_view_module_version": "1.2.0",
            "_model_module": "@jupyter-widgets/controls"
          }
        },
        "a4e222fe57cd401ba465cb6b78046048": {
          "model_module": "@jupyter-widgets/base",
          "model_name": "LayoutModel",
          "model_module_version": "1.2.0",
          "state": {
            "_view_name": "LayoutView",
            "grid_template_rows": null,
            "right": null,
            "justify_content": null,
            "_view_module": "@jupyter-widgets/base",
            "overflow": null,
            "_model_module_version": "1.2.0",
            "_view_count": null,
            "flex_flow": null,
            "width": null,
            "min_width": null,
            "border": null,
            "align_items": null,
            "bottom": null,
            "_model_module": "@jupyter-widgets/base",
            "top": null,
            "grid_column": null,
            "overflow_y": null,
            "overflow_x": null,
            "grid_auto_flow": null,
            "grid_area": null,
            "grid_template_columns": null,
            "flex": null,
            "_model_name": "LayoutModel",
            "justify_items": null,
            "grid_row": null,
            "max_height": null,
            "align_content": null,
            "visibility": null,
            "align_self": null,
            "height": null,
            "min_height": null,
            "padding": null,
            "grid_auto_rows": null,
            "grid_gap": null,
            "max_width": null,
            "order": null,
            "_view_module_version": "1.2.0",
            "grid_template_areas": null,
            "object_position": null,
            "object_fit": null,
            "grid_auto_columns": null,
            "margin": null,
            "display": null,
            "left": null
          }
        },
        "7c9cb86312d844569e4cb6bc575c3684": {
          "model_module": "@jupyter-widgets/controls",
          "model_name": "ProgressStyleModel",
          "model_module_version": "1.5.0",
          "state": {
            "_view_name": "StyleView",
            "_model_name": "ProgressStyleModel",
            "description_width": "",
            "_view_module": "@jupyter-widgets/base",
            "_model_module_version": "1.5.0",
            "_view_count": null,
            "_view_module_version": "1.2.0",
            "bar_color": null,
            "_model_module": "@jupyter-widgets/controls"
          }
        },
        "4ee4b97a0626496ba39d2cb374654bc1": {
          "model_module": "@jupyter-widgets/base",
          "model_name": "LayoutModel",
          "model_module_version": "1.2.0",
          "state": {
            "_view_name": "LayoutView",
            "grid_template_rows": null,
            "right": null,
            "justify_content": null,
            "_view_module": "@jupyter-widgets/base",
            "overflow": null,
            "_model_module_version": "1.2.0",
            "_view_count": null,
            "flex_flow": null,
            "width": null,
            "min_width": null,
            "border": null,
            "align_items": null,
            "bottom": null,
            "_model_module": "@jupyter-widgets/base",
            "top": null,
            "grid_column": null,
            "overflow_y": null,
            "overflow_x": null,
            "grid_auto_flow": null,
            "grid_area": null,
            "grid_template_columns": null,
            "flex": null,
            "_model_name": "LayoutModel",
            "justify_items": null,
            "grid_row": null,
            "max_height": null,
            "align_content": null,
            "visibility": null,
            "align_self": null,
            "height": null,
            "min_height": null,
            "padding": null,
            "grid_auto_rows": null,
            "grid_gap": null,
            "max_width": null,
            "order": null,
            "_view_module_version": "1.2.0",
            "grid_template_areas": null,
            "object_position": null,
            "object_fit": null,
            "grid_auto_columns": null,
            "margin": null,
            "display": null,
            "left": null
          }
        },
        "f243e21f339140bea1d02696d9ca6606": {
          "model_module": "@jupyter-widgets/controls",
          "model_name": "DescriptionStyleModel",
          "model_module_version": "1.5.0",
          "state": {
            "_view_name": "StyleView",
            "_model_name": "DescriptionStyleModel",
            "description_width": "",
            "_view_module": "@jupyter-widgets/base",
            "_model_module_version": "1.5.0",
            "_view_count": null,
            "_view_module_version": "1.2.0",
            "_model_module": "@jupyter-widgets/controls"
          }
        },
        "a59b9293185242afbadd13869a352f44": {
          "model_module": "@jupyter-widgets/base",
          "model_name": "LayoutModel",
          "model_module_version": "1.2.0",
          "state": {
            "_view_name": "LayoutView",
            "grid_template_rows": null,
            "right": null,
            "justify_content": null,
            "_view_module": "@jupyter-widgets/base",
            "overflow": null,
            "_model_module_version": "1.2.0",
            "_view_count": null,
            "flex_flow": null,
            "width": null,
            "min_width": null,
            "border": null,
            "align_items": null,
            "bottom": null,
            "_model_module": "@jupyter-widgets/base",
            "top": null,
            "grid_column": null,
            "overflow_y": null,
            "overflow_x": null,
            "grid_auto_flow": null,
            "grid_area": null,
            "grid_template_columns": null,
            "flex": null,
            "_model_name": "LayoutModel",
            "justify_items": null,
            "grid_row": null,
            "max_height": null,
            "align_content": null,
            "visibility": null,
            "align_self": null,
            "height": null,
            "min_height": null,
            "padding": null,
            "grid_auto_rows": null,
            "grid_gap": null,
            "max_width": null,
            "order": null,
            "_view_module_version": "1.2.0",
            "grid_template_areas": null,
            "object_position": null,
            "object_fit": null,
            "grid_auto_columns": null,
            "margin": null,
            "display": null,
            "left": null
          }
        }
      }
    }
  },
  "cells": [
    {
      "cell_type": "markdown",
      "source": [
        "# Sentiment classification with English Twitter Datasets"
      ],
      "metadata": {
        "id": "05KYS_pnO3Dq"
      }
    },
    {
      "cell_type": "markdown",
      "source": [
        "## Importing Libraries"
      ],
      "metadata": {
        "id": "8_6lr4dbPZNZ"
      }
    },
    {
      "cell_type": "code",
      "execution_count": 1,
      "metadata": {
        "id": "O2ganP7WOcv-"
      },
      "outputs": [],
      "source": [
        "import os\n",
        "import re\n",
        "from tqdm import tqdm\n",
        "import numpy as np\n",
        "import pandas as pd\n",
        "import matplotlib.pyplot as plt\n",
        "import csv\n",
        "%matplotlib inline"
      ]
    },
    {
      "cell_type": "markdown",
      "source": [
        "## 1 ) Loading Datasets"
      ],
      "metadata": {
        "id": "IpJdkXmSPKfj"
      }
    },
    {
      "cell_type": "code",
      "source": [
        "df1 = pd.read_csv('tweets_sqgames.csv')\n",
        "df1 = df1.loc[:, ['text', 'sentiment']]\n",
        "label_mapping = {\"Positive\": 1, \"Negative\":0}\n",
        "df1 = df1[df1.sentiment != \"Neutral\"]\n",
        "df1[\"sentiment\"] = df1[\"sentiment\"].map(label_mapping)"
      ],
      "metadata": {
        "id": "E200bW4uv0hW"
      },
      "execution_count": 2,
      "outputs": []
    },
    {
      "cell_type": "code",
      "source": [
        "df2 = pd.read_csv('Tweets.csv')\n",
        "df2 = df2.loc[:, ['text', 'airline_sentiment']]\n",
        "df2 = df2.rename(columns = {\"airline_sentiment\":\"sentiment\"})\n",
        "label_mapping = {\"positive\": 1, \"negative\":0}\n",
        "df2 = df2[df2.sentiment != \"neutral\"]\n",
        "df2[\"sentiment\"] = df2[\"sentiment\"].map(label_mapping)"
      ],
      "metadata": {
        "id": "9zdyPvyDv0kq"
      },
      "execution_count": 3,
      "outputs": []
    },
    {
      "cell_type": "code",
      "source": [
        "df3 = pd.read_csv('apple-twitter-sentiment-texts.csv')\n",
        "label_mapping = {1: 1, -1:0}\n",
        "df3 = df3[df3.sentiment != 0]\n",
        "df3[\"sentiment\"] = df3[\"sentiment\"].map(label_mapping)"
      ],
      "metadata": {
        "id": "wKAkAPNlv0r6"
      },
      "execution_count": 4,
      "outputs": []
    },
    {
      "cell_type": "code",
      "source": [
        "df4 = pd.read_csv('Apple-Twitter-Sentiment-DFE.csv', encoding=\"Latin-1\")\n",
        "label_mapping = {\"5\": 1, \"1\":0}\n",
        "df4 = df4[df4.sentiment != \"3\"]\n",
        "df4 = df4[df4.sentiment != \"not_relevant\"]\n",
        "df4[\"sentiment\"] = df4[\"sentiment\"].map(label_mapping)"
      ],
      "metadata": {
        "id": "f-d6W4F4v0vR"
      },
      "execution_count": 5,
      "outputs": []
    },
    {
      "cell_type": "code",
      "source": [
        "df5 = pd.read_csv('Reddit_Data.csv')\n",
        "df5 = df5.rename(columns = {\"clean_comment\":\"text\", \"category\":\"sentiment\"})\n",
        "label_mapping = {1: 1, -1:0}\n",
        "df5 = df5[df5.sentiment != 0]\n",
        "df5[\"sentiment\"] = df5[\"sentiment\"].map(label_mapping)"
      ],
      "metadata": {
        "id": "77x4gFaC6Dry"
      },
      "execution_count": 6,
      "outputs": []
    },
    {
      "cell_type": "code",
      "source": [
        "frames = [df1, df2, df3, df4, df5]\n",
        "merged_df = pd.concat(frames)"
      ],
      "metadata": {
        "id": "9AaeO6Pz0Fj_"
      },
      "execution_count": 7,
      "outputs": []
    },
    {
      "cell_type": "code",
      "source": [
        "from sklearn.model_selection import train_test_split\n",
        "X = merged_df.text.values\n",
        "y = merged_df.sentiment.values"
      ],
      "metadata": {
        "id": "M0LtDH9_O1pm"
      },
      "execution_count": 8,
      "outputs": []
    },
    {
      "cell_type": "code",
      "source": [
        "X_, X_test, y_, y_test = train_test_split(X, y, test_size=0.2, random_state = 42)\n",
        "X_train, X_val, y_train, y_val = train_test_split(X_, y_, test_size=0.1, random_state = 42)"
      ],
      "metadata": {
        "id": "5H2DVOPHO1sE"
      },
      "execution_count": 9,
      "outputs": []
    },
    {
      "cell_type": "markdown",
      "source": [
        "## 3 ) Deep Learning Approach"
      ],
      "metadata": {
        "id": "HakjkIbYY-EZ"
      }
    },
    {
      "cell_type": "code",
      "source": [
        "import torch\n",
        "\n",
        "if torch.cuda.is_available():       \n",
        "    device = torch.device(\"cuda\")\n",
        "    print(f'There are {torch.cuda.device_count()} GPU(s) available.')\n",
        "    print('Device name:', torch.cuda.get_device_name(0))\n",
        "\n",
        "else:\n",
        "    print('No GPU available, using the CPU instead.')\n",
        "    device = torch.device(\"cpu\")"
      ],
      "metadata": {
        "colab": {
          "base_uri": "https://localhost:8080/"
        },
        "id": "-oBZeFVSO2AH",
        "outputId": "173e8437-0696-403c-875a-9cfa617fc034"
      },
      "execution_count": 10,
      "outputs": [
        {
          "output_type": "stream",
          "name": "stdout",
          "text": [
            "There are 1 GPU(s) available.\n",
            "Device name: Tesla T4\n"
          ]
        }
      ]
    },
    {
      "cell_type": "code",
      "source": [
        "!pip install transformers"
      ],
      "metadata": {
        "colab": {
          "base_uri": "https://localhost:8080/"
        },
        "id": "AI790cijO2GE",
        "outputId": "1d0641db-295f-4a44-f338-ca2c148dcf25"
      },
      "execution_count": 11,
      "outputs": [
        {
          "output_type": "stream",
          "name": "stdout",
          "text": [
            "Collecting transformers\n",
            "  Downloading transformers-4.16.2-py3-none-any.whl (3.5 MB)\n",
            "\u001b[K     |████████████████████████████████| 3.5 MB 5.1 MB/s \n",
            "\u001b[?25hRequirement already satisfied: regex!=2019.12.17 in /usr/local/lib/python3.7/dist-packages (from transformers) (2019.12.20)\n",
            "Collecting huggingface-hub<1.0,>=0.1.0\n",
            "  Downloading huggingface_hub-0.4.0-py3-none-any.whl (67 kB)\n",
            "\u001b[K     |████████████████████████████████| 67 kB 6.3 MB/s \n",
            "\u001b[?25hRequirement already satisfied: importlib-metadata in /usr/local/lib/python3.7/dist-packages (from transformers) (4.10.1)\n",
            "Requirement already satisfied: tqdm>=4.27 in /usr/local/lib/python3.7/dist-packages (from transformers) (4.62.3)\n",
            "Collecting sacremoses\n",
            "  Downloading sacremoses-0.0.47-py2.py3-none-any.whl (895 kB)\n",
            "\u001b[K     |████████████████████████████████| 895 kB 64.2 MB/s \n",
            "\u001b[?25hRequirement already satisfied: packaging>=20.0 in /usr/local/lib/python3.7/dist-packages (from transformers) (21.3)\n",
            "Requirement already satisfied: requests in /usr/local/lib/python3.7/dist-packages (from transformers) (2.23.0)\n",
            "Requirement already satisfied: numpy>=1.17 in /usr/local/lib/python3.7/dist-packages (from transformers) (1.19.5)\n",
            "Collecting pyyaml>=5.1\n",
            "  Downloading PyYAML-6.0-cp37-cp37m-manylinux_2_5_x86_64.manylinux1_x86_64.manylinux_2_12_x86_64.manylinux2010_x86_64.whl (596 kB)\n",
            "\u001b[K     |████████████████████████████████| 596 kB 58.2 MB/s \n",
            "\u001b[?25hCollecting tokenizers!=0.11.3,>=0.10.1\n",
            "  Downloading tokenizers-0.11.4-cp37-cp37m-manylinux_2_12_x86_64.manylinux2010_x86_64.whl (6.8 MB)\n",
            "\u001b[K     |████████████████████████████████| 6.8 MB 48.9 MB/s \n",
            "\u001b[?25hRequirement already satisfied: filelock in /usr/local/lib/python3.7/dist-packages (from transformers) (3.4.2)\n",
            "Requirement already satisfied: typing-extensions>=3.7.4.3 in /usr/local/lib/python3.7/dist-packages (from huggingface-hub<1.0,>=0.1.0->transformers) (3.10.0.2)\n",
            "Requirement already satisfied: pyparsing!=3.0.5,>=2.0.2 in /usr/local/lib/python3.7/dist-packages (from packaging>=20.0->transformers) (3.0.7)\n",
            "Requirement already satisfied: zipp>=0.5 in /usr/local/lib/python3.7/dist-packages (from importlib-metadata->transformers) (3.7.0)\n",
            "Requirement already satisfied: idna<3,>=2.5 in /usr/local/lib/python3.7/dist-packages (from requests->transformers) (2.10)\n",
            "Requirement already satisfied: urllib3!=1.25.0,!=1.25.1,<1.26,>=1.21.1 in /usr/local/lib/python3.7/dist-packages (from requests->transformers) (1.24.3)\n",
            "Requirement already satisfied: chardet<4,>=3.0.2 in /usr/local/lib/python3.7/dist-packages (from requests->transformers) (3.0.4)\n",
            "Requirement already satisfied: certifi>=2017.4.17 in /usr/local/lib/python3.7/dist-packages (from requests->transformers) (2021.10.8)\n",
            "Requirement already satisfied: click in /usr/local/lib/python3.7/dist-packages (from sacremoses->transformers) (7.1.2)\n",
            "Requirement already satisfied: six in /usr/local/lib/python3.7/dist-packages (from sacremoses->transformers) (1.15.0)\n",
            "Requirement already satisfied: joblib in /usr/local/lib/python3.7/dist-packages (from sacremoses->transformers) (1.1.0)\n",
            "Installing collected packages: pyyaml, tokenizers, sacremoses, huggingface-hub, transformers\n",
            "  Attempting uninstall: pyyaml\n",
            "    Found existing installation: PyYAML 3.13\n",
            "    Uninstalling PyYAML-3.13:\n",
            "      Successfully uninstalled PyYAML-3.13\n",
            "Successfully installed huggingface-hub-0.4.0 pyyaml-6.0 sacremoses-0.0.47 tokenizers-0.11.4 transformers-4.16.2\n"
          ]
        }
      ]
    },
    {
      "cell_type": "code",
      "source": [
        "from transformers import AutoTokenizer, AutoModel"
      ],
      "metadata": {
        "id": "SLMSbnC5O2DJ"
      },
      "execution_count": 12,
      "outputs": []
    },
    {
      "cell_type": "code",
      "source": [
        "tokenizer = AutoTokenizer.from_pretrained(\"bhadresh-savani/distilbert-base-uncased-emotion\")"
      ],
      "metadata": {
        "id": "xMmgFGdOO2Jh",
        "colab": {
          "base_uri": "https://localhost:8080/",
          "height": 145,
          "referenced_widgets": [
            "74d2633492614b66adc85c64b49c1e3f",
            "a0b0e12c699441e08bffb1f5140ff65e",
            "e35841fec929490ca1d7bb836a9d22a5",
            "e4f53d8e281d45cd8eeddeb8891300d4",
            "330a43634ef24fb6b6575d1f3b6c21b4",
            "274bb6270e55453299916bf6a797848d",
            "c906f6779a4c450bac724007ac4a0004",
            "3c9a5573aa124291a50fc00b8468a3fd",
            "70cae7f4e96f4adca074dec09c8960fd",
            "cb997812affe46dd913c39af195e7587",
            "6ab70498222947a3960f67a3a4748180",
            "3f83d0a982bf478d8d7628662cbcca2a",
            "88fcf7ba99dd4389bf4f8f8cfb4c4899",
            "c2cf781f3adc4b1e84b03a2d3642642f",
            "b2b6be6275114550ae8afeb06014fa29",
            "7534d6d73156478f8af9ffb890f3e11d",
            "14119e70b8744e8099633770cc7a609c",
            "9201a546e341422f998525e40243cfb0",
            "2e2d8f0a52e744d99d4526c20f75694d",
            "40c4538c280b474e85d175d05dc64349",
            "38a556e13e784e759ee09c00639bb4d6",
            "b4d8ecc025324cfb81ce002acdcc121c",
            "438ec98c4331463da311484cd3c07ad5",
            "ac6f60d8b1e64f809d0481b444753a04",
            "725e3ff8b1644ab4b80d49231d5a76c1",
            "573622f9b77d45a1bd9d9e0d408f8f8e",
            "f20fa8518003424aa982fc91c7a8d55d",
            "3cee32b012d842beb46a2eaf1658a2d0",
            "f970ed18263d49fa8cecfffeba634314",
            "ec6a722e4e94489cbb65854754096b13",
            "1fef245a42244e589bfe64e2cad8e21d",
            "22895a25b29d48bf88c556abc581d422",
            "e0250bf99ac74f70802e7846131e15ed",
            "c66db9fea0344e5492123faea8d146d9",
            "83d7ffd765e04f9abcdaf71da2f83df1",
            "d665cfc002f441c9bb1bd27e97368382",
            "605d3accfcd34b32af0b61cf07f1bf9a",
            "4f9347615d8f41f088e0e0f9b9e20953",
            "4f1b91ffd7164799932e68030a170f8e",
            "acecf74944ba4cceb9619f82b48fcbae",
            "413762a94f9944b9bf94db9835a043a4",
            "2c541c45423d428c9f1af86b16a60154",
            "80a26dff91414a5cb7c796c8005d8fed",
            "5f216e2591af4af180c8744da694b0a2"
          ]
        },
        "outputId": "f2ca89f1-d6bc-47ca-a6ae-cdc40c921737"
      },
      "execution_count": 13,
      "outputs": [
        {
          "output_type": "display_data",
          "data": {
            "application/vnd.jupyter.widget-view+json": {
              "model_id": "74d2633492614b66adc85c64b49c1e3f",
              "version_minor": 0,
              "version_major": 2
            },
            "text/plain": [
              "Downloading:   0%|          | 0.00/291 [00:00<?, ?B/s]"
            ]
          },
          "metadata": {}
        },
        {
          "output_type": "display_data",
          "data": {
            "application/vnd.jupyter.widget-view+json": {
              "model_id": "3f83d0a982bf478d8d7628662cbcca2a",
              "version_minor": 0,
              "version_major": 2
            },
            "text/plain": [
              "Downloading:   0%|          | 0.00/768 [00:00<?, ?B/s]"
            ]
          },
          "metadata": {}
        },
        {
          "output_type": "display_data",
          "data": {
            "application/vnd.jupyter.widget-view+json": {
              "model_id": "438ec98c4331463da311484cd3c07ad5",
              "version_minor": 0,
              "version_major": 2
            },
            "text/plain": [
              "Downloading:   0%|          | 0.00/226k [00:00<?, ?B/s]"
            ]
          },
          "metadata": {}
        },
        {
          "output_type": "display_data",
          "data": {
            "application/vnd.jupyter.widget-view+json": {
              "model_id": "c66db9fea0344e5492123faea8d146d9",
              "version_minor": 0,
              "version_major": 2
            },
            "text/plain": [
              "Downloading:   0%|          | 0.00/112 [00:00<?, ?B/s]"
            ]
          },
          "metadata": {}
        }
      ]
    },
    {
      "cell_type": "code",
      "source": [
        "def text_preprocessing(text):\n",
        "    \"\"\"\n",
        "    - Remove entity mentions (eg. '@united')\n",
        "    - Correct errors (eg. '&amp;' to '&')\n",
        "    @param    text (str): a string to be processed.\n",
        "    @return   text (Str): the processed string.\n",
        "    \"\"\"\n",
        "\n",
        "    # Normalize unicode encoding\n",
        "    text = unicodedata.normalize('NFC', text)\n",
        "    # Remove '@name'\n",
        "    text = re.sub(r'(@.*?)[\\s]', ' ', text)\n",
        "\n",
        "    # Replace '&amp;' with '&'\n",
        "    text = re.sub(r'&amp;', '&', text)\n",
        "\n",
        "    # Remove trailing whitespace\n",
        "    text = re.sub(r'\\s+', ' ', text).strip()\n",
        "\n",
        "    #Remove URLs\n",
        "    text = re.sub(r'^https?:\\/\\/.*[\\r\\n]*', '<URL>', text)\n",
        "\n",
        "\n",
        "    return text"
      ],
      "metadata": {
        "id": "o2TenWCGZw7I"
      },
      "execution_count": 14,
      "outputs": []
    },
    {
      "cell_type": "code",
      "source": [
        "def remove_emojis(sent):\n",
        "    text =  emoji.demojize(sent)\n",
        "    text= re.sub(r'(:[!_\\-\\w]+:)', '', text)\n",
        "    return text\n",
        "    \n",
        "def text_preprocessing_no_emojis(text):\n",
        "    \"\"\"\n",
        "    - Remove entity mentions (eg. '@united')\n",
        "    - Correct errors (eg. '&amp;' to '&')\n",
        "    @param    text (str): a string to be processed.\n",
        "    @return   text (Str): the processed string.\n",
        "    \"\"\"\n",
        "  \n",
        "    # Remove emojis\n",
        "    text = remove_emojis(text)\n",
        "\n",
        "    return text_preprocessing(text)"
      ],
      "metadata": {
        "id": "Lp6sDjV9L2hQ"
      },
      "execution_count": 15,
      "outputs": []
    },
    {
      "cell_type": "code",
      "source": [
        "!pip install emoji"
      ],
      "metadata": {
        "colab": {
          "base_uri": "https://localhost:8080/"
        },
        "id": "gklJcuwha7hu",
        "outputId": "c09915eb-5089-4ac6-9758-7853af98bddf"
      },
      "execution_count": 16,
      "outputs": [
        {
          "output_type": "stream",
          "name": "stdout",
          "text": [
            "Collecting emoji\n",
            "  Downloading emoji-1.6.3.tar.gz (174 kB)\n",
            "\u001b[?25l\r\u001b[K     |█▉                              | 10 kB 25.2 MB/s eta 0:00:01\r\u001b[K     |███▊                            | 20 kB 8.6 MB/s eta 0:00:01\r\u001b[K     |█████▋                          | 30 kB 7.7 MB/s eta 0:00:01\r\u001b[K     |███████▌                        | 40 kB 7.2 MB/s eta 0:00:01\r\u001b[K     |█████████▍                      | 51 kB 5.1 MB/s eta 0:00:01\r\u001b[K     |███████████▎                    | 61 kB 5.3 MB/s eta 0:00:01\r\u001b[K     |█████████████▏                  | 71 kB 5.1 MB/s eta 0:00:01\r\u001b[K     |███████████████                 | 81 kB 5.8 MB/s eta 0:00:01\r\u001b[K     |█████████████████               | 92 kB 5.7 MB/s eta 0:00:01\r\u001b[K     |██████████████████▉             | 102 kB 5.0 MB/s eta 0:00:01\r\u001b[K     |████████████████████▊           | 112 kB 5.0 MB/s eta 0:00:01\r\u001b[K     |██████████████████████▋         | 122 kB 5.0 MB/s eta 0:00:01\r\u001b[K     |████████████████████████▌       | 133 kB 5.0 MB/s eta 0:00:01\r\u001b[K     |██████████████████████████▍     | 143 kB 5.0 MB/s eta 0:00:01\r\u001b[K     |████████████████████████████▏   | 153 kB 5.0 MB/s eta 0:00:01\r\u001b[K     |██████████████████████████████  | 163 kB 5.0 MB/s eta 0:00:01\r\u001b[K     |████████████████████████████████| 174 kB 5.0 MB/s eta 0:00:01\r\u001b[K     |████████████████████████████████| 174 kB 5.0 MB/s \n",
            "\u001b[?25hBuilding wheels for collected packages: emoji\n",
            "  Building wheel for emoji (setup.py) ... \u001b[?25l\u001b[?25hdone\n",
            "  Created wheel for emoji: filename=emoji-1.6.3-py3-none-any.whl size=170298 sha256=9d153484ee58bec40dcda36636ddab477f9e26628040b3834d76166a58c9a7cc\n",
            "  Stored in directory: /root/.cache/pip/wheels/03/8b/d7/ad579fbef83c287215c0caab60fb0ae0f30c4d7ce5f580eade\n",
            "Successfully built emoji\n",
            "Installing collected packages: emoji\n",
            "Successfully installed emoji-1.6.3\n"
          ]
        }
      ]
    },
    {
      "cell_type": "code",
      "source": [
        "import emoji\n",
        "import unicodedata\n",
        "def preprocessing_for_bert(data, version=\"mini\", text_preprocessing_fn = text_preprocessing_no_emojis):\n",
        "    \"\"\"Perform required preprocessing steps for pretrained BERT.\n",
        "    @param    data (np.array): Array of texts to be processed.\n",
        "    @return   input_ids (torch.Tensor): Tensor of token ids to be fed to a model.\n",
        "    @return   attention_masks (torch.Tensor): Tensor of indices specifying which\n",
        "                  tokens should be attended to by the model.\n",
        "    \"\"\"\n",
        "    # Create empty lists to store outputs\n",
        "    input_ids = []\n",
        "    attention_masks = []\n",
        "    tokenizer = AutoTokenizer.from_pretrained(\"bhadresh-savani/distilbert-base-uncased-emotion\")# if version == \"mini\" else AutoTokenizer.from_pretrained(\"asafaya/bert-base-arabic\")\n",
        "\n",
        "    # For every sentence...\n",
        "    for i,sent in enumerate(data):\n",
        "        # `encode_plus` will:\n",
        "        #    (1) Tokenize the sentence\n",
        "        #    (2) Add the `[CLS]` and `[SEP]` token to the start and end\n",
        "        #    (3) Truncate/Pad sentence to max length\n",
        "        #    (4) Map tokens to their IDs\n",
        "        #    (5) Create attention mask\n",
        "        #    (6) Return a dictionary of outputs\n",
        "        encoded_sent = tokenizer.encode_plus(\n",
        "            text=text_preprocessing_fn(sent),  # Preprocess sentence\n",
        "            add_special_tokens=True,        # Add `[CLS]` and `[SEP]`\n",
        "            max_length=MAX_LEN,                  # Max length to truncate/pad\n",
        "            padding='max_length',        # Pad sentence to max length\n",
        "            #return_tensors='pt',           # Return PyTorch tensor\n",
        "            return_attention_mask=True,     # Return attention mask\n",
        "            truncation = True \n",
        "            )\n",
        "        \n",
        "        # Add the outputs to the lists\n",
        "        input_ids.append(encoded_sent.get('input_ids'))\n",
        "        attention_masks.append(encoded_sent.get('attention_mask'))\n",
        "    # Convert lists to tensors\n",
        "    input_ids = torch.tensor(input_ids)\n",
        "    attention_masks = torch.tensor(attention_masks)\n",
        "\n",
        "    return input_ids, attention_masks"
      ],
      "metadata": {
        "id": "8fjl5AftaQU7"
      },
      "execution_count": 17,
      "outputs": []
    },
    {
      "cell_type": "code",
      "source": [
        "# Specify `MAX_LEN`\n",
        "MAX_LEN =  280\n",
        "\n",
        "# Print sentence 0 and its encoded token ids\n",
        "token_ids = list(preprocessing_for_bert([X[0]], version=\"base\", text_preprocessing_fn=text_preprocessing_no_emojis)[0].squeeze().numpy())\n",
        "print('Original: ', X[0])\n",
        "print('Token IDs: ', token_ids)\n",
        "\n",
        "# Run function `preprocessing_for_bert` on the train set and the validation set\n",
        "print('Tokenizing data...')\n",
        "train_inputs, train_masks = preprocessing_for_bert(X_train, version=\"base\", text_preprocessing_fn=text_preprocessing_no_emojis)\n",
        "val_inputs, val_masks = preprocessing_for_bert(X_val, version=\"base\", text_preprocessing_fn=text_preprocessing_no_emojis)"
      ],
      "metadata": {
        "colab": {
          "base_uri": "https://localhost:8080/"
        },
        "id": "PCm99bITa5hL",
        "outputId": "2e0ae1c8-2088-4ba5-bc66-00374bdeab80"
      },
      "execution_count": 18,
      "outputs": [
        {
          "output_type": "stream",
          "name": "stdout",
          "text": [
            "Original:  When life hits and the same time poverty strikes you\n",
            "Gong Yoo : Lets play a game \n",
            "#SquidGame #Netflix https://t.co/Cx7ifmZ8cN\n",
            "Token IDs:  [101, 2043, 2166, 4978, 1998, 1996, 2168, 2051, 5635, 9326, 2017, 17242, 26823, 1024, 11082, 2377, 1037, 2208, 1001, 26852, 16650, 1001, 20907, 16770, 1024, 1013, 1013, 1056, 1012, 2522, 1013, 1039, 2595, 2581, 10128, 2213, 2480, 2620, 2278, 2078, 102, 0, 0, 0, 0, 0, 0, 0, 0, 0, 0, 0, 0, 0, 0, 0, 0, 0, 0, 0, 0, 0, 0, 0, 0, 0, 0, 0, 0, 0, 0, 0, 0, 0, 0, 0, 0, 0, 0, 0, 0, 0, 0, 0, 0, 0, 0, 0, 0, 0, 0, 0, 0, 0, 0, 0, 0, 0, 0, 0, 0, 0, 0, 0, 0, 0, 0, 0, 0, 0, 0, 0, 0, 0, 0, 0, 0, 0, 0, 0, 0, 0, 0, 0, 0, 0, 0, 0, 0, 0, 0, 0, 0, 0, 0, 0, 0, 0, 0, 0, 0, 0, 0, 0, 0, 0, 0, 0, 0, 0, 0, 0, 0, 0, 0, 0, 0, 0, 0, 0, 0, 0, 0, 0, 0, 0, 0, 0, 0, 0, 0, 0, 0, 0, 0, 0, 0, 0, 0, 0, 0, 0, 0, 0, 0, 0, 0, 0, 0, 0, 0, 0, 0, 0, 0, 0, 0, 0, 0, 0, 0, 0, 0, 0, 0, 0, 0, 0, 0, 0, 0, 0, 0, 0, 0, 0, 0, 0, 0, 0, 0, 0, 0, 0, 0, 0, 0, 0, 0, 0, 0, 0, 0, 0, 0, 0, 0, 0, 0, 0, 0, 0, 0, 0, 0, 0, 0, 0, 0, 0, 0, 0, 0, 0, 0, 0, 0, 0, 0, 0, 0, 0, 0, 0, 0, 0, 0, 0, 0, 0, 0, 0, 0, 0, 0, 0, 0, 0, 0, 0]\n",
            "Tokenizing data...\n"
          ]
        }
      ]
    },
    {
      "cell_type": "code",
      "source": [
        "from torch.utils.data import TensorDataset, DataLoader, RandomSampler, SequentialSampler\n",
        "\n",
        "# Convert other data types to torch.Tensor\n",
        "train_labels = torch.tensor(y_train)\n",
        "val_labels = torch.tensor(y_val)\n",
        "\n",
        "# For fine-tuning BERT, the authors recommend a batch size of 16 or 32.\n",
        "batch_size = 16\n",
        "\n",
        "# Create the DataLoader for our training set\n",
        "train_data = TensorDataset(train_inputs, train_masks, train_labels)\n",
        "train_sampler = RandomSampler(train_data)\n",
        "train_dataloader = DataLoader(train_data, sampler=train_sampler, batch_size=batch_size)\n",
        "\n",
        "# Create the DataLoader for our validation set\n",
        "val_data = TensorDataset(val_inputs, val_masks, val_labels)\n",
        "val_sampler = SequentialSampler(val_data)\n",
        "val_dataloader = DataLoader(val_data, sampler=val_sampler, batch_size=batch_size)"
      ],
      "metadata": {
        "id": "U7iTT16LbLni"
      },
      "execution_count": 19,
      "outputs": []
    },
    {
      "cell_type": "code",
      "source": [
        "%%time\n",
        "import torch\n",
        "import torch.nn as nn\n",
        "from transformers import BertModel\n",
        "\n",
        "# Create the BertClassfier class\n",
        "class BertClassifier(nn.Module):\n",
        "    \"\"\"Bert Model for Classification Tasks.\n",
        "    \"\"\"\n",
        "    def __init__(self, freeze_bert=False, version=\"mini\"):\n",
        "        \"\"\"\n",
        "        @param    bert: a BertModel object\n",
        "        @param    classifier: a torch.nn.Module classifier\n",
        "        @param    freeze_bert (bool): Set `False` to fine-tune the BERT model\n",
        "        \"\"\"\n",
        "        super(BertClassifier, self).__init__()\n",
        "        # Specify hidden size of BERT, hidden size of our classifier, and number of labels\n",
        "        D_in = 768\n",
        "        H, D_out = 50, 2\n",
        "\n",
        "        # Instantiate BERT model\n",
        "        self.bert = AutoModel.from_pretrained(\"bhadresh-savani/distilbert-base-uncased-emotion\")\n",
        "        self.gru = nn.GRU(768, 768, bidirectional = True)\n",
        "        # Instantiate an one-layer feed-forward classifier\n",
        "        self.classifier = nn.Sequential(\n",
        "\n",
        "            nn.Linear(D_in, H),\n",
        "            nn.ReLU(),\n",
        "            nn.Dropout(0.5),\n",
        "            nn.Linear(H, D_out)\n",
        "        )\n",
        "\n",
        "        # Freeze the BERT model\n",
        "        if freeze_bert:\n",
        "            for param in self.bert.parameters():\n",
        "                param.requires_grad = False\n",
        "        \n",
        "    def forward(self, input_ids, attention_mask):\n",
        "        \"\"\"\n",
        "        Feed input to BERT and the classifier to compute logits.\n",
        "        @param    input_ids (torch.Tensor): an input tensor with shape (batch_size,\n",
        "                      max_length)\n",
        "        @param    attention_mask (torch.Tensor): a tensor that hold attention mask\n",
        "                      information with shape (batch_size, max_length)\n",
        "        @return   logits (torch.Tensor): an output tensor with shape (batch_size,\n",
        "                      num_labels)\n",
        "        \"\"\"\n",
        "        # Feed input to BERT\n",
        "        outputs = self.bert(input_ids=input_ids,\n",
        "                            attention_mask=attention_mask)\n",
        "        \n",
        "        # Extract the last hidden state of the token `[CLS]` for classification task\n",
        "        last_hidden_state_cls = outputs[0][:, 0, :]\n",
        "\n",
        "        # Feed input to classifier to compute logits\n",
        "        logits = self.classifier(last_hidden_state_cls)\n",
        "\n",
        "        return logits"
      ],
      "metadata": {
        "colab": {
          "base_uri": "https://localhost:8080/"
        },
        "id": "32gvSQ9pb9Fr",
        "outputId": "4bd59e95-26b3-4bd4-a2c5-4dc1ad8329ea"
      },
      "execution_count": 20,
      "outputs": [
        {
          "output_type": "stream",
          "name": "stdout",
          "text": [
            "CPU times: user 22.2 ms, sys: 2.05 ms, total: 24.2 ms\n",
            "Wall time: 25.5 ms\n"
          ]
        }
      ]
    },
    {
      "cell_type": "code",
      "source": [
        "from transformers import AdamW, get_linear_schedule_with_warmup\n",
        "\n",
        "from torch.optim import SparseAdam, Adam\n",
        "def initialize_model(epochs=4, version=\"base\"):\n",
        "    \"\"\"Initialize the Bert Classifier, the optimizer and the learning rate scheduler.\n",
        "    \"\"\"\n",
        "    # Instantiate Bert Classifier\n",
        "    bert_classifier = BertClassifier(freeze_bert=False, version=version)\n",
        "    # Tell PyTorch to run the model on GPU\n",
        "    bert_classifier.to(device)\n",
        "\n",
        "    # Create the optimizer\n",
        "    optimizer = torch.optim.AdamW(params=list(bert_classifier.parameters()),\n",
        "                      lr=5e-5,    # Default learning rate\n",
        "                      eps=1e-8    # Default epsilon value\n",
        "                      )\n",
        "\n",
        "    # Total number of training steps\n",
        "    total_steps = len(train_dataloader) * epochs\n",
        "\n",
        "    # Set up the learning rate scheduler\n",
        "    scheduler = get_linear_schedule_with_warmup(optimizer,\n",
        "                                                num_warmup_steps=0, # Default value\n",
        "                                                num_training_steps=total_steps)\n",
        "    return bert_classifier, optimizer, scheduler"
      ],
      "metadata": {
        "id": "z7RwU_UBPHUh"
      },
      "execution_count": 21,
      "outputs": []
    },
    {
      "cell_type": "code",
      "source": [
        "import random\n",
        "import time\n",
        "import torch\n",
        "import torch.nn as nn\n",
        "\n",
        "# Specify loss function\n",
        "loss_fn = nn.CrossEntropyLoss()\n",
        "\n",
        "def set_seed(seed_value=42):\n",
        "    \"\"\"Set seed for reproducibility.\n",
        "    \"\"\"\n",
        "    random.seed(seed_value)\n",
        "    np.random.seed(seed_value)\n",
        "    torch.manual_seed(seed_value)\n",
        "    torch.cuda.manual_seed_all(seed_value)\n",
        "\n",
        "def train(model, train_dataloader, val_dataloader=None, epochs=4, evaluation=False):\n",
        "    \"\"\"Train the BertClassifier model.\n",
        "    \"\"\"\n",
        "    # Start training loop\n",
        "    print(\"Start training...\\n\")\n",
        "    for epoch_i in range(epochs):\n",
        "        # =======================================\n",
        "        #               Training\n",
        "        # =======================================\n",
        "        # Print the header of the result table\n",
        "        print(f\"{'Epoch':^7} | {'Batch':^7} | {'Train Loss':^12} | {'Val Loss':^10} | {'Val Acc':^9} | {'Elapsed':^9}\")\n",
        "        print(\"-\"*70)\n",
        "\n",
        "        # Measure the elapsed time of each epoch\n",
        "        t0_epoch, t0_batch = time.time(), time.time()\n",
        "\n",
        "        # Reset tracking variables at the beginning of each epoch\n",
        "        total_loss, batch_loss, batch_counts = 0, 0, 0\n",
        "\n",
        "        # Put the model into the training mode\n",
        "        model.train()\n",
        "\n",
        "        # For each batch of training data...\n",
        "        for step, batch in enumerate(train_dataloader):\n",
        "            batch_counts +=1\n",
        "            # Load batch to GPU\n",
        "            b_input_ids, b_attn_mask, b_labels = tuple(t.to(device) for t in batch)\n",
        "\n",
        "            # Zero out any previously calculated gradients\n",
        "            model.zero_grad()\n",
        "\n",
        "            # Perform a forward pass. This will return logits.\n",
        "            logits = model(b_input_ids, b_attn_mask)\n",
        "\n",
        "            # Compute loss and accumulate the loss values\n",
        "            loss = loss_fn(logits, b_labels)\n",
        "            batch_loss += loss.item()\n",
        "            total_loss += loss.item()\n",
        "\n",
        "            # Perform a backward pass to calculate gradients\n",
        "            loss.backward()\n",
        "\n",
        "            # Clip the norm of the gradients to 1.0 to prevent \"exploding gradients\"\n",
        "            torch.nn.utils.clip_grad_norm_(model.parameters(), 1.0)\n",
        "\n",
        "            # Update parameters and the learning rate\n",
        "            optimizer.step()\n",
        "            scheduler.step()\n",
        "\n",
        "            # Print the loss values and time elapsed for every 20 batches\n",
        "            if (step % 20 == 0 and step != 0) or (step == len(train_dataloader) - 1):\n",
        "                # Calculate time elapsed for 20 batches\n",
        "                time_elapsed = time.time() - t0_batch\n",
        "\n",
        "                # Print training results\n",
        "                print(f\"{epoch_i + 1:^7} | {step:^7} | {batch_loss / batch_counts:^12.6f} | {'-':^10} | {'-':^9} | {time_elapsed:^9.2f}\")\n",
        "\n",
        "                # Reset batch tracking variables\n",
        "                batch_loss, batch_counts = 0, 0\n",
        "                t0_batch = time.time()\n",
        "\n",
        "        # Calculate the average loss over the entire training data\n",
        "        avg_train_loss = total_loss / len(train_dataloader)\n",
        "\n",
        "        print(\"-\"*70)\n",
        "        # =======================================\n",
        "        #               Evaluation\n",
        "        # =======================================\n",
        "        if evaluation == True:\n",
        "            # After the completion of each training epoch, measure the model's performance\n",
        "            # on our validation set.\n",
        "            val_loss, val_accuracy = evaluate(model, val_dataloader)\n",
        "\n",
        "            # Print performance over the entire training data\n",
        "            time_elapsed = time.time() - t0_epoch\n",
        "            \n",
        "            print(f\"{epoch_i + 1:^7} | {'-':^7} | {avg_train_loss:^12.6f} | {val_loss:^10.6f} | {val_accuracy:^9.2f} | {time_elapsed:^9.2f}\")\n",
        "            print(\"-\"*70)\n",
        "        print(\"\\n\")\n",
        "    \n",
        "    print(\"Training complete!\")\n",
        "\n",
        "def evaluate(model, val_dataloader):\n",
        "    \"\"\"After the completion of each training epoch, measure the model's performance\n",
        "    on our validation set.\n",
        "    \"\"\"\n",
        "    # Put the model into the evaluation mode. The dropout layers are disabled during\n",
        "    # the test time.\n",
        "    model.eval()\n",
        "\n",
        "    # Tracking variables\n",
        "    val_accuracy = []\n",
        "    val_loss = []\n",
        "\n",
        "    # For each batch in our validation set...\n",
        "    for batch in val_dataloader:\n",
        "        # Load batch to GPU\n",
        "        b_input_ids, b_attn_mask, b_labels = tuple(t.to(device) for t in batch)\n",
        "\n",
        "        # Compute logits\n",
        "        with torch.no_grad():\n",
        "            logits = model(b_input_ids, b_attn_mask)\n",
        "\n",
        "        # Compute loss\n",
        "        loss = loss_fn(logits, b_labels)\n",
        "        val_loss.append(loss.item())\n",
        "\n",
        "        # Get the predictions\n",
        "        preds = torch.argmax(logits, dim=1).flatten()\n",
        "\n",
        "        # Calculate the accuracy rate\n",
        "        accuracy = (preds == b_labels).cpu().numpy().mean() * 100\n",
        "        val_accuracy.append(accuracy)\n",
        "\n",
        "       \n",
        "\n",
        "    # Compute the average accuracy and loss over the validation set.\n",
        "    val_loss = np.mean(val_loss)\n",
        "    val_accuracy = np.mean(val_accuracy)\n",
        "\n",
        "    return val_loss, val_accuracy"
      ],
      "metadata": {
        "id": "DwlxCFVUPHXN"
      },
      "execution_count": 22,
      "outputs": []
    },
    {
      "cell_type": "code",
      "source": [
        "set_seed(42) \n",
        "bert_classifier, optimizer, scheduler = initialize_model(epochs=2, version=\"base\")\n",
        "train(bert_classifier, train_dataloader, val_dataloader, epochs=2, evaluation=True)"
      ],
      "metadata": {
        "id": "I0K_YbfyO1TR",
        "colab": {
          "base_uri": "https://localhost:8080/",
          "height": 1000,
          "referenced_widgets": [
            "912a1e9685bc46c195274ed746a2ed9d",
            "863dab92d7a34c5fb4ab7bfaa0ba493b",
            "8518569de35d488882945bfc8a138d2c",
            "d34d183e57b04318b833d32a91f9eb31",
            "afe39b7463f541e88840af1f81b65455",
            "bd4c55778c074bc9b67abe38689813f7",
            "a4e222fe57cd401ba465cb6b78046048",
            "7c9cb86312d844569e4cb6bc575c3684",
            "4ee4b97a0626496ba39d2cb374654bc1",
            "f243e21f339140bea1d02696d9ca6606",
            "a59b9293185242afbadd13869a352f44"
          ]
        },
        "outputId": "1dbd6231-fed6-417b-d0ae-9ae65d43976b"
      },
      "execution_count": 23,
      "outputs": [
        {
          "output_type": "display_data",
          "data": {
            "application/vnd.jupyter.widget-view+json": {
              "model_id": "912a1e9685bc46c195274ed746a2ed9d",
              "version_minor": 0,
              "version_major": 2
            },
            "text/plain": [
              "Downloading:   0%|          | 0.00/255M [00:00<?, ?B/s]"
            ]
          },
          "metadata": {}
        },
        {
          "output_type": "stream",
          "name": "stderr",
          "text": [
            "Some weights of the model checkpoint at bhadresh-savani/distilbert-base-uncased-emotion were not used when initializing DistilBertModel: ['pre_classifier.bias', 'classifier.bias', 'classifier.weight', 'pre_classifier.weight']\n",
            "- This IS expected if you are initializing DistilBertModel from the checkpoint of a model trained on another task or with another architecture (e.g. initializing a BertForSequenceClassification model from a BertForPreTraining model).\n",
            "- This IS NOT expected if you are initializing DistilBertModel from the checkpoint of a model that you expect to be exactly identical (initializing a BertForSequenceClassification model from a BertForSequenceClassification model).\n"
          ]
        },
        {
          "output_type": "stream",
          "name": "stdout",
          "text": [
            "Start training...\n",
            "\n",
            " Epoch  |  Batch  |  Train Loss  |  Val Loss  |  Val Acc  |  Elapsed \n",
            "----------------------------------------------------------------------\n",
            "   1    |   20    |   0.593769   |     -      |     -     |   7.65   \n",
            "   1    |   40    |   0.522730   |     -      |     -     |   7.25   \n",
            "   1    |   60    |   0.543699   |     -      |     -     |   7.32   \n",
            "   1    |   80    |   0.432104   |     -      |     -     |   7.34   \n",
            "   1    |   100   |   0.438155   |     -      |     -     |   7.40   \n",
            "   1    |   120   |   0.350991   |     -      |     -     |   7.49   \n",
            "   1    |   140   |   0.372519   |     -      |     -     |   7.56   \n",
            "   1    |   160   |   0.429078   |     -      |     -     |   7.66   \n",
            "   1    |   180   |   0.443081   |     -      |     -     |   7.76   \n",
            "   1    |   200   |   0.362310   |     -      |     -     |   7.84   \n",
            "   1    |   220   |   0.420652   |     -      |     -     |   7.93   \n",
            "   1    |   240   |   0.430064   |     -      |     -     |   8.26   \n",
            "   1    |   260   |   0.378893   |     -      |     -     |   8.13   \n",
            "   1    |   280   |   0.385528   |     -      |     -     |   8.22   \n",
            "   1    |   300   |   0.383783   |     -      |     -     |   8.33   \n",
            "   1    |   320   |   0.355564   |     -      |     -     |   8.35   \n",
            "   1    |   340   |   0.343778   |     -      |     -     |   8.21   \n",
            "   1    |   360   |   0.354176   |     -      |     -     |   8.12   \n",
            "   1    |   380   |   0.305230   |     -      |     -     |   8.12   \n",
            "   1    |   400   |   0.264953   |     -      |     -     |   8.12   \n",
            "   1    |   420   |   0.454621   |     -      |     -     |   8.11   \n",
            "   1    |   440   |   0.329141   |     -      |     -     |   8.10   \n",
            "   1    |   460   |   0.321509   |     -      |     -     |   8.14   \n",
            "   1    |   480   |   0.278919   |     -      |     -     |   8.14   \n",
            "   1    |   500   |   0.275541   |     -      |     -     |   8.17   \n",
            "   1    |   520   |   0.323131   |     -      |     -     |   8.17   \n",
            "   1    |   540   |   0.312346   |     -      |     -     |   8.12   \n",
            "   1    |   560   |   0.326356   |     -      |     -     |   8.13   \n",
            "   1    |   580   |   0.293462   |     -      |     -     |   8.11   \n",
            "   1    |   600   |   0.251974   |     -      |     -     |   8.14   \n",
            "   1    |   620   |   0.282069   |     -      |     -     |   8.12   \n",
            "   1    |   640   |   0.323955   |     -      |     -     |   8.13   \n",
            "   1    |   660   |   0.260222   |     -      |     -     |   8.14   \n",
            "   1    |   680   |   0.271245   |     -      |     -     |   8.21   \n",
            "   1    |   700   |   0.293016   |     -      |     -     |   8.43   \n",
            "   1    |   720   |   0.272944   |     -      |     -     |   8.16   \n",
            "   1    |   740   |   0.264295   |     -      |     -     |   8.11   \n",
            "   1    |   760   |   0.279656   |     -      |     -     |   8.12   \n",
            "   1    |   780   |   0.210127   |     -      |     -     |   8.14   \n",
            "   1    |   800   |   0.253655   |     -      |     -     |   8.15   \n",
            "   1    |   820   |   0.381502   |     -      |     -     |   8.14   \n",
            "   1    |   840   |   0.264440   |     -      |     -     |   8.48   \n",
            "   1    |   860   |   0.318570   |     -      |     -     |   8.39   \n",
            "   1    |   880   |   0.220201   |     -      |     -     |   8.22   \n",
            "   1    |   900   |   0.310779   |     -      |     -     |   8.29   \n",
            "   1    |   920   |   0.275716   |     -      |     -     |   8.12   \n",
            "   1    |   940   |   0.211543   |     -      |     -     |   8.13   \n",
            "   1    |   960   |   0.380251   |     -      |     -     |   8.12   \n",
            "   1    |   980   |   0.225648   |     -      |     -     |   8.13   \n",
            "   1    |  1000   |   0.177308   |     -      |     -     |   8.13   \n",
            "   1    |  1020   |   0.280032   |     -      |     -     |   8.12   \n",
            "   1    |  1040   |   0.224678   |     -      |     -     |   8.12   \n",
            "   1    |  1060   |   0.252613   |     -      |     -     |   8.12   \n",
            "   1    |  1080   |   0.355597   |     -      |     -     |   8.12   \n",
            "   1    |  1100   |   0.233610   |     -      |     -     |   8.26   \n",
            "   1    |  1120   |   0.236047   |     -      |     -     |   8.14   \n",
            "   1    |  1140   |   0.239496   |     -      |     -     |   8.13   \n",
            "   1    |  1160   |   0.300843   |     -      |     -     |   8.17   \n",
            "   1    |  1180   |   0.228242   |     -      |     -     |   8.36   \n",
            "   1    |  1200   |   0.225931   |     -      |     -     |   8.25   \n",
            "   1    |  1220   |   0.181373   |     -      |     -     |   8.25   \n",
            "   1    |  1240   |   0.207406   |     -      |     -     |   8.12   \n",
            "   1    |  1260   |   0.192515   |     -      |     -     |   8.12   \n",
            "   1    |  1280   |   0.259922   |     -      |     -     |   8.13   \n",
            "   1    |  1300   |   0.285089   |     -      |     -     |   8.13   \n",
            "   1    |  1320   |   0.287412   |     -      |     -     |   8.11   \n",
            "   1    |  1340   |   0.226740   |     -      |     -     |   8.12   \n",
            "   1    |  1360   |   0.208813   |     -      |     -     |   8.12   \n",
            "   1    |  1380   |   0.240055   |     -      |     -     |   8.12   \n",
            "   1    |  1400   |   0.258616   |     -      |     -     |   8.14   \n",
            "   1    |  1420   |   0.216857   |     -      |     -     |   8.12   \n",
            "   1    |  1440   |   0.239299   |     -      |     -     |   8.13   \n",
            "   1    |  1460   |   0.239265   |     -      |     -     |   8.14   \n",
            "   1    |  1480   |   0.307761   |     -      |     -     |   8.13   \n",
            "   1    |  1500   |   0.225829   |     -      |     -     |   8.12   \n",
            "   1    |  1520   |   0.231118   |     -      |     -     |   8.13   \n",
            "   1    |  1540   |   0.237776   |     -      |     -     |   8.11   \n",
            "   1    |  1560   |   0.240732   |     -      |     -     |   8.12   \n",
            "   1    |  1580   |   0.193979   |     -      |     -     |   8.12   \n",
            "   1    |  1600   |   0.241681   |     -      |     -     |   8.13   \n",
            "   1    |  1620   |   0.281020   |     -      |     -     |   8.13   \n",
            "   1    |  1640   |   0.158006   |     -      |     -     |   8.13   \n",
            "   1    |  1660   |   0.231885   |     -      |     -     |   8.12   \n",
            "   1    |  1680   |   0.246753   |     -      |     -     |   8.16   \n",
            "   1    |  1700   |   0.200862   |     -      |     -     |   8.24   \n",
            "   1    |  1720   |   0.165513   |     -      |     -     |   8.10   \n",
            "   1    |  1740   |   0.311786   |     -      |     -     |   8.12   \n",
            "   1    |  1760   |   0.248396   |     -      |     -     |   8.12   \n",
            "   1    |  1780   |   0.213081   |     -      |     -     |   8.15   \n",
            "   1    |  1800   |   0.204228   |     -      |     -     |   8.14   \n",
            "   1    |  1820   |   0.193220   |     -      |     -     |   8.12   \n",
            "   1    |  1840   |   0.290998   |     -      |     -     |   8.12   \n",
            "   1    |  1860   |   0.180651   |     -      |     -     |   8.12   \n",
            "   1    |  1880   |   0.209152   |     -      |     -     |   8.12   \n",
            "   1    |  1900   |   0.180886   |     -      |     -     |   8.12   \n",
            "   1    |  1920   |   0.175596   |     -      |     -     |   8.13   \n",
            "   1    |  1940   |   0.241328   |     -      |     -     |   8.13   \n",
            "   1    |  1960   |   0.219129   |     -      |     -     |   8.26   \n",
            "   1    |  1980   |   0.190315   |     -      |     -     |   8.12   \n",
            "   1    |  2000   |   0.210733   |     -      |     -     |   8.13   \n",
            "   1    |  2020   |   0.271690   |     -      |     -     |   8.12   \n",
            "   1    |  2040   |   0.244177   |     -      |     -     |   8.12   \n",
            "   1    |  2060   |   0.252996   |     -      |     -     |   8.11   \n",
            "   1    |  2080   |   0.239358   |     -      |     -     |   8.11   \n",
            "   1    |  2100   |   0.156475   |     -      |     -     |   8.12   \n",
            "   1    |  2120   |   0.188643   |     -      |     -     |   8.15   \n",
            "   1    |  2140   |   0.150620   |     -      |     -     |   8.13   \n",
            "   1    |  2160   |   0.203634   |     -      |     -     |   8.13   \n",
            "   1    |  2180   |   0.216720   |     -      |     -     |   8.11   \n",
            "   1    |  2200   |   0.234943   |     -      |     -     |   8.12   \n",
            "   1    |  2220   |   0.182155   |     -      |     -     |   8.21   \n",
            "   1    |  2240   |   0.189821   |     -      |     -     |   8.12   \n",
            "   1    |  2260   |   0.209884   |     -      |     -     |   8.12   \n",
            "   1    |  2280   |   0.226743   |     -      |     -     |   8.13   \n",
            "   1    |  2300   |   0.235297   |     -      |     -     |   8.13   \n",
            "   1    |  2320   |   0.183067   |     -      |     -     |   8.12   \n",
            "   1    |  2340   |   0.226603   |     -      |     -     |   8.12   \n",
            "   1    |  2360   |   0.188705   |     -      |     -     |   8.12   \n",
            "   1    |  2380   |   0.180366   |     -      |     -     |   8.13   \n",
            "   1    |  2400   |   0.283213   |     -      |     -     |   8.11   \n",
            "   1    |  2420   |   0.204207   |     -      |     -     |   8.12   \n",
            "   1    |  2440   |   0.153138   |     -      |     -     |   8.13   \n",
            "   1    |  2460   |   0.125831   |     -      |     -     |   8.14   \n",
            "   1    |  2480   |   0.170564   |     -      |     -     |   8.18   \n",
            "   1    |  2500   |   0.193787   |     -      |     -     |   8.13   \n",
            "   1    |  2520   |   0.227224   |     -      |     -     |   8.11   \n",
            "   1    |  2540   |   0.221299   |     -      |     -     |   8.13   \n",
            "   1    |  2560   |   0.282340   |     -      |     -     |   8.12   \n",
            "   1    |  2580   |   0.235172   |     -      |     -     |   8.13   \n",
            "   1    |  2600   |   0.185852   |     -      |     -     |   8.11   \n",
            "   1    |  2620   |   0.159072   |     -      |     -     |   8.13   \n",
            "   1    |  2640   |   0.140652   |     -      |     -     |   8.13   \n",
            "   1    |  2660   |   0.163650   |     -      |     -     |   8.12   \n",
            "   1    |  2680   |   0.208209   |     -      |     -     |   8.12   \n",
            "   1    |  2700   |   0.240317   |     -      |     -     |   8.12   \n",
            "   1    |  2720   |   0.182590   |     -      |     -     |   8.12   \n",
            "   1    |  2740   |   0.166147   |     -      |     -     |   8.12   \n",
            "   1    |  2760   |   0.249779   |     -      |     -     |   8.13   \n",
            "   1    |  2780   |   0.204781   |     -      |     -     |   8.14   \n",
            "   1    |  2800   |   0.195596   |     -      |     -     |   8.14   \n",
            "   1    |  2820   |   0.173120   |     -      |     -     |   8.12   \n",
            "   1    |  2840   |   0.178273   |     -      |     -     |   8.12   \n",
            "   1    |  2860   |   0.273207   |     -      |     -     |   8.11   \n",
            "   1    |  2880   |   0.212937   |     -      |     -     |   8.12   \n",
            "   1    |  2900   |   0.155105   |     -      |     -     |   8.13   \n",
            "   1    |  2920   |   0.207108   |     -      |     -     |   8.12   \n",
            "   1    |  2940   |   0.188620   |     -      |     -     |   8.13   \n",
            "   1    |  2960   |   0.225429   |     -      |     -     |   8.14   \n",
            "   1    |  2980   |   0.183432   |     -      |     -     |   8.12   \n",
            "   1    |  3000   |   0.168170   |     -      |     -     |   8.12   \n",
            "   1    |  3020   |   0.236209   |     -      |     -     |   8.13   \n",
            "   1    |  3040   |   0.176533   |     -      |     -     |   8.15   \n",
            "   1    |  3060   |   0.210822   |     -      |     -     |   8.20   \n",
            "   1    |  3080   |   0.171399   |     -      |     -     |   8.12   \n",
            "   1    |  3100   |   0.225745   |     -      |     -     |   8.13   \n",
            "   1    |  3120   |   0.183224   |     -      |     -     |   8.14   \n",
            "   1    |  3140   |   0.162656   |     -      |     -     |   8.13   \n",
            "   1    |  3160   |   0.188232   |     -      |     -     |   8.13   \n",
            "   1    |  3180   |   0.178818   |     -      |     -     |   8.14   \n",
            "   1    |  3200   |   0.200695   |     -      |     -     |   8.11   \n",
            "   1    |  3220   |   0.133203   |     -      |     -     |   8.12   \n",
            "   1    |  3240   |   0.157738   |     -      |     -     |   8.13   \n",
            "   1    |  3260   |   0.217228   |     -      |     -     |   8.12   \n",
            "   1    |  3280   |   0.244038   |     -      |     -     |   8.13   \n",
            "   1    |  3300   |   0.129947   |     -      |     -     |   8.38   \n",
            "   1    |  3320   |   0.262765   |     -      |     -     |   8.19   \n",
            "   1    |  3340   |   0.212849   |     -      |     -     |   8.13   \n",
            "   1    |  3360   |   0.211908   |     -      |     -     |   8.12   \n",
            "   1    |  3380   |   0.226169   |     -      |     -     |   8.12   \n",
            "   1    |  3400   |   0.157688   |     -      |     -     |   8.12   \n",
            "   1    |  3420   |   0.203266   |     -      |     -     |   8.12   \n",
            "   1    |  3440   |   0.204016   |     -      |     -     |   8.14   \n",
            "   1    |  3460   |   0.242334   |     -      |     -     |   8.14   \n",
            "   1    |  3480   |   0.136629   |     -      |     -     |   8.39   \n",
            "   1    |  3500   |   0.185005   |     -      |     -     |   8.19   \n",
            "   1    |  3520   |   0.238102   |     -      |     -     |   8.12   \n",
            "   1    |  3540   |   0.185005   |     -      |     -     |   8.11   \n",
            "   1    |  3560   |   0.160219   |     -      |     -     |   8.14   \n",
            "   1    |  3580   |   0.126653   |     -      |     -     |   8.11   \n",
            "   1    |  3600   |   0.149221   |     -      |     -     |   8.13   \n",
            "   1    |  3620   |   0.175275   |     -      |     -     |   8.14   \n",
            "   1    |  3640   |   0.184114   |     -      |     -     |   8.13   \n",
            "   1    |  3660   |   0.219363   |     -      |     -     |   8.12   \n",
            "   1    |  3680   |   0.167324   |     -      |     -     |   8.12   \n",
            "   1    |  3700   |   0.195246   |     -      |     -     |   8.13   \n",
            "   1    |  3720   |   0.165462   |     -      |     -     |   8.12   \n",
            "   1    |  3740   |   0.138821   |     -      |     -     |   8.19   \n",
            "   1    |  3760   |   0.224854   |     -      |     -     |   8.13   \n",
            "   1    |  3780   |   0.211839   |     -      |     -     |   8.13   \n",
            "   1    |  3800   |   0.192249   |     -      |     -     |   8.13   \n",
            "   1    |  3820   |   0.133338   |     -      |     -     |   8.12   \n",
            "   1    |  3840   |   0.157649   |     -      |     -     |   8.12   \n",
            "   1    |  3860   |   0.194282   |     -      |     -     |   8.12   \n",
            "   1    |  3880   |   0.147702   |     -      |     -     |   8.12   \n",
            "   1    |  3900   |   0.227853   |     -      |     -     |   8.12   \n",
            "   1    |  3920   |   0.180358   |     -      |     -     |   8.13   \n",
            "   1    |  3940   |   0.169912   |     -      |     -     |   8.13   \n",
            "   1    |  3950   |   0.163048   |     -      |     -     |   4.07   \n",
            "----------------------------------------------------------------------\n",
            "   1    |    -    |   0.240263   |  0.158440  |   94.43   |  1670.24 \n",
            "----------------------------------------------------------------------\n",
            "\n",
            "\n",
            " Epoch  |  Batch  |  Train Loss  |  Val Loss  |  Val Acc  |  Elapsed \n",
            "----------------------------------------------------------------------\n",
            "   2    |   20    |   0.085251   |     -      |     -     |   8.52   \n",
            "   2    |   40    |   0.127901   |     -      |     -     |   8.20   \n",
            "   2    |   60    |   0.115260   |     -      |     -     |   8.14   \n",
            "   2    |   80    |   0.167108   |     -      |     -     |   8.13   \n",
            "   2    |   100   |   0.126221   |     -      |     -     |   8.14   \n",
            "   2    |   120   |   0.190132   |     -      |     -     |   8.12   \n",
            "   2    |   140   |   0.156246   |     -      |     -     |   8.13   \n",
            "   2    |   160   |   0.140766   |     -      |     -     |   8.14   \n",
            "   2    |   180   |   0.111416   |     -      |     -     |   8.13   \n",
            "   2    |   200   |   0.130074   |     -      |     -     |   8.15   \n",
            "   2    |   220   |   0.096251   |     -      |     -     |   8.15   \n",
            "   2    |   240   |   0.147839   |     -      |     -     |   8.12   \n",
            "   2    |   260   |   0.098366   |     -      |     -     |   8.12   \n",
            "   2    |   280   |   0.160427   |     -      |     -     |   8.12   \n",
            "   2    |   300   |   0.140587   |     -      |     -     |   8.14   \n",
            "   2    |   320   |   0.116597   |     -      |     -     |   8.14   \n",
            "   2    |   340   |   0.133766   |     -      |     -     |   8.14   \n",
            "   2    |   360   |   0.221167   |     -      |     -     |   8.13   \n",
            "   2    |   380   |   0.099129   |     -      |     -     |   8.11   \n",
            "   2    |   400   |   0.079904   |     -      |     -     |   8.13   \n",
            "   2    |   420   |   0.141945   |     -      |     -     |   8.11   \n",
            "   2    |   440   |   0.148319   |     -      |     -     |   8.12   \n",
            "   2    |   460   |   0.140805   |     -      |     -     |   8.14   \n",
            "   2    |   480   |   0.109172   |     -      |     -     |   8.13   \n",
            "   2    |   500   |   0.099104   |     -      |     -     |   8.13   \n",
            "   2    |   520   |   0.115084   |     -      |     -     |   8.13   \n",
            "   2    |   540   |   0.174517   |     -      |     -     |   8.12   \n",
            "   2    |   560   |   0.129899   |     -      |     -     |   8.12   \n",
            "   2    |   580   |   0.137645   |     -      |     -     |   8.12   \n",
            "   2    |   600   |   0.151287   |     -      |     -     |   8.12   \n",
            "   2    |   620   |   0.158271   |     -      |     -     |   8.13   \n",
            "   2    |   640   |   0.109013   |     -      |     -     |   8.12   \n",
            "   2    |   660   |   0.139627   |     -      |     -     |   8.13   \n",
            "   2    |   680   |   0.105808   |     -      |     -     |   8.12   \n",
            "   2    |   700   |   0.064311   |     -      |     -     |   8.12   \n",
            "   2    |   720   |   0.129113   |     -      |     -     |   8.12   \n",
            "   2    |   740   |   0.104671   |     -      |     -     |   8.12   \n",
            "   2    |   760   |   0.117356   |     -      |     -     |   8.11   \n",
            "   2    |   780   |   0.154663   |     -      |     -     |   8.12   \n",
            "   2    |   800   |   0.097090   |     -      |     -     |   8.12   \n",
            "   2    |   820   |   0.095574   |     -      |     -     |   8.14   \n",
            "   2    |   840   |   0.099105   |     -      |     -     |   8.14   \n",
            "   2    |   860   |   0.146696   |     -      |     -     |   8.11   \n",
            "   2    |   880   |   0.088594   |     -      |     -     |   8.12   \n",
            "   2    |   900   |   0.232703   |     -      |     -     |   8.12   \n",
            "   2    |   920   |   0.086828   |     -      |     -     |   8.12   \n",
            "   2    |   940   |   0.144223   |     -      |     -     |   8.12   \n",
            "   2    |   960   |   0.126310   |     -      |     -     |   8.12   \n",
            "   2    |   980   |   0.114276   |     -      |     -     |   8.14   \n",
            "   2    |  1000   |   0.093388   |     -      |     -     |   8.14   \n",
            "   2    |  1020   |   0.123043   |     -      |     -     |   8.13   \n",
            "   2    |  1040   |   0.133164   |     -      |     -     |   8.12   \n",
            "   2    |  1060   |   0.129029   |     -      |     -     |   8.14   \n",
            "   2    |  1080   |   0.177643   |     -      |     -     |   8.12   \n",
            "   2    |  1100   |   0.092638   |     -      |     -     |   8.12   \n",
            "   2    |  1120   |   0.177568   |     -      |     -     |   8.12   \n",
            "   2    |  1140   |   0.095962   |     -      |     -     |   8.13   \n",
            "   2    |  1160   |   0.153017   |     -      |     -     |   8.14   \n",
            "   2    |  1180   |   0.053253   |     -      |     -     |   8.13   \n",
            "   2    |  1200   |   0.067211   |     -      |     -     |   8.13   \n",
            "   2    |  1220   |   0.075800   |     -      |     -     |   8.12   \n",
            "   2    |  1240   |   0.091884   |     -      |     -     |   8.12   \n",
            "   2    |  1260   |   0.116406   |     -      |     -     |   8.12   \n",
            "   2    |  1280   |   0.086982   |     -      |     -     |   8.12   \n",
            "   2    |  1300   |   0.084283   |     -      |     -     |   8.13   \n",
            "   2    |  1320   |   0.099296   |     -      |     -     |   8.12   \n",
            "   2    |  1340   |   0.111690   |     -      |     -     |   8.13   \n",
            "   2    |  1360   |   0.119394   |     -      |     -     |   8.12   \n",
            "   2    |  1380   |   0.137668   |     -      |     -     |   8.12   \n",
            "   2    |  1400   |   0.096238   |     -      |     -     |   8.11   \n",
            "   2    |  1420   |   0.099753   |     -      |     -     |   8.13   \n",
            "   2    |  1440   |   0.174957   |     -      |     -     |   8.14   \n",
            "   2    |  1460   |   0.161428   |     -      |     -     |   8.14   \n",
            "   2    |  1480   |   0.118244   |     -      |     -     |   8.13   \n",
            "   2    |  1500   |   0.160889   |     -      |     -     |   8.13   \n",
            "   2    |  1520   |   0.093601   |     -      |     -     |   8.12   \n",
            "   2    |  1540   |   0.082909   |     -      |     -     |   8.13   \n",
            "   2    |  1560   |   0.103953   |     -      |     -     |   8.12   \n",
            "   2    |  1580   |   0.119632   |     -      |     -     |   8.12   \n",
            "   2    |  1600   |   0.119957   |     -      |     -     |   8.12   \n",
            "   2    |  1620   |   0.139139   |     -      |     -     |   8.12   \n",
            "   2    |  1640   |   0.117192   |     -      |     -     |   8.12   \n",
            "   2    |  1660   |   0.121261   |     -      |     -     |   8.14   \n",
            "   2    |  1680   |   0.115045   |     -      |     -     |   8.14   \n",
            "   2    |  1700   |   0.115925   |     -      |     -     |   8.12   \n",
            "   2    |  1720   |   0.156565   |     -      |     -     |   8.11   \n",
            "   2    |  1740   |   0.138209   |     -      |     -     |   8.12   \n",
            "   2    |  1760   |   0.114904   |     -      |     -     |   8.13   \n",
            "   2    |  1780   |   0.118061   |     -      |     -     |   8.12   \n",
            "   2    |  1800   |   0.133285   |     -      |     -     |   8.12   \n",
            "   2    |  1820   |   0.092194   |     -      |     -     |   8.13   \n",
            "   2    |  1840   |   0.073963   |     -      |     -     |   8.12   \n",
            "   2    |  1860   |   0.065411   |     -      |     -     |   8.13   \n",
            "   2    |  1880   |   0.110706   |     -      |     -     |   8.11   \n",
            "   2    |  1900   |   0.125974   |     -      |     -     |   8.12   \n",
            "   2    |  1920   |   0.085416   |     -      |     -     |   8.12   \n",
            "   2    |  1940   |   0.112704   |     -      |     -     |   8.12   \n",
            "   2    |  1960   |   0.150120   |     -      |     -     |   8.11   \n",
            "   2    |  1980   |   0.200057   |     -      |     -     |   8.14   \n",
            "   2    |  2000   |   0.095401   |     -      |     -     |   8.14   \n",
            "   2    |  2020   |   0.067376   |     -      |     -     |   8.13   \n",
            "   2    |  2040   |   0.058876   |     -      |     -     |   8.11   \n",
            "   2    |  2060   |   0.058775   |     -      |     -     |   8.12   \n",
            "   2    |  2080   |   0.086311   |     -      |     -     |   8.13   \n",
            "   2    |  2100   |   0.139127   |     -      |     -     |   8.12   \n",
            "   2    |  2120   |   0.090350   |     -      |     -     |   8.12   \n",
            "   2    |  2140   |   0.088742   |     -      |     -     |   8.12   \n",
            "   2    |  2160   |   0.095791   |     -      |     -     |   8.13   \n",
            "   2    |  2180   |   0.115807   |     -      |     -     |   8.13   \n",
            "   2    |  2200   |   0.117390   |     -      |     -     |   8.12   \n",
            "   2    |  2220   |   0.228766   |     -      |     -     |   8.12   \n",
            "   2    |  2240   |   0.094092   |     -      |     -     |   8.12   \n",
            "   2    |  2260   |   0.083774   |     -      |     -     |   8.12   \n",
            "   2    |  2280   |   0.146797   |     -      |     -     |   8.11   \n",
            "   2    |  2300   |   0.188415   |     -      |     -     |   8.12   \n",
            "   2    |  2320   |   0.160178   |     -      |     -     |   8.14   \n",
            "   2    |  2340   |   0.094053   |     -      |     -     |   8.14   \n",
            "   2    |  2360   |   0.108962   |     -      |     -     |   8.12   \n",
            "   2    |  2380   |   0.129817   |     -      |     -     |   8.12   \n",
            "   2    |  2400   |   0.067144   |     -      |     -     |   8.11   \n",
            "   2    |  2420   |   0.121288   |     -      |     -     |   8.12   \n",
            "   2    |  2440   |   0.106168   |     -      |     -     |   8.13   \n",
            "   2    |  2460   |   0.069539   |     -      |     -     |   8.12   \n",
            "   2    |  2480   |   0.090756   |     -      |     -     |   8.12   \n",
            "   2    |  2500   |   0.122946   |     -      |     -     |   8.13   \n",
            "   2    |  2520   |   0.055661   |     -      |     -     |   8.13   \n",
            "   2    |  2540   |   0.083875   |     -      |     -     |   8.12   \n",
            "   2    |  2560   |   0.190722   |     -      |     -     |   8.12   \n",
            "   2    |  2580   |   0.134100   |     -      |     -     |   8.13   \n",
            "   2    |  2600   |   0.064278   |     -      |     -     |   8.12   \n",
            "   2    |  2620   |   0.110237   |     -      |     -     |   8.12   \n",
            "   2    |  2640   |   0.138041   |     -      |     -     |   8.12   \n",
            "   2    |  2660   |   0.157491   |     -      |     -     |   8.12   \n",
            "   2    |  2680   |   0.110464   |     -      |     -     |   8.14   \n",
            "   2    |  2700   |   0.099571   |     -      |     -     |   8.11   \n",
            "   2    |  2720   |   0.080171   |     -      |     -     |   8.13   \n",
            "   2    |  2740   |   0.138178   |     -      |     -     |   8.11   \n",
            "   2    |  2760   |   0.128139   |     -      |     -     |   8.12   \n",
            "   2    |  2780   |   0.137213   |     -      |     -     |   8.12   \n",
            "   2    |  2800   |   0.127422   |     -      |     -     |   8.13   \n",
            "   2    |  2820   |   0.083937   |     -      |     -     |   8.12   \n",
            "   2    |  2840   |   0.086861   |     -      |     -     |   8.14   \n",
            "   2    |  2860   |   0.066651   |     -      |     -     |   8.15   \n",
            "   2    |  2880   |   0.117267   |     -      |     -     |   8.14   \n",
            "   2    |  2900   |   0.146229   |     -      |     -     |   8.14   \n",
            "   2    |  2920   |   0.085168   |     -      |     -     |   8.12   \n",
            "   2    |  2940   |   0.106811   |     -      |     -     |   8.13   \n",
            "   2    |  2960   |   0.106605   |     -      |     -     |   8.14   \n",
            "   2    |  2980   |   0.071408   |     -      |     -     |   8.13   \n",
            "   2    |  3000   |   0.078119   |     -      |     -     |   8.14   \n",
            "   2    |  3020   |   0.103618   |     -      |     -     |   8.13   \n",
            "   2    |  3040   |   0.106573   |     -      |     -     |   8.12   \n",
            "   2    |  3060   |   0.107084   |     -      |     -     |   8.13   \n",
            "   2    |  3080   |   0.077405   |     -      |     -     |   8.12   \n",
            "   2    |  3100   |   0.083766   |     -      |     -     |   8.12   \n",
            "   2    |  3120   |   0.134021   |     -      |     -     |   8.12   \n",
            "   2    |  3140   |   0.125293   |     -      |     -     |   8.12   \n",
            "   2    |  3160   |   0.103647   |     -      |     -     |   8.13   \n",
            "   2    |  3180   |   0.058349   |     -      |     -     |   8.13   \n",
            "   2    |  3200   |   0.146708   |     -      |     -     |   8.13   \n",
            "   2    |  3220   |   0.066946   |     -      |     -     |   8.12   \n",
            "   2    |  3240   |   0.126528   |     -      |     -     |   8.13   \n",
            "   2    |  3260   |   0.069166   |     -      |     -     |   8.11   \n",
            "   2    |  3280   |   0.049570   |     -      |     -     |   8.11   \n",
            "   2    |  3300   |   0.162066   |     -      |     -     |   8.12   \n",
            "   2    |  3320   |   0.078894   |     -      |     -     |   8.13   \n",
            "   2    |  3340   |   0.054071   |     -      |     -     |   8.14   \n",
            "   2    |  3360   |   0.141183   |     -      |     -     |   8.12   \n",
            "   2    |  3380   |   0.080408   |     -      |     -     |   8.12   \n",
            "   2    |  3400   |   0.149647   |     -      |     -     |   8.13   \n",
            "   2    |  3420   |   0.127993   |     -      |     -     |   8.12   \n",
            "   2    |  3440   |   0.104436   |     -      |     -     |   8.12   \n",
            "   2    |  3460   |   0.112829   |     -      |     -     |   8.13   \n",
            "   2    |  3480   |   0.098477   |     -      |     -     |   8.12   \n",
            "   2    |  3500   |   0.104380   |     -      |     -     |   8.13   \n",
            "   2    |  3520   |   0.127373   |     -      |     -     |   8.12   \n",
            "   2    |  3540   |   0.077744   |     -      |     -     |   8.13   \n",
            "   2    |  3560   |   0.094215   |     -      |     -     |   8.11   \n",
            "   2    |  3580   |   0.100028   |     -      |     -     |   8.13   \n",
            "   2    |  3600   |   0.152116   |     -      |     -     |   8.12   \n",
            "   2    |  3620   |   0.090722   |     -      |     -     |   8.11   \n",
            "   2    |  3640   |   0.054274   |     -      |     -     |   8.13   \n",
            "   2    |  3660   |   0.105260   |     -      |     -     |   8.13   \n",
            "   2    |  3680   |   0.097661   |     -      |     -     |   8.13   \n",
            "   2    |  3700   |   0.077877   |     -      |     -     |   8.12   \n",
            "   2    |  3720   |   0.123934   |     -      |     -     |   8.12   \n",
            "   2    |  3740   |   0.094790   |     -      |     -     |   8.11   \n",
            "   2    |  3760   |   0.122426   |     -      |     -     |   8.12   \n",
            "   2    |  3780   |   0.097952   |     -      |     -     |   8.12   \n",
            "   2    |  3800   |   0.107362   |     -      |     -     |   8.12   \n",
            "   2    |  3820   |   0.056135   |     -      |     -     |   8.13   \n",
            "   2    |  3840   |   0.166621   |     -      |     -     |   8.14   \n",
            "   2    |  3860   |   0.147941   |     -      |     -     |   8.13   \n",
            "   2    |  3880   |   0.125205   |     -      |     -     |   8.11   \n",
            "   2    |  3900   |   0.117575   |     -      |     -     |   8.13   \n",
            "   2    |  3920   |   0.057927   |     -      |     -     |   8.11   \n",
            "   2    |  3940   |   0.078603   |     -      |     -     |   8.11   \n",
            "   2    |  3950   |   0.160884   |     -      |     -     |   4.06   \n",
            "----------------------------------------------------------------------\n",
            "   2    |    -    |   0.114433   |  0.177753  |   95.40   |  1672.78 \n",
            "----------------------------------------------------------------------\n",
            "\n",
            "\n",
            "Training complete!\n"
          ]
        }
      ]
    },
    {
      "cell_type": "code",
      "source": [
        "import pickle\n",
        "filename = 'trained-distilbert-base-uncased-emotion-without-emoji-BiGRU_df3.sav'\n",
        "pickle.dump(bert_classifier, open(filename, 'wb'))"
      ],
      "metadata": {
        "id": "Pi0d0Im5QxvH"
      },
      "execution_count": 24,
      "outputs": []
    },
    {
      "cell_type": "code",
      "source": [
        "# # Loading the model (to avoid retraining in reruns)\n",
        "\n",
        "# import pickle\n",
        "# filename = 'trained-distilbert-base-uncased-emotion-without-emoji-BiGRU.sav'\n",
        "# f = open(filename, 'rb')\n",
        "# bert_classifier = pickle.load(f)"
      ],
      "metadata": {
        "id": "ViJTcViK2a59"
      },
      "execution_count": null,
      "outputs": []
    },
    {
      "cell_type": "code",
      "source": [
        "import torch.nn.functional as F\n",
        "\n",
        "def bert_predict(model, test_dataloader):\n",
        "    \"\"\"Perform a forward pass on the trained BERT model to predict probabilities\n",
        "    on the test set.\n",
        "    \"\"\"\n",
        "    # Put the model into the evaluation mode. The dropout layers are disabled during\n",
        "    # the test time.\n",
        "    model.eval()\n",
        "\n",
        "    all_logits = []\n",
        "\n",
        "    # For each batch in our test set...\n",
        "    for batch in test_dataloader:\n",
        "        # Load batch to GPU\n",
        "        b_input_ids, b_attn_mask = tuple(t.to(device) for t in batch)[:2]\n",
        "\n",
        "        # Compute logits\n",
        "        with torch.no_grad():\n",
        "            logits = model(b_input_ids, b_attn_mask)\n",
        "        all_logits.append(logits)\n",
        "    \n",
        "    # Concatenate logits from each batch\n",
        "    all_logits = torch.cat(all_logits, dim=0)\n",
        "\n",
        "    # Apply softmax to calculate probabilities\n",
        "    probs = F.softmax(all_logits, dim=1).cpu().numpy()\n",
        "\n",
        "    return probs"
      ],
      "metadata": {
        "id": "Y84FNM8rlMuq"
      },
      "execution_count": 25,
      "outputs": []
    },
    {
      "cell_type": "code",
      "source": [
        "from sklearn.metrics import accuracy_score, roc_curve, auc, precision_score, recall_score\n",
        "from sklearn.metrics import precision_recall_curve, f1_score\n",
        "\n",
        "def evaluate_roc(probs, y_true):\n",
        "    \"\"\"\n",
        "    - Print AUC and accuracy on the test set\n",
        "    - Plot ROC\n",
        "    @params    probs (np.array): an array of predicted probabilities with shape (len(y_true), 2)\n",
        "    @params    y_true (np.array): an array of the true values with shape (len(y_true),)\n",
        "    \"\"\"\n",
        "    preds = probs[:, 1]\n",
        "    fpr, tpr, threshold = roc_curve(y_true, preds)\n",
        "    roc_auc = auc(fpr, tpr)\n",
        "    print(f'AUC: {roc_auc:.4f}')\n",
        "       \n",
        "    # Get accuracy over the test set\n",
        "    y_pred = np.where(preds >= 0.5, 1, 0)\n",
        "    accuracy = accuracy_score(y_true, y_pred)\n",
        "    print(f'Accuracy: {accuracy*100:.2f}%')\n",
        "\n",
        "    #Get Precision and Recall over the test set\n",
        "    precision  = precision_score(y_true, y_pred, average='binary')\n",
        "    print(f'Precision: {precision*100:.2f}%')\n",
        "    recall = recall_score(y_true, y_pred, average='binary')\n",
        "    print(f'Recall: {recall*100:.2f}%')\n",
        "\n",
        "    f1 = f1_score(y_true, y_pred)\n",
        "\n",
        "    \n",
        "    # Plot ROC AUC\n",
        "    plt.plot(fpr, tpr, 'b', label = 'AUC = %0.2f' % roc_auc)\n",
        "    plt.legend(loc = 'lower right')\n",
        "    plt.plot([0, 1], [0, 1],'r--')\n",
        "    plt.xlim([0, 1])\n",
        "    plt.ylim([0, 1])\n",
        "    plt.ylabel('True Positive Rate')\n",
        "    plt.xlabel('False Positive Rate')\n",
        "    plt.show()\n",
        "\n",
        "    print('Distilbert-base-GRU: f1=%.3f ' % (f1))\n",
        "    # plot the precision-recall curves\n",
        "    baseline = len(y_test[y_test==1]) / len(y_test)\n",
        "    plt.plot([0, 1], [baseline, baseline], linestyle='--', label='Baseline')\n",
        "    plt.plot(recall, precision, marker='.', label='Distilbert-base-GRU')\n",
        "    # axis labels\n",
        "    plt.xlabel('Recall')\n",
        "    plt.ylabel('Precision')\n",
        "    # show the legend\n",
        "    plt.legend()\n",
        "    # show the plot\n",
        "    plt.show()\n"
      ],
      "metadata": {
        "id": "BaP0b0jclMxY"
      },
      "execution_count": 26,
      "outputs": []
    },
    {
      "cell_type": "code",
      "source": [
        "# Compute predicted probabilities on the validation set\n",
        "probs = bert_predict(bert_classifier, val_dataloader)\n",
        "\n",
        "# Evaluate the Bert classifier\n",
        "evaluate_roc(probs, y_val)"
      ],
      "metadata": {
        "id": "MUH-ejXRlMz9",
        "colab": {
          "base_uri": "https://localhost:8080/",
          "height": 632
        },
        "outputId": "8270b253-a124-4adc-8230-b5eaf103e49c"
      },
      "execution_count": 27,
      "outputs": [
        {
          "output_type": "stream",
          "name": "stdout",
          "text": [
            "AUC: 0.9892\n",
            "Accuracy: 95.39%\n",
            "Precision: 95.53%\n",
            "Recall: 96.03%\n"
          ]
        },
        {
          "output_type": "display_data",
          "data": {
            "image/png": "[encoded data removed]",
            "text/plain": [
              "<Figure size 432x288 with 1 Axes>"
            ]
          },
          "metadata": {
            "needs_background": "light"
          }
        },
        {
          "output_type": "stream",
          "name": "stdout",
          "text": [
            "Distilbert-base-GRU: f1=0.958 \n"
          ]
        },
        {
          "output_type": "display_data",
          "data": {
            "image/png": "[encoded data removed]",
            "text/plain": [
              "<Figure size 432x288 with 1 Axes>"
            ]
          },
          "metadata": {
            "needs_background": "light"
          }
        }
      ]
    },
    {
      "cell_type": "code",
      "source": [
        "# Run `preprocessing_for_bert` on the test set\n",
        "print('Tokenizing data...')\n",
        "test_inputs, test_masks = preprocessing_for_bert(X_test)\n",
        "\n",
        "# Create the DataLoader for our test set\n",
        "test_dataset = TensorDataset(test_inputs, test_masks)\n",
        "test_sampler = SequentialSampler(test_dataset)\n",
        "test_dataloader = DataLoader(test_dataset, sampler=test_sampler, batch_size=32)"
      ],
      "metadata": {
        "id": "Yvvheq0qlM3d",
        "colab": {
          "base_uri": "https://localhost:8080/"
        },
        "outputId": "c49247f7-cd42-4e65-eef9-f312745fdc25"
      },
      "execution_count": 28,
      "outputs": [
        {
          "output_type": "stream",
          "name": "stdout",
          "text": [
            "Tokenizing data...\n"
          ]
        }
      ]
    },
    {
      "cell_type": "code",
      "source": [
        "# Compute predicted probabilities on the test set\n",
        "probs = bert_predict(bert_classifier, test_dataloader)\n",
        "\n",
        "# Get predictions from the probabilities\n",
        "threshold = 0.5\n",
        "preds = np.where(probs[:, 1] > threshold, 1, 0)\n",
        "\n",
        "# Number of tweets predicted non-negative\n",
        "print(\"no-negative tweets ratio \", preds.sum()/len(preds))"
      ],
      "metadata": {
        "id": "ENShAjsVlh0P",
        "colab": {
          "base_uri": "https://localhost:8080/"
        },
        "outputId": "da6e1254-46eb-40d8-9948-e4e345bf653e"
      },
      "execution_count": 29,
      "outputs": [
        {
          "output_type": "stream",
          "name": "stdout",
          "text": [
            "no-negative tweets ratio  0.5554922840384944\n"
          ]
        }
      ]
    },
    {
      "cell_type": "code",
      "source": [
        "# Evaluate the Bert classifier for unseen test data\n",
        "evaluate_roc(probs, y_test)"
      ],
      "metadata": {
        "id": "4nMBgpwvlh3D",
        "colab": {
          "base_uri": "https://localhost:8080/",
          "height": 632
        },
        "outputId": "0fb72806-1d40-4ede-ed26-9629221c07dc"
      },
      "execution_count": 30,
      "outputs": [
        {
          "output_type": "stream",
          "name": "stdout",
          "text": [
            "AUC: 0.9900\n",
            "Accuracy: 95.46%\n",
            "Precision: 95.91%\n",
            "Recall: 95.91%\n"
          ]
        },
        {
          "output_type": "display_data",
          "data": {
            "image/png": "[encoded data removed]",
            "text/plain": [
              "<Figure size 432x288 with 1 Axes>"
            ]
          },
          "metadata": {
            "needs_background": "light"
          }
        },
        {
          "output_type": "stream",
          "name": "stdout",
          "text": [
            "Distilbert-base-GRU: f1=0.959 \n"
          ]
        },
        {
          "output_type": "display_data",
          "data": {
            "image/png": "[encoded data removed]",
            "text/plain": [
              "<Figure size 432x288 with 1 Axes>"
            ]
          },
          "metadata": {
            "needs_background": "light"
          }
        }
      ]
    },
    {
      "cell_type": "markdown",
      "source": [
        "Dataset 1"
      ],
      "metadata": {
        "id": "UbxnxHjbrN7w"
      }
    },
    {
      "cell_type": "code",
      "source": [
        "X = df1.text.values\n",
        "y = df1.sentiment.values\n",
        "X_, X_test, y_, y_test = train_test_split(X, y, test_size=0.2, random_state = 42)\n",
        "X_train, X_val, y_train, y_val = train_test_split(X_, y_, test_size=0.1, random_state = 42)"
      ],
      "metadata": {
        "id": "blHSYaz9rWGZ"
      },
      "execution_count": null,
      "outputs": []
    },
    {
      "cell_type": "code",
      "source": [
        "# Specify `MAX_LEN`\n",
        "MAX_LEN =  280\n",
        "\n",
        "# Print sentence 0 and its encoded token ids\n",
        "token_ids = list(preprocessing_for_bert([X[0]], version=\"base\", text_preprocessing_fn=text_preprocessing)[0].squeeze().numpy())\n",
        "print('Original: ', X[0])\n",
        "print('Token IDs: ', token_ids)\n",
        "\n",
        "# Run function `preprocessing_for_bert` on the train set and the validation set\n",
        "print('Tokenizing data...')\n",
        "train_inputs, train_masks = preprocessing_for_bert(X_train, version=\"base\", text_preprocessing_fn=text_preprocessing)\n",
        "val_inputs, val_masks = preprocessing_for_bert(X_val, version=\"base\", text_preprocessing_fn=text_preprocessing)"
      ],
      "metadata": {
        "id": "LHkD3v3DrWJc"
      },
      "execution_count": null,
      "outputs": []
    },
    {
      "cell_type": "code",
      "source": [
        "from torch.utils.data import TensorDataset, DataLoader, RandomSampler, SequentialSampler\n",
        "\n",
        "# Convert other data types to torch.Tensor\n",
        "train_labels = torch.tensor(y_train)\n",
        "val_labels = torch.tensor(y_val)\n",
        "\n",
        "# For fine-tuning BERT, the authors recommend a batch size of 16 or 32.\n",
        "batch_size = 16\n",
        "\n",
        "# Create the DataLoader for our training set\n",
        "train_data = TensorDataset(train_inputs, train_masks, train_labels)\n",
        "train_sampler = RandomSampler(train_data)\n",
        "train_dataloader = DataLoader(train_data, sampler=train_sampler, batch_size=batch_size)\n",
        "\n",
        "# Create the DataLoader for our validation set\n",
        "val_data = TensorDataset(val_inputs, val_masks, val_labels)\n",
        "val_sampler = SequentialSampler(val_data)\n",
        "val_dataloader = DataLoader(val_data, sampler=val_sampler, batch_size=batch_size)"
      ],
      "metadata": {
        "id": "PFgGW0g7rWMk"
      },
      "execution_count": null,
      "outputs": []
    },
    {
      "cell_type": "code",
      "source": [
        "set_seed(42) \n",
        "bert_classifier, optimizer, scheduler = initialize_model(epochs=2, version=\"base\")\n",
        "train(bert_classifier, train_dataloader, val_dataloader, epochs=2, evaluation=True)"
      ],
      "metadata": {
        "id": "C15aScZ7rWQI"
      },
      "execution_count": null,
      "outputs": []
    },
    {
      "cell_type": "code",
      "source": [
        "probs = bert_predict(bert_classifier, val_dataloader)\n",
        "\n",
        "# Evaluate the Bert classifier\n",
        "evaluate_roc(probs, y_val)"
      ],
      "metadata": {
        "id": "BV8qdxdorWW3"
      },
      "execution_count": null,
      "outputs": []
    },
    {
      "cell_type": "code",
      "source": [
        "print('Tokenizing data...')\n",
        "test_inputs, test_masks = preprocessing_for_bert(X_test)\n",
        "\n",
        "# Create the DataLoader for our test set\n",
        "test_dataset = TensorDataset(test_inputs, test_masks)\n",
        "test_sampler = SequentialSampler(test_dataset)\n",
        "test_dataloader = DataLoader(test_dataset, sampler=test_sampler, batch_size=32)"
      ],
      "metadata": {
        "id": "IWA5L_vXrWZR"
      },
      "execution_count": null,
      "outputs": []
    },
    {
      "cell_type": "code",
      "source": [
        "probs = bert_predict(bert_classifier, test_dataloader)\n",
        "\n",
        "# Get predictions from the probabilities\n",
        "threshold = 0.5\n",
        "preds = np.where(probs[:, 1] > threshold, 1, 0)\n",
        "\n",
        "# Number of tweets predicted non-negative\n",
        "print(\"no-negative tweets ratio \", preds.sum()/len(preds))"
      ],
      "metadata": {
        "id": "vmU48X_wrWcA"
      },
      "execution_count": null,
      "outputs": []
    },
    {
      "cell_type": "code",
      "source": [
        "# Evaluate the Bert classifier for unseen test data\n",
        "evaluate_roc(probs, y_test)"
      ],
      "metadata": {
        "id": "q2J_5WbYrWe3"
      },
      "execution_count": null,
      "outputs": []
    },
    {
      "cell_type": "markdown",
      "source": [
        "Dataset 2"
      ],
      "metadata": {
        "id": "__XHLDr7sXzY"
      }
    },
    {
      "cell_type": "code",
      "source": [
        "X = df2.text.values\n",
        "y = df2.sentiment.values\n",
        "X_, X_test, y_, y_test = train_test_split(X, y, test_size=0.2, random_state = 42)\n",
        "X_train, X_val, y_train, y_val = train_test_split(X_, y_, test_size=0.1, random_state = 42)"
      ],
      "metadata": {
        "id": "KL4fvGwtsfMG"
      },
      "execution_count": null,
      "outputs": []
    },
    {
      "cell_type": "code",
      "source": [
        "# Specify `MAX_LEN`\n",
        "MAX_LEN =  280\n",
        "\n",
        "# Print sentence 0 and its encoded token ids\n",
        "token_ids = list(preprocessing_for_bert([X[0]], version=\"base\", text_preprocessing_fn=text_preprocessing)[0].squeeze().numpy())\n",
        "print('Original: ', X[0])\n",
        "print('Token IDs: ', token_ids)\n",
        "\n",
        "# Run function `preprocessing_for_bert` on the train set and the validation set\n",
        "print('Tokenizing data...')\n",
        "train_inputs, train_masks = preprocessing_for_bert(X_train, version=\"base\", text_preprocessing_fn=text_preprocessing)\n",
        "val_inputs, val_masks = preprocessing_for_bert(X_val, version=\"base\", text_preprocessing_fn=text_preprocessing)"
      ],
      "metadata": {
        "id": "UWZaHaRHsfMH"
      },
      "execution_count": null,
      "outputs": []
    },
    {
      "cell_type": "code",
      "source": [
        "from torch.utils.data import TensorDataset, DataLoader, RandomSampler, SequentialSampler\n",
        "\n",
        "# Convert other data types to torch.Tensor\n",
        "train_labels = torch.tensor(y_train)\n",
        "val_labels = torch.tensor(y_val)\n",
        "\n",
        "# For fine-tuning BERT, the authors recommend a batch size of 16 or 32.\n",
        "batch_size = 16\n",
        "\n",
        "# Create the DataLoader for our training set\n",
        "train_data = TensorDataset(train_inputs, train_masks, train_labels)\n",
        "train_sampler = RandomSampler(train_data)\n",
        "train_dataloader = DataLoader(train_data, sampler=train_sampler, batch_size=batch_size)\n",
        "\n",
        "# Create the DataLoader for our validation set\n",
        "val_data = TensorDataset(val_inputs, val_masks, val_labels)\n",
        "val_sampler = SequentialSampler(val_data)\n",
        "val_dataloader = DataLoader(val_data, sampler=val_sampler, batch_size=batch_size)"
      ],
      "metadata": {
        "id": "E9HVAST2sfMH"
      },
      "execution_count": null,
      "outputs": []
    },
    {
      "cell_type": "code",
      "source": [
        "set_seed(42) \n",
        "bert_classifier, optimizer, scheduler = initialize_model(epochs=2, version=\"base\")\n",
        "train(bert_classifier, train_dataloader, val_dataloader, epochs=2, evaluation=True)"
      ],
      "metadata": {
        "id": "0DgNVgLYstSd"
      },
      "execution_count": null,
      "outputs": []
    },
    {
      "cell_type": "code",
      "source": [
        "probs = bert_predict(bert_classifier, val_dataloader)\n",
        "\n",
        "# Evaluate the Bert classifier\n",
        "evaluate_roc(probs, y_val)"
      ],
      "metadata": {
        "id": "wsQvAkT3stSe"
      },
      "execution_count": null,
      "outputs": []
    },
    {
      "cell_type": "code",
      "source": [
        "print('Tokenizing data...')\n",
        "test_inputs, test_masks = preprocessing_for_bert(X_test)\n",
        "\n",
        "# Create the DataLoader for our test set\n",
        "test_dataset = TensorDataset(test_inputs, test_masks)\n",
        "test_sampler = SequentialSampler(test_dataset)\n",
        "test_dataloader = DataLoader(test_dataset, sampler=test_sampler, batch_size=32)"
      ],
      "metadata": {
        "id": "Rfb1hZkNstSf"
      },
      "execution_count": null,
      "outputs": []
    },
    {
      "cell_type": "code",
      "source": [
        "probs = bert_predict(bert_classifier, test_dataloader)\n",
        "\n",
        "# Get predictions from the probabilities\n",
        "threshold = 0.5\n",
        "preds = np.where(probs[:, 1] > threshold, 1, 0)\n",
        "\n",
        "# Number of tweets predicted non-negative\n",
        "print(\"no-negative tweets ratio \", preds.sum()/len(preds))"
      ],
      "metadata": {
        "id": "k9kl_X-NstSf"
      },
      "execution_count": null,
      "outputs": []
    },
    {
      "cell_type": "code",
      "source": [
        "# Evaluate the Bert classifier for unseen test data\n",
        "evaluate_roc(probs, y_test)"
      ],
      "metadata": {
        "id": "CIYUYUDxstSg"
      },
      "execution_count": null,
      "outputs": []
    },
    {
      "cell_type": "code",
      "source": [
        ""
      ],
      "metadata": {
        "id": "uCx1zoZpsihF"
      },
      "execution_count": null,
      "outputs": []
    },
    {
      "cell_type": "markdown",
      "source": [
        "Dataset 3"
      ],
      "metadata": {
        "id": "9P3Sl4TyskJ_"
      }
    },
    {
      "cell_type": "code",
      "source": [
        "X = df3.text.values\n",
        "y = df3.sentiment.values\n",
        "X_, X_test, y_, y_test = train_test_split(X, y, test_size=0.2, random_state = 42)\n",
        "X_train, X_val, y_train, y_val = train_test_split(X_, y_, test_size=0.1, random_state = 42)"
      ],
      "metadata": {
        "id": "NJaYb6qVsmgo"
      },
      "execution_count": null,
      "outputs": []
    },
    {
      "cell_type": "code",
      "source": [
        "# Specify `MAX_LEN`\n",
        "MAX_LEN =  280\n",
        "\n",
        "# Print sentence 0 and its encoded token ids\n",
        "token_ids = list(preprocessing_for_bert([X[0]], version=\"base\", text_preprocessing_fn=text_preprocessing)[0].squeeze().numpy())\n",
        "print('Original: ', X[0])\n",
        "print('Token IDs: ', token_ids)\n",
        "\n",
        "# Run function `preprocessing_for_bert` on the train set and the validation set\n",
        "print('Tokenizing data...')\n",
        "train_inputs, train_masks = preprocessing_for_bert(X_train, version=\"base\", text_preprocessing_fn=text_preprocessing)\n",
        "val_inputs, val_masks = preprocessing_for_bert(X_val, version=\"base\", text_preprocessing_fn=text_preprocessing)"
      ],
      "metadata": {
        "id": "cDP6Aq1lsmgp"
      },
      "execution_count": null,
      "outputs": []
    },
    {
      "cell_type": "code",
      "source": [
        "from torch.utils.data import TensorDataset, DataLoader, RandomSampler, SequentialSampler\n",
        "\n",
        "# Convert other data types to torch.Tensor\n",
        "train_labels = torch.tensor(y_train)\n",
        "val_labels = torch.tensor(y_val)\n",
        "\n",
        "# For fine-tuning BERT, the authors recommend a batch size of 16 or 32.\n",
        "batch_size = 16\n",
        "\n",
        "# Create the DataLoader for our training set\n",
        "train_data = TensorDataset(train_inputs, train_masks, train_labels)\n",
        "train_sampler = RandomSampler(train_data)\n",
        "train_dataloader = DataLoader(train_data, sampler=train_sampler, batch_size=batch_size)\n",
        "\n",
        "# Create the DataLoader for our validation set\n",
        "val_data = TensorDataset(val_inputs, val_masks, val_labels)\n",
        "val_sampler = SequentialSampler(val_data)\n",
        "val_dataloader = DataLoader(val_data, sampler=val_sampler, batch_size=batch_size)"
      ],
      "metadata": {
        "id": "mGH5uKTBsmgq"
      },
      "execution_count": null,
      "outputs": []
    },
    {
      "cell_type": "code",
      "source": [
        "set_seed(42) \n",
        "bert_classifier, optimizer, scheduler = initialize_model(epochs=2, version=\"base\")\n",
        "train(bert_classifier, train_dataloader, val_dataloader, epochs=2, evaluation=True)"
      ],
      "metadata": {
        "id": "Ohu1X0l4sv_y"
      },
      "execution_count": null,
      "outputs": []
    },
    {
      "cell_type": "code",
      "source": [
        "probs = bert_predict(bert_classifier, val_dataloader)\n",
        "\n",
        "# Evaluate the Bert classifier\n",
        "evaluate_roc(probs, y_val)"
      ],
      "metadata": {
        "id": "ehKs_Hoasv_z"
      },
      "execution_count": null,
      "outputs": []
    },
    {
      "cell_type": "code",
      "source": [
        "print('Tokenizing data...')\n",
        "test_inputs, test_masks = preprocessing_for_bert(X_test)\n",
        "\n",
        "# Create the DataLoader for our test set\n",
        "test_dataset = TensorDataset(test_inputs, test_masks)\n",
        "test_sampler = SequentialSampler(test_dataset)\n",
        "test_dataloader = DataLoader(test_dataset, sampler=test_sampler, batch_size=32)"
      ],
      "metadata": {
        "id": "zWWGeZrEsv_z"
      },
      "execution_count": null,
      "outputs": []
    },
    {
      "cell_type": "code",
      "source": [
        "probs = bert_predict(bert_classifier, test_dataloader)\n",
        "\n",
        "# Get predictions from the probabilities\n",
        "threshold = 0.5\n",
        "preds = np.where(probs[:, 1] > threshold, 1, 0)\n",
        "\n",
        "# Number of tweets predicted non-negative\n",
        "print(\"no-negative tweets ratio \", preds.sum()/len(preds))"
      ],
      "metadata": {
        "id": "NnilNQbIsv_z"
      },
      "execution_count": null,
      "outputs": []
    },
    {
      "cell_type": "code",
      "source": [
        "# Evaluate the Bert classifier for unseen test data\n",
        "evaluate_roc(probs, y_test)"
      ],
      "metadata": {
        "id": "MkPnUPx3sv_0"
      },
      "execution_count": null,
      "outputs": []
    },
    {
      "cell_type": "code",
      "source": [
        ""
      ],
      "metadata": {
        "id": "mLr3anZ4siof"
      },
      "execution_count": null,
      "outputs": []
    },
    {
      "cell_type": "markdown",
      "source": [
        "Dataset 4"
      ],
      "metadata": {
        "id": "EaM6piRas1XO"
      }
    },
    {
      "cell_type": "code",
      "source": [
        "X = df4.text.values\n",
        "y = df4.sentiment.values\n",
        "X_, X_test, y_, y_test = train_test_split(X, y, test_size=0.2, random_state = 42)\n",
        "X_train, X_val, y_train, y_val = train_test_split(X_, y_, test_size=0.1, random_state = 42)"
      ],
      "metadata": {
        "id": "RbrKWSI3s91p"
      },
      "execution_count": null,
      "outputs": []
    },
    {
      "cell_type": "code",
      "source": [
        "# Specify `MAX_LEN`\n",
        "MAX_LEN =  280\n",
        "\n",
        "# Print sentence 0 and its encoded token ids\n",
        "token_ids = list(preprocessing_for_bert([X[0]], version=\"base\", text_preprocessing_fn=text_preprocessing)[0].squeeze().numpy())\n",
        "print('Original: ', X[0])\n",
        "print('Token IDs: ', token_ids)\n",
        "\n",
        "# Run function `preprocessing_for_bert` on the train set and the validation set\n",
        "print('Tokenizing data...')\n",
        "train_inputs, train_masks = preprocessing_for_bert(X_train, version=\"base\", text_preprocessing_fn=text_preprocessing)\n",
        "val_inputs, val_masks = preprocessing_for_bert(X_val, version=\"base\", text_preprocessing_fn=text_preprocessing)"
      ],
      "metadata": {
        "id": "fxx7ZTm1s91q"
      },
      "execution_count": null,
      "outputs": []
    },
    {
      "cell_type": "code",
      "source": [
        "from torch.utils.data import TensorDataset, DataLoader, RandomSampler, SequentialSampler\n",
        "\n",
        "# Convert other data types to torch.Tensor\n",
        "train_labels = torch.tensor(y_train)\n",
        "val_labels = torch.tensor(y_val)\n",
        "\n",
        "# For fine-tuning BERT, the authors recommend a batch size of 16 or 32.\n",
        "batch_size = 16\n",
        "\n",
        "# Create the DataLoader for our training set\n",
        "train_data = TensorDataset(train_inputs, train_masks, train_labels)\n",
        "train_sampler = RandomSampler(train_data)\n",
        "train_dataloader = DataLoader(train_data, sampler=train_sampler, batch_size=batch_size)\n",
        "\n",
        "# Create the DataLoader for our validation set\n",
        "val_data = TensorDataset(val_inputs, val_masks, val_labels)\n",
        "val_sampler = SequentialSampler(val_data)\n",
        "val_dataloader = DataLoader(val_data, sampler=val_sampler, batch_size=batch_size)"
      ],
      "metadata": {
        "id": "T_vwMKHbs91r"
      },
      "execution_count": null,
      "outputs": []
    },
    {
      "cell_type": "code",
      "source": [
        "set_seed(42) \n",
        "bert_classifier, optimizer, scheduler = initialize_model(epochs=2, version=\"base\")\n",
        "train(bert_classifier, train_dataloader, val_dataloader, epochs=2, evaluation=True)"
      ],
      "metadata": {
        "id": "sCo5YrVZs2jU"
      },
      "execution_count": null,
      "outputs": []
    },
    {
      "cell_type": "code",
      "source": [
        "probs = bert_predict(bert_classifier, val_dataloader)\n",
        "\n",
        "# Evaluate the Bert classifier\n",
        "evaluate_roc(probs, y_val)"
      ],
      "metadata": {
        "id": "HUp-hx4vs2jV"
      },
      "execution_count": null,
      "outputs": []
    },
    {
      "cell_type": "code",
      "source": [
        "print('Tokenizing data...')\n",
        "test_inputs, test_masks = preprocessing_for_bert(X_test)\n",
        "\n",
        "# Create the DataLoader for our test set\n",
        "test_dataset = TensorDataset(test_inputs, test_masks)\n",
        "test_sampler = SequentialSampler(test_dataset)\n",
        "test_dataloader = DataLoader(test_dataset, sampler=test_sampler, batch_size=32)"
      ],
      "metadata": {
        "id": "D8_J4ZsEs2jV"
      },
      "execution_count": null,
      "outputs": []
    },
    {
      "cell_type": "code",
      "source": [
        "probs = bert_predict(bert_classifier, test_dataloader)\n",
        "\n",
        "# Get predictions from the probabilities\n",
        "threshold = 0.5\n",
        "preds = np.where(probs[:, 1] > threshold, 1, 0)\n",
        "\n",
        "# Number of tweets predicted non-negative\n",
        "print(\"no-negative tweets ratio \", preds.sum()/len(preds))"
      ],
      "metadata": {
        "id": "rSoWoSPZs2jW"
      },
      "execution_count": null,
      "outputs": []
    },
    {
      "cell_type": "code",
      "source": [
        "# Evaluate the Bert classifier for unseen test data\n",
        "evaluate_roc(probs, y_test)"
      ],
      "metadata": {
        "id": "qSqZKD1vs2jW"
      },
      "execution_count": null,
      "outputs": []
    },
    {
      "cell_type": "code",
      "source": [
        ""
      ],
      "metadata": {
        "id": "QFJkGQigsits"
      },
      "execution_count": null,
      "outputs": []
    },
    {
      "cell_type": "markdown",
      "source": [
        "Dataset 5"
      ],
      "metadata": {
        "id": "niWG8neUs4No"
      }
    },
    {
      "cell_type": "code",
      "source": [
        "X = df5.text.values\n",
        "y = df5.sentiment.values\n",
        "X_, X_test, y_, y_test = train_test_split(X, y, test_size=0.2, random_state = 42)\n",
        "X_train, X_val, y_train, y_val = train_test_split(X_, y_, test_size=0.1, random_state = 42)"
      ],
      "metadata": {
        "id": "SQV4jrVms_90"
      },
      "execution_count": null,
      "outputs": []
    },
    {
      "cell_type": "code",
      "source": [
        "# Specify `MAX_LEN`\n",
        "MAX_LEN =  280\n",
        "\n",
        "# Print sentence 0 and its encoded token ids\n",
        "token_ids = list(preprocessing_for_bert([X[0]], version=\"base\", text_preprocessing_fn=text_preprocessing)[0].squeeze().numpy())\n",
        "print('Original: ', X[0])\n",
        "print('Token IDs: ', token_ids)\n",
        "\n",
        "# Run function `preprocessing_for_bert` on the train set and the validation set\n",
        "print('Tokenizing data...')\n",
        "train_inputs, train_masks = preprocessing_for_bert(X_train, version=\"base\", text_preprocessing_fn=text_preprocessing)\n",
        "val_inputs, val_masks = preprocessing_for_bert(X_val, version=\"base\", text_preprocessing_fn=text_preprocessing)"
      ],
      "metadata": {
        "id": "unFyjf8os_91"
      },
      "execution_count": null,
      "outputs": []
    },
    {
      "cell_type": "code",
      "source": [
        "from torch.utils.data import TensorDataset, DataLoader, RandomSampler, SequentialSampler\n",
        "\n",
        "# Convert other data types to torch.Tensor\n",
        "train_labels = torch.tensor(y_train)\n",
        "val_labels = torch.tensor(y_val)\n",
        "\n",
        "# For fine-tuning BERT, the authors recommend a batch size of 16 or 32.\n",
        "batch_size = 16\n",
        "\n",
        "# Create the DataLoader for our training set\n",
        "train_data = TensorDataset(train_inputs, train_masks, train_labels)\n",
        "train_sampler = RandomSampler(train_data)\n",
        "train_dataloader = DataLoader(train_data, sampler=train_sampler, batch_size=batch_size)\n",
        "\n",
        "# Create the DataLoader for our validation set\n",
        "val_data = TensorDataset(val_inputs, val_masks, val_labels)\n",
        "val_sampler = SequentialSampler(val_data)\n",
        "val_dataloader = DataLoader(val_data, sampler=val_sampler, batch_size=batch_size)"
      ],
      "metadata": {
        "id": "OBSt28hOs_92"
      },
      "execution_count": null,
      "outputs": []
    },
    {
      "cell_type": "code",
      "source": [
        "set_seed(42) \n",
        "bert_classifier, optimizer, scheduler = initialize_model(epochs=2, version=\"base\")\n",
        "train(bert_classifier, train_dataloader, val_dataloader, epochs=2, evaluation=True)"
      ],
      "metadata": {
        "id": "CyEj0m9ms56o"
      },
      "execution_count": null,
      "outputs": []
    },
    {
      "cell_type": "code",
      "source": [
        "probs = bert_predict(bert_classifier, val_dataloader)\n",
        "\n",
        "# Evaluate the Bert classifier\n",
        "evaluate_roc(probs, y_val)"
      ],
      "metadata": {
        "id": "FJz8jcOQs56p"
      },
      "execution_count": null,
      "outputs": []
    },
    {
      "cell_type": "code",
      "source": [
        "print('Tokenizing data...')\n",
        "test_inputs, test_masks = preprocessing_for_bert(X_test)\n",
        "\n",
        "# Create the DataLoader for our test set\n",
        "test_dataset = TensorDataset(test_inputs, test_masks)\n",
        "test_sampler = SequentialSampler(test_dataset)\n",
        "test_dataloader = DataLoader(test_dataset, sampler=test_sampler, batch_size=32)"
      ],
      "metadata": {
        "id": "hx1c_2xbs56q"
      },
      "execution_count": null,
      "outputs": []
    },
    {
      "cell_type": "code",
      "source": [
        "probs = bert_predict(bert_classifier, test_dataloader)\n",
        "\n",
        "# Get predictions from the probabilities\n",
        "threshold = 0.5\n",
        "preds = np.where(probs[:, 1] > threshold, 1, 0)\n",
        "\n",
        "# Number of tweets predicted non-negative\n",
        "print(\"no-negative tweets ratio \", preds.sum()/len(preds))"
      ],
      "metadata": {
        "id": "2dz6at6Ys56q"
      },
      "execution_count": null,
      "outputs": []
    },
    {
      "cell_type": "code",
      "source": [
        "# Evaluate the Bert classifier for unseen test data\n",
        "evaluate_roc(probs, y_test)"
      ],
      "metadata": {
        "id": "UGl5A0X0s56q"
      },
      "execution_count": null,
      "outputs": []
    }
  ]
}